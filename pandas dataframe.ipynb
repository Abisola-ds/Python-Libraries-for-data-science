{
  "nbformat": 4,
  "nbformat_minor": 0,
  "metadata": {
    "kernelspec": {
      "display_name": "Python 3",
      "language": "python",
      "name": "python3"
    },
    "language_info": {
      "codemirror_mode": {
        "name": "ipython",
        "version": 3
      },
      "file_extension": ".py",
      "mimetype": "text/x-python",
      "name": "python",
      "nbconvert_exporter": "python",
      "pygments_lexer": "ipython3",
      "version": "3.7.3"
    },
    "colab": {
      "name": "pandas dataframe.ipynb",
      "provenance": [],
      "include_colab_link": true
    }
  },
  "cells": [
    {
      "cell_type": "markdown",
      "metadata": {
        "id": "view-in-github",
        "colab_type": "text"
      },
      "source": [
        "<a href=\"https://colab.research.google.com/github/Abisola-ds/Python-Libraries-for-data-science/blob/master/pandas%20dataframe.ipynb\" target=\"_parent\"><img src=\"https://colab.research.google.com/assets/colab-badge.svg\" alt=\"Open In Colab\"/></a>"
      ]
    },
    {
      "cell_type": "markdown",
      "metadata": {
        "id": "SSPdsj2RT4fy",
        "colab_type": "text"
      },
      "source": [
        "<h1 align = \"center\">Pandas Dataframe</h1>"
      ]
    },
    {
      "cell_type": "markdown",
      "metadata": {
        "id": "GIkay40vT4f1",
        "colab_type": "text"
      },
      "source": [
        "<img src = \"https://geo-python.github.io/site/_images/pandas_logo.png\" width = \"600\" height =\"800\"/>"
      ]
    },
    {
      "cell_type": "markdown",
      "metadata": {
        "id": "y2wZHL1yT4f3",
        "colab_type": "text"
      },
      "source": [
        "<div class=\"alert alert-info\">\n",
        "<b>\n",
        "<p>This is a must learn python library for data scientists. Pandas allows you manipulate data in any of the Pandas data structure (Series or Data Frames). Pandas Data Frame have a lot of Pandas built-in functions that can help you to transform and clean your data. Pandas is built on top of the NumPy package, meaning a lot of the structure of NumPy is used in Pandas.  You can think of Pandas as Python's version of the Microsoft's Excel spreadsheet.</p>\n",
        "    \n",
        "<p>Pandas is an open source Python library created by Wes McKinney. You can always check out the Pandas source code on their <a href = https://github.com/pandas-dev/pandas>github repository</a><p>\n",
        "\n",
        "\n",
        "<h3>Why Pandas</h3>\n",
        "\n",
        " \n",
        "<ul>\n",
        "    <li>It is easy to read and learn</li>\n",
        "    <li>It is extremely fast and powerful</li>\n",
        "    <li>It allows you do fast analysis as well as data cleaning and preparation.</li>\n",
        "    <li>It integrates well with other visualisation libraries</li>\n",
        "</ul>\n",
        "\n",
        "<p>In this notebook, you will learn:</p>\n",
        "<p> <ul>\n",
        "    <li>Pandas Series</li>\n",
        "    <ul>\n",
        "        <li>Creating a pandas series from a list</li>\n",
        "        <li>Creating a pandas series from a dictionary</li>\n",
        "        <li>Creating a pandas series from a NumPy array</li>\n",
        "        <li>Series Operations</li></ul>\n",
        "    <li>Pandas DataFrame</li>\n",
        "    <ul>\n",
        "        <li>Creating DataFrames from dictionary</li>\n",
        "        <li>Referencing elements by indexing in DataFrames</li>\n",
        "        <li>Accessing rows in pandas DataFrame</li>\n",
        "        <li>Creating and deleting columns from a data frame</li>\n",
        "        <li>Filtering in Pandas DataFrame</li>\n",
        "        <li>Data Cleaning with Pandas- Dealing with missing data</li>\n",
        "        <li>Data cleaning with Pandas - Removing repeated data</li>\n",
        "        <li>Sorting and grouping data</li>\n",
        "        <li>DataFrame concatenation</li>\n",
        "        <li>Merging DataFrames in Pandas</li>\n",
        "        <li>Joining DataFrames in Pandas</li>\n",
        "        <li>Importing and exporting files in Pandas</li> \n",
        "     </ul> </p>\n",
        "\n",
        "</b>\n",
        "\n",
        "<h4>Prerequisite</h4>\n",
        "<p>You should have a basic understanding of Python. If you are new to Python programming, you can check out my beginners-friendly interactive notebook on <a href = https://github.com/Abisola-ds/Python-Fundamentals> Python Fundamentals</a><br>\n",
        "Having the knowledge of NumPy is a plus even though you can still go through this notebook without the knowledge of NumPy. If you want a beginner-friendly tutorial on NumPy, you can check out this interactive notebook on the <a href = https://github.com/Abisola-ds/Python-Libraries-for-data-science/blob/master/Numpy.ipynb>basics of NumPy</a> </p>\n",
        "<br>\n",
        "Time Required: <strong>4 Hours</strong>\n",
        "</div>\n"
      ]
    },
    {
      "cell_type": "markdown",
      "metadata": {
        "id": "eJ6alFKbT4f5",
        "colab_type": "text"
      },
      "source": [
        "<h2>Getting started</h2>"
      ]
    },
    {
      "cell_type": "markdown",
      "metadata": {
        "id": "TfzprOsDT4f7",
        "colab_type": "text"
      },
      "source": [
        "<div class=\"alert alert-info\">\n",
        "<p>\n",
        "The first thing you need to do is to install Pandas. However, if you are using a python distribution that already has Pandas installed(E.g Anaconda or Spyder), then you do not need to install Pandas. You can skip the installation step.</p>\n",
        "    <p>To install Pandas, you use any of the Python package manager as shown in the commands below:</p>\n",
        "    <b><p >pip install pandas<br>\n",
        "    conda install pandas</p></b>\n",
        "    <p>Once Pandas is installed, you import it in your program by using the import keyword as shown below:</p>\n",
        "    <b><p>import pandas</P></b>\n",
        "    <p>To confirm if you have pandas installed and to check the version, you can use the command: </p>\n",
        "    <b><p>print(pandas.__version__)</p></b>\n",
        " <p>Now, Pandas is ready for use. Let's try it out</p>\n",
        " </div>"
      ]
    },
    {
      "cell_type": "code",
      "metadata": {
        "id": "phAhogA2T4f9",
        "colab_type": "code",
        "colab": {},
        "outputId": "3b606da7-e82c-4243-ac0e-e0c36a3a2b78"
      },
      "source": [
        "import pandas\n",
        "\n",
        "print(pandas.__version__)"
      ],
      "execution_count": null,
      "outputs": [
        {
          "output_type": "stream",
          "text": [
            "0.24.2\n"
          ],
          "name": "stdout"
        }
      ]
    },
    {
      "cell_type": "markdown",
      "metadata": {
        "id": "28Xn3vbOT4gL",
        "colab_type": "text"
      },
      "source": [
        "<div class=\"alert alert-info\">\n",
        "<p>\n",
        " Often times, we see the convention:<br> <b>import pandas as pd</b><br>\n",
        "This is because Pandas is usually imported under the <b>'pd'</b> alias. In Python, aliases are an alternate name for referring to the same thing. We use alias to save time and also to keep our codes standardized so that anyone working with your code can easily understand it. An alias can be created using the keyword <b>'as'</b> in the import statement.</p>\n"
      ]
    },
    {
      "cell_type": "code",
      "metadata": {
        "id": "cpu2PtTmT4gN",
        "colab_type": "code",
        "colab": {},
        "outputId": "10b4b84d-51b7-48e8-b612-70c018992f63"
      },
      "source": [
        "import pandas as pd                                 #Now the Pandas package can be referred to as 'pd' instead of pandas.\n",
        "\n",
        "print(pd.__version__)\n",
        "\n",
        "import numpy as np"
      ],
      "execution_count": null,
      "outputs": [
        {
          "output_type": "stream",
          "text": [
            "0.24.2\n"
          ],
          "name": "stdout"
        }
      ]
    },
    {
      "cell_type": "markdown",
      "metadata": {
        "id": "-JjI52u4T4gX",
        "colab_type": "text"
      },
      "source": [
        "<h2>Pandas Series</h2>"
      ]
    },
    {
      "cell_type": "markdown",
      "metadata": {
        "id": "Xs1caFKkT4gZ",
        "colab_type": "text"
      },
      "source": [
        "<div class=\"alert alert-info\">\n",
        "<p>In this section, we will explore the pandas Series which is a core component of the pandas library for Python programming.\n",
        "Series are a special type of data structure available in the pandas Python library. They are very similar to the NumPy arrays.  There are a number of different ways you can create the pandas series. We would exlpore the following methods of creating a Pandas Series:<ul>\n",
        "    <li>Creating a pandas series from a list</li>\n",
        "    <li>Creating a pandas series from a dictionary</li>\n",
        "    <li>Creating a pandas series from a NumPy array</li></ul>\n",
        " </p>"
      ]
    },
    {
      "cell_type": "markdown",
      "metadata": {
        "id": "kAM9FJuBT4gb",
        "colab_type": "text"
      },
      "source": [
        "<h3>Creating a pandas series from a list</h3>"
      ]
    },
    {
      "cell_type": "markdown",
      "metadata": {
        "id": "hBGeyhvTT4gd",
        "colab_type": "text"
      },
      "source": [
        "<div class=\"alert alert-info\">\n",
        "    <p>The easiest way to create a pandas Series is by passing a Python list into the <b>pd.Series()</b> method. Let's consider some examples below</p>"
      ]
    },
    {
      "cell_type": "code",
      "metadata": {
        "id": "IAHl7eY2T4ge",
        "colab_type": "code",
        "colab": {},
        "outputId": "3d47d005-8373-45fe-ef27-8a4430f0c651"
      },
      "source": [
        "my_list = [1,2,3,4,5,6,7,8,9,0]\n",
        "pd.Series(my_list)"
      ],
      "execution_count": null,
      "outputs": [
        {
          "output_type": "execute_result",
          "data": {
            "text/plain": [
              "0    1\n",
              "1    2\n",
              "2    3\n",
              "3    4\n",
              "4    5\n",
              "5    6\n",
              "6    7\n",
              "7    8\n",
              "8    9\n",
              "9    0\n",
              "dtype: int64"
            ]
          },
          "metadata": {
            "tags": []
          },
          "execution_count": 12
        }
      ]
    },
    {
      "cell_type": "code",
      "metadata": {
        "id": "8iqSXPY6T4gp",
        "colab_type": "code",
        "colab": {},
        "outputId": "700a5a4f-9b57-483b-e9f0-37273ebdc5c1"
      },
      "source": [
        "my_list= [\"a\",\"b\",\"c\", \"d\", \"e\", \"f\",\"g\",\"h\",\"i\",\"j\"]\n",
        "pd.Series(my_list)"
      ],
      "execution_count": null,
      "outputs": [
        {
          "output_type": "execute_result",
          "data": {
            "text/plain": [
              "0    a\n",
              "1    b\n",
              "2    c\n",
              "3    d\n",
              "4    e\n",
              "5    f\n",
              "6    g\n",
              "7    h\n",
              "8    i\n",
              "9    j\n",
              "dtype: object"
            ]
          },
          "metadata": {
            "tags": []
          },
          "execution_count": 13
        }
      ]
    },
    {
      "cell_type": "markdown",
      "metadata": {
        "id": "n-GQJ08tT4gy",
        "colab_type": "text"
      },
      "source": [
        "<div class=\"alert alert-info\">\n",
        "<p>If you look at the output of the codes above, you will notice that it has two columns even though you just passed a single list to the pd.Series() method. Well, as you might have guessed, the first column is the index column just like we have in NumPy arrays. However, in pandas Series, you can create your own named index label for your data. This is one of the advantages of using pandas series over NumPy arrays. Another advantage of pandas Series over NumPy arrays is that they are highly flexible. To add labels to a pandas Series, you use the <b>index</b> argument as shown below:</p>"
      ]
    },
    {
      "cell_type": "code",
      "metadata": {
        "id": "jP03eNYyT4g0",
        "colab_type": "code",
        "colab": {},
        "outputId": "fe807eb6-be34-44a1-ba7e-d51bad3f0b11"
      },
      "source": [
        "#specifying the index of a Series\n",
        "\n",
        "my_list = [1,2,3,4,5,6,7,8,9,10]\n",
        "my_label = [\"a\",\"b\",\"c\", \"d\", \"e\", \"f\",\"g\",\"h\",\"i\",\"j\"]\n",
        "\n",
        "s = pd.Series(my_list, index=my_label)\n",
        "s"
      ],
      "execution_count": null,
      "outputs": [
        {
          "output_type": "execute_result",
          "data": {
            "text/plain": [
              "a     1\n",
              "b     2\n",
              "c     3\n",
              "d     4\n",
              "e     5\n",
              "f     6\n",
              "g     7\n",
              "h     8\n",
              "i     9\n",
              "j    10\n",
              "dtype: int64"
            ]
          },
          "metadata": {
            "tags": []
          },
          "execution_count": 14
        }
      ]
    },
    {
      "cell_type": "markdown",
      "metadata": {
        "id": "qab_j_oTT4g_",
        "colab_type": "text"
      },
      "source": [
        "<div class=\"alert alert-info\">\n",
        "You can reference the elements of a Series using it's label(similar to the key-value realtionship of a Python dictionary) or numerical index. </div>"
      ]
    },
    {
      "cell_type": "code",
      "metadata": {
        "id": "0i5iVQA0T4hB",
        "colab_type": "code",
        "colab": {},
        "outputId": "ca97923f-84cb-422e-e6b1-c772818dda28"
      },
      "source": [
        "s[0]"
      ],
      "execution_count": null,
      "outputs": [
        {
          "output_type": "execute_result",
          "data": {
            "text/plain": [
              "1"
            ]
          },
          "metadata": {
            "tags": []
          },
          "execution_count": 15
        }
      ]
    },
    {
      "cell_type": "code",
      "metadata": {
        "id": "EclDcx3kT4hK",
        "colab_type": "code",
        "colab": {},
        "outputId": "05169d89-98b1-4960-c570-2ab20f152498"
      },
      "source": [
        "s[\"a\"]"
      ],
      "execution_count": null,
      "outputs": [
        {
          "output_type": "execute_result",
          "data": {
            "text/plain": [
              "1"
            ]
          },
          "metadata": {
            "tags": []
          },
          "execution_count": 16
        }
      ]
    },
    {
      "cell_type": "code",
      "metadata": {
        "id": "WyJOs8oDT4hT",
        "colab_type": "code",
        "colab": {},
        "outputId": "fc8f9b9d-9a2e-49f3-d3f6-b3a719aa018d"
      },
      "source": [
        "s[-1]"
      ],
      "execution_count": null,
      "outputs": [
        {
          "output_type": "execute_result",
          "data": {
            "text/plain": [
              "10"
            ]
          },
          "metadata": {
            "tags": []
          },
          "execution_count": 17
        }
      ]
    },
    {
      "cell_type": "code",
      "metadata": {
        "id": "K7-4ynhsT4hf",
        "colab_type": "code",
        "colab": {},
        "outputId": "88ef5496-9e38-4792-f693-e01cb47057c5"
      },
      "source": [
        "s[\"j\"]"
      ],
      "execution_count": null,
      "outputs": [
        {
          "output_type": "execute_result",
          "data": {
            "text/plain": [
              "10"
            ]
          },
          "metadata": {
            "tags": []
          },
          "execution_count": 18
        }
      ]
    },
    {
      "cell_type": "markdown",
      "metadata": {
        "id": "y70SW-BrT4hq",
        "colab_type": "text"
      },
      "source": [
        "<h3>Creating a pandas series from a dictionary</h3>"
      ]
    },
    {
      "cell_type": "markdown",
      "metadata": {
        "id": "8WPNx_V-T4hs",
        "colab_type": "text"
      },
      "source": [
        "<div class=\"alert alert-info\">\n",
        "    <p>Another way to create a pandas Series is by passing a dictionary into the <b>pd.Series()</b> method. Let's consider some examples below</p>"
      ]
    },
    {
      "cell_type": "code",
      "metadata": {
        "id": "yf742cw1T4ht",
        "colab_type": "code",
        "colab": {},
        "outputId": "804e4fd0-cacd-47d0-d2eb-983cb8571c8a"
      },
      "source": [
        "my_dict = {\"Name\" : \"Abisola\", \"Sex\" : \"Female\", \"Age\" : 23}\n",
        "pd.Series(my_dict)"
      ],
      "execution_count": null,
      "outputs": [
        {
          "output_type": "execute_result",
          "data": {
            "text/plain": [
              "Name    Abisola\n",
              "Sex      Female\n",
              "Age          23\n",
              "dtype: object"
            ]
          },
          "metadata": {
            "tags": []
          },
          "execution_count": 19
        }
      ]
    },
    {
      "cell_type": "code",
      "metadata": {
        "id": "znOF4W2LT4h7",
        "colab_type": "code",
        "colab": {},
        "outputId": "7b63498b-2198-4188-ddea-d05e00adf35f"
      },
      "source": [
        "my_dict = {\"a\":1, \"b\":2, \"c\":3,\"d\":4,\"e\":5}\n",
        "pd.Series(my_dict)"
      ],
      "execution_count": null,
      "outputs": [
        {
          "output_type": "execute_result",
          "data": {
            "text/plain": [
              "a    1\n",
              "b    2\n",
              "c    3\n",
              "d    4\n",
              "e    5\n",
              "dtype: int64"
            ]
          },
          "metadata": {
            "tags": []
          },
          "execution_count": 20
        }
      ]
    },
    {
      "cell_type": "markdown",
      "metadata": {
        "id": "FHX7CyzWT4iD",
        "colab_type": "text"
      },
      "source": [
        "<h3>Creating a pandas series from a NumPy array</h3>"
      ]
    },
    {
      "cell_type": "code",
      "metadata": {
        "id": "htMNKrFmT4iE",
        "colab_type": "code",
        "colab": {},
        "outputId": "eb61e103-6793-4a07-beb4-8b4c5640ac4d"
      },
      "source": [
        "my_array = np.random.randn(5)\n",
        "index = [\"a\", \"b\", \"c\", \"d\",\"e\"]\n",
        "pd.Series(my_array, index=index)"
      ],
      "execution_count": null,
      "outputs": [
        {
          "output_type": "execute_result",
          "data": {
            "text/plain": [
              "a   -0.914435\n",
              "b   -1.213293\n",
              "c   -0.986657\n",
              "d    0.946701\n",
              "e   -0.897726\n",
              "dtype: float64"
            ]
          },
          "metadata": {
            "tags": []
          },
          "execution_count": 21
        }
      ]
    },
    {
      "cell_type": "code",
      "metadata": {
        "id": "AaFIAdrNT4iM",
        "colab_type": "code",
        "colab": {},
        "outputId": "3336a33a-7c7b-4cb1-a98c-5fd2c0646576"
      },
      "source": [
        "my_array =np.array([1, 2, 3, 4, 5])\n",
        "index = [\"a\", \"b\", \"c\", \"d\",\"e\"]\n",
        "pd.Series(my_array, index=index)"
      ],
      "execution_count": null,
      "outputs": [
        {
          "output_type": "execute_result",
          "data": {
            "text/plain": [
              "a    1\n",
              "b    2\n",
              "c    3\n",
              "d    4\n",
              "e    5\n",
              "dtype: int32"
            ]
          },
          "metadata": {
            "tags": []
          },
          "execution_count": 22
        }
      ]
    },
    {
      "cell_type": "markdown",
      "metadata": {
        "id": "N6VX44jHT4iU",
        "colab_type": "text"
      },
      "source": [
        "<h3>Series Operations</h3>"
      ]
    },
    {
      "cell_type": "markdown",
      "metadata": {
        "id": "C2mK36ypT4iW",
        "colab_type": "text"
      },
      "source": [
        "<div class=\"alert alert-info\">\n",
        "    We can perform most of the operation that can be performed on other Python data structure on the Pandas Series. We will explore few of the operations that can be performed on a Series in this section.</div>"
      ]
    },
    {
      "cell_type": "code",
      "metadata": {
        "id": "TZ7VEI3WT4iX",
        "colab_type": "code",
        "colab": {},
        "outputId": "f43d1ab9-b552-43aa-e891-096859a1157d"
      },
      "source": [
        "my_list = [1,2,3,4,5,6,7,8,9,10]\n",
        "my_label = [\"a\",\"b\",\"c\", \"d\", \"e\", \"f\",\"g\",\"h\",\"i\",\"j\"]\n",
        "\n",
        "s = pd.Series(my_list, index=my_label)\n",
        "s"
      ],
      "execution_count": null,
      "outputs": [
        {
          "output_type": "execute_result",
          "data": {
            "text/plain": [
              "a     1\n",
              "b     2\n",
              "c     3\n",
              "d     4\n",
              "e     5\n",
              "f     6\n",
              "g     7\n",
              "h     8\n",
              "i     9\n",
              "j    10\n",
              "dtype: int64"
            ]
          },
          "metadata": {
            "tags": []
          },
          "execution_count": 23
        }
      ]
    },
    {
      "cell_type": "code",
      "metadata": {
        "id": "5TSmeSLNT4ih",
        "colab_type": "code",
        "colab": {},
        "outputId": "57d151c0-ba6a-4e60-e016-644f745eac9a"
      },
      "source": [
        "#Slicing can be done using both the numerical index and the labeled index. The choice is yours\n",
        "\n",
        "s[:5]"
      ],
      "execution_count": null,
      "outputs": [
        {
          "output_type": "execute_result",
          "data": {
            "text/plain": [
              "a    1\n",
              "b    2\n",
              "c    3\n",
              "d    4\n",
              "e    5\n",
              "dtype: int64"
            ]
          },
          "metadata": {
            "tags": []
          },
          "execution_count": 24
        }
      ]
    },
    {
      "cell_type": "code",
      "metadata": {
        "id": "dZOEDQCCT4iq",
        "colab_type": "code",
        "colab": {},
        "outputId": "6135b958-5edb-4c50-e397-b3e9d84e07ca"
      },
      "source": [
        "s[:\"e\"]"
      ],
      "execution_count": null,
      "outputs": [
        {
          "output_type": "execute_result",
          "data": {
            "text/plain": [
              "a    1\n",
              "b    2\n",
              "c    3\n",
              "d    4\n",
              "e    5\n",
              "dtype: int64"
            ]
          },
          "metadata": {
            "tags": []
          },
          "execution_count": 25
        }
      ]
    },
    {
      "cell_type": "code",
      "metadata": {
        "id": "AmjsqsMeT4iy",
        "colab_type": "code",
        "colab": {},
        "outputId": "0c97642c-03ab-4974-8aa6-a175395010bf"
      },
      "source": [
        "#You can append a Series to the end of another Series\n",
        "\n",
        "my_dict = {\"Name\" : \"Abisola\", \"Sex\" : \"Female\", \"Age\" : 23}\n",
        "s2 = pd.Series(my_dict)\n",
        "s2"
      ],
      "execution_count": null,
      "outputs": [
        {
          "output_type": "execute_result",
          "data": {
            "text/plain": [
              "Name    Abisola\n",
              "Sex      Female\n",
              "Age          23\n",
              "dtype: object"
            ]
          },
          "metadata": {
            "tags": []
          },
          "execution_count": 26
        }
      ]
    },
    {
      "cell_type": "code",
      "metadata": {
        "id": "vHvyce8HT4i6",
        "colab_type": "code",
        "colab": {},
        "outputId": "7feacd3a-c7e6-41bc-a90f-d7cd76ffec9c"
      },
      "source": [
        "#Now, we will append s2 above to s\n",
        "new_series = s.append(s2)\n",
        "new_series"
      ],
      "execution_count": null,
      "outputs": [
        {
          "output_type": "execute_result",
          "data": {
            "text/plain": [
              "a             1\n",
              "b             2\n",
              "c             3\n",
              "d             4\n",
              "e             5\n",
              "f             6\n",
              "g             7\n",
              "h             8\n",
              "i             9\n",
              "j            10\n",
              "Name    Abisola\n",
              "Sex      Female\n",
              "Age          23\n",
              "dtype: object"
            ]
          },
          "metadata": {
            "tags": []
          },
          "execution_count": 27
        }
      ]
    },
    {
      "cell_type": "code",
      "metadata": {
        "id": "y2kxankBT4jC",
        "colab_type": "code",
        "colab": {},
        "outputId": "c033518a-8bbf-4b1b-c7bb-2ca0a984927e"
      },
      "source": [
        "#We can also drop an element in the series as shown below\n",
        "new_series.drop(\"e\")"
      ],
      "execution_count": null,
      "outputs": [
        {
          "output_type": "execute_result",
          "data": {
            "text/plain": [
              "a             1\n",
              "b             2\n",
              "c             3\n",
              "d             4\n",
              "f             6\n",
              "g             7\n",
              "h             8\n",
              "i             9\n",
              "j            10\n",
              "Name    Abisola\n",
              "Sex      Female\n",
              "Age          23\n",
              "dtype: object"
            ]
          },
          "metadata": {
            "tags": []
          },
          "execution_count": 28
        }
      ]
    },
    {
      "cell_type": "code",
      "metadata": {
        "id": "zVSe1oAXT4jK",
        "colab_type": "code",
        "colab": {},
        "outputId": "9ceaaae4-1cba-46d6-d0e7-ab347a9e5f3d"
      },
      "source": [
        "new_series.drop(\"Age\")"
      ],
      "execution_count": null,
      "outputs": [
        {
          "output_type": "execute_result",
          "data": {
            "text/plain": [
              "a             1\n",
              "b             2\n",
              "c             3\n",
              "d             4\n",
              "e             5\n",
              "f             6\n",
              "g             7\n",
              "h             8\n",
              "i             9\n",
              "j            10\n",
              "Name    Abisola\n",
              "Sex      Female\n",
              "dtype: object"
            ]
          },
          "metadata": {
            "tags": []
          },
          "execution_count": 29
        }
      ]
    },
    {
      "cell_type": "code",
      "metadata": {
        "id": "3Mf5tSzJT4jR",
        "colab_type": "code",
        "colab": {},
        "outputId": "a4d8ddfb-f654-4bbe-cab2-49594d3bc585"
      },
      "source": [
        "#Series numerical operations \n",
        "a = [1, 1, 2,3,4,5,6,7]\n",
        "series_1 = pd.Series(a)\n",
        "b = [1,2,3,4,5]\n",
        "series_2 = pd.Series(b)\n",
        "\n",
        "series_1.add(series_1)"
      ],
      "execution_count": null,
      "outputs": [
        {
          "output_type": "execute_result",
          "data": {
            "text/plain": [
              "0     2\n",
              "1     2\n",
              "2     4\n",
              "3     6\n",
              "4     8\n",
              "5    10\n",
              "6    12\n",
              "7    14\n",
              "dtype: int64"
            ]
          },
          "metadata": {
            "tags": []
          },
          "execution_count": 30
        }
      ]
    },
    {
      "cell_type": "code",
      "metadata": {
        "id": "oF9kribGT4jZ",
        "colab_type": "code",
        "colab": {},
        "outputId": "797fc559-20ec-41c5-e690-49e78d76fa1d"
      },
      "source": [
        "series_1.add(series_2)\n"
      ],
      "execution_count": null,
      "outputs": [
        {
          "output_type": "execute_result",
          "data": {
            "text/plain": [
              "0    2.0\n",
              "1    3.0\n",
              "2    5.0\n",
              "3    7.0\n",
              "4    9.0\n",
              "5    NaN\n",
              "6    NaN\n",
              "7    NaN\n",
              "dtype: float64"
            ]
          },
          "metadata": {
            "tags": []
          },
          "execution_count": 31
        }
      ]
    },
    {
      "cell_type": "code",
      "metadata": {
        "id": "nirxV2wYT4ji",
        "colab_type": "code",
        "colab": {},
        "outputId": "7700449d-caab-490b-8c4a-e00b1875d550"
      },
      "source": [
        "series_1.sub(series_1)"
      ],
      "execution_count": null,
      "outputs": [
        {
          "output_type": "execute_result",
          "data": {
            "text/plain": [
              "0    0\n",
              "1    0\n",
              "2    0\n",
              "3    0\n",
              "4    0\n",
              "5    0\n",
              "6    0\n",
              "7    0\n",
              "dtype: int64"
            ]
          },
          "metadata": {
            "tags": []
          },
          "execution_count": 32
        }
      ]
    },
    {
      "cell_type": "code",
      "metadata": {
        "id": "6xGbFTSST4jq",
        "colab_type": "code",
        "colab": {},
        "outputId": "471ab4ad-5540-4ebf-b4bc-9465af4fb73b"
      },
      "source": [
        "series_1.sub(series_2)"
      ],
      "execution_count": null,
      "outputs": [
        {
          "output_type": "execute_result",
          "data": {
            "text/plain": [
              "0    0.0\n",
              "1   -1.0\n",
              "2   -1.0\n",
              "3   -1.0\n",
              "4   -1.0\n",
              "5    NaN\n",
              "6    NaN\n",
              "7    NaN\n",
              "dtype: float64"
            ]
          },
          "metadata": {
            "tags": []
          },
          "execution_count": 33
        }
      ]
    },
    {
      "cell_type": "code",
      "metadata": {
        "id": "We8uAKidT4jy",
        "colab_type": "code",
        "colab": {},
        "outputId": "1ef391f0-f510-448c-ef90-8aa3911231a4"
      },
      "source": [
        "series_1.mul(series_1)"
      ],
      "execution_count": null,
      "outputs": [
        {
          "output_type": "execute_result",
          "data": {
            "text/plain": [
              "0     1\n",
              "1     1\n",
              "2     4\n",
              "3     9\n",
              "4    16\n",
              "5    25\n",
              "6    36\n",
              "7    49\n",
              "dtype: int64"
            ]
          },
          "metadata": {
            "tags": []
          },
          "execution_count": 34
        }
      ]
    },
    {
      "cell_type": "code",
      "metadata": {
        "id": "NCNyW3cST4j5",
        "colab_type": "code",
        "colab": {},
        "outputId": "6612e718-3b9b-4c4b-8fad-a4b754248fce"
      },
      "source": [
        "series_1.mul(series_2)"
      ],
      "execution_count": null,
      "outputs": [
        {
          "output_type": "execute_result",
          "data": {
            "text/plain": [
              "0     1.0\n",
              "1     2.0\n",
              "2     6.0\n",
              "3    12.0\n",
              "4    20.0\n",
              "5     NaN\n",
              "6     NaN\n",
              "7     NaN\n",
              "dtype: float64"
            ]
          },
          "metadata": {
            "tags": []
          },
          "execution_count": 35
        }
      ]
    },
    {
      "cell_type": "code",
      "metadata": {
        "id": "LaNVPiQqT4kF",
        "colab_type": "code",
        "colab": {},
        "outputId": "e6ec0d1d-7a55-48fb-b2cc-6707aebf8167"
      },
      "source": [
        "series_1.div(series_1)"
      ],
      "execution_count": null,
      "outputs": [
        {
          "output_type": "execute_result",
          "data": {
            "text/plain": [
              "0    1.0\n",
              "1    1.0\n",
              "2    1.0\n",
              "3    1.0\n",
              "4    1.0\n",
              "5    1.0\n",
              "6    1.0\n",
              "7    1.0\n",
              "dtype: float64"
            ]
          },
          "metadata": {
            "tags": []
          },
          "execution_count": 36
        }
      ]
    },
    {
      "cell_type": "code",
      "metadata": {
        "id": "z-q7FiN6T4kN",
        "colab_type": "code",
        "colab": {},
        "outputId": "812fc60a-9fdc-47bd-b2b9-07857183839f"
      },
      "source": [
        "series_1.div(series_2)"
      ],
      "execution_count": null,
      "outputs": [
        {
          "output_type": "execute_result",
          "data": {
            "text/plain": [
              "0    1.000000\n",
              "1    0.500000\n",
              "2    0.666667\n",
              "3    0.750000\n",
              "4    0.800000\n",
              "5         NaN\n",
              "6         NaN\n",
              "7         NaN\n",
              "dtype: float64"
            ]
          },
          "metadata": {
            "tags": []
          },
          "execution_count": 37
        }
      ]
    },
    {
      "cell_type": "code",
      "metadata": {
        "id": "vfbErcLpT4kW",
        "colab_type": "code",
        "colab": {},
        "outputId": "2bb0aa78-bd7a-4131-ed78-8828e683dd4f"
      },
      "source": [
        "print(\"Median: \", series_1.median())\n",
        "print(\"Maximum: \", series_1.max())\n",
        "print(\"minimum: \", series_1.min())\n",
        "print(\"Mean: \", series_1.mean())"
      ],
      "execution_count": null,
      "outputs": [
        {
          "output_type": "stream",
          "text": [
            "Median:  3.5\n",
            "Maximum:  7\n",
            "minimum:  1\n",
            "Mean:  3.625\n"
          ],
          "name": "stdout"
        }
      ]
    },
    {
      "cell_type": "code",
      "metadata": {
        "id": "n_fKIyfAT4kc",
        "colab_type": "code",
        "colab": {},
        "outputId": "fbd55a1c-a657-420d-8762-acbfdba9d2ed"
      },
      "source": [
        "#Return unique elements of a Series\n",
        "\n",
        "series_1.unique()"
      ],
      "execution_count": null,
      "outputs": [
        {
          "output_type": "execute_result",
          "data": {
            "text/plain": [
              "array([1, 2, 3, 4, 5, 6, 7], dtype=int64)"
            ]
          },
          "metadata": {
            "tags": []
          },
          "execution_count": 39
        }
      ]
    },
    {
      "cell_type": "markdown",
      "metadata": {
        "id": "BYox4PkIT4kj",
        "colab_type": "text"
      },
      "source": [
        "<h2>Pandas DataFrame</h2>"
      ]
    },
    {
      "cell_type": "markdown",
      "metadata": {
        "id": "oH4Nhy8GT4kk",
        "colab_type": "text"
      },
      "source": [
        "<div class=\"alert alert-info\">\n",
        "<p>Pandas Series is similar to the 1-dimensional NumPy arrays while the pandas DataFrames is similar to the 2-dimensional NumPy arrays. You can think of a Series as a column and a DataFrame as the full table. DataFrames are the most important data structure in the pandas library, hence, it covers the majority of what will be discussed in this notebook</p>\n",
        "\n",
        "<p>A pandas DataFrame is a 2-dimensional data structure that has labels for both its rows and columns. If you are familiar with spreadsheets(Microsoft Excel, Google Sheets, and so on), a DataFrame is very similar to spreadsheets.</p>\n",
        "<p>Just like Series, we can create DataFrame from a list, dictionary, or even a NumPy array. Aside this, we can import and manipulate data from csv, excel, html, and other sources using DataFrame</p>"
      ]
    },
    {
      "cell_type": "code",
      "metadata": {
        "id": "VDRo3OI-T4km",
        "colab_type": "code",
        "colab": {},
        "outputId": "3d6cf5b7-aeb7-4a4a-df50-aa86f812a447"
      },
      "source": [
        "dates = pd.date_range(\"today\", periods = 6)\n",
        "data = np.random.randn(6,4)\n",
        "columns= [\"A\", \"B\",\"C\",\"D\"]\n",
        "data_frame = pd.DataFrame(data, index=dates, columns=columns)\n",
        "data_frame"
      ],
      "execution_count": null,
      "outputs": [
        {
          "output_type": "execute_result",
          "data": {
            "text/html": [
              "<div>\n",
              "<style scoped>\n",
              "    .dataframe tbody tr th:only-of-type {\n",
              "        vertical-align: middle;\n",
              "    }\n",
              "\n",
              "    .dataframe tbody tr th {\n",
              "        vertical-align: top;\n",
              "    }\n",
              "\n",
              "    .dataframe thead th {\n",
              "        text-align: right;\n",
              "    }\n",
              "</style>\n",
              "<table border=\"1\" class=\"dataframe\">\n",
              "  <thead>\n",
              "    <tr style=\"text-align: right;\">\n",
              "      <th></th>\n",
              "      <th>A</th>\n",
              "      <th>B</th>\n",
              "      <th>C</th>\n",
              "      <th>D</th>\n",
              "    </tr>\n",
              "  </thead>\n",
              "  <tbody>\n",
              "    <tr>\n",
              "      <th>2020-07-30 13:04:02.356652</th>\n",
              "      <td>-3.050883</td>\n",
              "      <td>-1.603208</td>\n",
              "      <td>0.179362</td>\n",
              "      <td>1.343916</td>\n",
              "    </tr>\n",
              "    <tr>\n",
              "      <th>2020-07-31 13:04:02.356652</th>\n",
              "      <td>2.174003</td>\n",
              "      <td>0.788265</td>\n",
              "      <td>-0.295804</td>\n",
              "      <td>-1.141966</td>\n",
              "    </tr>\n",
              "    <tr>\n",
              "      <th>2020-08-01 13:04:02.356652</th>\n",
              "      <td>-0.369861</td>\n",
              "      <td>0.308627</td>\n",
              "      <td>0.358607</td>\n",
              "      <td>-1.375167</td>\n",
              "    </tr>\n",
              "    <tr>\n",
              "      <th>2020-08-02 13:04:02.356652</th>\n",
              "      <td>-0.321204</td>\n",
              "      <td>0.834728</td>\n",
              "      <td>-1.095445</td>\n",
              "      <td>0.719741</td>\n",
              "    </tr>\n",
              "    <tr>\n",
              "      <th>2020-08-03 13:04:02.356652</th>\n",
              "      <td>0.890214</td>\n",
              "      <td>-1.187422</td>\n",
              "      <td>-0.522269</td>\n",
              "      <td>1.298195</td>\n",
              "    </tr>\n",
              "    <tr>\n",
              "      <th>2020-08-04 13:04:02.356652</th>\n",
              "      <td>-0.428352</td>\n",
              "      <td>0.438173</td>\n",
              "      <td>-0.282904</td>\n",
              "      <td>-0.676399</td>\n",
              "    </tr>\n",
              "  </tbody>\n",
              "</table>\n",
              "</div>"
            ],
            "text/plain": [
              "                                   A         B         C         D\n",
              "2020-07-30 13:04:02.356652 -3.050883 -1.603208  0.179362  1.343916\n",
              "2020-07-31 13:04:02.356652  2.174003  0.788265 -0.295804 -1.141966\n",
              "2020-08-01 13:04:02.356652 -0.369861  0.308627  0.358607 -1.375167\n",
              "2020-08-02 13:04:02.356652 -0.321204  0.834728 -1.095445  0.719741\n",
              "2020-08-03 13:04:02.356652  0.890214 -1.187422 -0.522269  1.298195\n",
              "2020-08-04 13:04:02.356652 -0.428352  0.438173 -0.282904 -0.676399"
            ]
          },
          "metadata": {
            "tags": []
          },
          "execution_count": 40
        }
      ]
    },
    {
      "cell_type": "markdown",
      "metadata": {
        "id": "vBtdqAGJT4kt",
        "colab_type": "text"
      },
      "source": [
        "<div class=\"alert alert-info\">You can also mofify the index of a DataFrame. This can be done in a number of ways as shown below</div>"
      ]
    },
    {
      "cell_type": "markdown",
      "metadata": {
        "id": "gDk0et7ET4ku",
        "colab_type": "text"
      },
      "source": [
        "<h4>Reseting the DataFrame index</h4>"
      ]
    },
    {
      "cell_type": "code",
      "metadata": {
        "id": "YGylQduQT4kw",
        "colab_type": "code",
        "colab": {}
      },
      "source": [
        "data_frame.reset_index(inplace = True)"
      ],
      "execution_count": null,
      "outputs": []
    },
    {
      "cell_type": "markdown",
      "metadata": {
        "id": "HhyYpof8T4k3",
        "colab_type": "text"
      },
      "source": [
        "<div class=\"alert alert-info\">\n",
        "Note: by default, this will not overwrite the original DataFrame(the same is true for most of the other DataFrame methods), to automatically overwrite the data, you set inplace = True or manually overwrite it using the assignment operator</div>"
      ]
    },
    {
      "cell_type": "markdown",
      "metadata": {
        "id": "Bu5Nv0z1T4k4",
        "colab_type": "text"
      },
      "source": [
        "<h4>Setting index</h4>"
      ]
    },
    {
      "cell_type": "markdown",
      "metadata": {
        "id": "7kx1UAQFT4k5",
        "colab_type": "text"
      },
      "source": [
        "<div class=\"alert alert-info\">You can also set an existing column in the DataFrame as the index using the <b>set_index</b> method. </div>"
      ]
    },
    {
      "cell_type": "code",
      "metadata": {
        "id": "0r0j2_u3T4k6",
        "colab_type": "code",
        "colab": {},
        "outputId": "04c93941-d8fe-4ae4-d565-951d45c02a41"
      },
      "source": [
        "data_frame.set_index(\"C\")"
      ],
      "execution_count": null,
      "outputs": [
        {
          "output_type": "execute_result",
          "data": {
            "text/html": [
              "<div>\n",
              "<style scoped>\n",
              "    .dataframe tbody tr th:only-of-type {\n",
              "        vertical-align: middle;\n",
              "    }\n",
              "\n",
              "    .dataframe tbody tr th {\n",
              "        vertical-align: top;\n",
              "    }\n",
              "\n",
              "    .dataframe thead th {\n",
              "        text-align: right;\n",
              "    }\n",
              "</style>\n",
              "<table border=\"1\" class=\"dataframe\">\n",
              "  <thead>\n",
              "    <tr style=\"text-align: right;\">\n",
              "      <th></th>\n",
              "      <th>index</th>\n",
              "      <th>A</th>\n",
              "      <th>B</th>\n",
              "      <th>D</th>\n",
              "    </tr>\n",
              "    <tr>\n",
              "      <th>C</th>\n",
              "      <th></th>\n",
              "      <th></th>\n",
              "      <th></th>\n",
              "      <th></th>\n",
              "    </tr>\n",
              "  </thead>\n",
              "  <tbody>\n",
              "    <tr>\n",
              "      <th>0.179362</th>\n",
              "      <td>2020-07-30 13:04:02.356652</td>\n",
              "      <td>-3.050883</td>\n",
              "      <td>-1.603208</td>\n",
              "      <td>1.343916</td>\n",
              "    </tr>\n",
              "    <tr>\n",
              "      <th>-0.295804</th>\n",
              "      <td>2020-07-31 13:04:02.356652</td>\n",
              "      <td>2.174003</td>\n",
              "      <td>0.788265</td>\n",
              "      <td>-1.141966</td>\n",
              "    </tr>\n",
              "    <tr>\n",
              "      <th>0.358607</th>\n",
              "      <td>2020-08-01 13:04:02.356652</td>\n",
              "      <td>-0.369861</td>\n",
              "      <td>0.308627</td>\n",
              "      <td>-1.375167</td>\n",
              "    </tr>\n",
              "    <tr>\n",
              "      <th>-1.095445</th>\n",
              "      <td>2020-08-02 13:04:02.356652</td>\n",
              "      <td>-0.321204</td>\n",
              "      <td>0.834728</td>\n",
              "      <td>0.719741</td>\n",
              "    </tr>\n",
              "    <tr>\n",
              "      <th>-0.522269</th>\n",
              "      <td>2020-08-03 13:04:02.356652</td>\n",
              "      <td>0.890214</td>\n",
              "      <td>-1.187422</td>\n",
              "      <td>1.298195</td>\n",
              "    </tr>\n",
              "    <tr>\n",
              "      <th>-0.282904</th>\n",
              "      <td>2020-08-04 13:04:02.356652</td>\n",
              "      <td>-0.428352</td>\n",
              "      <td>0.438173</td>\n",
              "      <td>-0.676399</td>\n",
              "    </tr>\n",
              "  </tbody>\n",
              "</table>\n",
              "</div>"
            ],
            "text/plain": [
              "                               index         A         B         D\n",
              "C                                                                 \n",
              " 0.179362 2020-07-30 13:04:02.356652 -3.050883 -1.603208  1.343916\n",
              "-0.295804 2020-07-31 13:04:02.356652  2.174003  0.788265 -1.141966\n",
              " 0.358607 2020-08-01 13:04:02.356652 -0.369861  0.308627 -1.375167\n",
              "-1.095445 2020-08-02 13:04:02.356652 -0.321204  0.834728  0.719741\n",
              "-0.522269 2020-08-03 13:04:02.356652  0.890214 -1.187422  1.298195\n",
              "-0.282904 2020-08-04 13:04:02.356652 -0.428352  0.438173 -0.676399"
            ]
          },
          "metadata": {
            "tags": []
          },
          "execution_count": 42
        }
      ]
    },
    {
      "cell_type": "markdown",
      "metadata": {
        "id": "a68JIm12T4lB",
        "colab_type": "text"
      },
      "source": [
        "<div class=\"alert alert-info\">You can as well create a new index and set it as the DataFrame index. </div>"
      ]
    },
    {
      "cell_type": "code",
      "metadata": {
        "id": "TNR-lXa2T4lD",
        "colab_type": "code",
        "colab": {},
        "outputId": "012d9d68-e8d5-459f-ef23-85671d59a605"
      },
      "source": [
        "index  = [1,2,3,4,5,6]\n",
        "data_frame.set_index(pd.Index(index))"
      ],
      "execution_count": null,
      "outputs": [
        {
          "output_type": "execute_result",
          "data": {
            "text/html": [
              "<div>\n",
              "<style scoped>\n",
              "    .dataframe tbody tr th:only-of-type {\n",
              "        vertical-align: middle;\n",
              "    }\n",
              "\n",
              "    .dataframe tbody tr th {\n",
              "        vertical-align: top;\n",
              "    }\n",
              "\n",
              "    .dataframe thead th {\n",
              "        text-align: right;\n",
              "    }\n",
              "</style>\n",
              "<table border=\"1\" class=\"dataframe\">\n",
              "  <thead>\n",
              "    <tr style=\"text-align: right;\">\n",
              "      <th></th>\n",
              "      <th>index</th>\n",
              "      <th>A</th>\n",
              "      <th>B</th>\n",
              "      <th>C</th>\n",
              "      <th>D</th>\n",
              "    </tr>\n",
              "  </thead>\n",
              "  <tbody>\n",
              "    <tr>\n",
              "      <th>1</th>\n",
              "      <td>2020-07-30 13:04:02.356652</td>\n",
              "      <td>-3.050883</td>\n",
              "      <td>-1.603208</td>\n",
              "      <td>0.179362</td>\n",
              "      <td>1.343916</td>\n",
              "    </tr>\n",
              "    <tr>\n",
              "      <th>2</th>\n",
              "      <td>2020-07-31 13:04:02.356652</td>\n",
              "      <td>2.174003</td>\n",
              "      <td>0.788265</td>\n",
              "      <td>-0.295804</td>\n",
              "      <td>-1.141966</td>\n",
              "    </tr>\n",
              "    <tr>\n",
              "      <th>3</th>\n",
              "      <td>2020-08-01 13:04:02.356652</td>\n",
              "      <td>-0.369861</td>\n",
              "      <td>0.308627</td>\n",
              "      <td>0.358607</td>\n",
              "      <td>-1.375167</td>\n",
              "    </tr>\n",
              "    <tr>\n",
              "      <th>4</th>\n",
              "      <td>2020-08-02 13:04:02.356652</td>\n",
              "      <td>-0.321204</td>\n",
              "      <td>0.834728</td>\n",
              "      <td>-1.095445</td>\n",
              "      <td>0.719741</td>\n",
              "    </tr>\n",
              "    <tr>\n",
              "      <th>5</th>\n",
              "      <td>2020-08-03 13:04:02.356652</td>\n",
              "      <td>0.890214</td>\n",
              "      <td>-1.187422</td>\n",
              "      <td>-0.522269</td>\n",
              "      <td>1.298195</td>\n",
              "    </tr>\n",
              "    <tr>\n",
              "      <th>6</th>\n",
              "      <td>2020-08-04 13:04:02.356652</td>\n",
              "      <td>-0.428352</td>\n",
              "      <td>0.438173</td>\n",
              "      <td>-0.282904</td>\n",
              "      <td>-0.676399</td>\n",
              "    </tr>\n",
              "  </tbody>\n",
              "</table>\n",
              "</div>"
            ],
            "text/plain": [
              "                       index         A         B         C         D\n",
              "1 2020-07-30 13:04:02.356652 -3.050883 -1.603208  0.179362  1.343916\n",
              "2 2020-07-31 13:04:02.356652  2.174003  0.788265 -0.295804 -1.141966\n",
              "3 2020-08-01 13:04:02.356652 -0.369861  0.308627  0.358607 -1.375167\n",
              "4 2020-08-02 13:04:02.356652 -0.321204  0.834728 -1.095445  0.719741\n",
              "5 2020-08-03 13:04:02.356652  0.890214 -1.187422 -0.522269  1.298195\n",
              "6 2020-08-04 13:04:02.356652 -0.428352  0.438173 -0.282904 -0.676399"
            ]
          },
          "metadata": {
            "tags": []
          },
          "execution_count": 43
        }
      ]
    },
    {
      "cell_type": "markdown",
      "metadata": {
        "id": "kl2afmr0T4lR",
        "colab_type": "text"
      },
      "source": [
        "<h3>Creating dataframes from dictionary</h3>"
      ]
    },
    {
      "cell_type": "code",
      "metadata": {
        "id": "txsHGg6TT4lT",
        "colab_type": "code",
        "colab": {},
        "outputId": "41979870-0dbd-4bee-8d8d-5d8de3ef75d8"
      },
      "source": [
        "biodata = {\"Name\": [\"Abisola\", \"Feyin\",\"Sogo\", \"Josh\", \"Kate\", \"Ayo\",\"Segun\",\"Ola\",\"Ife\",\"Mike\",\"Ayo\"],\n",
        "          \"Age\": [17,15,18, 17, 17, 16,13,15,14,15,16],\n",
        "          \"Gender\": [\"Female\", \"Female\",\"Male\", \"Male\", \"Female\", \"Male\",\"Male\",\"Male\",\"Female\",\"Female\",\"Female\"]}\n",
        "index = [1,2,3,4,5,6,7,8,9,10,11]\n",
        "data_frame = pd.DataFrame(biodata, index=index)\n",
        "data_frame"
      ],
      "execution_count": null,
      "outputs": [
        {
          "output_type": "execute_result",
          "data": {
            "text/html": [
              "<div>\n",
              "<style scoped>\n",
              "    .dataframe tbody tr th:only-of-type {\n",
              "        vertical-align: middle;\n",
              "    }\n",
              "\n",
              "    .dataframe tbody tr th {\n",
              "        vertical-align: top;\n",
              "    }\n",
              "\n",
              "    .dataframe thead th {\n",
              "        text-align: right;\n",
              "    }\n",
              "</style>\n",
              "<table border=\"1\" class=\"dataframe\">\n",
              "  <thead>\n",
              "    <tr style=\"text-align: right;\">\n",
              "      <th></th>\n",
              "      <th>Name</th>\n",
              "      <th>Age</th>\n",
              "      <th>Gender</th>\n",
              "    </tr>\n",
              "  </thead>\n",
              "  <tbody>\n",
              "    <tr>\n",
              "      <th>1</th>\n",
              "      <td>Abisola</td>\n",
              "      <td>17</td>\n",
              "      <td>Female</td>\n",
              "    </tr>\n",
              "    <tr>\n",
              "      <th>2</th>\n",
              "      <td>Feyin</td>\n",
              "      <td>15</td>\n",
              "      <td>Female</td>\n",
              "    </tr>\n",
              "    <tr>\n",
              "      <th>3</th>\n",
              "      <td>Sogo</td>\n",
              "      <td>18</td>\n",
              "      <td>Male</td>\n",
              "    </tr>\n",
              "    <tr>\n",
              "      <th>4</th>\n",
              "      <td>Josh</td>\n",
              "      <td>17</td>\n",
              "      <td>Male</td>\n",
              "    </tr>\n",
              "    <tr>\n",
              "      <th>5</th>\n",
              "      <td>Kate</td>\n",
              "      <td>17</td>\n",
              "      <td>Female</td>\n",
              "    </tr>\n",
              "    <tr>\n",
              "      <th>6</th>\n",
              "      <td>Ayo</td>\n",
              "      <td>16</td>\n",
              "      <td>Male</td>\n",
              "    </tr>\n",
              "    <tr>\n",
              "      <th>7</th>\n",
              "      <td>Segun</td>\n",
              "      <td>13</td>\n",
              "      <td>Male</td>\n",
              "    </tr>\n",
              "    <tr>\n",
              "      <th>8</th>\n",
              "      <td>Ola</td>\n",
              "      <td>15</td>\n",
              "      <td>Male</td>\n",
              "    </tr>\n",
              "    <tr>\n",
              "      <th>9</th>\n",
              "      <td>Ife</td>\n",
              "      <td>14</td>\n",
              "      <td>Female</td>\n",
              "    </tr>\n",
              "    <tr>\n",
              "      <th>10</th>\n",
              "      <td>Mike</td>\n",
              "      <td>15</td>\n",
              "      <td>Female</td>\n",
              "    </tr>\n",
              "    <tr>\n",
              "      <th>11</th>\n",
              "      <td>Ayo</td>\n",
              "      <td>16</td>\n",
              "      <td>Female</td>\n",
              "    </tr>\n",
              "  </tbody>\n",
              "</table>\n",
              "</div>"
            ],
            "text/plain": [
              "       Name  Age  Gender\n",
              "1   Abisola   17  Female\n",
              "2     Feyin   15  Female\n",
              "3      Sogo   18    Male\n",
              "4      Josh   17    Male\n",
              "5      Kate   17  Female\n",
              "6       Ayo   16    Male\n",
              "7     Segun   13    Male\n",
              "8       Ola   15    Male\n",
              "9       Ife   14  Female\n",
              "10     Mike   15  Female\n",
              "11      Ayo   16  Female"
            ]
          },
          "metadata": {
            "tags": []
          },
          "execution_count": 44
        }
      ]
    },
    {
      "cell_type": "markdown",
      "metadata": {
        "collapsed": true,
        "id": "p921eIZkT4la",
        "colab_type": "text"
      },
      "source": [
        "<div class=\"alert alert-info\">\n",
        "<p>If you have worked with Excel, then the output above should ring a bell. It is just like the excel spreadsheet. This explains why it is widely used by data scientist. It makes data manipulation easy<p>\n",
        "<p>You would also observe that each column is like a Pandas Series. Actually, each column is a pandas Series. If we have to redefine a data frame, we can say a DataFrame is a combination of Pandas Series having the same index</p>  </div>"
      ]
    },
    {
      "cell_type": "markdown",
      "metadata": {
        "id": "rbFR6fPVT4lb",
        "colab_type": "text"
      },
      "source": [
        "<h3>Referencing elements by indexing in DataFrames</h3>"
      ]
    },
    {
      "cell_type": "markdown",
      "metadata": {
        "id": "cMcOTlOuT4ld",
        "colab_type": "text"
      },
      "source": [
        "<div class=\"alert alert-info\">\n",
        "Just like you can reference a particular element from a list or dictinary, you can also reference a particular Series/column from a pandas DataFrame using the square brackets</div>"
      ]
    },
    {
      "cell_type": "code",
      "metadata": {
        "id": "5pmcIxkzT4lg",
        "colab_type": "code",
        "colab": {},
        "outputId": "0c93671f-21f2-47f3-fb1b-e1d38d8f4c8d"
      },
      "source": [
        "data_frame[\"Name\"]"
      ],
      "execution_count": null,
      "outputs": [
        {
          "output_type": "execute_result",
          "data": {
            "text/plain": [
              "1     Abisola\n",
              "2       Feyin\n",
              "3        Sogo\n",
              "4        Josh\n",
              "5        Kate\n",
              "6         Ayo\n",
              "7       Segun\n",
              "8         Ola\n",
              "9         Ife\n",
              "10       Mike\n",
              "11        Ayo\n",
              "Name: Name, dtype: object"
            ]
          },
          "metadata": {
            "tags": []
          },
          "execution_count": 45
        }
      ]
    },
    {
      "cell_type": "code",
      "metadata": {
        "id": "LnUMbS7LT4ls",
        "colab_type": "code",
        "colab": {},
        "outputId": "d26d03d9-d9d9-4f27-be38-423d9e0c88d4"
      },
      "source": [
        "data_frame[\"Age\"]"
      ],
      "execution_count": null,
      "outputs": [
        {
          "output_type": "execute_result",
          "data": {
            "text/plain": [
              "1     17\n",
              "2     15\n",
              "3     18\n",
              "4     17\n",
              "5     17\n",
              "6     16\n",
              "7     13\n",
              "8     15\n",
              "9     14\n",
              "10    15\n",
              "11    16\n",
              "Name: Age, dtype: int64"
            ]
          },
          "metadata": {
            "tags": []
          },
          "execution_count": 46
        }
      ]
    },
    {
      "cell_type": "code",
      "metadata": {
        "id": "HJXrT4cvT4lz",
        "colab_type": "code",
        "colab": {},
        "outputId": "3f4ce69a-bd0d-41f8-86bf-0eeec7c27469"
      },
      "source": [
        "data_frame[\"Gender\"]"
      ],
      "execution_count": null,
      "outputs": [
        {
          "output_type": "execute_result",
          "data": {
            "text/plain": [
              "1     Female\n",
              "2     Female\n",
              "3       Male\n",
              "4       Male\n",
              "5     Female\n",
              "6       Male\n",
              "7       Male\n",
              "8       Male\n",
              "9     Female\n",
              "10    Female\n",
              "11    Female\n",
              "Name: Gender, dtype: object"
            ]
          },
          "metadata": {
            "tags": []
          },
          "execution_count": 47
        }
      ]
    },
    {
      "cell_type": "markdown",
      "metadata": {
        "id": "XGBzWzZvT4l_",
        "colab_type": "text"
      },
      "source": [
        "<div class=\"alert alert-info\">You can select multiple columns by passing them inside two square brackets like a 2-dimensional array: <b>[[\"column_1\", \"column_2\"]]</b></div>"
      ]
    },
    {
      "cell_type": "code",
      "metadata": {
        "id": "OfB2S0pFT4mA",
        "colab_type": "code",
        "colab": {},
        "outputId": "ae4fe065-e4f6-41bd-c96a-72fd10ee7f85"
      },
      "source": [
        "data_frame[[\"Name\", \"Gender\"]]"
      ],
      "execution_count": null,
      "outputs": [
        {
          "output_type": "execute_result",
          "data": {
            "text/html": [
              "<div>\n",
              "<style scoped>\n",
              "    .dataframe tbody tr th:only-of-type {\n",
              "        vertical-align: middle;\n",
              "    }\n",
              "\n",
              "    .dataframe tbody tr th {\n",
              "        vertical-align: top;\n",
              "    }\n",
              "\n",
              "    .dataframe thead th {\n",
              "        text-align: right;\n",
              "    }\n",
              "</style>\n",
              "<table border=\"1\" class=\"dataframe\">\n",
              "  <thead>\n",
              "    <tr style=\"text-align: right;\">\n",
              "      <th></th>\n",
              "      <th>Name</th>\n",
              "      <th>Gender</th>\n",
              "    </tr>\n",
              "  </thead>\n",
              "  <tbody>\n",
              "    <tr>\n",
              "      <th>1</th>\n",
              "      <td>Abisola</td>\n",
              "      <td>Female</td>\n",
              "    </tr>\n",
              "    <tr>\n",
              "      <th>2</th>\n",
              "      <td>Feyin</td>\n",
              "      <td>Female</td>\n",
              "    </tr>\n",
              "    <tr>\n",
              "      <th>3</th>\n",
              "      <td>Sogo</td>\n",
              "      <td>Male</td>\n",
              "    </tr>\n",
              "    <tr>\n",
              "      <th>4</th>\n",
              "      <td>Josh</td>\n",
              "      <td>Male</td>\n",
              "    </tr>\n",
              "    <tr>\n",
              "      <th>5</th>\n",
              "      <td>Kate</td>\n",
              "      <td>Female</td>\n",
              "    </tr>\n",
              "    <tr>\n",
              "      <th>6</th>\n",
              "      <td>Ayo</td>\n",
              "      <td>Male</td>\n",
              "    </tr>\n",
              "    <tr>\n",
              "      <th>7</th>\n",
              "      <td>Segun</td>\n",
              "      <td>Male</td>\n",
              "    </tr>\n",
              "    <tr>\n",
              "      <th>8</th>\n",
              "      <td>Ola</td>\n",
              "      <td>Male</td>\n",
              "    </tr>\n",
              "    <tr>\n",
              "      <th>9</th>\n",
              "      <td>Ife</td>\n",
              "      <td>Female</td>\n",
              "    </tr>\n",
              "    <tr>\n",
              "      <th>10</th>\n",
              "      <td>Mike</td>\n",
              "      <td>Female</td>\n",
              "    </tr>\n",
              "    <tr>\n",
              "      <th>11</th>\n",
              "      <td>Ayo</td>\n",
              "      <td>Female</td>\n",
              "    </tr>\n",
              "  </tbody>\n",
              "</table>\n",
              "</div>"
            ],
            "text/plain": [
              "       Name  Gender\n",
              "1   Abisola  Female\n",
              "2     Feyin  Female\n",
              "3      Sogo    Male\n",
              "4      Josh    Male\n",
              "5      Kate  Female\n",
              "6       Ayo    Male\n",
              "7     Segun    Male\n",
              "8       Ola    Male\n",
              "9       Ife  Female\n",
              "10     Mike  Female\n",
              "11      Ayo  Female"
            ]
          },
          "metadata": {
            "tags": []
          },
          "execution_count": 48
        }
      ]
    },
    {
      "cell_type": "markdown",
      "metadata": {
        "id": "nhZQ0PntT4mJ",
        "colab_type": "text"
      },
      "source": [
        "<h3>Accessing rows in pandas DataFrame</h3>"
      ]
    },
    {
      "cell_type": "markdown",
      "metadata": {
        "id": "cnalPUsBT4mN",
        "colab_type": "text"
      },
      "source": [
        "<div class=\"alert alert-info\">\n",
        " In the previous section, we saw how we can access specific column(s) from the DataFrame. Now, we will see how we can access specific rows of a DataFrame. To access a row from a DataFrame using the labeled index, you use the <b>loc</b> attribute along with the square brackets or the <b>iloc</b> attribute to access row using their numerical index. Let's consider some examples below</div>"
      ]
    },
    {
      "cell_type": "code",
      "metadata": {
        "id": "s-2bVPdUT4mP",
        "colab_type": "code",
        "colab": {},
        "outputId": "3da93bc5-1dae-4035-d6d8-4c54045156a1"
      },
      "source": [
        "data_frame.loc[7]"
      ],
      "execution_count": null,
      "outputs": [
        {
          "output_type": "execute_result",
          "data": {
            "text/plain": [
              "Name      Segun\n",
              "Age          13\n",
              "Gender     Male\n",
              "Name: 7, dtype: object"
            ]
          },
          "metadata": {
            "tags": []
          },
          "execution_count": 49
        }
      ]
    },
    {
      "cell_type": "code",
      "metadata": {
        "id": "z98bc2kNT4mW",
        "colab_type": "code",
        "colab": {},
        "outputId": "c020f7f0-1323-48a4-fd04-efb7eca5f0f0"
      },
      "source": [
        "data_frame.loc[3]"
      ],
      "execution_count": null,
      "outputs": [
        {
          "output_type": "execute_result",
          "data": {
            "text/plain": [
              "Name      Sogo\n",
              "Age         18\n",
              "Gender    Male\n",
              "Name: 3, dtype: object"
            ]
          },
          "metadata": {
            "tags": []
          },
          "execution_count": 50
        }
      ]
    },
    {
      "cell_type": "code",
      "metadata": {
        "id": "Ncs4JrueT4me",
        "colab_type": "code",
        "colab": {},
        "outputId": "6e02b348-9b32-4743-9bbb-171fcd6617e5"
      },
      "source": [
        "data_frame.iloc[2]"
      ],
      "execution_count": null,
      "outputs": [
        {
          "output_type": "execute_result",
          "data": {
            "text/plain": [
              "Name      Sogo\n",
              "Age         18\n",
              "Gender    Male\n",
              "Name: 3, dtype: object"
            ]
          },
          "metadata": {
            "tags": []
          },
          "execution_count": 51
        }
      ]
    },
    {
      "cell_type": "code",
      "metadata": {
        "id": "v6bYS3v3T4mk",
        "colab_type": "code",
        "colab": {},
        "outputId": "394e5c1f-2ea0-43f8-8c59-ebcfbfd784c0"
      },
      "source": [
        "data_frame.iloc[7]"
      ],
      "execution_count": null,
      "outputs": [
        {
          "output_type": "execute_result",
          "data": {
            "text/plain": [
              "Name       Ola\n",
              "Age         15\n",
              "Gender    Male\n",
              "Name: 8, dtype: object"
            ]
          },
          "metadata": {
            "tags": []
          },
          "execution_count": 52
        }
      ]
    },
    {
      "cell_type": "markdown",
      "metadata": {
        "id": "YJ9lo_HUT4my",
        "colab_type": "text"
      },
      "source": [
        "<div class=\"alert alert-info\">\n",
        "<p>You can also select a specific element of a specific row using chained square brackets. If you are familiar with Excel spreadsheet, you know if you have to accces a particular element/cell, you have to reference both its column and row number. E.g A2, B23, etc. The same way it is done in pandas except that the row and column are enclosed in square brackets.</p>\n",
        "    <p>Lets consider an example using the data frame above. Let's say we want to access \"Segun\". \"Segun\" is located in the <i>Name</i> column and at the index number <i>7</i>. Now, to access it we simply enter the command: <b>data_frame[\"Name\"][7]</b>\n",
        "    </p></div>"
      ]
    },
    {
      "cell_type": "code",
      "metadata": {
        "id": "M-h93mniT4m1",
        "colab_type": "code",
        "colab": {},
        "outputId": "ff8699f8-ae9f-464a-8d65-3eaffbce22f7"
      },
      "source": [
        "print(data_frame[\"Name\"][7])"
      ],
      "execution_count": null,
      "outputs": [
        {
          "output_type": "stream",
          "text": [
            "Segun\n"
          ],
          "name": "stdout"
        }
      ]
    },
    {
      "cell_type": "code",
      "metadata": {
        "id": "dMJ12zyST4m-",
        "colab_type": "code",
        "colab": {},
        "outputId": "a77dc5cf-62e9-4cbb-e70c-3f02c833b887"
      },
      "source": [
        "#Now, lets access Segun, Ola, and Ife\n",
        "\n",
        "print(data_frame[\"Name\"][6:9])"
      ],
      "execution_count": null,
      "outputs": [
        {
          "output_type": "stream",
          "text": [
            "7    Segun\n",
            "8      Ola\n",
            "9      Ife\n",
            "Name: Name, dtype: object\n"
          ],
          "name": "stdout"
        }
      ]
    },
    {
      "cell_type": "code",
      "metadata": {
        "id": "Gus2fN2vT4nE",
        "colab_type": "code",
        "colab": {},
        "outputId": "f1403657-3b3c-441d-ba9a-9b037148d7c7"
      },
      "source": [
        "#We can even access the Name and gender \n",
        "\n",
        "print(data_frame[[\"Name\", \"Gender\"]][6:9])"
      ],
      "execution_count": null,
      "outputs": [
        {
          "output_type": "stream",
          "text": [
            "    Name  Gender\n",
            "7  Segun    Male\n",
            "8    Ola    Male\n",
            "9    Ife  Female\n"
          ],
          "name": "stdout"
        }
      ]
    },
    {
      "cell_type": "markdown",
      "metadata": {
        "id": "FdZB_5A3T4nM",
        "colab_type": "text"
      },
      "source": [
        "<div class=\"alert alert-info\">You can also use the loc or iloc method along with the square brackets to access particular cell(s)</div>"
      ]
    },
    {
      "cell_type": "code",
      "metadata": {
        "id": "DubQ9YRMT4nN",
        "colab_type": "code",
        "colab": {},
        "outputId": "1c6d913f-e864-45a4-8dd7-ce1ed91ac3a0"
      },
      "source": [
        "data_frame[['Name', 'Gender']].loc[6]"
      ],
      "execution_count": null,
      "outputs": [
        {
          "output_type": "execute_result",
          "data": {
            "text/plain": [
              "Name       Ayo\n",
              "Gender    Male\n",
              "Name: 6, dtype: object"
            ]
          },
          "metadata": {
            "tags": []
          },
          "execution_count": 56
        }
      ]
    },
    {
      "cell_type": "code",
      "metadata": {
        "id": "QM_m92mUT4na",
        "colab_type": "code",
        "colab": {},
        "outputId": "aba6a253-5a4e-4b75-93ec-3d5fc65c3bca"
      },
      "source": [
        "data_frame[['Name', 'Gender']].loc[6:9]"
      ],
      "execution_count": null,
      "outputs": [
        {
          "output_type": "execute_result",
          "data": {
            "text/html": [
              "<div>\n",
              "<style scoped>\n",
              "    .dataframe tbody tr th:only-of-type {\n",
              "        vertical-align: middle;\n",
              "    }\n",
              "\n",
              "    .dataframe tbody tr th {\n",
              "        vertical-align: top;\n",
              "    }\n",
              "\n",
              "    .dataframe thead th {\n",
              "        text-align: right;\n",
              "    }\n",
              "</style>\n",
              "<table border=\"1\" class=\"dataframe\">\n",
              "  <thead>\n",
              "    <tr style=\"text-align: right;\">\n",
              "      <th></th>\n",
              "      <th>Name</th>\n",
              "      <th>Gender</th>\n",
              "    </tr>\n",
              "  </thead>\n",
              "  <tbody>\n",
              "    <tr>\n",
              "      <th>6</th>\n",
              "      <td>Ayo</td>\n",
              "      <td>Male</td>\n",
              "    </tr>\n",
              "    <tr>\n",
              "      <th>7</th>\n",
              "      <td>Segun</td>\n",
              "      <td>Male</td>\n",
              "    </tr>\n",
              "    <tr>\n",
              "      <th>8</th>\n",
              "      <td>Ola</td>\n",
              "      <td>Male</td>\n",
              "    </tr>\n",
              "    <tr>\n",
              "      <th>9</th>\n",
              "      <td>Ife</td>\n",
              "      <td>Female</td>\n",
              "    </tr>\n",
              "  </tbody>\n",
              "</table>\n",
              "</div>"
            ],
            "text/plain": [
              "    Name  Gender\n",
              "6    Ayo    Male\n",
              "7  Segun    Male\n",
              "8    Ola    Male\n",
              "9    Ife  Female"
            ]
          },
          "metadata": {
            "tags": []
          },
          "execution_count": 57
        }
      ]
    },
    {
      "cell_type": "code",
      "metadata": {
        "id": "PmWSC0FeT4nf",
        "colab_type": "code",
        "colab": {},
        "outputId": "4910aa5e-00db-4013-b27c-431e19bc330f"
      },
      "source": [
        "data_frame[['Name', 'Age']].loc[[1,3,5,7]]"
      ],
      "execution_count": null,
      "outputs": [
        {
          "output_type": "execute_result",
          "data": {
            "text/html": [
              "<div>\n",
              "<style scoped>\n",
              "    .dataframe tbody tr th:only-of-type {\n",
              "        vertical-align: middle;\n",
              "    }\n",
              "\n",
              "    .dataframe tbody tr th {\n",
              "        vertical-align: top;\n",
              "    }\n",
              "\n",
              "    .dataframe thead th {\n",
              "        text-align: right;\n",
              "    }\n",
              "</style>\n",
              "<table border=\"1\" class=\"dataframe\">\n",
              "  <thead>\n",
              "    <tr style=\"text-align: right;\">\n",
              "      <th></th>\n",
              "      <th>Name</th>\n",
              "      <th>Age</th>\n",
              "    </tr>\n",
              "  </thead>\n",
              "  <tbody>\n",
              "    <tr>\n",
              "      <th>1</th>\n",
              "      <td>Abisola</td>\n",
              "      <td>17</td>\n",
              "    </tr>\n",
              "    <tr>\n",
              "      <th>3</th>\n",
              "      <td>Sogo</td>\n",
              "      <td>18</td>\n",
              "    </tr>\n",
              "    <tr>\n",
              "      <th>5</th>\n",
              "      <td>Kate</td>\n",
              "      <td>17</td>\n",
              "    </tr>\n",
              "    <tr>\n",
              "      <th>7</th>\n",
              "      <td>Segun</td>\n",
              "      <td>13</td>\n",
              "    </tr>\n",
              "  </tbody>\n",
              "</table>\n",
              "</div>"
            ],
            "text/plain": [
              "      Name  Age\n",
              "1  Abisola   17\n",
              "3     Sogo   18\n",
              "5     Kate   17\n",
              "7    Segun   13"
            ]
          },
          "metadata": {
            "tags": []
          },
          "execution_count": 58
        }
      ]
    },
    {
      "cell_type": "markdown",
      "metadata": {
        "id": "r-2FKRP1T4nl",
        "colab_type": "text"
      },
      "source": [
        "<div class=\"alert alert-danger\">However, you should note that when using slicing with the chained bracket method, it uses the default numerical indexing which starts from 0.</div>"
      ]
    },
    {
      "cell_type": "markdown",
      "metadata": {
        "id": "iNDN0SbfT4no",
        "colab_type": "text"
      },
      "source": [
        "<h3>Creating and deleting columns from a data frame</h3>"
      ]
    },
    {
      "cell_type": "markdown",
      "metadata": {
        "id": "MAMO-bjqT4nu",
        "colab_type": "text"
      },
      "source": [
        "<div class=\"alert alert-info\">Just like an excel spreadsheet, you might need to add new column to the table or even remove existing column/data from the table. We will explore how this is done in the Pandas DataFrame</div>"
      ]
    },
    {
      "cell_type": "code",
      "metadata": {
        "id": "M86QUGC1T4nw",
        "colab_type": "code",
        "colab": {},
        "outputId": "6e011669-b210-42a2-d639-a595eb2eefa9"
      },
      "source": [
        "#Creating a new column with Age 2 years ago(this is year 2020)\n",
        "\n",
        "data_frame['Age in 2018'] = data_frame['Age'] - 2\n",
        "data_frame"
      ],
      "execution_count": null,
      "outputs": [
        {
          "output_type": "execute_result",
          "data": {
            "text/html": [
              "<div>\n",
              "<style scoped>\n",
              "    .dataframe tbody tr th:only-of-type {\n",
              "        vertical-align: middle;\n",
              "    }\n",
              "\n",
              "    .dataframe tbody tr th {\n",
              "        vertical-align: top;\n",
              "    }\n",
              "\n",
              "    .dataframe thead th {\n",
              "        text-align: right;\n",
              "    }\n",
              "</style>\n",
              "<table border=\"1\" class=\"dataframe\">\n",
              "  <thead>\n",
              "    <tr style=\"text-align: right;\">\n",
              "      <th></th>\n",
              "      <th>Name</th>\n",
              "      <th>Age</th>\n",
              "      <th>Gender</th>\n",
              "      <th>Age in 2018</th>\n",
              "    </tr>\n",
              "  </thead>\n",
              "  <tbody>\n",
              "    <tr>\n",
              "      <th>1</th>\n",
              "      <td>Abisola</td>\n",
              "      <td>17</td>\n",
              "      <td>Female</td>\n",
              "      <td>15</td>\n",
              "    </tr>\n",
              "    <tr>\n",
              "      <th>2</th>\n",
              "      <td>Feyin</td>\n",
              "      <td>15</td>\n",
              "      <td>Female</td>\n",
              "      <td>13</td>\n",
              "    </tr>\n",
              "    <tr>\n",
              "      <th>3</th>\n",
              "      <td>Sogo</td>\n",
              "      <td>18</td>\n",
              "      <td>Male</td>\n",
              "      <td>16</td>\n",
              "    </tr>\n",
              "    <tr>\n",
              "      <th>4</th>\n",
              "      <td>Josh</td>\n",
              "      <td>17</td>\n",
              "      <td>Male</td>\n",
              "      <td>15</td>\n",
              "    </tr>\n",
              "    <tr>\n",
              "      <th>5</th>\n",
              "      <td>Kate</td>\n",
              "      <td>17</td>\n",
              "      <td>Female</td>\n",
              "      <td>15</td>\n",
              "    </tr>\n",
              "    <tr>\n",
              "      <th>6</th>\n",
              "      <td>Ayo</td>\n",
              "      <td>16</td>\n",
              "      <td>Male</td>\n",
              "      <td>14</td>\n",
              "    </tr>\n",
              "    <tr>\n",
              "      <th>7</th>\n",
              "      <td>Segun</td>\n",
              "      <td>13</td>\n",
              "      <td>Male</td>\n",
              "      <td>11</td>\n",
              "    </tr>\n",
              "    <tr>\n",
              "      <th>8</th>\n",
              "      <td>Ola</td>\n",
              "      <td>15</td>\n",
              "      <td>Male</td>\n",
              "      <td>13</td>\n",
              "    </tr>\n",
              "    <tr>\n",
              "      <th>9</th>\n",
              "      <td>Ife</td>\n",
              "      <td>14</td>\n",
              "      <td>Female</td>\n",
              "      <td>12</td>\n",
              "    </tr>\n",
              "    <tr>\n",
              "      <th>10</th>\n",
              "      <td>Mike</td>\n",
              "      <td>15</td>\n",
              "      <td>Female</td>\n",
              "      <td>13</td>\n",
              "    </tr>\n",
              "    <tr>\n",
              "      <th>11</th>\n",
              "      <td>Ayo</td>\n",
              "      <td>16</td>\n",
              "      <td>Female</td>\n",
              "      <td>14</td>\n",
              "    </tr>\n",
              "  </tbody>\n",
              "</table>\n",
              "</div>"
            ],
            "text/plain": [
              "       Name  Age  Gender  Age in 2018\n",
              "1   Abisola   17  Female           15\n",
              "2     Feyin   15  Female           13\n",
              "3      Sogo   18    Male           16\n",
              "4      Josh   17    Male           15\n",
              "5      Kate   17  Female           15\n",
              "6       Ayo   16    Male           14\n",
              "7     Segun   13    Male           11\n",
              "8       Ola   15    Male           13\n",
              "9       Ife   14  Female           12\n",
              "10     Mike   15  Female           13\n",
              "11      Ayo   16  Female           14"
            ]
          },
          "metadata": {
            "tags": []
          },
          "execution_count": 59
        }
      ]
    },
    {
      "cell_type": "markdown",
      "metadata": {
        "id": "ErTEeaWkT4n1",
        "colab_type": "text"
      },
      "source": [
        "<div class=\"alert alert-info\">\n",
        "You can see how fast and easy it is to manipualte data using the Pandas DataFrame. With just one line of code, we were able to add a new coulmn to the table fill up the cells based on calculation using an existing column in the table.</div>"
      ]
    },
    {
      "cell_type": "code",
      "metadata": {
        "id": "wukCBxHvT4n5",
        "colab_type": "code",
        "colab": {},
        "outputId": "76a51a57-b352-4c75-8573-2a07c036487f"
      },
      "source": [
        "#Now, we will drop the new column that was created uisng the pd.DataFrame.drop() method\n",
        "\n",
        "\n",
        "data_frame.drop(\"Age in 2018\", axis = 1)"
      ],
      "execution_count": null,
      "outputs": [
        {
          "output_type": "execute_result",
          "data": {
            "text/html": [
              "<div>\n",
              "<style scoped>\n",
              "    .dataframe tbody tr th:only-of-type {\n",
              "        vertical-align: middle;\n",
              "    }\n",
              "\n",
              "    .dataframe tbody tr th {\n",
              "        vertical-align: top;\n",
              "    }\n",
              "\n",
              "    .dataframe thead th {\n",
              "        text-align: right;\n",
              "    }\n",
              "</style>\n",
              "<table border=\"1\" class=\"dataframe\">\n",
              "  <thead>\n",
              "    <tr style=\"text-align: right;\">\n",
              "      <th></th>\n",
              "      <th>Name</th>\n",
              "      <th>Age</th>\n",
              "      <th>Gender</th>\n",
              "    </tr>\n",
              "  </thead>\n",
              "  <tbody>\n",
              "    <tr>\n",
              "      <th>1</th>\n",
              "      <td>Abisola</td>\n",
              "      <td>17</td>\n",
              "      <td>Female</td>\n",
              "    </tr>\n",
              "    <tr>\n",
              "      <th>2</th>\n",
              "      <td>Feyin</td>\n",
              "      <td>15</td>\n",
              "      <td>Female</td>\n",
              "    </tr>\n",
              "    <tr>\n",
              "      <th>3</th>\n",
              "      <td>Sogo</td>\n",
              "      <td>18</td>\n",
              "      <td>Male</td>\n",
              "    </tr>\n",
              "    <tr>\n",
              "      <th>4</th>\n",
              "      <td>Josh</td>\n",
              "      <td>17</td>\n",
              "      <td>Male</td>\n",
              "    </tr>\n",
              "    <tr>\n",
              "      <th>5</th>\n",
              "      <td>Kate</td>\n",
              "      <td>17</td>\n",
              "      <td>Female</td>\n",
              "    </tr>\n",
              "    <tr>\n",
              "      <th>6</th>\n",
              "      <td>Ayo</td>\n",
              "      <td>16</td>\n",
              "      <td>Male</td>\n",
              "    </tr>\n",
              "    <tr>\n",
              "      <th>7</th>\n",
              "      <td>Segun</td>\n",
              "      <td>13</td>\n",
              "      <td>Male</td>\n",
              "    </tr>\n",
              "    <tr>\n",
              "      <th>8</th>\n",
              "      <td>Ola</td>\n",
              "      <td>15</td>\n",
              "      <td>Male</td>\n",
              "    </tr>\n",
              "    <tr>\n",
              "      <th>9</th>\n",
              "      <td>Ife</td>\n",
              "      <td>14</td>\n",
              "      <td>Female</td>\n",
              "    </tr>\n",
              "    <tr>\n",
              "      <th>10</th>\n",
              "      <td>Mike</td>\n",
              "      <td>15</td>\n",
              "      <td>Female</td>\n",
              "    </tr>\n",
              "    <tr>\n",
              "      <th>11</th>\n",
              "      <td>Ayo</td>\n",
              "      <td>16</td>\n",
              "      <td>Female</td>\n",
              "    </tr>\n",
              "  </tbody>\n",
              "</table>\n",
              "</div>"
            ],
            "text/plain": [
              "       Name  Age  Gender\n",
              "1   Abisola   17  Female\n",
              "2     Feyin   15  Female\n",
              "3      Sogo   18    Male\n",
              "4      Josh   17    Male\n",
              "5      Kate   17  Female\n",
              "6       Ayo   16    Male\n",
              "7     Segun   13    Male\n",
              "8       Ola   15    Male\n",
              "9       Ife   14  Female\n",
              "10     Mike   15  Female\n",
              "11      Ayo   16  Female"
            ]
          },
          "metadata": {
            "tags": []
          },
          "execution_count": 60
        }
      ]
    },
    {
      "cell_type": "markdown",
      "metadata": {
        "id": "PjlLVUZET4oA",
        "colab_type": "text"
      },
      "source": [
        "<div class=\"alert alert-info\">\n",
        "If you  want to drop along the row, you specify axis = 0 or leave it unspecified since the value is 0 by default</div>"
      ]
    },
    {
      "cell_type": "code",
      "metadata": {
        "id": "YMp2c6i1T4oB",
        "colab_type": "code",
        "colab": {},
        "outputId": "536c3daf-db4d-400e-c6f7-ca6f15b83ccf"
      },
      "source": [
        "#Let's drop row 9\n",
        "\n",
        "data_frame.drop(9)"
      ],
      "execution_count": null,
      "outputs": [
        {
          "output_type": "execute_result",
          "data": {
            "text/html": [
              "<div>\n",
              "<style scoped>\n",
              "    .dataframe tbody tr th:only-of-type {\n",
              "        vertical-align: middle;\n",
              "    }\n",
              "\n",
              "    .dataframe tbody tr th {\n",
              "        vertical-align: top;\n",
              "    }\n",
              "\n",
              "    .dataframe thead th {\n",
              "        text-align: right;\n",
              "    }\n",
              "</style>\n",
              "<table border=\"1\" class=\"dataframe\">\n",
              "  <thead>\n",
              "    <tr style=\"text-align: right;\">\n",
              "      <th></th>\n",
              "      <th>Name</th>\n",
              "      <th>Age</th>\n",
              "      <th>Gender</th>\n",
              "      <th>Age in 2018</th>\n",
              "    </tr>\n",
              "  </thead>\n",
              "  <tbody>\n",
              "    <tr>\n",
              "      <th>1</th>\n",
              "      <td>Abisola</td>\n",
              "      <td>17</td>\n",
              "      <td>Female</td>\n",
              "      <td>15</td>\n",
              "    </tr>\n",
              "    <tr>\n",
              "      <th>2</th>\n",
              "      <td>Feyin</td>\n",
              "      <td>15</td>\n",
              "      <td>Female</td>\n",
              "      <td>13</td>\n",
              "    </tr>\n",
              "    <tr>\n",
              "      <th>3</th>\n",
              "      <td>Sogo</td>\n",
              "      <td>18</td>\n",
              "      <td>Male</td>\n",
              "      <td>16</td>\n",
              "    </tr>\n",
              "    <tr>\n",
              "      <th>4</th>\n",
              "      <td>Josh</td>\n",
              "      <td>17</td>\n",
              "      <td>Male</td>\n",
              "      <td>15</td>\n",
              "    </tr>\n",
              "    <tr>\n",
              "      <th>5</th>\n",
              "      <td>Kate</td>\n",
              "      <td>17</td>\n",
              "      <td>Female</td>\n",
              "      <td>15</td>\n",
              "    </tr>\n",
              "    <tr>\n",
              "      <th>6</th>\n",
              "      <td>Ayo</td>\n",
              "      <td>16</td>\n",
              "      <td>Male</td>\n",
              "      <td>14</td>\n",
              "    </tr>\n",
              "    <tr>\n",
              "      <th>7</th>\n",
              "      <td>Segun</td>\n",
              "      <td>13</td>\n",
              "      <td>Male</td>\n",
              "      <td>11</td>\n",
              "    </tr>\n",
              "    <tr>\n",
              "      <th>8</th>\n",
              "      <td>Ola</td>\n",
              "      <td>15</td>\n",
              "      <td>Male</td>\n",
              "      <td>13</td>\n",
              "    </tr>\n",
              "    <tr>\n",
              "      <th>10</th>\n",
              "      <td>Mike</td>\n",
              "      <td>15</td>\n",
              "      <td>Female</td>\n",
              "      <td>13</td>\n",
              "    </tr>\n",
              "    <tr>\n",
              "      <th>11</th>\n",
              "      <td>Ayo</td>\n",
              "      <td>16</td>\n",
              "      <td>Female</td>\n",
              "      <td>14</td>\n",
              "    </tr>\n",
              "  </tbody>\n",
              "</table>\n",
              "</div>"
            ],
            "text/plain": [
              "       Name  Age  Gender  Age in 2018\n",
              "1   Abisola   17  Female           15\n",
              "2     Feyin   15  Female           13\n",
              "3      Sogo   18    Male           16\n",
              "4      Josh   17    Male           15\n",
              "5      Kate   17  Female           15\n",
              "6       Ayo   16    Male           14\n",
              "7     Segun   13    Male           11\n",
              "8       Ola   15    Male           13\n",
              "10     Mike   15  Female           13\n",
              "11      Ayo   16  Female           14"
            ]
          },
          "metadata": {
            "tags": []
          },
          "execution_count": 61
        }
      ]
    },
    {
      "cell_type": "code",
      "metadata": {
        "id": "qHso5vZYT4oH",
        "colab_type": "code",
        "colab": {},
        "outputId": "a931271c-b487-48f6-f890-cb451e40064b"
      },
      "source": [
        "data_frame"
      ],
      "execution_count": null,
      "outputs": [
        {
          "output_type": "execute_result",
          "data": {
            "text/html": [
              "<div>\n",
              "<style scoped>\n",
              "    .dataframe tbody tr th:only-of-type {\n",
              "        vertical-align: middle;\n",
              "    }\n",
              "\n",
              "    .dataframe tbody tr th {\n",
              "        vertical-align: top;\n",
              "    }\n",
              "\n",
              "    .dataframe thead th {\n",
              "        text-align: right;\n",
              "    }\n",
              "</style>\n",
              "<table border=\"1\" class=\"dataframe\">\n",
              "  <thead>\n",
              "    <tr style=\"text-align: right;\">\n",
              "      <th></th>\n",
              "      <th>Name</th>\n",
              "      <th>Age</th>\n",
              "      <th>Gender</th>\n",
              "      <th>Age in 2018</th>\n",
              "    </tr>\n",
              "  </thead>\n",
              "  <tbody>\n",
              "    <tr>\n",
              "      <th>1</th>\n",
              "      <td>Abisola</td>\n",
              "      <td>17</td>\n",
              "      <td>Female</td>\n",
              "      <td>15</td>\n",
              "    </tr>\n",
              "    <tr>\n",
              "      <th>2</th>\n",
              "      <td>Feyin</td>\n",
              "      <td>15</td>\n",
              "      <td>Female</td>\n",
              "      <td>13</td>\n",
              "    </tr>\n",
              "    <tr>\n",
              "      <th>3</th>\n",
              "      <td>Sogo</td>\n",
              "      <td>18</td>\n",
              "      <td>Male</td>\n",
              "      <td>16</td>\n",
              "    </tr>\n",
              "    <tr>\n",
              "      <th>4</th>\n",
              "      <td>Josh</td>\n",
              "      <td>17</td>\n",
              "      <td>Male</td>\n",
              "      <td>15</td>\n",
              "    </tr>\n",
              "    <tr>\n",
              "      <th>5</th>\n",
              "      <td>Kate</td>\n",
              "      <td>17</td>\n",
              "      <td>Female</td>\n",
              "      <td>15</td>\n",
              "    </tr>\n",
              "    <tr>\n",
              "      <th>6</th>\n",
              "      <td>Ayo</td>\n",
              "      <td>16</td>\n",
              "      <td>Male</td>\n",
              "      <td>14</td>\n",
              "    </tr>\n",
              "    <tr>\n",
              "      <th>7</th>\n",
              "      <td>Segun</td>\n",
              "      <td>13</td>\n",
              "      <td>Male</td>\n",
              "      <td>11</td>\n",
              "    </tr>\n",
              "    <tr>\n",
              "      <th>8</th>\n",
              "      <td>Ola</td>\n",
              "      <td>15</td>\n",
              "      <td>Male</td>\n",
              "      <td>13</td>\n",
              "    </tr>\n",
              "    <tr>\n",
              "      <th>9</th>\n",
              "      <td>Ife</td>\n",
              "      <td>14</td>\n",
              "      <td>Female</td>\n",
              "      <td>12</td>\n",
              "    </tr>\n",
              "    <tr>\n",
              "      <th>10</th>\n",
              "      <td>Mike</td>\n",
              "      <td>15</td>\n",
              "      <td>Female</td>\n",
              "      <td>13</td>\n",
              "    </tr>\n",
              "    <tr>\n",
              "      <th>11</th>\n",
              "      <td>Ayo</td>\n",
              "      <td>16</td>\n",
              "      <td>Female</td>\n",
              "      <td>14</td>\n",
              "    </tr>\n",
              "  </tbody>\n",
              "</table>\n",
              "</div>"
            ],
            "text/plain": [
              "       Name  Age  Gender  Age in 2018\n",
              "1   Abisola   17  Female           15\n",
              "2     Feyin   15  Female           13\n",
              "3      Sogo   18    Male           16\n",
              "4      Josh   17    Male           15\n",
              "5      Kate   17  Female           15\n",
              "6       Ayo   16    Male           14\n",
              "7     Segun   13    Male           11\n",
              "8       Ola   15    Male           13\n",
              "9       Ife   14  Female           12\n",
              "10     Mike   15  Female           13\n",
              "11      Ayo   16  Female           14"
            ]
          },
          "metadata": {
            "tags": []
          },
          "execution_count": 62
        }
      ]
    },
    {
      "cell_type": "markdown",
      "metadata": {
        "id": "C1yhV0cgT4oO",
        "colab_type": "text"
      },
      "source": [
        "<div class=\"alert alert-info\"><p>However, you should note that the drop method does not modify the original data frame. Just like you can see in the output above, when we printed the original data frmae, it showed all the elements as it was in the original data frame despite the fact that we have dropped some rows and column. This is because pandas DataFrame do not overwrite data by default so as to prevent you from accidentally deleting data. </p>\n",
        "    \n",
        "<p>Automatically overwriting the content of the DataFrame can be achieved  in two ways: \n",
        "    <li>By passing the argument <b>inplace=True</b></li>\n",
        "    <li>Using an assignment operator that manually overwrites the existing content of the data frame</li></p></div>"
      ]
    },
    {
      "cell_type": "code",
      "metadata": {
        "id": "bkXfRGilT4oO",
        "colab_type": "code",
        "colab": {}
      },
      "source": [
        "data_frame.drop(\"Age in 2018\", axis = 1, inplace = True)"
      ],
      "execution_count": null,
      "outputs": []
    },
    {
      "cell_type": "code",
      "metadata": {
        "id": "q55kFAVgT4oU",
        "colab_type": "code",
        "colab": {},
        "outputId": "5f929a12-cf3f-4748-9a69-914065a46236"
      },
      "source": [
        "data_frame"
      ],
      "execution_count": null,
      "outputs": [
        {
          "output_type": "execute_result",
          "data": {
            "text/html": [
              "<div>\n",
              "<style scoped>\n",
              "    .dataframe tbody tr th:only-of-type {\n",
              "        vertical-align: middle;\n",
              "    }\n",
              "\n",
              "    .dataframe tbody tr th {\n",
              "        vertical-align: top;\n",
              "    }\n",
              "\n",
              "    .dataframe thead th {\n",
              "        text-align: right;\n",
              "    }\n",
              "</style>\n",
              "<table border=\"1\" class=\"dataframe\">\n",
              "  <thead>\n",
              "    <tr style=\"text-align: right;\">\n",
              "      <th></th>\n",
              "      <th>Name</th>\n",
              "      <th>Age</th>\n",
              "      <th>Gender</th>\n",
              "    </tr>\n",
              "  </thead>\n",
              "  <tbody>\n",
              "    <tr>\n",
              "      <th>1</th>\n",
              "      <td>Abisola</td>\n",
              "      <td>17</td>\n",
              "      <td>Female</td>\n",
              "    </tr>\n",
              "    <tr>\n",
              "      <th>2</th>\n",
              "      <td>Feyin</td>\n",
              "      <td>15</td>\n",
              "      <td>Female</td>\n",
              "    </tr>\n",
              "    <tr>\n",
              "      <th>3</th>\n",
              "      <td>Sogo</td>\n",
              "      <td>18</td>\n",
              "      <td>Male</td>\n",
              "    </tr>\n",
              "    <tr>\n",
              "      <th>4</th>\n",
              "      <td>Josh</td>\n",
              "      <td>17</td>\n",
              "      <td>Male</td>\n",
              "    </tr>\n",
              "    <tr>\n",
              "      <th>5</th>\n",
              "      <td>Kate</td>\n",
              "      <td>17</td>\n",
              "      <td>Female</td>\n",
              "    </tr>\n",
              "    <tr>\n",
              "      <th>6</th>\n",
              "      <td>Ayo</td>\n",
              "      <td>16</td>\n",
              "      <td>Male</td>\n",
              "    </tr>\n",
              "    <tr>\n",
              "      <th>7</th>\n",
              "      <td>Segun</td>\n",
              "      <td>13</td>\n",
              "      <td>Male</td>\n",
              "    </tr>\n",
              "    <tr>\n",
              "      <th>8</th>\n",
              "      <td>Ola</td>\n",
              "      <td>15</td>\n",
              "      <td>Male</td>\n",
              "    </tr>\n",
              "    <tr>\n",
              "      <th>9</th>\n",
              "      <td>Ife</td>\n",
              "      <td>14</td>\n",
              "      <td>Female</td>\n",
              "    </tr>\n",
              "    <tr>\n",
              "      <th>10</th>\n",
              "      <td>Mike</td>\n",
              "      <td>15</td>\n",
              "      <td>Female</td>\n",
              "    </tr>\n",
              "    <tr>\n",
              "      <th>11</th>\n",
              "      <td>Ayo</td>\n",
              "      <td>16</td>\n",
              "      <td>Female</td>\n",
              "    </tr>\n",
              "  </tbody>\n",
              "</table>\n",
              "</div>"
            ],
            "text/plain": [
              "       Name  Age  Gender\n",
              "1   Abisola   17  Female\n",
              "2     Feyin   15  Female\n",
              "3      Sogo   18    Male\n",
              "4      Josh   17    Male\n",
              "5      Kate   17  Female\n",
              "6       Ayo   16    Male\n",
              "7     Segun   13    Male\n",
              "8       Ola   15    Male\n",
              "9       Ife   14  Female\n",
              "10     Mike   15  Female\n",
              "11      Ayo   16  Female"
            ]
          },
          "metadata": {
            "tags": []
          },
          "execution_count": 64
        }
      ]
    },
    {
      "cell_type": "code",
      "metadata": {
        "id": "3Ae6AHKhT4ob",
        "colab_type": "code",
        "colab": {}
      },
      "source": [
        "data_frame = data_frame.drop(9)"
      ],
      "execution_count": null,
      "outputs": []
    },
    {
      "cell_type": "code",
      "metadata": {
        "id": "bKAYZOvoT4oh",
        "colab_type": "code",
        "colab": {},
        "outputId": "33c83ec1-163a-4dbd-9621-bb05811e34f1"
      },
      "source": [
        "data_frame"
      ],
      "execution_count": null,
      "outputs": [
        {
          "output_type": "execute_result",
          "data": {
            "text/html": [
              "<div>\n",
              "<style scoped>\n",
              "    .dataframe tbody tr th:only-of-type {\n",
              "        vertical-align: middle;\n",
              "    }\n",
              "\n",
              "    .dataframe tbody tr th {\n",
              "        vertical-align: top;\n",
              "    }\n",
              "\n",
              "    .dataframe thead th {\n",
              "        text-align: right;\n",
              "    }\n",
              "</style>\n",
              "<table border=\"1\" class=\"dataframe\">\n",
              "  <thead>\n",
              "    <tr style=\"text-align: right;\">\n",
              "      <th></th>\n",
              "      <th>Name</th>\n",
              "      <th>Age</th>\n",
              "      <th>Gender</th>\n",
              "    </tr>\n",
              "  </thead>\n",
              "  <tbody>\n",
              "    <tr>\n",
              "      <th>1</th>\n",
              "      <td>Abisola</td>\n",
              "      <td>17</td>\n",
              "      <td>Female</td>\n",
              "    </tr>\n",
              "    <tr>\n",
              "      <th>2</th>\n",
              "      <td>Feyin</td>\n",
              "      <td>15</td>\n",
              "      <td>Female</td>\n",
              "    </tr>\n",
              "    <tr>\n",
              "      <th>3</th>\n",
              "      <td>Sogo</td>\n",
              "      <td>18</td>\n",
              "      <td>Male</td>\n",
              "    </tr>\n",
              "    <tr>\n",
              "      <th>4</th>\n",
              "      <td>Josh</td>\n",
              "      <td>17</td>\n",
              "      <td>Male</td>\n",
              "    </tr>\n",
              "    <tr>\n",
              "      <th>5</th>\n",
              "      <td>Kate</td>\n",
              "      <td>17</td>\n",
              "      <td>Female</td>\n",
              "    </tr>\n",
              "    <tr>\n",
              "      <th>6</th>\n",
              "      <td>Ayo</td>\n",
              "      <td>16</td>\n",
              "      <td>Male</td>\n",
              "    </tr>\n",
              "    <tr>\n",
              "      <th>7</th>\n",
              "      <td>Segun</td>\n",
              "      <td>13</td>\n",
              "      <td>Male</td>\n",
              "    </tr>\n",
              "    <tr>\n",
              "      <th>8</th>\n",
              "      <td>Ola</td>\n",
              "      <td>15</td>\n",
              "      <td>Male</td>\n",
              "    </tr>\n",
              "    <tr>\n",
              "      <th>10</th>\n",
              "      <td>Mike</td>\n",
              "      <td>15</td>\n",
              "      <td>Female</td>\n",
              "    </tr>\n",
              "    <tr>\n",
              "      <th>11</th>\n",
              "      <td>Ayo</td>\n",
              "      <td>16</td>\n",
              "      <td>Female</td>\n",
              "    </tr>\n",
              "  </tbody>\n",
              "</table>\n",
              "</div>"
            ],
            "text/plain": [
              "       Name  Age  Gender\n",
              "1   Abisola   17  Female\n",
              "2     Feyin   15  Female\n",
              "3      Sogo   18    Male\n",
              "4      Josh   17    Male\n",
              "5      Kate   17  Female\n",
              "6       Ayo   16    Male\n",
              "7     Segun   13    Male\n",
              "8       Ola   15    Male\n",
              "10     Mike   15  Female\n",
              "11      Ayo   16  Female"
            ]
          },
          "metadata": {
            "tags": []
          },
          "execution_count": 66
        }
      ]
    },
    {
      "cell_type": "markdown",
      "metadata": {
        "id": "U3h6m3WET4on",
        "colab_type": "text"
      },
      "source": [
        "<h3>Filtering in Pandas DataFrame</h3>"
      ]
    },
    {
      "cell_type": "markdown",
      "metadata": {
        "id": "IhS4ijDrT4oo",
        "colab_type": "text"
      },
      "source": [
        "<div class=\"alert alert-info\">\n",
        "\n",
        "<p>Pandas also allows us to select rows or columns based on some condition. Remember in NumPy, this is done using a boolean list. The same applies to Pandas DataFrame with a slight difference</p>\n",
        "<p>From our DataFrame, we want only the data that have age less than or equal to 14. Let's see how this is done below.</p></div>"
      ]
    },
    {
      "cell_type": "code",
      "metadata": {
        "id": "5GBidroOT4op",
        "colab_type": "code",
        "colab": {},
        "outputId": "1cd8b955-fa28-42a4-e7b3-879897e8c888"
      },
      "source": [
        "data_frame[\"Age\"] <= 14"
      ],
      "execution_count": null,
      "outputs": [
        {
          "output_type": "execute_result",
          "data": {
            "text/plain": [
              "1     False\n",
              "2     False\n",
              "3     False\n",
              "4     False\n",
              "5     False\n",
              "6     False\n",
              "7      True\n",
              "8     False\n",
              "10    False\n",
              "11    False\n",
              "Name: Age, dtype: bool"
            ]
          },
          "metadata": {
            "tags": []
          },
          "execution_count": 67
        }
      ]
    },
    {
      "cell_type": "markdown",
      "metadata": {
        "id": "xWXj4r7iT4ou",
        "colab_type": "text"
      },
      "source": [
        "<div class=\"alert alert-info\">\n",
        "\n",
        "<p>The above command retruned a boolean list. If you recall in NumPy, we had to manually generate this boolean list uisng if/esle statements. Now, we will use the boolean list to get the actual data as shown below</p></div>"
      ]
    },
    {
      "cell_type": "code",
      "metadata": {
        "id": "DoEnVshWT4ov",
        "colab_type": "code",
        "colab": {},
        "outputId": "49a5c4b9-7733-4344-854c-d16045de49d9"
      },
      "source": [
        "data_frame[data_frame[\"Age\"] <= 14]"
      ],
      "execution_count": null,
      "outputs": [
        {
          "output_type": "execute_result",
          "data": {
            "text/html": [
              "<div>\n",
              "<style scoped>\n",
              "    .dataframe tbody tr th:only-of-type {\n",
              "        vertical-align: middle;\n",
              "    }\n",
              "\n",
              "    .dataframe tbody tr th {\n",
              "        vertical-align: top;\n",
              "    }\n",
              "\n",
              "    .dataframe thead th {\n",
              "        text-align: right;\n",
              "    }\n",
              "</style>\n",
              "<table border=\"1\" class=\"dataframe\">\n",
              "  <thead>\n",
              "    <tr style=\"text-align: right;\">\n",
              "      <th></th>\n",
              "      <th>Name</th>\n",
              "      <th>Age</th>\n",
              "      <th>Gender</th>\n",
              "    </tr>\n",
              "  </thead>\n",
              "  <tbody>\n",
              "    <tr>\n",
              "      <th>7</th>\n",
              "      <td>Segun</td>\n",
              "      <td>13</td>\n",
              "      <td>Male</td>\n",
              "    </tr>\n",
              "  </tbody>\n",
              "</table>\n",
              "</div>"
            ],
            "text/plain": [
              "    Name  Age Gender\n",
              "7  Segun   13   Male"
            ]
          },
          "metadata": {
            "tags": []
          },
          "execution_count": 68
        }
      ]
    },
    {
      "cell_type": "code",
      "metadata": {
        "id": "LsUXizMJT4o0",
        "colab_type": "code",
        "colab": {},
        "outputId": "fb51d928-0604-41c8-f1fc-5719da8b1a48"
      },
      "source": [
        "#Let's select only columns where gender is female\n",
        "\n",
        "data_frame[data_frame[\"Gender\"] == \"Female\"]"
      ],
      "execution_count": null,
      "outputs": [
        {
          "output_type": "execute_result",
          "data": {
            "text/html": [
              "<div>\n",
              "<style scoped>\n",
              "    .dataframe tbody tr th:only-of-type {\n",
              "        vertical-align: middle;\n",
              "    }\n",
              "\n",
              "    .dataframe tbody tr th {\n",
              "        vertical-align: top;\n",
              "    }\n",
              "\n",
              "    .dataframe thead th {\n",
              "        text-align: right;\n",
              "    }\n",
              "</style>\n",
              "<table border=\"1\" class=\"dataframe\">\n",
              "  <thead>\n",
              "    <tr style=\"text-align: right;\">\n",
              "      <th></th>\n",
              "      <th>Name</th>\n",
              "      <th>Age</th>\n",
              "      <th>Gender</th>\n",
              "    </tr>\n",
              "  </thead>\n",
              "  <tbody>\n",
              "    <tr>\n",
              "      <th>1</th>\n",
              "      <td>Abisola</td>\n",
              "      <td>17</td>\n",
              "      <td>Female</td>\n",
              "    </tr>\n",
              "    <tr>\n",
              "      <th>2</th>\n",
              "      <td>Feyin</td>\n",
              "      <td>15</td>\n",
              "      <td>Female</td>\n",
              "    </tr>\n",
              "    <tr>\n",
              "      <th>5</th>\n",
              "      <td>Kate</td>\n",
              "      <td>17</td>\n",
              "      <td>Female</td>\n",
              "    </tr>\n",
              "    <tr>\n",
              "      <th>10</th>\n",
              "      <td>Mike</td>\n",
              "      <td>15</td>\n",
              "      <td>Female</td>\n",
              "    </tr>\n",
              "    <tr>\n",
              "      <th>11</th>\n",
              "      <td>Ayo</td>\n",
              "      <td>16</td>\n",
              "      <td>Female</td>\n",
              "    </tr>\n",
              "  </tbody>\n",
              "</table>\n",
              "</div>"
            ],
            "text/plain": [
              "       Name  Age  Gender\n",
              "1   Abisola   17  Female\n",
              "2     Feyin   15  Female\n",
              "5      Kate   17  Female\n",
              "10     Mike   15  Female\n",
              "11      Ayo   16  Female"
            ]
          },
          "metadata": {
            "tags": []
          },
          "execution_count": 69
        }
      ]
    },
    {
      "cell_type": "markdown",
      "metadata": {
        "id": "SdipluNuT4o4",
        "colab_type": "text"
      },
      "source": [
        "<div class=\"alert alert-info\">\n",
        "We can also use multiple conditions to filter our data uisng the <b>\"&\"</b> operator.\n",
        "<p>Note: Using the Python's 'and' operator will not work</div>"
      ]
    },
    {
      "cell_type": "code",
      "metadata": {
        "id": "EuWFnWKrT4o5",
        "colab_type": "code",
        "colab": {},
        "outputId": "6d2e8db5-40cc-4173-ad0d-a712ad476ce6"
      },
      "source": [
        "data_frame[(data_frame[\"Gender\"] == \"Female\") & (data_frame[\"Age\"] >= 16)]"
      ],
      "execution_count": null,
      "outputs": [
        {
          "output_type": "execute_result",
          "data": {
            "text/html": [
              "<div>\n",
              "<style scoped>\n",
              "    .dataframe tbody tr th:only-of-type {\n",
              "        vertical-align: middle;\n",
              "    }\n",
              "\n",
              "    .dataframe tbody tr th {\n",
              "        vertical-align: top;\n",
              "    }\n",
              "\n",
              "    .dataframe thead th {\n",
              "        text-align: right;\n",
              "    }\n",
              "</style>\n",
              "<table border=\"1\" class=\"dataframe\">\n",
              "  <thead>\n",
              "    <tr style=\"text-align: right;\">\n",
              "      <th></th>\n",
              "      <th>Name</th>\n",
              "      <th>Age</th>\n",
              "      <th>Gender</th>\n",
              "    </tr>\n",
              "  </thead>\n",
              "  <tbody>\n",
              "    <tr>\n",
              "      <th>1</th>\n",
              "      <td>Abisola</td>\n",
              "      <td>17</td>\n",
              "      <td>Female</td>\n",
              "    </tr>\n",
              "    <tr>\n",
              "      <th>5</th>\n",
              "      <td>Kate</td>\n",
              "      <td>17</td>\n",
              "      <td>Female</td>\n",
              "    </tr>\n",
              "    <tr>\n",
              "      <th>11</th>\n",
              "      <td>Ayo</td>\n",
              "      <td>16</td>\n",
              "      <td>Female</td>\n",
              "    </tr>\n",
              "  </tbody>\n",
              "</table>\n",
              "</div>"
            ],
            "text/plain": [
              "       Name  Age  Gender\n",
              "1   Abisola   17  Female\n",
              "5      Kate   17  Female\n",
              "11      Ayo   16  Female"
            ]
          },
          "metadata": {
            "tags": []
          },
          "execution_count": 70
        }
      ]
    },
    {
      "cell_type": "markdown",
      "metadata": {
        "id": "p9H7nfaqT4pD",
        "colab_type": "text"
      },
      "source": [
        "<h3>Data Cleaning with Pandas- Dealing with missing data</h3>"
      ]
    },
    {
      "cell_type": "markdown",
      "metadata": {
        "id": "piQPcHpUT4pE",
        "colab_type": "text"
      },
      "source": [
        "<div class=\"alert alert-info\">\n",
        "The data sets we will usually encounter in the real world is not usually perfect for analysis. Hence, it will require some cleaning before we can use it. One of the common issues encountered with real world datasets is 'missing data' where we have some cells without data. Having missing data can affect our analysis. So, how then do we deal with missing data? We would explore that in this session. </div>"
      ]
    },
    {
      "cell_type": "markdown",
      "metadata": {
        "id": "Xl5KJTZnT4pF",
        "colab_type": "text"
      },
      "source": [
        "<h4>Checking for missing data</h4>"
      ]
    },
    {
      "cell_type": "markdown",
      "metadata": {
        "id": "w77NCzTXT4pG",
        "colab_type": "text"
      },
      "source": [
        "<div class=\"alert alert-info\">\n",
        "    <p>We use the <b>isnull()</b> attribute to check for missing data in our DataFrame. The DataFrame will return 'True' if a particular cell has missing data. </p>\n",
        "    <p> You can also use the <b>isnull().sum()</b> to give you the total number of missing values in each column of the DataFrame.</p>\n",
        "    </div>"
      ]
    },
    {
      "cell_type": "code",
      "metadata": {
        "id": "SaAs1nPET4pH",
        "colab_type": "code",
        "colab": {},
        "outputId": "39ffe0b2-ebb4-4efd-b72b-8849d41e67cd"
      },
      "source": [
        "data_frame.isnull()"
      ],
      "execution_count": null,
      "outputs": [
        {
          "output_type": "execute_result",
          "data": {
            "text/html": [
              "<div>\n",
              "<style scoped>\n",
              "    .dataframe tbody tr th:only-of-type {\n",
              "        vertical-align: middle;\n",
              "    }\n",
              "\n",
              "    .dataframe tbody tr th {\n",
              "        vertical-align: top;\n",
              "    }\n",
              "\n",
              "    .dataframe thead th {\n",
              "        text-align: right;\n",
              "    }\n",
              "</style>\n",
              "<table border=\"1\" class=\"dataframe\">\n",
              "  <thead>\n",
              "    <tr style=\"text-align: right;\">\n",
              "      <th></th>\n",
              "      <th>Name</th>\n",
              "      <th>Age</th>\n",
              "      <th>Gender</th>\n",
              "    </tr>\n",
              "  </thead>\n",
              "  <tbody>\n",
              "    <tr>\n",
              "      <th>1</th>\n",
              "      <td>False</td>\n",
              "      <td>False</td>\n",
              "      <td>False</td>\n",
              "    </tr>\n",
              "    <tr>\n",
              "      <th>2</th>\n",
              "      <td>False</td>\n",
              "      <td>False</td>\n",
              "      <td>False</td>\n",
              "    </tr>\n",
              "    <tr>\n",
              "      <th>3</th>\n",
              "      <td>False</td>\n",
              "      <td>False</td>\n",
              "      <td>False</td>\n",
              "    </tr>\n",
              "    <tr>\n",
              "      <th>4</th>\n",
              "      <td>False</td>\n",
              "      <td>False</td>\n",
              "      <td>False</td>\n",
              "    </tr>\n",
              "    <tr>\n",
              "      <th>5</th>\n",
              "      <td>False</td>\n",
              "      <td>False</td>\n",
              "      <td>False</td>\n",
              "    </tr>\n",
              "    <tr>\n",
              "      <th>6</th>\n",
              "      <td>False</td>\n",
              "      <td>False</td>\n",
              "      <td>False</td>\n",
              "    </tr>\n",
              "    <tr>\n",
              "      <th>7</th>\n",
              "      <td>False</td>\n",
              "      <td>False</td>\n",
              "      <td>False</td>\n",
              "    </tr>\n",
              "    <tr>\n",
              "      <th>8</th>\n",
              "      <td>False</td>\n",
              "      <td>False</td>\n",
              "      <td>False</td>\n",
              "    </tr>\n",
              "    <tr>\n",
              "      <th>10</th>\n",
              "      <td>False</td>\n",
              "      <td>False</td>\n",
              "      <td>False</td>\n",
              "    </tr>\n",
              "    <tr>\n",
              "      <th>11</th>\n",
              "      <td>False</td>\n",
              "      <td>False</td>\n",
              "      <td>False</td>\n",
              "    </tr>\n",
              "  </tbody>\n",
              "</table>\n",
              "</div>"
            ],
            "text/plain": [
              "     Name    Age  Gender\n",
              "1   False  False   False\n",
              "2   False  False   False\n",
              "3   False  False   False\n",
              "4   False  False   False\n",
              "5   False  False   False\n",
              "6   False  False   False\n",
              "7   False  False   False\n",
              "8   False  False   False\n",
              "10  False  False   False\n",
              "11  False  False   False"
            ]
          },
          "metadata": {
            "tags": []
          },
          "execution_count": 71
        }
      ]
    },
    {
      "cell_type": "markdown",
      "metadata": {
        "id": "JolFAVEmT4pR",
        "colab_type": "text"
      },
      "source": [
        "<div class=\"alert alert-info\">\n",
        "    You can see the output above is just as expected since there are no missing value in our data frame. Now, we will manually add missing values to the DataFrame using the 'np.nan' expression</div>"
      ]
    },
    {
      "cell_type": "code",
      "metadata": {
        "id": "O4CXAzYTT4pS",
        "colab_type": "code",
        "colab": {}
      },
      "source": [
        "data_frame['Age'].loc[10] =np.nan\n",
        "data_frame['Gender'].loc[10] =np.nan\n",
        "data_frame['Gender'].loc[1] =np.nan\n",
        "data_frame['Gender'].loc[3] =np.nan"
      ],
      "execution_count": null,
      "outputs": []
    },
    {
      "cell_type": "code",
      "metadata": {
        "id": "m0rOU4l9T4pX",
        "colab_type": "code",
        "colab": {},
        "outputId": "a7fee837-56b9-46d9-efb0-cd10154810c9"
      },
      "source": [
        "data_frame"
      ],
      "execution_count": null,
      "outputs": [
        {
          "output_type": "execute_result",
          "data": {
            "text/html": [
              "<div>\n",
              "<style scoped>\n",
              "    .dataframe tbody tr th:only-of-type {\n",
              "        vertical-align: middle;\n",
              "    }\n",
              "\n",
              "    .dataframe tbody tr th {\n",
              "        vertical-align: top;\n",
              "    }\n",
              "\n",
              "    .dataframe thead th {\n",
              "        text-align: right;\n",
              "    }\n",
              "</style>\n",
              "<table border=\"1\" class=\"dataframe\">\n",
              "  <thead>\n",
              "    <tr style=\"text-align: right;\">\n",
              "      <th></th>\n",
              "      <th>Name</th>\n",
              "      <th>Age</th>\n",
              "      <th>Gender</th>\n",
              "    </tr>\n",
              "  </thead>\n",
              "  <tbody>\n",
              "    <tr>\n",
              "      <th>1</th>\n",
              "      <td>Abisola</td>\n",
              "      <td>17.0</td>\n",
              "      <td>NaN</td>\n",
              "    </tr>\n",
              "    <tr>\n",
              "      <th>2</th>\n",
              "      <td>Feyin</td>\n",
              "      <td>15.0</td>\n",
              "      <td>Female</td>\n",
              "    </tr>\n",
              "    <tr>\n",
              "      <th>3</th>\n",
              "      <td>Sogo</td>\n",
              "      <td>18.0</td>\n",
              "      <td>NaN</td>\n",
              "    </tr>\n",
              "    <tr>\n",
              "      <th>4</th>\n",
              "      <td>Josh</td>\n",
              "      <td>17.0</td>\n",
              "      <td>Male</td>\n",
              "    </tr>\n",
              "    <tr>\n",
              "      <th>5</th>\n",
              "      <td>Kate</td>\n",
              "      <td>17.0</td>\n",
              "      <td>Female</td>\n",
              "    </tr>\n",
              "    <tr>\n",
              "      <th>6</th>\n",
              "      <td>Ayo</td>\n",
              "      <td>16.0</td>\n",
              "      <td>Male</td>\n",
              "    </tr>\n",
              "    <tr>\n",
              "      <th>7</th>\n",
              "      <td>Segun</td>\n",
              "      <td>13.0</td>\n",
              "      <td>Male</td>\n",
              "    </tr>\n",
              "    <tr>\n",
              "      <th>8</th>\n",
              "      <td>Ola</td>\n",
              "      <td>15.0</td>\n",
              "      <td>Male</td>\n",
              "    </tr>\n",
              "    <tr>\n",
              "      <th>10</th>\n",
              "      <td>Mike</td>\n",
              "      <td>NaN</td>\n",
              "      <td>NaN</td>\n",
              "    </tr>\n",
              "    <tr>\n",
              "      <th>11</th>\n",
              "      <td>Ayo</td>\n",
              "      <td>16.0</td>\n",
              "      <td>Female</td>\n",
              "    </tr>\n",
              "  </tbody>\n",
              "</table>\n",
              "</div>"
            ],
            "text/plain": [
              "       Name   Age  Gender\n",
              "1   Abisola  17.0     NaN\n",
              "2     Feyin  15.0  Female\n",
              "3      Sogo  18.0     NaN\n",
              "4      Josh  17.0    Male\n",
              "5      Kate  17.0  Female\n",
              "6       Ayo  16.0    Male\n",
              "7     Segun  13.0    Male\n",
              "8       Ola  15.0    Male\n",
              "10     Mike   NaN     NaN\n",
              "11      Ayo  16.0  Female"
            ]
          },
          "metadata": {
            "tags": []
          },
          "execution_count": 77
        }
      ]
    },
    {
      "cell_type": "code",
      "metadata": {
        "id": "L6h7PtFKT4pc",
        "colab_type": "code",
        "colab": {},
        "outputId": "6562aab1-6beb-42a0-b8bb-f8f658565936"
      },
      "source": [
        "data_frame.isnull()"
      ],
      "execution_count": null,
      "outputs": [
        {
          "output_type": "execute_result",
          "data": {
            "text/html": [
              "<div>\n",
              "<style scoped>\n",
              "    .dataframe tbody tr th:only-of-type {\n",
              "        vertical-align: middle;\n",
              "    }\n",
              "\n",
              "    .dataframe tbody tr th {\n",
              "        vertical-align: top;\n",
              "    }\n",
              "\n",
              "    .dataframe thead th {\n",
              "        text-align: right;\n",
              "    }\n",
              "</style>\n",
              "<table border=\"1\" class=\"dataframe\">\n",
              "  <thead>\n",
              "    <tr style=\"text-align: right;\">\n",
              "      <th></th>\n",
              "      <th>Name</th>\n",
              "      <th>Age</th>\n",
              "      <th>Gender</th>\n",
              "    </tr>\n",
              "  </thead>\n",
              "  <tbody>\n",
              "    <tr>\n",
              "      <th>1</th>\n",
              "      <td>False</td>\n",
              "      <td>False</td>\n",
              "      <td>True</td>\n",
              "    </tr>\n",
              "    <tr>\n",
              "      <th>2</th>\n",
              "      <td>False</td>\n",
              "      <td>False</td>\n",
              "      <td>False</td>\n",
              "    </tr>\n",
              "    <tr>\n",
              "      <th>3</th>\n",
              "      <td>False</td>\n",
              "      <td>False</td>\n",
              "      <td>True</td>\n",
              "    </tr>\n",
              "    <tr>\n",
              "      <th>4</th>\n",
              "      <td>False</td>\n",
              "      <td>False</td>\n",
              "      <td>False</td>\n",
              "    </tr>\n",
              "    <tr>\n",
              "      <th>5</th>\n",
              "      <td>False</td>\n",
              "      <td>False</td>\n",
              "      <td>False</td>\n",
              "    </tr>\n",
              "    <tr>\n",
              "      <th>6</th>\n",
              "      <td>False</td>\n",
              "      <td>False</td>\n",
              "      <td>False</td>\n",
              "    </tr>\n",
              "    <tr>\n",
              "      <th>7</th>\n",
              "      <td>False</td>\n",
              "      <td>False</td>\n",
              "      <td>False</td>\n",
              "    </tr>\n",
              "    <tr>\n",
              "      <th>8</th>\n",
              "      <td>False</td>\n",
              "      <td>False</td>\n",
              "      <td>False</td>\n",
              "    </tr>\n",
              "    <tr>\n",
              "      <th>10</th>\n",
              "      <td>False</td>\n",
              "      <td>True</td>\n",
              "      <td>True</td>\n",
              "    </tr>\n",
              "    <tr>\n",
              "      <th>11</th>\n",
              "      <td>False</td>\n",
              "      <td>False</td>\n",
              "      <td>False</td>\n",
              "    </tr>\n",
              "  </tbody>\n",
              "</table>\n",
              "</div>"
            ],
            "text/plain": [
              "     Name    Age  Gender\n",
              "1   False  False    True\n",
              "2   False  False   False\n",
              "3   False  False    True\n",
              "4   False  False   False\n",
              "5   False  False   False\n",
              "6   False  False   False\n",
              "7   False  False   False\n",
              "8   False  False   False\n",
              "10  False   True    True\n",
              "11  False  False   False"
            ]
          },
          "metadata": {
            "tags": []
          },
          "execution_count": 78
        }
      ]
    },
    {
      "cell_type": "code",
      "metadata": {
        "id": "SlGz606OT4pj",
        "colab_type": "code",
        "colab": {},
        "outputId": "d5323181-d8fd-4d94-b685-de411df92236"
      },
      "source": [
        "data_frame.isnull().sum()"
      ],
      "execution_count": null,
      "outputs": [
        {
          "output_type": "execute_result",
          "data": {
            "text/plain": [
              "Name      0\n",
              "Age       1\n",
              "Gender    3\n",
              "dtype: int64"
            ]
          },
          "metadata": {
            "tags": []
          },
          "execution_count": 79
        }
      ]
    },
    {
      "cell_type": "markdown",
      "metadata": {
        "id": "0extO99HT4po",
        "colab_type": "text"
      },
      "source": [
        "<h4>Dropping missing data</h4>"
      ]
    },
    {
      "cell_type": "markdown",
      "metadata": {
        "id": "2qO_b_xvT4pp",
        "colab_type": "text"
      },
      "source": [
        "<div class=\"alert alert-info\">\n",
        "<p>While this method is not advisable if there are lots of missing data in your data sets, it can come in handy if the number of missing data is significantly small.</p> <p> Pandas has a built-in method called <b>dropna</b> that will remove any row that contain a NaN value(missing data are automatically set to NaN in Pandas DataFrame)</p>\n",
        "<p>You should also note that just like the other DataFrame operations that we have explored, the dropna will not modify the original DataFrame unless you specify 'inplace=True' or use the assignment operator</p></div>"
      ]
    },
    {
      "cell_type": "code",
      "metadata": {
        "id": "Tpu1ezXdT4pq",
        "colab_type": "code",
        "colab": {},
        "outputId": "347ef0fd-4f14-4278-a014-aa35a66fa6d2"
      },
      "source": [
        "clean_data = data_frame.dropna()\n",
        "clean_data"
      ],
      "execution_count": null,
      "outputs": [
        {
          "output_type": "execute_result",
          "data": {
            "text/html": [
              "<div>\n",
              "<style scoped>\n",
              "    .dataframe tbody tr th:only-of-type {\n",
              "        vertical-align: middle;\n",
              "    }\n",
              "\n",
              "    .dataframe tbody tr th {\n",
              "        vertical-align: top;\n",
              "    }\n",
              "\n",
              "    .dataframe thead th {\n",
              "        text-align: right;\n",
              "    }\n",
              "</style>\n",
              "<table border=\"1\" class=\"dataframe\">\n",
              "  <thead>\n",
              "    <tr style=\"text-align: right;\">\n",
              "      <th></th>\n",
              "      <th>Name</th>\n",
              "      <th>Age</th>\n",
              "      <th>Gender</th>\n",
              "    </tr>\n",
              "  </thead>\n",
              "  <tbody>\n",
              "    <tr>\n",
              "      <th>2</th>\n",
              "      <td>Feyin</td>\n",
              "      <td>15.0</td>\n",
              "      <td>Female</td>\n",
              "    </tr>\n",
              "    <tr>\n",
              "      <th>4</th>\n",
              "      <td>Josh</td>\n",
              "      <td>17.0</td>\n",
              "      <td>Male</td>\n",
              "    </tr>\n",
              "    <tr>\n",
              "      <th>5</th>\n",
              "      <td>Kate</td>\n",
              "      <td>17.0</td>\n",
              "      <td>Female</td>\n",
              "    </tr>\n",
              "    <tr>\n",
              "      <th>6</th>\n",
              "      <td>Ayo</td>\n",
              "      <td>16.0</td>\n",
              "      <td>Male</td>\n",
              "    </tr>\n",
              "    <tr>\n",
              "      <th>7</th>\n",
              "      <td>Segun</td>\n",
              "      <td>13.0</td>\n",
              "      <td>Male</td>\n",
              "    </tr>\n",
              "    <tr>\n",
              "      <th>8</th>\n",
              "      <td>Ola</td>\n",
              "      <td>15.0</td>\n",
              "      <td>Male</td>\n",
              "    </tr>\n",
              "    <tr>\n",
              "      <th>11</th>\n",
              "      <td>Ayo</td>\n",
              "      <td>16.0</td>\n",
              "      <td>Female</td>\n",
              "    </tr>\n",
              "  </tbody>\n",
              "</table>\n",
              "</div>"
            ],
            "text/plain": [
              "     Name   Age  Gender\n",
              "2   Feyin  15.0  Female\n",
              "4    Josh  17.0    Male\n",
              "5    Kate  17.0  Female\n",
              "6     Ayo  16.0    Male\n",
              "7   Segun  13.0    Male\n",
              "8     Ola  15.0    Male\n",
              "11    Ayo  16.0  Female"
            ]
          },
          "metadata": {
            "tags": []
          },
          "execution_count": 80
        }
      ]
    },
    {
      "cell_type": "code",
      "metadata": {
        "id": "wsUuxzV-T4pw",
        "colab_type": "code",
        "colab": {},
        "outputId": "f6517d89-64ff-453d-c8cc-4096af42997e"
      },
      "source": [
        "#Now, there are no missing value in our DataFrame\n",
        "\n",
        "clean_data.isnull().sum()"
      ],
      "execution_count": null,
      "outputs": [
        {
          "output_type": "execute_result",
          "data": {
            "text/plain": [
              "Name      0\n",
              "Age       0\n",
              "Gender    0\n",
              "dtype: int64"
            ]
          },
          "metadata": {
            "tags": []
          },
          "execution_count": 81
        }
      ]
    },
    {
      "cell_type": "markdown",
      "metadata": {
        "id": "xapmuNRPT4p3",
        "colab_type": "text"
      },
      "source": [
        "<h4>Replacing missing data</h4>"
      ]
    },
    {
      "cell_type": "markdown",
      "metadata": {
        "id": "18q1Nkh1T4p4",
        "colab_type": "text"
      },
      "source": [
        "If you notice, the dropna method will get rid of an entire row or coulmn that has missing data. This is why in many cases, you will want to replace missing values with a generic value instead of dropping it. To do this, you use the <b>fillna</b> method </div>"
      ]
    },
    {
      "cell_type": "code",
      "metadata": {
        "id": "aVOT9E3MT4p5",
        "colab_type": "code",
        "colab": {},
        "outputId": "e5601107-7595-428f-8eeb-12f5d16c8e26"
      },
      "source": [
        "clean_data = data_frame.fillna('❌')\n",
        "clean_data"
      ],
      "execution_count": null,
      "outputs": [
        {
          "output_type": "execute_result",
          "data": {
            "text/html": [
              "<div>\n",
              "<style scoped>\n",
              "    .dataframe tbody tr th:only-of-type {\n",
              "        vertical-align: middle;\n",
              "    }\n",
              "\n",
              "    .dataframe tbody tr th {\n",
              "        vertical-align: top;\n",
              "    }\n",
              "\n",
              "    .dataframe thead th {\n",
              "        text-align: right;\n",
              "    }\n",
              "</style>\n",
              "<table border=\"1\" class=\"dataframe\">\n",
              "  <thead>\n",
              "    <tr style=\"text-align: right;\">\n",
              "      <th></th>\n",
              "      <th>Name</th>\n",
              "      <th>Age</th>\n",
              "      <th>Gender</th>\n",
              "    </tr>\n",
              "  </thead>\n",
              "  <tbody>\n",
              "    <tr>\n",
              "      <th>1</th>\n",
              "      <td>Abisola</td>\n",
              "      <td>17</td>\n",
              "      <td>❌</td>\n",
              "    </tr>\n",
              "    <tr>\n",
              "      <th>2</th>\n",
              "      <td>Feyin</td>\n",
              "      <td>15</td>\n",
              "      <td>Female</td>\n",
              "    </tr>\n",
              "    <tr>\n",
              "      <th>3</th>\n",
              "      <td>Sogo</td>\n",
              "      <td>18</td>\n",
              "      <td>❌</td>\n",
              "    </tr>\n",
              "    <tr>\n",
              "      <th>4</th>\n",
              "      <td>Josh</td>\n",
              "      <td>17</td>\n",
              "      <td>Male</td>\n",
              "    </tr>\n",
              "    <tr>\n",
              "      <th>5</th>\n",
              "      <td>Kate</td>\n",
              "      <td>17</td>\n",
              "      <td>Female</td>\n",
              "    </tr>\n",
              "    <tr>\n",
              "      <th>6</th>\n",
              "      <td>Ayo</td>\n",
              "      <td>16</td>\n",
              "      <td>Male</td>\n",
              "    </tr>\n",
              "    <tr>\n",
              "      <th>7</th>\n",
              "      <td>Segun</td>\n",
              "      <td>13</td>\n",
              "      <td>Male</td>\n",
              "    </tr>\n",
              "    <tr>\n",
              "      <th>8</th>\n",
              "      <td>Ola</td>\n",
              "      <td>15</td>\n",
              "      <td>Male</td>\n",
              "    </tr>\n",
              "    <tr>\n",
              "      <th>10</th>\n",
              "      <td>Mike</td>\n",
              "      <td>❌</td>\n",
              "      <td>❌</td>\n",
              "    </tr>\n",
              "    <tr>\n",
              "      <th>11</th>\n",
              "      <td>Ayo</td>\n",
              "      <td>16</td>\n",
              "      <td>Female</td>\n",
              "    </tr>\n",
              "  </tbody>\n",
              "</table>\n",
              "</div>"
            ],
            "text/plain": [
              "       Name Age  Gender\n",
              "1   Abisola  17       ❌\n",
              "2     Feyin  15  Female\n",
              "3      Sogo  18       ❌\n",
              "4      Josh  17    Male\n",
              "5      Kate  17  Female\n",
              "6       Ayo  16    Male\n",
              "7     Segun  13    Male\n",
              "8       Ola  15    Male\n",
              "10     Mike   ❌       ❌\n",
              "11      Ayo  16  Female"
            ]
          },
          "metadata": {
            "tags": []
          },
          "execution_count": 82
        }
      ]
    },
    {
      "cell_type": "markdown",
      "metadata": {
        "id": "eOirAfg4T4p-",
        "colab_type": "text"
      },
      "source": [
        "<div class=\"alert alert-info\">\n",
        "Often times, you want to replace missing values average value or something and not just a symbol. Let's see how this can be done below</div>"
      ]
    },
    {
      "cell_type": "code",
      "metadata": {
        "id": "IwyyHqz6T4qC",
        "colab_type": "code",
        "colab": {},
        "outputId": "f3351bdb-e9af-470c-f117-0341eb50caa9"
      },
      "source": [
        "clean_data= data_frame.fillna(data_frame.mean())\n",
        "clean_data"
      ],
      "execution_count": null,
      "outputs": [
        {
          "output_type": "execute_result",
          "data": {
            "text/html": [
              "<div>\n",
              "<style scoped>\n",
              "    .dataframe tbody tr th:only-of-type {\n",
              "        vertical-align: middle;\n",
              "    }\n",
              "\n",
              "    .dataframe tbody tr th {\n",
              "        vertical-align: top;\n",
              "    }\n",
              "\n",
              "    .dataframe thead th {\n",
              "        text-align: right;\n",
              "    }\n",
              "</style>\n",
              "<table border=\"1\" class=\"dataframe\">\n",
              "  <thead>\n",
              "    <tr style=\"text-align: right;\">\n",
              "      <th></th>\n",
              "      <th>Name</th>\n",
              "      <th>Age</th>\n",
              "      <th>Gender</th>\n",
              "    </tr>\n",
              "  </thead>\n",
              "  <tbody>\n",
              "    <tr>\n",
              "      <th>1</th>\n",
              "      <td>Abisola</td>\n",
              "      <td>17.0</td>\n",
              "      <td>NaN</td>\n",
              "    </tr>\n",
              "    <tr>\n",
              "      <th>2</th>\n",
              "      <td>Feyin</td>\n",
              "      <td>15.0</td>\n",
              "      <td>Female</td>\n",
              "    </tr>\n",
              "    <tr>\n",
              "      <th>3</th>\n",
              "      <td>Sogo</td>\n",
              "      <td>18.0</td>\n",
              "      <td>NaN</td>\n",
              "    </tr>\n",
              "    <tr>\n",
              "      <th>4</th>\n",
              "      <td>Josh</td>\n",
              "      <td>17.0</td>\n",
              "      <td>Male</td>\n",
              "    </tr>\n",
              "    <tr>\n",
              "      <th>5</th>\n",
              "      <td>Kate</td>\n",
              "      <td>17.0</td>\n",
              "      <td>Female</td>\n",
              "    </tr>\n",
              "    <tr>\n",
              "      <th>6</th>\n",
              "      <td>Ayo</td>\n",
              "      <td>16.0</td>\n",
              "      <td>Male</td>\n",
              "    </tr>\n",
              "    <tr>\n",
              "      <th>7</th>\n",
              "      <td>Segun</td>\n",
              "      <td>13.0</td>\n",
              "      <td>Male</td>\n",
              "    </tr>\n",
              "    <tr>\n",
              "      <th>8</th>\n",
              "      <td>Ola</td>\n",
              "      <td>15.0</td>\n",
              "      <td>Male</td>\n",
              "    </tr>\n",
              "    <tr>\n",
              "      <th>10</th>\n",
              "      <td>Mike</td>\n",
              "      <td>16.0</td>\n",
              "      <td>NaN</td>\n",
              "    </tr>\n",
              "    <tr>\n",
              "      <th>11</th>\n",
              "      <td>Ayo</td>\n",
              "      <td>16.0</td>\n",
              "      <td>Female</td>\n",
              "    </tr>\n",
              "  </tbody>\n",
              "</table>\n",
              "</div>"
            ],
            "text/plain": [
              "       Name   Age  Gender\n",
              "1   Abisola  17.0     NaN\n",
              "2     Feyin  15.0  Female\n",
              "3      Sogo  18.0     NaN\n",
              "4      Josh  17.0    Male\n",
              "5      Kate  17.0  Female\n",
              "6       Ayo  16.0    Male\n",
              "7     Segun  13.0    Male\n",
              "8       Ola  15.0    Male\n",
              "10     Mike  16.0     NaN\n",
              "11      Ayo  16.0  Female"
            ]
          },
          "metadata": {
            "tags": []
          },
          "execution_count": 83
        }
      ]
    },
    {
      "cell_type": "markdown",
      "metadata": {
        "id": "cB17RChmT4qK",
        "colab_type": "text"
      },
      "source": [
        "<div class=\"alert alert-info\">\n",
        "If you notice, this only worked for numerical columns like the age column.</div>"
      ]
    },
    {
      "cell_type": "markdown",
      "metadata": {
        "id": "wf-Lu3CgT4qL",
        "colab_type": "text"
      },
      "source": [
        "<h3>Data cleaning with Pandas - removing repeated data</h3>"
      ]
    },
    {
      "cell_type": "code",
      "metadata": {
        "id": "DjjHg4mST4qO",
        "colab_type": "code",
        "colab": {},
        "outputId": "6631adf1-a980-4bd1-cceb-37b2c5679b5f"
      },
      "source": [
        "df = pd.DataFrame({\"A\": [1,2,2,2,3,4,5,5,6,7,2,4,2,7,8,9,2,6,3,6,7,2]})\n",
        "df_sorted = df.sort_values(by = \"A\")\n",
        "new_data_frame = df_sorted.loc[df_sorted[\"A\"].shift() != df_sorted[\"A\"]]\n",
        "new_data_frame"
      ],
      "execution_count": null,
      "outputs": [
        {
          "output_type": "execute_result",
          "data": {
            "text/html": [
              "<div>\n",
              "<style scoped>\n",
              "    .dataframe tbody tr th:only-of-type {\n",
              "        vertical-align: middle;\n",
              "    }\n",
              "\n",
              "    .dataframe tbody tr th {\n",
              "        vertical-align: top;\n",
              "    }\n",
              "\n",
              "    .dataframe thead th {\n",
              "        text-align: right;\n",
              "    }\n",
              "</style>\n",
              "<table border=\"1\" class=\"dataframe\">\n",
              "  <thead>\n",
              "    <tr style=\"text-align: right;\">\n",
              "      <th></th>\n",
              "      <th>A</th>\n",
              "    </tr>\n",
              "  </thead>\n",
              "  <tbody>\n",
              "    <tr>\n",
              "      <th>0</th>\n",
              "      <td>1</td>\n",
              "    </tr>\n",
              "    <tr>\n",
              "      <th>16</th>\n",
              "      <td>2</td>\n",
              "    </tr>\n",
              "    <tr>\n",
              "      <th>18</th>\n",
              "      <td>3</td>\n",
              "    </tr>\n",
              "    <tr>\n",
              "      <th>11</th>\n",
              "      <td>4</td>\n",
              "    </tr>\n",
              "    <tr>\n",
              "      <th>6</th>\n",
              "      <td>5</td>\n",
              "    </tr>\n",
              "    <tr>\n",
              "      <th>8</th>\n",
              "      <td>6</td>\n",
              "    </tr>\n",
              "    <tr>\n",
              "      <th>9</th>\n",
              "      <td>7</td>\n",
              "    </tr>\n",
              "    <tr>\n",
              "      <th>14</th>\n",
              "      <td>8</td>\n",
              "    </tr>\n",
              "    <tr>\n",
              "      <th>15</th>\n",
              "      <td>9</td>\n",
              "    </tr>\n",
              "  </tbody>\n",
              "</table>\n",
              "</div>"
            ],
            "text/plain": [
              "    A\n",
              "0   1\n",
              "16  2\n",
              "18  3\n",
              "11  4\n",
              "6   5\n",
              "8   6\n",
              "9   7\n",
              "14  8\n",
              "15  9"
            ]
          },
          "metadata": {
            "tags": []
          },
          "execution_count": 84
        }
      ]
    },
    {
      "cell_type": "code",
      "metadata": {
        "id": "02IRSL3bT4qa",
        "colab_type": "code",
        "colab": {},
        "outputId": "d743556d-79d7-463b-b959-11b2c3bac80c"
      },
      "source": [
        "df = pd.DataFrame({\"A\": [1,2,2,4,5,5,6,7,3,6,7,2],\n",
        "                  \"B\": [10,20,30,40,50,50,60,70,80,60,70,20]})\n",
        "df_sorted = df.sort_values(by = \"B\")\n",
        "df_sorted.loc[  df_sorted[\"A\" and \"B\"].shift() != df_sorted[\"A\" and \"B\"]  ]"
      ],
      "execution_count": null,
      "outputs": [
        {
          "output_type": "execute_result",
          "data": {
            "text/html": [
              "<div>\n",
              "<style scoped>\n",
              "    .dataframe tbody tr th:only-of-type {\n",
              "        vertical-align: middle;\n",
              "    }\n",
              "\n",
              "    .dataframe tbody tr th {\n",
              "        vertical-align: top;\n",
              "    }\n",
              "\n",
              "    .dataframe thead th {\n",
              "        text-align: right;\n",
              "    }\n",
              "</style>\n",
              "<table border=\"1\" class=\"dataframe\">\n",
              "  <thead>\n",
              "    <tr style=\"text-align: right;\">\n",
              "      <th></th>\n",
              "      <th>A</th>\n",
              "      <th>B</th>\n",
              "    </tr>\n",
              "  </thead>\n",
              "  <tbody>\n",
              "    <tr>\n",
              "      <th>0</th>\n",
              "      <td>1</td>\n",
              "      <td>10</td>\n",
              "    </tr>\n",
              "    <tr>\n",
              "      <th>1</th>\n",
              "      <td>2</td>\n",
              "      <td>20</td>\n",
              "    </tr>\n",
              "    <tr>\n",
              "      <th>2</th>\n",
              "      <td>2</td>\n",
              "      <td>30</td>\n",
              "    </tr>\n",
              "    <tr>\n",
              "      <th>3</th>\n",
              "      <td>4</td>\n",
              "      <td>40</td>\n",
              "    </tr>\n",
              "    <tr>\n",
              "      <th>4</th>\n",
              "      <td>5</td>\n",
              "      <td>50</td>\n",
              "    </tr>\n",
              "    <tr>\n",
              "      <th>6</th>\n",
              "      <td>6</td>\n",
              "      <td>60</td>\n",
              "    </tr>\n",
              "    <tr>\n",
              "      <th>7</th>\n",
              "      <td>7</td>\n",
              "      <td>70</td>\n",
              "    </tr>\n",
              "    <tr>\n",
              "      <th>8</th>\n",
              "      <td>3</td>\n",
              "      <td>80</td>\n",
              "    </tr>\n",
              "  </tbody>\n",
              "</table>\n",
              "</div>"
            ],
            "text/plain": [
              "   A   B\n",
              "0  1  10\n",
              "1  2  20\n",
              "2  2  30\n",
              "3  4  40\n",
              "4  5  50\n",
              "6  6  60\n",
              "7  7  70\n",
              "8  3  80"
            ]
          },
          "metadata": {
            "tags": []
          },
          "execution_count": 85
        }
      ]
    },
    {
      "cell_type": "markdown",
      "metadata": {
        "id": "AoGYCoTRT4qj",
        "colab_type": "text"
      },
      "source": [
        "<h3>Sorting and grouping data</h3>"
      ]
    },
    {
      "cell_type": "markdown",
      "metadata": {
        "id": "a00pwYFuT4qk",
        "colab_type": "text"
      },
      "source": [
        "<div class=\"alert alert-info\">\n",
        "    <p>You can sort your DataFrame using a particular column. This is done by passing the column you want to sort your DataFrame by into the <b>sort_values</b> attribute</p>\n",
        "    <p>Pandas also has a built-in <b>groupby</b> feature that allows you to group rows together based on a column and perform an aggregate function on them. If you are familiar with the SQL language for querying databases, the pandas groupby method is very similar to a SQL groupby statement.</p>\n",
        "<p>We will explore both the sorting and groupby operation in this section</div>"
      ]
    },
    {
      "cell_type": "markdown",
      "metadata": {
        "id": "82W4ZJAeT4ql",
        "colab_type": "text"
      },
      "source": [
        "<h4>Sorting your DataFrame</h4>"
      ]
    },
    {
      "cell_type": "code",
      "metadata": {
        "id": "S3i_Ut4ET4qm",
        "colab_type": "code",
        "colab": {},
        "outputId": "64ffd91f-fd31-4dfd-a9db-e11470a8dde6"
      },
      "source": [
        "data_frame.sort_values(by =\"Age\")"
      ],
      "execution_count": null,
      "outputs": [
        {
          "output_type": "execute_result",
          "data": {
            "text/html": [
              "<div>\n",
              "<style scoped>\n",
              "    .dataframe tbody tr th:only-of-type {\n",
              "        vertical-align: middle;\n",
              "    }\n",
              "\n",
              "    .dataframe tbody tr th {\n",
              "        vertical-align: top;\n",
              "    }\n",
              "\n",
              "    .dataframe thead th {\n",
              "        text-align: right;\n",
              "    }\n",
              "</style>\n",
              "<table border=\"1\" class=\"dataframe\">\n",
              "  <thead>\n",
              "    <tr style=\"text-align: right;\">\n",
              "      <th></th>\n",
              "      <th>Name</th>\n",
              "      <th>Age</th>\n",
              "      <th>Gender</th>\n",
              "    </tr>\n",
              "  </thead>\n",
              "  <tbody>\n",
              "    <tr>\n",
              "      <th>7</th>\n",
              "      <td>Segun</td>\n",
              "      <td>13.0</td>\n",
              "      <td>Male</td>\n",
              "    </tr>\n",
              "    <tr>\n",
              "      <th>2</th>\n",
              "      <td>Feyin</td>\n",
              "      <td>15.0</td>\n",
              "      <td>Female</td>\n",
              "    </tr>\n",
              "    <tr>\n",
              "      <th>8</th>\n",
              "      <td>Ola</td>\n",
              "      <td>15.0</td>\n",
              "      <td>Male</td>\n",
              "    </tr>\n",
              "    <tr>\n",
              "      <th>6</th>\n",
              "      <td>Ayo</td>\n",
              "      <td>16.0</td>\n",
              "      <td>Male</td>\n",
              "    </tr>\n",
              "    <tr>\n",
              "      <th>11</th>\n",
              "      <td>Ayo</td>\n",
              "      <td>16.0</td>\n",
              "      <td>Female</td>\n",
              "    </tr>\n",
              "    <tr>\n",
              "      <th>1</th>\n",
              "      <td>Abisola</td>\n",
              "      <td>17.0</td>\n",
              "      <td>NaN</td>\n",
              "    </tr>\n",
              "    <tr>\n",
              "      <th>4</th>\n",
              "      <td>Josh</td>\n",
              "      <td>17.0</td>\n",
              "      <td>Male</td>\n",
              "    </tr>\n",
              "    <tr>\n",
              "      <th>5</th>\n",
              "      <td>Kate</td>\n",
              "      <td>17.0</td>\n",
              "      <td>Female</td>\n",
              "    </tr>\n",
              "    <tr>\n",
              "      <th>3</th>\n",
              "      <td>Sogo</td>\n",
              "      <td>18.0</td>\n",
              "      <td>NaN</td>\n",
              "    </tr>\n",
              "    <tr>\n",
              "      <th>10</th>\n",
              "      <td>Mike</td>\n",
              "      <td>NaN</td>\n",
              "      <td>NaN</td>\n",
              "    </tr>\n",
              "  </tbody>\n",
              "</table>\n",
              "</div>"
            ],
            "text/plain": [
              "       Name   Age  Gender\n",
              "7     Segun  13.0    Male\n",
              "2     Feyin  15.0  Female\n",
              "8       Ola  15.0    Male\n",
              "6       Ayo  16.0    Male\n",
              "11      Ayo  16.0  Female\n",
              "1   Abisola  17.0     NaN\n",
              "4      Josh  17.0    Male\n",
              "5      Kate  17.0  Female\n",
              "3      Sogo  18.0     NaN\n",
              "10     Mike   NaN     NaN"
            ]
          },
          "metadata": {
            "tags": []
          },
          "execution_count": 86
        }
      ]
    },
    {
      "cell_type": "code",
      "metadata": {
        "id": "kIR-kGm2T4qr",
        "colab_type": "code",
        "colab": {},
        "outputId": "0851c404-c16b-4bba-dd7e-dd9cdb5929a4"
      },
      "source": [
        "data_frame.sort_values(by =\"Name\")"
      ],
      "execution_count": null,
      "outputs": [
        {
          "output_type": "execute_result",
          "data": {
            "text/html": [
              "<div>\n",
              "<style scoped>\n",
              "    .dataframe tbody tr th:only-of-type {\n",
              "        vertical-align: middle;\n",
              "    }\n",
              "\n",
              "    .dataframe tbody tr th {\n",
              "        vertical-align: top;\n",
              "    }\n",
              "\n",
              "    .dataframe thead th {\n",
              "        text-align: right;\n",
              "    }\n",
              "</style>\n",
              "<table border=\"1\" class=\"dataframe\">\n",
              "  <thead>\n",
              "    <tr style=\"text-align: right;\">\n",
              "      <th></th>\n",
              "      <th>Name</th>\n",
              "      <th>Age</th>\n",
              "      <th>Gender</th>\n",
              "    </tr>\n",
              "  </thead>\n",
              "  <tbody>\n",
              "    <tr>\n",
              "      <th>1</th>\n",
              "      <td>Abisola</td>\n",
              "      <td>17.0</td>\n",
              "      <td>NaN</td>\n",
              "    </tr>\n",
              "    <tr>\n",
              "      <th>6</th>\n",
              "      <td>Ayo</td>\n",
              "      <td>16.0</td>\n",
              "      <td>Male</td>\n",
              "    </tr>\n",
              "    <tr>\n",
              "      <th>11</th>\n",
              "      <td>Ayo</td>\n",
              "      <td>16.0</td>\n",
              "      <td>Female</td>\n",
              "    </tr>\n",
              "    <tr>\n",
              "      <th>2</th>\n",
              "      <td>Feyin</td>\n",
              "      <td>15.0</td>\n",
              "      <td>Female</td>\n",
              "    </tr>\n",
              "    <tr>\n",
              "      <th>4</th>\n",
              "      <td>Josh</td>\n",
              "      <td>17.0</td>\n",
              "      <td>Male</td>\n",
              "    </tr>\n",
              "    <tr>\n",
              "      <th>5</th>\n",
              "      <td>Kate</td>\n",
              "      <td>17.0</td>\n",
              "      <td>Female</td>\n",
              "    </tr>\n",
              "    <tr>\n",
              "      <th>10</th>\n",
              "      <td>Mike</td>\n",
              "      <td>NaN</td>\n",
              "      <td>NaN</td>\n",
              "    </tr>\n",
              "    <tr>\n",
              "      <th>8</th>\n",
              "      <td>Ola</td>\n",
              "      <td>15.0</td>\n",
              "      <td>Male</td>\n",
              "    </tr>\n",
              "    <tr>\n",
              "      <th>7</th>\n",
              "      <td>Segun</td>\n",
              "      <td>13.0</td>\n",
              "      <td>Male</td>\n",
              "    </tr>\n",
              "    <tr>\n",
              "      <th>3</th>\n",
              "      <td>Sogo</td>\n",
              "      <td>18.0</td>\n",
              "      <td>NaN</td>\n",
              "    </tr>\n",
              "  </tbody>\n",
              "</table>\n",
              "</div>"
            ],
            "text/plain": [
              "       Name   Age  Gender\n",
              "1   Abisola  17.0     NaN\n",
              "6       Ayo  16.0    Male\n",
              "11      Ayo  16.0  Female\n",
              "2     Feyin  15.0  Female\n",
              "4      Josh  17.0    Male\n",
              "5      Kate  17.0  Female\n",
              "10     Mike   NaN     NaN\n",
              "8       Ola  15.0    Male\n",
              "7     Segun  13.0    Male\n",
              "3      Sogo  18.0     NaN"
            ]
          },
          "metadata": {
            "tags": []
          },
          "execution_count": 88
        }
      ]
    },
    {
      "cell_type": "markdown",
      "metadata": {
        "id": "X3PA9KQYT4qx",
        "colab_type": "text"
      },
      "source": [
        "<div class=\"alert alert-info\">\n",
        "You can also sort without specifying the 'by' argument. You simply enter the column you want to sort by as shown below.</div>"
      ]
    },
    {
      "cell_type": "code",
      "metadata": {
        "id": "aheVeUP9T4qy",
        "colab_type": "code",
        "colab": {},
        "outputId": "44a5c967-2785-4a87-8c25-c0e585291006"
      },
      "source": [
        "data_frame.sort_values(\"Age\")"
      ],
      "execution_count": null,
      "outputs": [
        {
          "output_type": "execute_result",
          "data": {
            "text/html": [
              "<div>\n",
              "<style scoped>\n",
              "    .dataframe tbody tr th:only-of-type {\n",
              "        vertical-align: middle;\n",
              "    }\n",
              "\n",
              "    .dataframe tbody tr th {\n",
              "        vertical-align: top;\n",
              "    }\n",
              "\n",
              "    .dataframe thead th {\n",
              "        text-align: right;\n",
              "    }\n",
              "</style>\n",
              "<table border=\"1\" class=\"dataframe\">\n",
              "  <thead>\n",
              "    <tr style=\"text-align: right;\">\n",
              "      <th></th>\n",
              "      <th>Name</th>\n",
              "      <th>Age</th>\n",
              "      <th>Gender</th>\n",
              "    </tr>\n",
              "  </thead>\n",
              "  <tbody>\n",
              "    <tr>\n",
              "      <th>7</th>\n",
              "      <td>Segun</td>\n",
              "      <td>13.0</td>\n",
              "      <td>Male</td>\n",
              "    </tr>\n",
              "    <tr>\n",
              "      <th>2</th>\n",
              "      <td>Feyin</td>\n",
              "      <td>15.0</td>\n",
              "      <td>Female</td>\n",
              "    </tr>\n",
              "    <tr>\n",
              "      <th>8</th>\n",
              "      <td>Ola</td>\n",
              "      <td>15.0</td>\n",
              "      <td>Male</td>\n",
              "    </tr>\n",
              "    <tr>\n",
              "      <th>6</th>\n",
              "      <td>Ayo</td>\n",
              "      <td>16.0</td>\n",
              "      <td>Male</td>\n",
              "    </tr>\n",
              "    <tr>\n",
              "      <th>11</th>\n",
              "      <td>Ayo</td>\n",
              "      <td>16.0</td>\n",
              "      <td>Female</td>\n",
              "    </tr>\n",
              "    <tr>\n",
              "      <th>1</th>\n",
              "      <td>Abisola</td>\n",
              "      <td>17.0</td>\n",
              "      <td>NaN</td>\n",
              "    </tr>\n",
              "    <tr>\n",
              "      <th>4</th>\n",
              "      <td>Josh</td>\n",
              "      <td>17.0</td>\n",
              "      <td>Male</td>\n",
              "    </tr>\n",
              "    <tr>\n",
              "      <th>5</th>\n",
              "      <td>Kate</td>\n",
              "      <td>17.0</td>\n",
              "      <td>Female</td>\n",
              "    </tr>\n",
              "    <tr>\n",
              "      <th>3</th>\n",
              "      <td>Sogo</td>\n",
              "      <td>18.0</td>\n",
              "      <td>NaN</td>\n",
              "    </tr>\n",
              "    <tr>\n",
              "      <th>10</th>\n",
              "      <td>Mike</td>\n",
              "      <td>NaN</td>\n",
              "      <td>NaN</td>\n",
              "    </tr>\n",
              "  </tbody>\n",
              "</table>\n",
              "</div>"
            ],
            "text/plain": [
              "       Name   Age  Gender\n",
              "7     Segun  13.0    Male\n",
              "2     Feyin  15.0  Female\n",
              "8       Ola  15.0    Male\n",
              "6       Ayo  16.0    Male\n",
              "11      Ayo  16.0  Female\n",
              "1   Abisola  17.0     NaN\n",
              "4      Josh  17.0    Male\n",
              "5      Kate  17.0  Female\n",
              "3      Sogo  18.0     NaN\n",
              "10     Mike   NaN     NaN"
            ]
          },
          "metadata": {
            "tags": []
          },
          "execution_count": 89
        }
      ]
    },
    {
      "cell_type": "markdown",
      "metadata": {
        "id": "_FZm9UDgT4q3",
        "colab_type": "text"
      },
      "source": [
        "<h4>Grouping data</h4>"
      ]
    },
    {
      "cell_type": "code",
      "metadata": {
        "id": "W3DvEyRET4q4",
        "colab_type": "code",
        "colab": {}
      },
      "source": [
        "#To do this, we will create a new data"
      ],
      "execution_count": null,
      "outputs": []
    },
    {
      "cell_type": "code",
      "metadata": {
        "scrolled": true,
        "id": "MrW2T0rJT4q8",
        "colab_type": "code",
        "colab": {},
        "outputId": "68996371-30f3-4e31-920f-9f20c6caab83"
      },
      "source": [
        "df = pd.DataFrame([ ['Alexis', 'Biology', 67],\n",
        "\n",
        "                    ['Jers', 'Biology', 42],\n",
        "\n",
        "                    ['Mimi','Chemistry', 56],\n",
        "\n",
        "                    ['John','Math', 84],\n",
        "\n",
        "                    ['Mike','Biology', 72],\n",
        "\n",
        "                    ['Ava','Chemistry', 69], \n",
        "                  ['Ava','Math', 86],\n",
        "                  ['John','Chemistry', 53],\n",
        "                  ['Alexis','Math', 43],\n",
        "                  ['Mike','Chemistry', 58]])\n",
        "\n",
        "df.columns = ['Name', 'Course', 'Score']\n",
        "\n",
        "df\n"
      ],
      "execution_count": null,
      "outputs": [
        {
          "output_type": "execute_result",
          "data": {
            "text/html": [
              "<div>\n",
              "<style scoped>\n",
              "    .dataframe tbody tr th:only-of-type {\n",
              "        vertical-align: middle;\n",
              "    }\n",
              "\n",
              "    .dataframe tbody tr th {\n",
              "        vertical-align: top;\n",
              "    }\n",
              "\n",
              "    .dataframe thead th {\n",
              "        text-align: right;\n",
              "    }\n",
              "</style>\n",
              "<table border=\"1\" class=\"dataframe\">\n",
              "  <thead>\n",
              "    <tr style=\"text-align: right;\">\n",
              "      <th></th>\n",
              "      <th>Name</th>\n",
              "      <th>Course</th>\n",
              "      <th>Score</th>\n",
              "    </tr>\n",
              "  </thead>\n",
              "  <tbody>\n",
              "    <tr>\n",
              "      <th>0</th>\n",
              "      <td>Alexis</td>\n",
              "      <td>Biology</td>\n",
              "      <td>67</td>\n",
              "    </tr>\n",
              "    <tr>\n",
              "      <th>1</th>\n",
              "      <td>Jers</td>\n",
              "      <td>Biology</td>\n",
              "      <td>42</td>\n",
              "    </tr>\n",
              "    <tr>\n",
              "      <th>2</th>\n",
              "      <td>Mimi</td>\n",
              "      <td>Chemistry</td>\n",
              "      <td>56</td>\n",
              "    </tr>\n",
              "    <tr>\n",
              "      <th>3</th>\n",
              "      <td>John</td>\n",
              "      <td>Math</td>\n",
              "      <td>84</td>\n",
              "    </tr>\n",
              "    <tr>\n",
              "      <th>4</th>\n",
              "      <td>Mike</td>\n",
              "      <td>Biology</td>\n",
              "      <td>72</td>\n",
              "    </tr>\n",
              "    <tr>\n",
              "      <th>5</th>\n",
              "      <td>Ava</td>\n",
              "      <td>Chemistry</td>\n",
              "      <td>69</td>\n",
              "    </tr>\n",
              "    <tr>\n",
              "      <th>6</th>\n",
              "      <td>Ava</td>\n",
              "      <td>Math</td>\n",
              "      <td>86</td>\n",
              "    </tr>\n",
              "    <tr>\n",
              "      <th>7</th>\n",
              "      <td>John</td>\n",
              "      <td>Chemistry</td>\n",
              "      <td>53</td>\n",
              "    </tr>\n",
              "    <tr>\n",
              "      <th>8</th>\n",
              "      <td>Alexis</td>\n",
              "      <td>Math</td>\n",
              "      <td>43</td>\n",
              "    </tr>\n",
              "    <tr>\n",
              "      <th>9</th>\n",
              "      <td>Mike</td>\n",
              "      <td>Chemistry</td>\n",
              "      <td>58</td>\n",
              "    </tr>\n",
              "  </tbody>\n",
              "</table>\n",
              "</div>"
            ],
            "text/plain": [
              "     Name     Course  Score\n",
              "0  Alexis    Biology     67\n",
              "1    Jers    Biology     42\n",
              "2    Mimi  Chemistry     56\n",
              "3    John       Math     84\n",
              "4    Mike    Biology     72\n",
              "5     Ava  Chemistry     69\n",
              "6     Ava       Math     86\n",
              "7    John  Chemistry     53\n",
              "8  Alexis       Math     43\n",
              "9    Mike  Chemistry     58"
            ]
          },
          "metadata": {
            "tags": []
          },
          "execution_count": 91
        }
      ]
    },
    {
      "cell_type": "code",
      "metadata": {
        "id": "GOOgTOPAT4rB",
        "colab_type": "code",
        "colab": {},
        "outputId": "3591a6b1-5feb-416d-a354-a5c26a49cb85"
      },
      "source": [
        "#We want to calculate the mean of each student's course\n",
        "\n",
        "df.groupby('Name').mean()"
      ],
      "execution_count": null,
      "outputs": [
        {
          "output_type": "execute_result",
          "data": {
            "text/html": [
              "<div>\n",
              "<style scoped>\n",
              "    .dataframe tbody tr th:only-of-type {\n",
              "        vertical-align: middle;\n",
              "    }\n",
              "\n",
              "    .dataframe tbody tr th {\n",
              "        vertical-align: top;\n",
              "    }\n",
              "\n",
              "    .dataframe thead th {\n",
              "        text-align: right;\n",
              "    }\n",
              "</style>\n",
              "<table border=\"1\" class=\"dataframe\">\n",
              "  <thead>\n",
              "    <tr style=\"text-align: right;\">\n",
              "      <th></th>\n",
              "      <th>Score</th>\n",
              "    </tr>\n",
              "    <tr>\n",
              "      <th>Name</th>\n",
              "      <th></th>\n",
              "    </tr>\n",
              "  </thead>\n",
              "  <tbody>\n",
              "    <tr>\n",
              "      <th>Alexis</th>\n",
              "      <td>55.0</td>\n",
              "    </tr>\n",
              "    <tr>\n",
              "      <th>Ava</th>\n",
              "      <td>77.5</td>\n",
              "    </tr>\n",
              "    <tr>\n",
              "      <th>Jers</th>\n",
              "      <td>42.0</td>\n",
              "    </tr>\n",
              "    <tr>\n",
              "      <th>John</th>\n",
              "      <td>68.5</td>\n",
              "    </tr>\n",
              "    <tr>\n",
              "      <th>Mike</th>\n",
              "      <td>65.0</td>\n",
              "    </tr>\n",
              "    <tr>\n",
              "      <th>Mimi</th>\n",
              "      <td>56.0</td>\n",
              "    </tr>\n",
              "  </tbody>\n",
              "</table>\n",
              "</div>"
            ],
            "text/plain": [
              "        Score\n",
              "Name         \n",
              "Alexis   55.0\n",
              "Ava      77.5\n",
              "Jers     42.0\n",
              "John     68.5\n",
              "Mike     65.0\n",
              "Mimi     56.0"
            ]
          },
          "metadata": {
            "tags": []
          },
          "execution_count": 92
        }
      ]
    },
    {
      "cell_type": "code",
      "metadata": {
        "id": "cJeqMH_eT4rJ",
        "colab_type": "code",
        "colab": {},
        "outputId": "eef58d5d-4ce8-4076-edc1-257655768481"
      },
      "source": [
        "#The sum of each student's score\n",
        "\n",
        "df.groupby('Name').sum()"
      ],
      "execution_count": null,
      "outputs": [
        {
          "output_type": "execute_result",
          "data": {
            "text/html": [
              "<div>\n",
              "<style scoped>\n",
              "    .dataframe tbody tr th:only-of-type {\n",
              "        vertical-align: middle;\n",
              "    }\n",
              "\n",
              "    .dataframe tbody tr th {\n",
              "        vertical-align: top;\n",
              "    }\n",
              "\n",
              "    .dataframe thead th {\n",
              "        text-align: right;\n",
              "    }\n",
              "</style>\n",
              "<table border=\"1\" class=\"dataframe\">\n",
              "  <thead>\n",
              "    <tr style=\"text-align: right;\">\n",
              "      <th></th>\n",
              "      <th>Score</th>\n",
              "    </tr>\n",
              "    <tr>\n",
              "      <th>Name</th>\n",
              "      <th></th>\n",
              "    </tr>\n",
              "  </thead>\n",
              "  <tbody>\n",
              "    <tr>\n",
              "      <th>Alexis</th>\n",
              "      <td>110</td>\n",
              "    </tr>\n",
              "    <tr>\n",
              "      <th>Ava</th>\n",
              "      <td>155</td>\n",
              "    </tr>\n",
              "    <tr>\n",
              "      <th>Jers</th>\n",
              "      <td>42</td>\n",
              "    </tr>\n",
              "    <tr>\n",
              "      <th>John</th>\n",
              "      <td>137</td>\n",
              "    </tr>\n",
              "    <tr>\n",
              "      <th>Mike</th>\n",
              "      <td>130</td>\n",
              "    </tr>\n",
              "    <tr>\n",
              "      <th>Mimi</th>\n",
              "      <td>56</td>\n",
              "    </tr>\n",
              "  </tbody>\n",
              "</table>\n",
              "</div>"
            ],
            "text/plain": [
              "        Score\n",
              "Name         \n",
              "Alexis    110\n",
              "Ava       155\n",
              "Jers       42\n",
              "John      137\n",
              "Mike      130\n",
              "Mimi       56"
            ]
          },
          "metadata": {
            "tags": []
          },
          "execution_count": 93
        }
      ]
    },
    {
      "cell_type": "code",
      "metadata": {
        "id": "-lxwD5STT4rN",
        "colab_type": "code",
        "colab": {},
        "outputId": "73a8247f-63c9-4234-a520-746957a6f323"
      },
      "source": [
        "#The standard deviation of each student's score\n",
        "#Some student won't have std because they only have a single record in the DataFrame\n",
        "\n",
        "df.groupby('Name').std()"
      ],
      "execution_count": null,
      "outputs": [
        {
          "output_type": "execute_result",
          "data": {
            "text/html": [
              "<div>\n",
              "<style scoped>\n",
              "    .dataframe tbody tr th:only-of-type {\n",
              "        vertical-align: middle;\n",
              "    }\n",
              "\n",
              "    .dataframe tbody tr th {\n",
              "        vertical-align: top;\n",
              "    }\n",
              "\n",
              "    .dataframe thead th {\n",
              "        text-align: right;\n",
              "    }\n",
              "</style>\n",
              "<table border=\"1\" class=\"dataframe\">\n",
              "  <thead>\n",
              "    <tr style=\"text-align: right;\">\n",
              "      <th></th>\n",
              "      <th>Score</th>\n",
              "    </tr>\n",
              "    <tr>\n",
              "      <th>Name</th>\n",
              "      <th></th>\n",
              "    </tr>\n",
              "  </thead>\n",
              "  <tbody>\n",
              "    <tr>\n",
              "      <th>Alexis</th>\n",
              "      <td>16.970563</td>\n",
              "    </tr>\n",
              "    <tr>\n",
              "      <th>Ava</th>\n",
              "      <td>12.020815</td>\n",
              "    </tr>\n",
              "    <tr>\n",
              "      <th>Jers</th>\n",
              "      <td>NaN</td>\n",
              "    </tr>\n",
              "    <tr>\n",
              "      <th>John</th>\n",
              "      <td>21.920310</td>\n",
              "    </tr>\n",
              "    <tr>\n",
              "      <th>Mike</th>\n",
              "      <td>9.899495</td>\n",
              "    </tr>\n",
              "    <tr>\n",
              "      <th>Mimi</th>\n",
              "      <td>NaN</td>\n",
              "    </tr>\n",
              "  </tbody>\n",
              "</table>\n",
              "</div>"
            ],
            "text/plain": [
              "            Score\n",
              "Name             \n",
              "Alexis  16.970563\n",
              "Ava     12.020815\n",
              "Jers          NaN\n",
              "John    21.920310\n",
              "Mike     9.899495\n",
              "Mimi          NaN"
            ]
          },
          "metadata": {
            "tags": []
          },
          "execution_count": 94
        }
      ]
    },
    {
      "cell_type": "code",
      "metadata": {
        "id": "GpCwT5nqT4rS",
        "colab_type": "code",
        "colab": {},
        "outputId": "2a55d82e-65b6-4fde-cb93-cb0356ab4793"
      },
      "source": [
        "#Counts the number of observations\n",
        "\n",
        "df.groupby('Course').count()"
      ],
      "execution_count": null,
      "outputs": [
        {
          "output_type": "execute_result",
          "data": {
            "text/html": [
              "<div>\n",
              "<style scoped>\n",
              "    .dataframe tbody tr th:only-of-type {\n",
              "        vertical-align: middle;\n",
              "    }\n",
              "\n",
              "    .dataframe tbody tr th {\n",
              "        vertical-align: top;\n",
              "    }\n",
              "\n",
              "    .dataframe thead th {\n",
              "        text-align: right;\n",
              "    }\n",
              "</style>\n",
              "<table border=\"1\" class=\"dataframe\">\n",
              "  <thead>\n",
              "    <tr style=\"text-align: right;\">\n",
              "      <th></th>\n",
              "      <th>Name</th>\n",
              "      <th>Score</th>\n",
              "    </tr>\n",
              "    <tr>\n",
              "      <th>Course</th>\n",
              "      <th></th>\n",
              "      <th></th>\n",
              "    </tr>\n",
              "  </thead>\n",
              "  <tbody>\n",
              "    <tr>\n",
              "      <th>Biology</th>\n",
              "      <td>3</td>\n",
              "      <td>3</td>\n",
              "    </tr>\n",
              "    <tr>\n",
              "      <th>Chemistry</th>\n",
              "      <td>4</td>\n",
              "      <td>4</td>\n",
              "    </tr>\n",
              "    <tr>\n",
              "      <th>Math</th>\n",
              "      <td>3</td>\n",
              "      <td>3</td>\n",
              "    </tr>\n",
              "  </tbody>\n",
              "</table>\n",
              "</div>"
            ],
            "text/plain": [
              "           Name  Score\n",
              "Course                \n",
              "Biology       3      3\n",
              "Chemistry     4      4\n",
              "Math          3      3"
            ]
          },
          "metadata": {
            "tags": []
          },
          "execution_count": 95
        }
      ]
    },
    {
      "cell_type": "code",
      "metadata": {
        "id": "xblmsGRZT4rY",
        "colab_type": "code",
        "colab": {},
        "outputId": "49cdc848-8c06-4f4f-f4d5-20d8da11c6d3"
      },
      "source": [
        "#Returns the maximum value\n",
        "\n",
        "df.groupby('Course').max()"
      ],
      "execution_count": null,
      "outputs": [
        {
          "output_type": "execute_result",
          "data": {
            "text/html": [
              "<div>\n",
              "<style scoped>\n",
              "    .dataframe tbody tr th:only-of-type {\n",
              "        vertical-align: middle;\n",
              "    }\n",
              "\n",
              "    .dataframe tbody tr th {\n",
              "        vertical-align: top;\n",
              "    }\n",
              "\n",
              "    .dataframe thead th {\n",
              "        text-align: right;\n",
              "    }\n",
              "</style>\n",
              "<table border=\"1\" class=\"dataframe\">\n",
              "  <thead>\n",
              "    <tr style=\"text-align: right;\">\n",
              "      <th></th>\n",
              "      <th>Name</th>\n",
              "      <th>Score</th>\n",
              "    </tr>\n",
              "    <tr>\n",
              "      <th>Course</th>\n",
              "      <th></th>\n",
              "      <th></th>\n",
              "    </tr>\n",
              "  </thead>\n",
              "  <tbody>\n",
              "    <tr>\n",
              "      <th>Biology</th>\n",
              "      <td>Mike</td>\n",
              "      <td>72</td>\n",
              "    </tr>\n",
              "    <tr>\n",
              "      <th>Chemistry</th>\n",
              "      <td>Mimi</td>\n",
              "      <td>69</td>\n",
              "    </tr>\n",
              "    <tr>\n",
              "      <th>Math</th>\n",
              "      <td>John</td>\n",
              "      <td>86</td>\n",
              "    </tr>\n",
              "  </tbody>\n",
              "</table>\n",
              "</div>"
            ],
            "text/plain": [
              "           Name  Score\n",
              "Course                \n",
              "Biology    Mike     72\n",
              "Chemistry  Mimi     69\n",
              "Math       John     86"
            ]
          },
          "metadata": {
            "tags": []
          },
          "execution_count": 96
        }
      ]
    },
    {
      "cell_type": "code",
      "metadata": {
        "id": "8N-mBo98T4rd",
        "colab_type": "code",
        "colab": {},
        "outputId": "fe58c4aa-7b6e-4066-e62b-e679a7aea42e"
      },
      "source": [
        "#Returns the minimum value\n",
        "\n",
        "df.groupby('Course').min()"
      ],
      "execution_count": null,
      "outputs": [
        {
          "output_type": "execute_result",
          "data": {
            "text/html": [
              "<div>\n",
              "<style scoped>\n",
              "    .dataframe tbody tr th:only-of-type {\n",
              "        vertical-align: middle;\n",
              "    }\n",
              "\n",
              "    .dataframe tbody tr th {\n",
              "        vertical-align: top;\n",
              "    }\n",
              "\n",
              "    .dataframe thead th {\n",
              "        text-align: right;\n",
              "    }\n",
              "</style>\n",
              "<table border=\"1\" class=\"dataframe\">\n",
              "  <thead>\n",
              "    <tr style=\"text-align: right;\">\n",
              "      <th></th>\n",
              "      <th>Name</th>\n",
              "      <th>Score</th>\n",
              "    </tr>\n",
              "    <tr>\n",
              "      <th>Course</th>\n",
              "      <th></th>\n",
              "      <th></th>\n",
              "    </tr>\n",
              "  </thead>\n",
              "  <tbody>\n",
              "    <tr>\n",
              "      <th>Biology</th>\n",
              "      <td>Alexis</td>\n",
              "      <td>42</td>\n",
              "    </tr>\n",
              "    <tr>\n",
              "      <th>Chemistry</th>\n",
              "      <td>Ava</td>\n",
              "      <td>53</td>\n",
              "    </tr>\n",
              "    <tr>\n",
              "      <th>Math</th>\n",
              "      <td>Alexis</td>\n",
              "      <td>43</td>\n",
              "    </tr>\n",
              "  </tbody>\n",
              "</table>\n",
              "</div>"
            ],
            "text/plain": [
              "             Name  Score\n",
              "Course                  \n",
              "Biology    Alexis     42\n",
              "Chemistry     Ava     53\n",
              "Math       Alexis     43"
            ]
          },
          "metadata": {
            "tags": []
          },
          "execution_count": 97
        }
      ]
    },
    {
      "cell_type": "markdown",
      "metadata": {
        "id": "xV70NfJ-T4ri",
        "colab_type": "text"
      },
      "source": [
        "<h3>DataFrame concatenation</h3>"
      ]
    },
    {
      "cell_type": "markdown",
      "metadata": {
        "id": "LDPmHDuLT4ri",
        "colab_type": "text"
      },
      "source": [
        "<div class=\"alert alert-info\">\n",
        "\n",
        "We can also add DataFrame together(concatenation) just like we have in strings. This can be done using the <b>pd.concat</b> method. By default, pandas will concatenate along the rows(axis=0). To change this, add the argument axis = 1 to the pd.concat() method. However, in order to perform DataFrame concatenation, the two DataFrames must have the same columns.\n",
        "</div>"
      ]
    },
    {
      "cell_type": "code",
      "metadata": {
        "id": "6AqEfSVZT4rk",
        "colab_type": "code",
        "colab": {}
      },
      "source": [
        "#Test concat with different columns and 3 dataframes"
      ],
      "execution_count": null,
      "outputs": []
    },
    {
      "cell_type": "code",
      "metadata": {
        "id": "3_hc0i1sT4ro",
        "colab_type": "code",
        "colab": {}
      },
      "source": [
        "df2 = pd.DataFrame([ ['Alexis', 'Physics', 67],\n",
        "\n",
        "                    ['Jers', 'Physics', 42],\n",
        "\n",
        "                    ['Mimi','English', 56],\n",
        "\n",
        "                    ['John','English', 84],\n",
        "\n",
        "                    ['Mike','Physics', 72],\n",
        "\n",
        "                    ['Ava','English', 69], \n",
        "                  ['Ava','Art', 86],\n",
        "                  ['John','Art', 53],\n",
        "                  ['Alexis','English', 43],\n",
        "                  ['Mike','Art', 58]])\n",
        "\n",
        "df2.columns = ['Name', 'Course', 'Score']"
      ],
      "execution_count": null,
      "outputs": []
    },
    {
      "cell_type": "code",
      "metadata": {
        "id": "-NLiZuj5T4ry",
        "colab_type": "code",
        "colab": {},
        "outputId": "d401b4ed-78d3-49c9-e23f-8b2a53d124cf"
      },
      "source": [
        "pd.concat([df, df2])"
      ],
      "execution_count": null,
      "outputs": [
        {
          "output_type": "execute_result",
          "data": {
            "text/html": [
              "<div>\n",
              "<style scoped>\n",
              "    .dataframe tbody tr th:only-of-type {\n",
              "        vertical-align: middle;\n",
              "    }\n",
              "\n",
              "    .dataframe tbody tr th {\n",
              "        vertical-align: top;\n",
              "    }\n",
              "\n",
              "    .dataframe thead th {\n",
              "        text-align: right;\n",
              "    }\n",
              "</style>\n",
              "<table border=\"1\" class=\"dataframe\">\n",
              "  <thead>\n",
              "    <tr style=\"text-align: right;\">\n",
              "      <th></th>\n",
              "      <th>Name</th>\n",
              "      <th>Course</th>\n",
              "      <th>Score</th>\n",
              "    </tr>\n",
              "  </thead>\n",
              "  <tbody>\n",
              "    <tr>\n",
              "      <th>0</th>\n",
              "      <td>Alexis</td>\n",
              "      <td>Biology</td>\n",
              "      <td>67</td>\n",
              "    </tr>\n",
              "    <tr>\n",
              "      <th>1</th>\n",
              "      <td>Jers</td>\n",
              "      <td>Biology</td>\n",
              "      <td>42</td>\n",
              "    </tr>\n",
              "    <tr>\n",
              "      <th>2</th>\n",
              "      <td>Mimi</td>\n",
              "      <td>Chemistry</td>\n",
              "      <td>56</td>\n",
              "    </tr>\n",
              "    <tr>\n",
              "      <th>3</th>\n",
              "      <td>John</td>\n",
              "      <td>Math</td>\n",
              "      <td>84</td>\n",
              "    </tr>\n",
              "    <tr>\n",
              "      <th>4</th>\n",
              "      <td>Mike</td>\n",
              "      <td>Biology</td>\n",
              "      <td>72</td>\n",
              "    </tr>\n",
              "    <tr>\n",
              "      <th>5</th>\n",
              "      <td>Ava</td>\n",
              "      <td>Chemistry</td>\n",
              "      <td>69</td>\n",
              "    </tr>\n",
              "    <tr>\n",
              "      <th>6</th>\n",
              "      <td>Ava</td>\n",
              "      <td>Math</td>\n",
              "      <td>86</td>\n",
              "    </tr>\n",
              "    <tr>\n",
              "      <th>7</th>\n",
              "      <td>John</td>\n",
              "      <td>Chemistry</td>\n",
              "      <td>53</td>\n",
              "    </tr>\n",
              "    <tr>\n",
              "      <th>8</th>\n",
              "      <td>Alexis</td>\n",
              "      <td>Math</td>\n",
              "      <td>43</td>\n",
              "    </tr>\n",
              "    <tr>\n",
              "      <th>9</th>\n",
              "      <td>Mike</td>\n",
              "      <td>Chemistry</td>\n",
              "      <td>58</td>\n",
              "    </tr>\n",
              "    <tr>\n",
              "      <th>0</th>\n",
              "      <td>Alexis</td>\n",
              "      <td>Physics</td>\n",
              "      <td>67</td>\n",
              "    </tr>\n",
              "    <tr>\n",
              "      <th>1</th>\n",
              "      <td>Jers</td>\n",
              "      <td>Physics</td>\n",
              "      <td>42</td>\n",
              "    </tr>\n",
              "    <tr>\n",
              "      <th>2</th>\n",
              "      <td>Mimi</td>\n",
              "      <td>English</td>\n",
              "      <td>56</td>\n",
              "    </tr>\n",
              "    <tr>\n",
              "      <th>3</th>\n",
              "      <td>John</td>\n",
              "      <td>English</td>\n",
              "      <td>84</td>\n",
              "    </tr>\n",
              "    <tr>\n",
              "      <th>4</th>\n",
              "      <td>Mike</td>\n",
              "      <td>Physics</td>\n",
              "      <td>72</td>\n",
              "    </tr>\n",
              "    <tr>\n",
              "      <th>5</th>\n",
              "      <td>Ava</td>\n",
              "      <td>English</td>\n",
              "      <td>69</td>\n",
              "    </tr>\n",
              "    <tr>\n",
              "      <th>6</th>\n",
              "      <td>Ava</td>\n",
              "      <td>Art</td>\n",
              "      <td>86</td>\n",
              "    </tr>\n",
              "    <tr>\n",
              "      <th>7</th>\n",
              "      <td>John</td>\n",
              "      <td>Art</td>\n",
              "      <td>53</td>\n",
              "    </tr>\n",
              "    <tr>\n",
              "      <th>8</th>\n",
              "      <td>Alexis</td>\n",
              "      <td>English</td>\n",
              "      <td>43</td>\n",
              "    </tr>\n",
              "    <tr>\n",
              "      <th>9</th>\n",
              "      <td>Mike</td>\n",
              "      <td>Art</td>\n",
              "      <td>58</td>\n",
              "    </tr>\n",
              "  </tbody>\n",
              "</table>\n",
              "</div>"
            ],
            "text/plain": [
              "     Name     Course  Score\n",
              "0  Alexis    Biology     67\n",
              "1    Jers    Biology     42\n",
              "2    Mimi  Chemistry     56\n",
              "3    John       Math     84\n",
              "4    Mike    Biology     72\n",
              "5     Ava  Chemistry     69\n",
              "6     Ava       Math     86\n",
              "7    John  Chemistry     53\n",
              "8  Alexis       Math     43\n",
              "9    Mike  Chemistry     58\n",
              "0  Alexis    Physics     67\n",
              "1    Jers    Physics     42\n",
              "2    Mimi    English     56\n",
              "3    John    English     84\n",
              "4    Mike    Physics     72\n",
              "5     Ava    English     69\n",
              "6     Ava        Art     86\n",
              "7    John        Art     53\n",
              "8  Alexis    English     43\n",
              "9    Mike        Art     58"
            ]
          },
          "metadata": {
            "tags": []
          },
          "execution_count": 100
        }
      ]
    },
    {
      "cell_type": "code",
      "metadata": {
        "id": "Oc9GpSybT4r7",
        "colab_type": "code",
        "colab": {},
        "outputId": "86f5c614-00e3-4097-c3f1-bbac0f6e50bd"
      },
      "source": [
        "pd.concat([df, df2], axis = 1)"
      ],
      "execution_count": null,
      "outputs": [
        {
          "output_type": "execute_result",
          "data": {
            "text/html": [
              "<div>\n",
              "<style scoped>\n",
              "    .dataframe tbody tr th:only-of-type {\n",
              "        vertical-align: middle;\n",
              "    }\n",
              "\n",
              "    .dataframe tbody tr th {\n",
              "        vertical-align: top;\n",
              "    }\n",
              "\n",
              "    .dataframe thead th {\n",
              "        text-align: right;\n",
              "    }\n",
              "</style>\n",
              "<table border=\"1\" class=\"dataframe\">\n",
              "  <thead>\n",
              "    <tr style=\"text-align: right;\">\n",
              "      <th></th>\n",
              "      <th>Name</th>\n",
              "      <th>Course</th>\n",
              "      <th>Score</th>\n",
              "      <th>Name</th>\n",
              "      <th>Course</th>\n",
              "      <th>Score</th>\n",
              "    </tr>\n",
              "  </thead>\n",
              "  <tbody>\n",
              "    <tr>\n",
              "      <th>0</th>\n",
              "      <td>Alexis</td>\n",
              "      <td>Biology</td>\n",
              "      <td>67</td>\n",
              "      <td>Alexis</td>\n",
              "      <td>Physics</td>\n",
              "      <td>67</td>\n",
              "    </tr>\n",
              "    <tr>\n",
              "      <th>1</th>\n",
              "      <td>Jers</td>\n",
              "      <td>Biology</td>\n",
              "      <td>42</td>\n",
              "      <td>Jers</td>\n",
              "      <td>Physics</td>\n",
              "      <td>42</td>\n",
              "    </tr>\n",
              "    <tr>\n",
              "      <th>2</th>\n",
              "      <td>Mimi</td>\n",
              "      <td>Chemistry</td>\n",
              "      <td>56</td>\n",
              "      <td>Mimi</td>\n",
              "      <td>English</td>\n",
              "      <td>56</td>\n",
              "    </tr>\n",
              "    <tr>\n",
              "      <th>3</th>\n",
              "      <td>John</td>\n",
              "      <td>Math</td>\n",
              "      <td>84</td>\n",
              "      <td>John</td>\n",
              "      <td>English</td>\n",
              "      <td>84</td>\n",
              "    </tr>\n",
              "    <tr>\n",
              "      <th>4</th>\n",
              "      <td>Mike</td>\n",
              "      <td>Biology</td>\n",
              "      <td>72</td>\n",
              "      <td>Mike</td>\n",
              "      <td>Physics</td>\n",
              "      <td>72</td>\n",
              "    </tr>\n",
              "    <tr>\n",
              "      <th>5</th>\n",
              "      <td>Ava</td>\n",
              "      <td>Chemistry</td>\n",
              "      <td>69</td>\n",
              "      <td>Ava</td>\n",
              "      <td>English</td>\n",
              "      <td>69</td>\n",
              "    </tr>\n",
              "    <tr>\n",
              "      <th>6</th>\n",
              "      <td>Ava</td>\n",
              "      <td>Math</td>\n",
              "      <td>86</td>\n",
              "      <td>Ava</td>\n",
              "      <td>Art</td>\n",
              "      <td>86</td>\n",
              "    </tr>\n",
              "    <tr>\n",
              "      <th>7</th>\n",
              "      <td>John</td>\n",
              "      <td>Chemistry</td>\n",
              "      <td>53</td>\n",
              "      <td>John</td>\n",
              "      <td>Art</td>\n",
              "      <td>53</td>\n",
              "    </tr>\n",
              "    <tr>\n",
              "      <th>8</th>\n",
              "      <td>Alexis</td>\n",
              "      <td>Math</td>\n",
              "      <td>43</td>\n",
              "      <td>Alexis</td>\n",
              "      <td>English</td>\n",
              "      <td>43</td>\n",
              "    </tr>\n",
              "    <tr>\n",
              "      <th>9</th>\n",
              "      <td>Mike</td>\n",
              "      <td>Chemistry</td>\n",
              "      <td>58</td>\n",
              "      <td>Mike</td>\n",
              "      <td>Art</td>\n",
              "      <td>58</td>\n",
              "    </tr>\n",
              "  </tbody>\n",
              "</table>\n",
              "</div>"
            ],
            "text/plain": [
              "     Name     Course  Score    Name   Course  Score\n",
              "0  Alexis    Biology     67  Alexis  Physics     67\n",
              "1    Jers    Biology     42    Jers  Physics     42\n",
              "2    Mimi  Chemistry     56    Mimi  English     56\n",
              "3    John       Math     84    John  English     84\n",
              "4    Mike    Biology     72    Mike  Physics     72\n",
              "5     Ava  Chemistry     69     Ava  English     69\n",
              "6     Ava       Math     86     Ava      Art     86\n",
              "7    John  Chemistry     53    John      Art     53\n",
              "8  Alexis       Math     43  Alexis  English     43\n",
              "9    Mike  Chemistry     58    Mike      Art     58"
            ]
          },
          "metadata": {
            "tags": []
          },
          "execution_count": 101
        }
      ]
    },
    {
      "cell_type": "markdown",
      "metadata": {
        "id": "MdQAfgPzT4sF",
        "colab_type": "text"
      },
      "source": [
        "<h3>Merging DataFrame in Pandas</h3>"
      ]
    },
    {
      "cell_type": "markdown",
      "metadata": {
        "id": "OcLpFD6RT4sG",
        "colab_type": "text"
      },
      "source": [
        "<div class=\"alert alert-info\">\n",
        "You can also merge two pandas DataFrames along a common column using the <b>merge</b> method. If you are familiar with the SQL programming language, the pandas merge method is similar to the join operation in SQL. There are different ways you can merge data frames. They are: Inner, Outer, Left, and right. To specify the type of merge you want, you simply specify it in the <i>how</i> argument.</div>"
      ]
    },
    {
      "cell_type": "code",
      "metadata": {
        "id": "92qqJrW-T4sH",
        "colab_type": "code",
        "colab": {}
      },
      "source": [
        "first_data_frame = pd.DataFrame({'Name': ['Mac', 'Mike', 'Dave', 'Jane', 'Kate'],\n",
        "\n",
        "                     'Sex': ['Male', 'Male', 'Male', 'Female', 'Female'],\n",
        "\n",
        "                     'Age': ['24', '22', '21', '23', '21']})\n",
        "\n",
        "   \n",
        "\n",
        "second_data_frame = pd.DataFrame({'Name': ['Mac', 'Mike', 'Dave', 'Jane', 'Kate'],\n",
        "\n",
        "                          'Email': ['mac@gmail.com', 'mike@gmail.com', 'dave@gmail.com', 'jane@gmail.com', 'kate@gmail.com'],\n",
        "\n",
        "                          'Department': ['Software', 'Sales', 'Finance', 'Marketing', 'Software']})    "
      ],
      "execution_count": null,
      "outputs": []
    },
    {
      "cell_type": "code",
      "metadata": {
        "id": "fSEFsG2kT4sM",
        "colab_type": "code",
        "colab": {},
        "outputId": "0936e0c5-07da-4fb4-e73d-cbba1e5e737c"
      },
      "source": [
        "first_data_frame"
      ],
      "execution_count": null,
      "outputs": [
        {
          "output_type": "execute_result",
          "data": {
            "text/html": [
              "<div>\n",
              "<style scoped>\n",
              "    .dataframe tbody tr th:only-of-type {\n",
              "        vertical-align: middle;\n",
              "    }\n",
              "\n",
              "    .dataframe tbody tr th {\n",
              "        vertical-align: top;\n",
              "    }\n",
              "\n",
              "    .dataframe thead th {\n",
              "        text-align: right;\n",
              "    }\n",
              "</style>\n",
              "<table border=\"1\" class=\"dataframe\">\n",
              "  <thead>\n",
              "    <tr style=\"text-align: right;\">\n",
              "      <th></th>\n",
              "      <th>Name</th>\n",
              "      <th>Sex</th>\n",
              "      <th>Age</th>\n",
              "    </tr>\n",
              "  </thead>\n",
              "  <tbody>\n",
              "    <tr>\n",
              "      <th>0</th>\n",
              "      <td>Mac</td>\n",
              "      <td>Male</td>\n",
              "      <td>24</td>\n",
              "    </tr>\n",
              "    <tr>\n",
              "      <th>1</th>\n",
              "      <td>Mike</td>\n",
              "      <td>Male</td>\n",
              "      <td>22</td>\n",
              "    </tr>\n",
              "    <tr>\n",
              "      <th>2</th>\n",
              "      <td>Dave</td>\n",
              "      <td>Male</td>\n",
              "      <td>21</td>\n",
              "    </tr>\n",
              "    <tr>\n",
              "      <th>3</th>\n",
              "      <td>Jane</td>\n",
              "      <td>Female</td>\n",
              "      <td>23</td>\n",
              "    </tr>\n",
              "    <tr>\n",
              "      <th>4</th>\n",
              "      <td>Kate</td>\n",
              "      <td>Female</td>\n",
              "      <td>21</td>\n",
              "    </tr>\n",
              "  </tbody>\n",
              "</table>\n",
              "</div>"
            ],
            "text/plain": [
              "   Name     Sex Age\n",
              "0   Mac    Male  24\n",
              "1  Mike    Male  22\n",
              "2  Dave    Male  21\n",
              "3  Jane  Female  23\n",
              "4  Kate  Female  21"
            ]
          },
          "metadata": {
            "tags": []
          },
          "execution_count": 103
        }
      ]
    },
    {
      "cell_type": "code",
      "metadata": {
        "id": "q_SltWaYT4sR",
        "colab_type": "code",
        "colab": {},
        "outputId": "2d65be9b-feb2-4ace-da9e-538fd8086747"
      },
      "source": [
        "second_data_frame"
      ],
      "execution_count": null,
      "outputs": [
        {
          "output_type": "execute_result",
          "data": {
            "text/html": [
              "<div>\n",
              "<style scoped>\n",
              "    .dataframe tbody tr th:only-of-type {\n",
              "        vertical-align: middle;\n",
              "    }\n",
              "\n",
              "    .dataframe tbody tr th {\n",
              "        vertical-align: top;\n",
              "    }\n",
              "\n",
              "    .dataframe thead th {\n",
              "        text-align: right;\n",
              "    }\n",
              "</style>\n",
              "<table border=\"1\" class=\"dataframe\">\n",
              "  <thead>\n",
              "    <tr style=\"text-align: right;\">\n",
              "      <th></th>\n",
              "      <th>Name</th>\n",
              "      <th>Email</th>\n",
              "      <th>Department</th>\n",
              "    </tr>\n",
              "  </thead>\n",
              "  <tbody>\n",
              "    <tr>\n",
              "      <th>0</th>\n",
              "      <td>Mac</td>\n",
              "      <td>mac@gmail.com</td>\n",
              "      <td>Software</td>\n",
              "    </tr>\n",
              "    <tr>\n",
              "      <th>1</th>\n",
              "      <td>Mike</td>\n",
              "      <td>mike@gmail.com</td>\n",
              "      <td>Sales</td>\n",
              "    </tr>\n",
              "    <tr>\n",
              "      <th>2</th>\n",
              "      <td>Dave</td>\n",
              "      <td>dave@gmail.com</td>\n",
              "      <td>Finance</td>\n",
              "    </tr>\n",
              "    <tr>\n",
              "      <th>3</th>\n",
              "      <td>Jane</td>\n",
              "      <td>jane@gmail.com</td>\n",
              "      <td>Marketing</td>\n",
              "    </tr>\n",
              "    <tr>\n",
              "      <th>4</th>\n",
              "      <td>Kate</td>\n",
              "      <td>kate@gmail.com</td>\n",
              "      <td>Software</td>\n",
              "    </tr>\n",
              "  </tbody>\n",
              "</table>\n",
              "</div>"
            ],
            "text/plain": [
              "   Name           Email Department\n",
              "0   Mac   mac@gmail.com   Software\n",
              "1  Mike  mike@gmail.com      Sales\n",
              "2  Dave  dave@gmail.com    Finance\n",
              "3  Jane  jane@gmail.com  Marketing\n",
              "4  Kate  kate@gmail.com   Software"
            ]
          },
          "metadata": {
            "tags": []
          },
          "execution_count": 104
        }
      ]
    },
    {
      "cell_type": "code",
      "metadata": {
        "id": "zVc_92qST4sV",
        "colab_type": "code",
        "colab": {},
        "outputId": "6f04f503-1325-4202-8684-882658524081"
      },
      "source": [
        "#Merging the two together using the common column(Name)\n",
        "\n",
        "pd.merge(first_data_frame, second_data_frame, how='inner', on='Name')"
      ],
      "execution_count": null,
      "outputs": [
        {
          "output_type": "execute_result",
          "data": {
            "text/html": [
              "<div>\n",
              "<style scoped>\n",
              "    .dataframe tbody tr th:only-of-type {\n",
              "        vertical-align: middle;\n",
              "    }\n",
              "\n",
              "    .dataframe tbody tr th {\n",
              "        vertical-align: top;\n",
              "    }\n",
              "\n",
              "    .dataframe thead th {\n",
              "        text-align: right;\n",
              "    }\n",
              "</style>\n",
              "<table border=\"1\" class=\"dataframe\">\n",
              "  <thead>\n",
              "    <tr style=\"text-align: right;\">\n",
              "      <th></th>\n",
              "      <th>Name</th>\n",
              "      <th>Sex</th>\n",
              "      <th>Age</th>\n",
              "      <th>Email</th>\n",
              "      <th>Department</th>\n",
              "    </tr>\n",
              "  </thead>\n",
              "  <tbody>\n",
              "    <tr>\n",
              "      <th>0</th>\n",
              "      <td>Mac</td>\n",
              "      <td>Male</td>\n",
              "      <td>24</td>\n",
              "      <td>mac@gmail.com</td>\n",
              "      <td>Software</td>\n",
              "    </tr>\n",
              "    <tr>\n",
              "      <th>1</th>\n",
              "      <td>Mike</td>\n",
              "      <td>Male</td>\n",
              "      <td>22</td>\n",
              "      <td>mike@gmail.com</td>\n",
              "      <td>Sales</td>\n",
              "    </tr>\n",
              "    <tr>\n",
              "      <th>2</th>\n",
              "      <td>Dave</td>\n",
              "      <td>Male</td>\n",
              "      <td>21</td>\n",
              "      <td>dave@gmail.com</td>\n",
              "      <td>Finance</td>\n",
              "    </tr>\n",
              "    <tr>\n",
              "      <th>3</th>\n",
              "      <td>Jane</td>\n",
              "      <td>Female</td>\n",
              "      <td>23</td>\n",
              "      <td>jane@gmail.com</td>\n",
              "      <td>Marketing</td>\n",
              "    </tr>\n",
              "    <tr>\n",
              "      <th>4</th>\n",
              "      <td>Kate</td>\n",
              "      <td>Female</td>\n",
              "      <td>21</td>\n",
              "      <td>kate@gmail.com</td>\n",
              "      <td>Software</td>\n",
              "    </tr>\n",
              "  </tbody>\n",
              "</table>\n",
              "</div>"
            ],
            "text/plain": [
              "   Name     Sex Age           Email Department\n",
              "0   Mac    Male  24   mac@gmail.com   Software\n",
              "1  Mike    Male  22  mike@gmail.com      Sales\n",
              "2  Dave    Male  21  dave@gmail.com    Finance\n",
              "3  Jane  Female  23  jane@gmail.com  Marketing\n",
              "4  Kate  Female  21  kate@gmail.com   Software"
            ]
          },
          "metadata": {
            "tags": []
          },
          "execution_count": 105
        }
      ]
    },
    {
      "cell_type": "code",
      "metadata": {
        "id": "OaOWWKZdT4sZ",
        "colab_type": "code",
        "colab": {},
        "outputId": "06af02c2-91f6-45a1-ce47-fcd90ebd4b26"
      },
      "source": [
        "pd.merge(second_data_frame, first_data_frame, how='left', on='Name')"
      ],
      "execution_count": null,
      "outputs": [
        {
          "output_type": "execute_result",
          "data": {
            "text/html": [
              "<div>\n",
              "<style scoped>\n",
              "    .dataframe tbody tr th:only-of-type {\n",
              "        vertical-align: middle;\n",
              "    }\n",
              "\n",
              "    .dataframe tbody tr th {\n",
              "        vertical-align: top;\n",
              "    }\n",
              "\n",
              "    .dataframe thead th {\n",
              "        text-align: right;\n",
              "    }\n",
              "</style>\n",
              "<table border=\"1\" class=\"dataframe\">\n",
              "  <thead>\n",
              "    <tr style=\"text-align: right;\">\n",
              "      <th></th>\n",
              "      <th>Name</th>\n",
              "      <th>Email</th>\n",
              "      <th>Department</th>\n",
              "      <th>Sex</th>\n",
              "      <th>Age</th>\n",
              "    </tr>\n",
              "  </thead>\n",
              "  <tbody>\n",
              "    <tr>\n",
              "      <th>0</th>\n",
              "      <td>Mac</td>\n",
              "      <td>mac@gmail.com</td>\n",
              "      <td>Software</td>\n",
              "      <td>Male</td>\n",
              "      <td>24</td>\n",
              "    </tr>\n",
              "    <tr>\n",
              "      <th>1</th>\n",
              "      <td>Mike</td>\n",
              "      <td>mike@gmail.com</td>\n",
              "      <td>Sales</td>\n",
              "      <td>Male</td>\n",
              "      <td>22</td>\n",
              "    </tr>\n",
              "    <tr>\n",
              "      <th>2</th>\n",
              "      <td>Dave</td>\n",
              "      <td>dave@gmail.com</td>\n",
              "      <td>Finance</td>\n",
              "      <td>Male</td>\n",
              "      <td>21</td>\n",
              "    </tr>\n",
              "    <tr>\n",
              "      <th>3</th>\n",
              "      <td>Jane</td>\n",
              "      <td>jane@gmail.com</td>\n",
              "      <td>Marketing</td>\n",
              "      <td>Female</td>\n",
              "      <td>23</td>\n",
              "    </tr>\n",
              "    <tr>\n",
              "      <th>4</th>\n",
              "      <td>Kate</td>\n",
              "      <td>kate@gmail.com</td>\n",
              "      <td>Software</td>\n",
              "      <td>Female</td>\n",
              "      <td>21</td>\n",
              "    </tr>\n",
              "  </tbody>\n",
              "</table>\n",
              "</div>"
            ],
            "text/plain": [
              "   Name           Email Department     Sex Age\n",
              "0   Mac   mac@gmail.com   Software    Male  24\n",
              "1  Mike  mike@gmail.com      Sales    Male  22\n",
              "2  Dave  dave@gmail.com    Finance    Male  21\n",
              "3  Jane  jane@gmail.com  Marketing  Female  23\n",
              "4  Kate  kate@gmail.com   Software  Female  21"
            ]
          },
          "metadata": {
            "tags": []
          },
          "execution_count": 106
        }
      ]
    },
    {
      "cell_type": "markdown",
      "metadata": {
        "id": "pR8UmNvVT4sd",
        "colab_type": "text"
      },
      "source": [
        "<h3>Joining DataFrames in Pandas</h3>"
      ]
    },
    {
      "cell_type": "markdown",
      "metadata": {
        "id": "VCRHHbdJT4se",
        "colab_type": "text"
      },
      "source": [
        "<div class=\"alert alert-info\">\n",
        "Joining pandas DataFrames is quite similar to merging pandas DataFrames. The only difference is that you are merging based on their common index and not a common column. Join is useful if you have different datasets that are related by a common index and not a common column.</div>"
      ]
    },
    {
      "cell_type": "code",
      "metadata": {
        "id": "3hNQonl9T4sf",
        "colab_type": "code",
        "colab": {}
      },
      "source": [
        "first_data_frame = pd.DataFrame({'First name': ['Mac', 'Mike', 'Dave', 'Jane', 'Kate'],\n",
        "\n",
        "                     'Sex': ['Male', 'Male', 'Male', 'Female', 'Female'],\n",
        "\n",
        "                     'Age': ['24', '22', '21', '23', '21']})\n",
        "\n",
        "   \n",
        "\n",
        "second_data_frame = pd.DataFrame({'Last name': ['Mac', 'Mike', 'Dave', 'Jane', 'Kate'],\n",
        "\n",
        "                          'Email': ['mac@gmail.com', 'mike@gmail.com', 'dave@gmail.com', 'jane@gmail.com', 'kate@gmail.com'],\n",
        "\n",
        "                          'Department': ['Software', 'Sales', 'Finance', 'Marketing', 'Software']}) "
      ],
      "execution_count": null,
      "outputs": []
    },
    {
      "cell_type": "code",
      "metadata": {
        "id": "b7EaMyfOT4sk",
        "colab_type": "code",
        "colab": {},
        "outputId": "56a0cd46-48f1-40ea-ecdd-fc5677d8a50e"
      },
      "source": [
        "first_data_frame.join(second_data_frame)"
      ],
      "execution_count": null,
      "outputs": [
        {
          "output_type": "execute_result",
          "data": {
            "text/html": [
              "<div>\n",
              "<style scoped>\n",
              "    .dataframe tbody tr th:only-of-type {\n",
              "        vertical-align: middle;\n",
              "    }\n",
              "\n",
              "    .dataframe tbody tr th {\n",
              "        vertical-align: top;\n",
              "    }\n",
              "\n",
              "    .dataframe thead th {\n",
              "        text-align: right;\n",
              "    }\n",
              "</style>\n",
              "<table border=\"1\" class=\"dataframe\">\n",
              "  <thead>\n",
              "    <tr style=\"text-align: right;\">\n",
              "      <th></th>\n",
              "      <th>First name</th>\n",
              "      <th>Sex</th>\n",
              "      <th>Age</th>\n",
              "      <th>Last name</th>\n",
              "      <th>Email</th>\n",
              "      <th>Department</th>\n",
              "    </tr>\n",
              "  </thead>\n",
              "  <tbody>\n",
              "    <tr>\n",
              "      <th>0</th>\n",
              "      <td>Mac</td>\n",
              "      <td>Male</td>\n",
              "      <td>24</td>\n",
              "      <td>Mac</td>\n",
              "      <td>mac@gmail.com</td>\n",
              "      <td>Software</td>\n",
              "    </tr>\n",
              "    <tr>\n",
              "      <th>1</th>\n",
              "      <td>Mike</td>\n",
              "      <td>Male</td>\n",
              "      <td>22</td>\n",
              "      <td>Mike</td>\n",
              "      <td>mike@gmail.com</td>\n",
              "      <td>Sales</td>\n",
              "    </tr>\n",
              "    <tr>\n",
              "      <th>2</th>\n",
              "      <td>Dave</td>\n",
              "      <td>Male</td>\n",
              "      <td>21</td>\n",
              "      <td>Dave</td>\n",
              "      <td>dave@gmail.com</td>\n",
              "      <td>Finance</td>\n",
              "    </tr>\n",
              "    <tr>\n",
              "      <th>3</th>\n",
              "      <td>Jane</td>\n",
              "      <td>Female</td>\n",
              "      <td>23</td>\n",
              "      <td>Jane</td>\n",
              "      <td>jane@gmail.com</td>\n",
              "      <td>Marketing</td>\n",
              "    </tr>\n",
              "    <tr>\n",
              "      <th>4</th>\n",
              "      <td>Kate</td>\n",
              "      <td>Female</td>\n",
              "      <td>21</td>\n",
              "      <td>Kate</td>\n",
              "      <td>kate@gmail.com</td>\n",
              "      <td>Software</td>\n",
              "    </tr>\n",
              "  </tbody>\n",
              "</table>\n",
              "</div>"
            ],
            "text/plain": [
              "  First name     Sex Age Last name           Email Department\n",
              "0        Mac    Male  24       Mac   mac@gmail.com   Software\n",
              "1       Mike    Male  22      Mike  mike@gmail.com      Sales\n",
              "2       Dave    Male  21      Dave  dave@gmail.com    Finance\n",
              "3       Jane  Female  23      Jane  jane@gmail.com  Marketing\n",
              "4       Kate  Female  21      Kate  kate@gmail.com   Software"
            ]
          },
          "metadata": {
            "tags": []
          },
          "execution_count": 108
        }
      ]
    },
    {
      "cell_type": "markdown",
      "metadata": {
        "id": "NNSx16C9T4so",
        "colab_type": "text"
      },
      "source": [
        "<h3>Importing and exporting files in Pandas</h3>"
      ]
    },
    {
      "cell_type": "markdown",
      "metadata": {
        "id": "4XXCJPvLT4sp",
        "colab_type": "text"
      },
      "source": [
        "<div class=\"alert alert-info\">\n",
        "    Most of the data you will be working with will not be genertated manually as we have done in this notebook. You will have to work with an existing data in some format(html, json, excel, csv, and so on). So, you have to look for a way to get this data into Pandas so you can work with them. Also, you might want to export your DataFrame to a particular file format so it can be used by other applucations. In this section, we would exlpore how to import and export files in Pandas. we will start by exporting  DataFrames to a particular file format</div>"
      ]
    },
    {
      "cell_type": "markdown",
      "metadata": {
        "id": "QisXf3goT4sq",
        "colab_type": "text"
      },
      "source": [
        "<h4>Exporting Files</h4>"
      ]
    },
    {
      "cell_type": "code",
      "metadata": {
        "id": "ViunDnBET4sq",
        "colab_type": "code",
        "colab": {},
        "outputId": "dd20fabb-d70a-4f4b-a63a-850cc52cc3e9"
      },
      "source": [
        "biodata = {\"Name\": [\"Abisola\", \"Feyin\",\"Sogo\", \"Josh\", \"Kate\", \"Ayo\",\"Segun\",\"Ola\",\"Ife\",\"Mike\",\"Ayo\"],\n",
        "          \"Age\": [17,15,18, 17, 17, 16,13,15,14,15,16],\n",
        "          \"Gender\": [\"Female\", \"Female\",\"Male\", \"Male\", \"Female\", \"Male\",\"Male\",\"Male\",\"Female\",\"Female\",\"Female\"]}\n",
        "index = [1,2,3,4,5,6,7,8,9,10,11]\n",
        "data_frame = pd.DataFrame(biodata, index=index)\n",
        "data_frame"
      ],
      "execution_count": null,
      "outputs": [
        {
          "output_type": "execute_result",
          "data": {
            "text/html": [
              "<div>\n",
              "<style scoped>\n",
              "    .dataframe tbody tr th:only-of-type {\n",
              "        vertical-align: middle;\n",
              "    }\n",
              "\n",
              "    .dataframe tbody tr th {\n",
              "        vertical-align: top;\n",
              "    }\n",
              "\n",
              "    .dataframe thead th {\n",
              "        text-align: right;\n",
              "    }\n",
              "</style>\n",
              "<table border=\"1\" class=\"dataframe\">\n",
              "  <thead>\n",
              "    <tr style=\"text-align: right;\">\n",
              "      <th></th>\n",
              "      <th>Name</th>\n",
              "      <th>Age</th>\n",
              "      <th>Gender</th>\n",
              "    </tr>\n",
              "  </thead>\n",
              "  <tbody>\n",
              "    <tr>\n",
              "      <th>1</th>\n",
              "      <td>Abisola</td>\n",
              "      <td>17</td>\n",
              "      <td>Female</td>\n",
              "    </tr>\n",
              "    <tr>\n",
              "      <th>2</th>\n",
              "      <td>Feyin</td>\n",
              "      <td>15</td>\n",
              "      <td>Female</td>\n",
              "    </tr>\n",
              "    <tr>\n",
              "      <th>3</th>\n",
              "      <td>Sogo</td>\n",
              "      <td>18</td>\n",
              "      <td>Male</td>\n",
              "    </tr>\n",
              "    <tr>\n",
              "      <th>4</th>\n",
              "      <td>Josh</td>\n",
              "      <td>17</td>\n",
              "      <td>Male</td>\n",
              "    </tr>\n",
              "    <tr>\n",
              "      <th>5</th>\n",
              "      <td>Kate</td>\n",
              "      <td>17</td>\n",
              "      <td>Female</td>\n",
              "    </tr>\n",
              "    <tr>\n",
              "      <th>6</th>\n",
              "      <td>Ayo</td>\n",
              "      <td>16</td>\n",
              "      <td>Male</td>\n",
              "    </tr>\n",
              "    <tr>\n",
              "      <th>7</th>\n",
              "      <td>Segun</td>\n",
              "      <td>13</td>\n",
              "      <td>Male</td>\n",
              "    </tr>\n",
              "    <tr>\n",
              "      <th>8</th>\n",
              "      <td>Ola</td>\n",
              "      <td>15</td>\n",
              "      <td>Male</td>\n",
              "    </tr>\n",
              "    <tr>\n",
              "      <th>9</th>\n",
              "      <td>Ife</td>\n",
              "      <td>14</td>\n",
              "      <td>Female</td>\n",
              "    </tr>\n",
              "    <tr>\n",
              "      <th>10</th>\n",
              "      <td>Mike</td>\n",
              "      <td>15</td>\n",
              "      <td>Female</td>\n",
              "    </tr>\n",
              "    <tr>\n",
              "      <th>11</th>\n",
              "      <td>Ayo</td>\n",
              "      <td>16</td>\n",
              "      <td>Female</td>\n",
              "    </tr>\n",
              "  </tbody>\n",
              "</table>\n",
              "</div>"
            ],
            "text/plain": [
              "       Name  Age  Gender\n",
              "1   Abisola   17  Female\n",
              "2     Feyin   15  Female\n",
              "3      Sogo   18    Male\n",
              "4      Josh   17    Male\n",
              "5      Kate   17  Female\n",
              "6       Ayo   16    Male\n",
              "7     Segun   13    Male\n",
              "8       Ola   15    Male\n",
              "9       Ife   14  Female\n",
              "10     Mike   15  Female\n",
              "11      Ayo   16  Female"
            ]
          },
          "metadata": {
            "tags": []
          },
          "execution_count": 109
        }
      ]
    },
    {
      "cell_type": "code",
      "metadata": {
        "id": "L81_N8m_T4sv",
        "colab_type": "code",
        "colab": {}
      },
      "source": [
        "#Exporting DataFrame as CSV\n",
        "\n",
        "data_frame.to_csv(\"Biodata.csv\")"
      ],
      "execution_count": null,
      "outputs": []
    },
    {
      "cell_type": "markdown",
      "metadata": {
        "id": "5XW-t5blT4sz",
        "colab_type": "text"
      },
      "source": [
        "<div class=\"alert alert-info\">\n",
        "If you check your directory, you will see the new CSV file you have just created there. Now, we will go ahead and create other file foramts as well</div>"
      ]
    },
    {
      "cell_type": "code",
      "metadata": {
        "id": "sxb3x4Y_T4s0",
        "colab_type": "code",
        "colab": {}
      },
      "source": [
        "#Exporting DataFrame as Excel\n",
        "\n",
        "data_frame.to_excel(\"Biodata.xlsx\")"
      ],
      "execution_count": null,
      "outputs": []
    },
    {
      "cell_type": "code",
      "metadata": {
        "id": "KJBmAJOzT4s-",
        "colab_type": "code",
        "colab": {}
      },
      "source": [
        "#Exporting DataFrame as Excel\n",
        "\n",
        "data_frame.to_json(\"Biodata.json\")"
      ],
      "execution_count": null,
      "outputs": []
    },
    {
      "cell_type": "code",
      "metadata": {
        "id": "v69vt_vWT4tC",
        "colab_type": "code",
        "colab": {}
      },
      "source": [
        "#Exporting DataFrame as HTML\n",
        "\n",
        "data_frame.to_html(\"Biodata.html\")"
      ],
      "execution_count": null,
      "outputs": []
    },
    {
      "cell_type": "markdown",
      "metadata": {
        "id": "JVgrJhH9T4tN",
        "colab_type": "text"
      },
      "source": [
        "<h4>Importing files</h4>"
      ]
    },
    {
      "cell_type": "markdown",
      "metadata": {
        "id": "fGEgx74QT4tN",
        "colab_type": "text"
      },
      "source": [
        "<div class=\"alert alert-info\">\n",
        "    To read files, you simply specify the file path and name of the file you want to read. If the file is in the same directory as your notebook, then, you only need specify the name</div>"
      ]
    },
    {
      "cell_type": "code",
      "metadata": {
        "id": "irx0jzJ4T4tO",
        "colab_type": "code",
        "colab": {},
        "outputId": "65bb25a3-3eb2-444c-f4f0-c4e3ba224324"
      },
      "source": [
        "csv_data = pd.read_csv(\"Biodata.csv\")\n",
        "csv_data "
      ],
      "execution_count": null,
      "outputs": [
        {
          "output_type": "execute_result",
          "data": {
            "text/html": [
              "<div>\n",
              "<style scoped>\n",
              "    .dataframe tbody tr th:only-of-type {\n",
              "        vertical-align: middle;\n",
              "    }\n",
              "\n",
              "    .dataframe tbody tr th {\n",
              "        vertical-align: top;\n",
              "    }\n",
              "\n",
              "    .dataframe thead th {\n",
              "        text-align: right;\n",
              "    }\n",
              "</style>\n",
              "<table border=\"1\" class=\"dataframe\">\n",
              "  <thead>\n",
              "    <tr style=\"text-align: right;\">\n",
              "      <th></th>\n",
              "      <th>Unnamed: 0</th>\n",
              "      <th>Name</th>\n",
              "      <th>Age</th>\n",
              "      <th>Gender</th>\n",
              "    </tr>\n",
              "  </thead>\n",
              "  <tbody>\n",
              "    <tr>\n",
              "      <th>0</th>\n",
              "      <td>1</td>\n",
              "      <td>Abisola</td>\n",
              "      <td>17</td>\n",
              "      <td>Female</td>\n",
              "    </tr>\n",
              "    <tr>\n",
              "      <th>1</th>\n",
              "      <td>2</td>\n",
              "      <td>Feyin</td>\n",
              "      <td>15</td>\n",
              "      <td>Female</td>\n",
              "    </tr>\n",
              "    <tr>\n",
              "      <th>2</th>\n",
              "      <td>3</td>\n",
              "      <td>Sogo</td>\n",
              "      <td>18</td>\n",
              "      <td>Male</td>\n",
              "    </tr>\n",
              "    <tr>\n",
              "      <th>3</th>\n",
              "      <td>4</td>\n",
              "      <td>Josh</td>\n",
              "      <td>17</td>\n",
              "      <td>Male</td>\n",
              "    </tr>\n",
              "    <tr>\n",
              "      <th>4</th>\n",
              "      <td>5</td>\n",
              "      <td>Kate</td>\n",
              "      <td>17</td>\n",
              "      <td>Female</td>\n",
              "    </tr>\n",
              "    <tr>\n",
              "      <th>5</th>\n",
              "      <td>6</td>\n",
              "      <td>Ayo</td>\n",
              "      <td>16</td>\n",
              "      <td>Male</td>\n",
              "    </tr>\n",
              "    <tr>\n",
              "      <th>6</th>\n",
              "      <td>7</td>\n",
              "      <td>Segun</td>\n",
              "      <td>13</td>\n",
              "      <td>Male</td>\n",
              "    </tr>\n",
              "    <tr>\n",
              "      <th>7</th>\n",
              "      <td>8</td>\n",
              "      <td>Ola</td>\n",
              "      <td>15</td>\n",
              "      <td>Male</td>\n",
              "    </tr>\n",
              "    <tr>\n",
              "      <th>8</th>\n",
              "      <td>9</td>\n",
              "      <td>Ife</td>\n",
              "      <td>14</td>\n",
              "      <td>Female</td>\n",
              "    </tr>\n",
              "    <tr>\n",
              "      <th>9</th>\n",
              "      <td>10</td>\n",
              "      <td>Mike</td>\n",
              "      <td>15</td>\n",
              "      <td>Female</td>\n",
              "    </tr>\n",
              "    <tr>\n",
              "      <th>10</th>\n",
              "      <td>11</td>\n",
              "      <td>Ayo</td>\n",
              "      <td>16</td>\n",
              "      <td>Female</td>\n",
              "    </tr>\n",
              "  </tbody>\n",
              "</table>\n",
              "</div>"
            ],
            "text/plain": [
              "    Unnamed: 0     Name  Age  Gender\n",
              "0            1  Abisola   17  Female\n",
              "1            2    Feyin   15  Female\n",
              "2            3     Sogo   18    Male\n",
              "3            4     Josh   17    Male\n",
              "4            5     Kate   17  Female\n",
              "5            6      Ayo   16    Male\n",
              "6            7    Segun   13    Male\n",
              "7            8      Ola   15    Male\n",
              "8            9      Ife   14  Female\n",
              "9           10     Mike   15  Female\n",
              "10          11      Ayo   16  Female"
            ]
          },
          "metadata": {
            "tags": []
          },
          "execution_count": 114
        }
      ]
    },
    {
      "cell_type": "code",
      "metadata": {
        "id": "lmG4XAJGT4tU",
        "colab_type": "code",
        "colab": {},
        "outputId": "f1d96216-a5b3-4869-f62a-a91cd8e3a309"
      },
      "source": [
        "excel_data = pd.read_excel(\"Biodata.xlsx\")\n",
        "excel_data"
      ],
      "execution_count": null,
      "outputs": [
        {
          "output_type": "execute_result",
          "data": {
            "text/html": [
              "<div>\n",
              "<style scoped>\n",
              "    .dataframe tbody tr th:only-of-type {\n",
              "        vertical-align: middle;\n",
              "    }\n",
              "\n",
              "    .dataframe tbody tr th {\n",
              "        vertical-align: top;\n",
              "    }\n",
              "\n",
              "    .dataframe thead th {\n",
              "        text-align: right;\n",
              "    }\n",
              "</style>\n",
              "<table border=\"1\" class=\"dataframe\">\n",
              "  <thead>\n",
              "    <tr style=\"text-align: right;\">\n",
              "      <th></th>\n",
              "      <th>Unnamed: 0</th>\n",
              "      <th>Name</th>\n",
              "      <th>Age</th>\n",
              "      <th>Gender</th>\n",
              "    </tr>\n",
              "  </thead>\n",
              "  <tbody>\n",
              "    <tr>\n",
              "      <th>0</th>\n",
              "      <td>1</td>\n",
              "      <td>Abisola</td>\n",
              "      <td>17</td>\n",
              "      <td>Female</td>\n",
              "    </tr>\n",
              "    <tr>\n",
              "      <th>1</th>\n",
              "      <td>2</td>\n",
              "      <td>Feyin</td>\n",
              "      <td>15</td>\n",
              "      <td>Female</td>\n",
              "    </tr>\n",
              "    <tr>\n",
              "      <th>2</th>\n",
              "      <td>3</td>\n",
              "      <td>Sogo</td>\n",
              "      <td>18</td>\n",
              "      <td>Male</td>\n",
              "    </tr>\n",
              "    <tr>\n",
              "      <th>3</th>\n",
              "      <td>4</td>\n",
              "      <td>Josh</td>\n",
              "      <td>17</td>\n",
              "      <td>Male</td>\n",
              "    </tr>\n",
              "    <tr>\n",
              "      <th>4</th>\n",
              "      <td>5</td>\n",
              "      <td>Kate</td>\n",
              "      <td>17</td>\n",
              "      <td>Female</td>\n",
              "    </tr>\n",
              "    <tr>\n",
              "      <th>5</th>\n",
              "      <td>6</td>\n",
              "      <td>Ayo</td>\n",
              "      <td>16</td>\n",
              "      <td>Male</td>\n",
              "    </tr>\n",
              "    <tr>\n",
              "      <th>6</th>\n",
              "      <td>7</td>\n",
              "      <td>Segun</td>\n",
              "      <td>13</td>\n",
              "      <td>Male</td>\n",
              "    </tr>\n",
              "    <tr>\n",
              "      <th>7</th>\n",
              "      <td>8</td>\n",
              "      <td>Ola</td>\n",
              "      <td>15</td>\n",
              "      <td>Male</td>\n",
              "    </tr>\n",
              "    <tr>\n",
              "      <th>8</th>\n",
              "      <td>9</td>\n",
              "      <td>Ife</td>\n",
              "      <td>14</td>\n",
              "      <td>Female</td>\n",
              "    </tr>\n",
              "    <tr>\n",
              "      <th>9</th>\n",
              "      <td>10</td>\n",
              "      <td>Mike</td>\n",
              "      <td>15</td>\n",
              "      <td>Female</td>\n",
              "    </tr>\n",
              "    <tr>\n",
              "      <th>10</th>\n",
              "      <td>11</td>\n",
              "      <td>Ayo</td>\n",
              "      <td>16</td>\n",
              "      <td>Female</td>\n",
              "    </tr>\n",
              "  </tbody>\n",
              "</table>\n",
              "</div>"
            ],
            "text/plain": [
              "    Unnamed: 0     Name  Age  Gender\n",
              "0            1  Abisola   17  Female\n",
              "1            2    Feyin   15  Female\n",
              "2            3     Sogo   18    Male\n",
              "3            4     Josh   17    Male\n",
              "4            5     Kate   17  Female\n",
              "5            6      Ayo   16    Male\n",
              "6            7    Segun   13    Male\n",
              "7            8      Ola   15    Male\n",
              "8            9      Ife   14  Female\n",
              "9           10     Mike   15  Female\n",
              "10          11      Ayo   16  Female"
            ]
          },
          "metadata": {
            "tags": []
          },
          "execution_count": 115
        }
      ]
    },
    {
      "cell_type": "code",
      "metadata": {
        "id": "lXCWBkhkT4tY",
        "colab_type": "code",
        "colab": {},
        "outputId": "d6566c6a-87b3-4a04-8d13-ec8dc1e8f9d2"
      },
      "source": [
        "json_data = pd.read_json(\"Biodata.json\")\n",
        "json_data"
      ],
      "execution_count": null,
      "outputs": [
        {
          "output_type": "execute_result",
          "data": {
            "text/html": [
              "<div>\n",
              "<style scoped>\n",
              "    .dataframe tbody tr th:only-of-type {\n",
              "        vertical-align: middle;\n",
              "    }\n",
              "\n",
              "    .dataframe tbody tr th {\n",
              "        vertical-align: top;\n",
              "    }\n",
              "\n",
              "    .dataframe thead th {\n",
              "        text-align: right;\n",
              "    }\n",
              "</style>\n",
              "<table border=\"1\" class=\"dataframe\">\n",
              "  <thead>\n",
              "    <tr style=\"text-align: right;\">\n",
              "      <th></th>\n",
              "      <th>Name</th>\n",
              "      <th>Age</th>\n",
              "      <th>Gender</th>\n",
              "    </tr>\n",
              "  </thead>\n",
              "  <tbody>\n",
              "    <tr>\n",
              "      <th>1</th>\n",
              "      <td>Abisola</td>\n",
              "      <td>17</td>\n",
              "      <td>Female</td>\n",
              "    </tr>\n",
              "    <tr>\n",
              "      <th>10</th>\n",
              "      <td>Mike</td>\n",
              "      <td>15</td>\n",
              "      <td>Female</td>\n",
              "    </tr>\n",
              "    <tr>\n",
              "      <th>11</th>\n",
              "      <td>Ayo</td>\n",
              "      <td>16</td>\n",
              "      <td>Female</td>\n",
              "    </tr>\n",
              "    <tr>\n",
              "      <th>2</th>\n",
              "      <td>Feyin</td>\n",
              "      <td>15</td>\n",
              "      <td>Female</td>\n",
              "    </tr>\n",
              "    <tr>\n",
              "      <th>3</th>\n",
              "      <td>Sogo</td>\n",
              "      <td>18</td>\n",
              "      <td>Male</td>\n",
              "    </tr>\n",
              "    <tr>\n",
              "      <th>4</th>\n",
              "      <td>Josh</td>\n",
              "      <td>17</td>\n",
              "      <td>Male</td>\n",
              "    </tr>\n",
              "    <tr>\n",
              "      <th>5</th>\n",
              "      <td>Kate</td>\n",
              "      <td>17</td>\n",
              "      <td>Female</td>\n",
              "    </tr>\n",
              "    <tr>\n",
              "      <th>6</th>\n",
              "      <td>Ayo</td>\n",
              "      <td>16</td>\n",
              "      <td>Male</td>\n",
              "    </tr>\n",
              "    <tr>\n",
              "      <th>7</th>\n",
              "      <td>Segun</td>\n",
              "      <td>13</td>\n",
              "      <td>Male</td>\n",
              "    </tr>\n",
              "    <tr>\n",
              "      <th>8</th>\n",
              "      <td>Ola</td>\n",
              "      <td>15</td>\n",
              "      <td>Male</td>\n",
              "    </tr>\n",
              "    <tr>\n",
              "      <th>9</th>\n",
              "      <td>Ife</td>\n",
              "      <td>14</td>\n",
              "      <td>Female</td>\n",
              "    </tr>\n",
              "  </tbody>\n",
              "</table>\n",
              "</div>"
            ],
            "text/plain": [
              "       Name  Age  Gender\n",
              "1   Abisola   17  Female\n",
              "10     Mike   15  Female\n",
              "11      Ayo   16  Female\n",
              "2     Feyin   15  Female\n",
              "3      Sogo   18    Male\n",
              "4      Josh   17    Male\n",
              "5      Kate   17  Female\n",
              "6       Ayo   16    Male\n",
              "7     Segun   13    Male\n",
              "8       Ola   15    Male\n",
              "9       Ife   14  Female"
            ]
          },
          "metadata": {
            "tags": []
          },
          "execution_count": 116
        }
      ]
    },
    {
      "cell_type": "code",
      "metadata": {
        "id": "KRNaXpm3T4tc",
        "colab_type": "code",
        "colab": {},
        "outputId": "0269f553-74a1-4788-fa37-998073fd906c"
      },
      "source": [
        "html_file = pd.read_html(\"Biodata.html\")\n",
        "html_file"
      ],
      "execution_count": null,
      "outputs": [
        {
          "output_type": "execute_result",
          "data": {
            "text/plain": [
              "[    Unnamed: 0     Name  Age  Gender\n",
              " 0            1  Abisola   17  Female\n",
              " 1            2    Feyin   15  Female\n",
              " 2            3     Sogo   18    Male\n",
              " 3            4     Josh   17    Male\n",
              " 4            5     Kate   17  Female\n",
              " 5            6      Ayo   16    Male\n",
              " 6            7    Segun   13    Male\n",
              " 7            8      Ola   15    Male\n",
              " 8            9      Ife   14  Female\n",
              " 9           10     Mike   15  Female\n",
              " 10          11      Ayo   16  Female]"
            ]
          },
          "metadata": {
            "tags": []
          },
          "execution_count": 117
        }
      ]
    },
    {
      "cell_type": "markdown",
      "metadata": {
        "id": "UEFDNkZlT4th",
        "colab_type": "text"
      },
      "source": [
        "<h3>Other Pandas DataFrame properties</h3>"
      ]
    },
    {
      "cell_type": "markdown",
      "metadata": {
        "id": "fS8EjiCCT4ti",
        "colab_type": "text"
      },
      "source": [
        "<div class=\"alert alert-info\">\n",
        "    Pandas has the <b>shape</b> attribute that allows you know the number of rows and columns in your DataFrame. Pandas also have the <b>describe()</b> attribute that provides the summary of your data </div>"
      ]
    },
    {
      "cell_type": "code",
      "metadata": {
        "id": "GCh0WudfT4ti",
        "colab_type": "code",
        "colab": {},
        "outputId": "69e275c8-8fef-4c56-e561-295f59172b57"
      },
      "source": [
        "biodata = {\"Name\": [\"Abisola\", \"Feyin\",\"Sogo\", \"Josh\", \"Kate\", \"Ayo\",\"Segun\",\"Ola\",\"Ife\",\"Mike\",\"Ayo\"],\n",
        "          \"Age\": [17,15,18, 17, 17, 16,13,15,14,15,16],\n",
        "          \"Gender\": [\"Female\", \"Female\",\"Male\", \"Male\", \"Female\", \"Male\",\"Male\",\"Male\",\"Female\",\"Female\",\"Female\"]}\n",
        "index = [1,2,3,4,5,6,7,8,9,10,11]\n",
        "data_frame = pd.DataFrame(biodata, index=index)\n",
        "data_frame"
      ],
      "execution_count": null,
      "outputs": [
        {
          "output_type": "execute_result",
          "data": {
            "text/html": [
              "<div>\n",
              "<style scoped>\n",
              "    .dataframe tbody tr th:only-of-type {\n",
              "        vertical-align: middle;\n",
              "    }\n",
              "\n",
              "    .dataframe tbody tr th {\n",
              "        vertical-align: top;\n",
              "    }\n",
              "\n",
              "    .dataframe thead th {\n",
              "        text-align: right;\n",
              "    }\n",
              "</style>\n",
              "<table border=\"1\" class=\"dataframe\">\n",
              "  <thead>\n",
              "    <tr style=\"text-align: right;\">\n",
              "      <th></th>\n",
              "      <th>Name</th>\n",
              "      <th>Age</th>\n",
              "      <th>Gender</th>\n",
              "    </tr>\n",
              "  </thead>\n",
              "  <tbody>\n",
              "    <tr>\n",
              "      <th>1</th>\n",
              "      <td>Abisola</td>\n",
              "      <td>17</td>\n",
              "      <td>Female</td>\n",
              "    </tr>\n",
              "    <tr>\n",
              "      <th>2</th>\n",
              "      <td>Feyin</td>\n",
              "      <td>15</td>\n",
              "      <td>Female</td>\n",
              "    </tr>\n",
              "    <tr>\n",
              "      <th>3</th>\n",
              "      <td>Sogo</td>\n",
              "      <td>18</td>\n",
              "      <td>Male</td>\n",
              "    </tr>\n",
              "    <tr>\n",
              "      <th>4</th>\n",
              "      <td>Josh</td>\n",
              "      <td>17</td>\n",
              "      <td>Male</td>\n",
              "    </tr>\n",
              "    <tr>\n",
              "      <th>5</th>\n",
              "      <td>Kate</td>\n",
              "      <td>17</td>\n",
              "      <td>Female</td>\n",
              "    </tr>\n",
              "    <tr>\n",
              "      <th>6</th>\n",
              "      <td>Ayo</td>\n",
              "      <td>16</td>\n",
              "      <td>Male</td>\n",
              "    </tr>\n",
              "    <tr>\n",
              "      <th>7</th>\n",
              "      <td>Segun</td>\n",
              "      <td>13</td>\n",
              "      <td>Male</td>\n",
              "    </tr>\n",
              "    <tr>\n",
              "      <th>8</th>\n",
              "      <td>Ola</td>\n",
              "      <td>15</td>\n",
              "      <td>Male</td>\n",
              "    </tr>\n",
              "    <tr>\n",
              "      <th>9</th>\n",
              "      <td>Ife</td>\n",
              "      <td>14</td>\n",
              "      <td>Female</td>\n",
              "    </tr>\n",
              "    <tr>\n",
              "      <th>10</th>\n",
              "      <td>Mike</td>\n",
              "      <td>15</td>\n",
              "      <td>Female</td>\n",
              "    </tr>\n",
              "    <tr>\n",
              "      <th>11</th>\n",
              "      <td>Ayo</td>\n",
              "      <td>16</td>\n",
              "      <td>Female</td>\n",
              "    </tr>\n",
              "  </tbody>\n",
              "</table>\n",
              "</div>"
            ],
            "text/plain": [
              "       Name  Age  Gender\n",
              "1   Abisola   17  Female\n",
              "2     Feyin   15  Female\n",
              "3      Sogo   18    Male\n",
              "4      Josh   17    Male\n",
              "5      Kate   17  Female\n",
              "6       Ayo   16    Male\n",
              "7     Segun   13    Male\n",
              "8       Ola   15    Male\n",
              "9       Ife   14  Female\n",
              "10     Mike   15  Female\n",
              "11      Ayo   16  Female"
            ]
          },
          "metadata": {
            "tags": []
          },
          "execution_count": 119
        }
      ]
    },
    {
      "cell_type": "code",
      "metadata": {
        "id": "4auThk2uT4tr",
        "colab_type": "code",
        "colab": {},
        "outputId": "fb28b9a8-14b9-4b25-9688-f5c8ab8bcb82"
      },
      "source": [
        "data_frame.shape"
      ],
      "execution_count": null,
      "outputs": [
        {
          "output_type": "execute_result",
          "data": {
            "text/plain": [
              "(11, 3)"
            ]
          },
          "metadata": {
            "tags": []
          },
          "execution_count": 120
        }
      ]
    },
    {
      "cell_type": "code",
      "metadata": {
        "id": "2MFCTxXvT4tv",
        "colab_type": "code",
        "colab": {},
        "outputId": "b0cd977e-288c-4ce1-b281-6aee18d77fbe"
      },
      "source": [
        "data_frame.describe()"
      ],
      "execution_count": null,
      "outputs": [
        {
          "output_type": "execute_result",
          "data": {
            "text/html": [
              "<div>\n",
              "<style scoped>\n",
              "    .dataframe tbody tr th:only-of-type {\n",
              "        vertical-align: middle;\n",
              "    }\n",
              "\n",
              "    .dataframe tbody tr th {\n",
              "        vertical-align: top;\n",
              "    }\n",
              "\n",
              "    .dataframe thead th {\n",
              "        text-align: right;\n",
              "    }\n",
              "</style>\n",
              "<table border=\"1\" class=\"dataframe\">\n",
              "  <thead>\n",
              "    <tr style=\"text-align: right;\">\n",
              "      <th></th>\n",
              "      <th>Age</th>\n",
              "    </tr>\n",
              "  </thead>\n",
              "  <tbody>\n",
              "    <tr>\n",
              "      <th>count</th>\n",
              "      <td>11.000000</td>\n",
              "    </tr>\n",
              "    <tr>\n",
              "      <th>mean</th>\n",
              "      <td>15.727273</td>\n",
              "    </tr>\n",
              "    <tr>\n",
              "      <th>std</th>\n",
              "      <td>1.489356</td>\n",
              "    </tr>\n",
              "    <tr>\n",
              "      <th>min</th>\n",
              "      <td>13.000000</td>\n",
              "    </tr>\n",
              "    <tr>\n",
              "      <th>25%</th>\n",
              "      <td>15.000000</td>\n",
              "    </tr>\n",
              "    <tr>\n",
              "      <th>50%</th>\n",
              "      <td>16.000000</td>\n",
              "    </tr>\n",
              "    <tr>\n",
              "      <th>75%</th>\n",
              "      <td>17.000000</td>\n",
              "    </tr>\n",
              "    <tr>\n",
              "      <th>max</th>\n",
              "      <td>18.000000</td>\n",
              "    </tr>\n",
              "  </tbody>\n",
              "</table>\n",
              "</div>"
            ],
            "text/plain": [
              "             Age\n",
              "count  11.000000\n",
              "mean   15.727273\n",
              "std     1.489356\n",
              "min    13.000000\n",
              "25%    15.000000\n",
              "50%    16.000000\n",
              "75%    17.000000\n",
              "max    18.000000"
            ]
          },
          "metadata": {
            "tags": []
          },
          "execution_count": 121
        }
      ]
    },
    {
      "cell_type": "markdown",
      "metadata": {
        "collapsed": true,
        "id": "iQcL6L2XT4tz",
        "colab_type": "text"
      },
      "source": [
        "<div class=\"alert alert-info\">\n",
        "   By default, the describe will only give you the summary of numerical data. However, you can extend it to give deatils of all columns regardless of the data type by passing the <b>include = \"all\"</b> argument into the describe function.</div>"
      ]
    },
    {
      "cell_type": "code",
      "metadata": {
        "id": "9LffNkURT4t0",
        "colab_type": "code",
        "colab": {},
        "outputId": "f5f785fd-5ebe-42e9-ff36-d63d38e1ea01"
      },
      "source": [
        "data_frame.describe(include = \"all\")"
      ],
      "execution_count": null,
      "outputs": [
        {
          "output_type": "execute_result",
          "data": {
            "text/html": [
              "<div>\n",
              "<style scoped>\n",
              "    .dataframe tbody tr th:only-of-type {\n",
              "        vertical-align: middle;\n",
              "    }\n",
              "\n",
              "    .dataframe tbody tr th {\n",
              "        vertical-align: top;\n",
              "    }\n",
              "\n",
              "    .dataframe thead th {\n",
              "        text-align: right;\n",
              "    }\n",
              "</style>\n",
              "<table border=\"1\" class=\"dataframe\">\n",
              "  <thead>\n",
              "    <tr style=\"text-align: right;\">\n",
              "      <th></th>\n",
              "      <th>Name</th>\n",
              "      <th>Age</th>\n",
              "      <th>Gender</th>\n",
              "    </tr>\n",
              "  </thead>\n",
              "  <tbody>\n",
              "    <tr>\n",
              "      <th>count</th>\n",
              "      <td>11</td>\n",
              "      <td>11.000000</td>\n",
              "      <td>11</td>\n",
              "    </tr>\n",
              "    <tr>\n",
              "      <th>unique</th>\n",
              "      <td>10</td>\n",
              "      <td>NaN</td>\n",
              "      <td>2</td>\n",
              "    </tr>\n",
              "    <tr>\n",
              "      <th>top</th>\n",
              "      <td>Ayo</td>\n",
              "      <td>NaN</td>\n",
              "      <td>Female</td>\n",
              "    </tr>\n",
              "    <tr>\n",
              "      <th>freq</th>\n",
              "      <td>2</td>\n",
              "      <td>NaN</td>\n",
              "      <td>6</td>\n",
              "    </tr>\n",
              "    <tr>\n",
              "      <th>mean</th>\n",
              "      <td>NaN</td>\n",
              "      <td>15.727273</td>\n",
              "      <td>NaN</td>\n",
              "    </tr>\n",
              "    <tr>\n",
              "      <th>std</th>\n",
              "      <td>NaN</td>\n",
              "      <td>1.489356</td>\n",
              "      <td>NaN</td>\n",
              "    </tr>\n",
              "    <tr>\n",
              "      <th>min</th>\n",
              "      <td>NaN</td>\n",
              "      <td>13.000000</td>\n",
              "      <td>NaN</td>\n",
              "    </tr>\n",
              "    <tr>\n",
              "      <th>25%</th>\n",
              "      <td>NaN</td>\n",
              "      <td>15.000000</td>\n",
              "      <td>NaN</td>\n",
              "    </tr>\n",
              "    <tr>\n",
              "      <th>50%</th>\n",
              "      <td>NaN</td>\n",
              "      <td>16.000000</td>\n",
              "      <td>NaN</td>\n",
              "    </tr>\n",
              "    <tr>\n",
              "      <th>75%</th>\n",
              "      <td>NaN</td>\n",
              "      <td>17.000000</td>\n",
              "      <td>NaN</td>\n",
              "    </tr>\n",
              "    <tr>\n",
              "      <th>max</th>\n",
              "      <td>NaN</td>\n",
              "      <td>18.000000</td>\n",
              "      <td>NaN</td>\n",
              "    </tr>\n",
              "  </tbody>\n",
              "</table>\n",
              "</div>"
            ],
            "text/plain": [
              "       Name        Age  Gender\n",
              "count    11  11.000000      11\n",
              "unique   10        NaN       2\n",
              "top     Ayo        NaN  Female\n",
              "freq      2        NaN       6\n",
              "mean    NaN  15.727273     NaN\n",
              "std     NaN   1.489356     NaN\n",
              "min     NaN  13.000000     NaN\n",
              "25%     NaN  15.000000     NaN\n",
              "50%     NaN  16.000000     NaN\n",
              "75%     NaN  17.000000     NaN\n",
              "max     NaN  18.000000     NaN"
            ]
          },
          "metadata": {
            "tags": []
          },
          "execution_count": 123
        }
      ]
    },
    {
      "cell_type": "markdown",
      "metadata": {
        "id": "DfY5PbWyT4t3",
        "colab_type": "text"
      },
      "source": [
        "<div class=\"alert alert-info\">You can also cheeck the column header in your DataFrame and also modify the column names using assignment operator</div>"
      ]
    },
    {
      "cell_type": "code",
      "metadata": {
        "id": "izQK-_ZET4t4",
        "colab_type": "code",
        "colab": {},
        "outputId": "67952b87-da37-4504-9fb5-1928661e2e9e"
      },
      "source": [
        "data_frame.columns"
      ],
      "execution_count": null,
      "outputs": [
        {
          "output_type": "execute_result",
          "data": {
            "text/plain": [
              "Index(['Name', 'Age', 'Gender'], dtype='object')"
            ]
          },
          "metadata": {
            "tags": []
          },
          "execution_count": 124
        }
      ]
    },
    {
      "cell_type": "code",
      "metadata": {
        "id": "Y4XfHUEQT4t8",
        "colab_type": "code",
        "colab": {},
        "outputId": "7fa3fa04-f602-46ce-f0f7-c6352434064d"
      },
      "source": [
        "data_frame.columns = [\"First name\", \"Age\", \"Sex\"]\n",
        "data_frame"
      ],
      "execution_count": null,
      "outputs": [
        {
          "output_type": "execute_result",
          "data": {
            "text/html": [
              "<div>\n",
              "<style scoped>\n",
              "    .dataframe tbody tr th:only-of-type {\n",
              "        vertical-align: middle;\n",
              "    }\n",
              "\n",
              "    .dataframe tbody tr th {\n",
              "        vertical-align: top;\n",
              "    }\n",
              "\n",
              "    .dataframe thead th {\n",
              "        text-align: right;\n",
              "    }\n",
              "</style>\n",
              "<table border=\"1\" class=\"dataframe\">\n",
              "  <thead>\n",
              "    <tr style=\"text-align: right;\">\n",
              "      <th></th>\n",
              "      <th>First name</th>\n",
              "      <th>Age</th>\n",
              "      <th>Sex</th>\n",
              "    </tr>\n",
              "  </thead>\n",
              "  <tbody>\n",
              "    <tr>\n",
              "      <th>1</th>\n",
              "      <td>Abisola</td>\n",
              "      <td>17</td>\n",
              "      <td>Female</td>\n",
              "    </tr>\n",
              "    <tr>\n",
              "      <th>2</th>\n",
              "      <td>Feyin</td>\n",
              "      <td>15</td>\n",
              "      <td>Female</td>\n",
              "    </tr>\n",
              "    <tr>\n",
              "      <th>3</th>\n",
              "      <td>Sogo</td>\n",
              "      <td>18</td>\n",
              "      <td>Male</td>\n",
              "    </tr>\n",
              "    <tr>\n",
              "      <th>4</th>\n",
              "      <td>Josh</td>\n",
              "      <td>17</td>\n",
              "      <td>Male</td>\n",
              "    </tr>\n",
              "    <tr>\n",
              "      <th>5</th>\n",
              "      <td>Kate</td>\n",
              "      <td>17</td>\n",
              "      <td>Female</td>\n",
              "    </tr>\n",
              "    <tr>\n",
              "      <th>6</th>\n",
              "      <td>Ayo</td>\n",
              "      <td>16</td>\n",
              "      <td>Male</td>\n",
              "    </tr>\n",
              "    <tr>\n",
              "      <th>7</th>\n",
              "      <td>Segun</td>\n",
              "      <td>13</td>\n",
              "      <td>Male</td>\n",
              "    </tr>\n",
              "    <tr>\n",
              "      <th>8</th>\n",
              "      <td>Ola</td>\n",
              "      <td>15</td>\n",
              "      <td>Male</td>\n",
              "    </tr>\n",
              "    <tr>\n",
              "      <th>9</th>\n",
              "      <td>Ife</td>\n",
              "      <td>14</td>\n",
              "      <td>Female</td>\n",
              "    </tr>\n",
              "    <tr>\n",
              "      <th>10</th>\n",
              "      <td>Mike</td>\n",
              "      <td>15</td>\n",
              "      <td>Female</td>\n",
              "    </tr>\n",
              "    <tr>\n",
              "      <th>11</th>\n",
              "      <td>Ayo</td>\n",
              "      <td>16</td>\n",
              "      <td>Female</td>\n",
              "    </tr>\n",
              "  </tbody>\n",
              "</table>\n",
              "</div>"
            ],
            "text/plain": [
              "   First name  Age     Sex\n",
              "1     Abisola   17  Female\n",
              "2       Feyin   15  Female\n",
              "3        Sogo   18    Male\n",
              "4        Josh   17    Male\n",
              "5        Kate   17  Female\n",
              "6         Ayo   16    Male\n",
              "7       Segun   13    Male\n",
              "8         Ola   15    Male\n",
              "9         Ife   14  Female\n",
              "10       Mike   15  Female\n",
              "11        Ayo   16  Female"
            ]
          },
          "metadata": {
            "tags": []
          },
          "execution_count": 125
        }
      ]
    },
    {
      "cell_type": "code",
      "metadata": {
        "id": "YCpnqFyXT4uA",
        "colab_type": "code",
        "colab": {},
        "outputId": "3a32ddaa-5406-4ecc-eab1-857145e157b1"
      },
      "source": [
        "#transpose your dataframe\n",
        "\n",
        "data_frame.T"
      ],
      "execution_count": null,
      "outputs": [
        {
          "output_type": "execute_result",
          "data": {
            "text/html": [
              "<div>\n",
              "<style scoped>\n",
              "    .dataframe tbody tr th:only-of-type {\n",
              "        vertical-align: middle;\n",
              "    }\n",
              "\n",
              "    .dataframe tbody tr th {\n",
              "        vertical-align: top;\n",
              "    }\n",
              "\n",
              "    .dataframe thead th {\n",
              "        text-align: right;\n",
              "    }\n",
              "</style>\n",
              "<table border=\"1\" class=\"dataframe\">\n",
              "  <thead>\n",
              "    <tr style=\"text-align: right;\">\n",
              "      <th></th>\n",
              "      <th>1</th>\n",
              "      <th>2</th>\n",
              "      <th>3</th>\n",
              "      <th>4</th>\n",
              "      <th>5</th>\n",
              "      <th>6</th>\n",
              "      <th>7</th>\n",
              "      <th>8</th>\n",
              "      <th>9</th>\n",
              "      <th>10</th>\n",
              "      <th>11</th>\n",
              "    </tr>\n",
              "  </thead>\n",
              "  <tbody>\n",
              "    <tr>\n",
              "      <th>First name</th>\n",
              "      <td>Abisola</td>\n",
              "      <td>Feyin</td>\n",
              "      <td>Sogo</td>\n",
              "      <td>Josh</td>\n",
              "      <td>Kate</td>\n",
              "      <td>Ayo</td>\n",
              "      <td>Segun</td>\n",
              "      <td>Ola</td>\n",
              "      <td>Ife</td>\n",
              "      <td>Mike</td>\n",
              "      <td>Ayo</td>\n",
              "    </tr>\n",
              "    <tr>\n",
              "      <th>Age</th>\n",
              "      <td>17</td>\n",
              "      <td>15</td>\n",
              "      <td>18</td>\n",
              "      <td>17</td>\n",
              "      <td>17</td>\n",
              "      <td>16</td>\n",
              "      <td>13</td>\n",
              "      <td>15</td>\n",
              "      <td>14</td>\n",
              "      <td>15</td>\n",
              "      <td>16</td>\n",
              "    </tr>\n",
              "    <tr>\n",
              "      <th>Sex</th>\n",
              "      <td>Female</td>\n",
              "      <td>Female</td>\n",
              "      <td>Male</td>\n",
              "      <td>Male</td>\n",
              "      <td>Female</td>\n",
              "      <td>Male</td>\n",
              "      <td>Male</td>\n",
              "      <td>Male</td>\n",
              "      <td>Female</td>\n",
              "      <td>Female</td>\n",
              "      <td>Female</td>\n",
              "    </tr>\n",
              "  </tbody>\n",
              "</table>\n",
              "</div>"
            ],
            "text/plain": [
              "                 1       2     3     4       5     6      7     8       9   \\\n",
              "First name  Abisola   Feyin  Sogo  Josh    Kate   Ayo  Segun   Ola     Ife   \n",
              "Age              17      15    18    17      17    16     13    15      14   \n",
              "Sex          Female  Female  Male  Male  Female  Male   Male  Male  Female   \n",
              "\n",
              "                10      11  \n",
              "First name    Mike     Ayo  \n",
              "Age             15      16  \n",
              "Sex         Female  Female  "
            ]
          },
          "metadata": {
            "tags": []
          },
          "execution_count": 126
        }
      ]
    },
    {
      "cell_type": "code",
      "metadata": {
        "id": "Y9MjXctbT4uD",
        "colab_type": "code",
        "colab": {},
        "outputId": "28031963-6dd3-4a67-b4c5-1f5ed7341c81"
      },
      "source": [
        "#To find unique values of a column\n",
        "\n",
        "data_frame['Sex'].unique()"
      ],
      "execution_count": null,
      "outputs": [
        {
          "output_type": "execute_result",
          "data": {
            "text/plain": [
              "array(['Female', 'Male'], dtype=object)"
            ]
          },
          "metadata": {
            "tags": []
          },
          "execution_count": 127
        }
      ]
    },
    {
      "cell_type": "code",
      "metadata": {
        "id": "jwU8sMyIT4uI",
        "colab_type": "code",
        "colab": {},
        "outputId": "378789e2-666d-4cea-b290-18f542623977"
      },
      "source": [
        "data_frame['Age'].unique()"
      ],
      "execution_count": null,
      "outputs": [
        {
          "output_type": "execute_result",
          "data": {
            "text/plain": [
              "array([17, 15, 18, 16, 13, 14], dtype=int64)"
            ]
          },
          "metadata": {
            "tags": []
          },
          "execution_count": 128
        }
      ]
    },
    {
      "cell_type": "code",
      "metadata": {
        "id": "OisgAbVIT4uM",
        "colab_type": "code",
        "colab": {},
        "outputId": "fa0aaba7-8805-4ae8-a050-2f36a0af3d33"
      },
      "source": [
        "#Counts the number of occurence of each value in the column\n",
        "\n",
        "data_frame['Sex'].value_counts()"
      ],
      "execution_count": null,
      "outputs": [
        {
          "output_type": "execute_result",
          "data": {
            "text/plain": [
              "Female    6\n",
              "Male      5\n",
              "Name: Sex, dtype: int64"
            ]
          },
          "metadata": {
            "tags": []
          },
          "execution_count": 129
        }
      ]
    },
    {
      "cell_type": "code",
      "metadata": {
        "id": "T6pP0eoPT4uQ",
        "colab_type": "code",
        "colab": {},
        "outputId": "f30dfc9d-8584-44c5-ca3e-ee91d2d12394"
      },
      "source": [
        "#Copy the content of the DataFrame to another DataFrame\n",
        "\n",
        "data_frame_copy = data_frame.copy()\n",
        "data_frame_copy"
      ],
      "execution_count": null,
      "outputs": [
        {
          "output_type": "execute_result",
          "data": {
            "text/html": [
              "<div>\n",
              "<style scoped>\n",
              "    .dataframe tbody tr th:only-of-type {\n",
              "        vertical-align: middle;\n",
              "    }\n",
              "\n",
              "    .dataframe tbody tr th {\n",
              "        vertical-align: top;\n",
              "    }\n",
              "\n",
              "    .dataframe thead th {\n",
              "        text-align: right;\n",
              "    }\n",
              "</style>\n",
              "<table border=\"1\" class=\"dataframe\">\n",
              "  <thead>\n",
              "    <tr style=\"text-align: right;\">\n",
              "      <th></th>\n",
              "      <th>First name</th>\n",
              "      <th>Age</th>\n",
              "      <th>Sex</th>\n",
              "    </tr>\n",
              "  </thead>\n",
              "  <tbody>\n",
              "    <tr>\n",
              "      <th>1</th>\n",
              "      <td>Abisola</td>\n",
              "      <td>17</td>\n",
              "      <td>Female</td>\n",
              "    </tr>\n",
              "    <tr>\n",
              "      <th>2</th>\n",
              "      <td>Feyin</td>\n",
              "      <td>15</td>\n",
              "      <td>Female</td>\n",
              "    </tr>\n",
              "    <tr>\n",
              "      <th>3</th>\n",
              "      <td>Sogo</td>\n",
              "      <td>18</td>\n",
              "      <td>Male</td>\n",
              "    </tr>\n",
              "    <tr>\n",
              "      <th>4</th>\n",
              "      <td>Josh</td>\n",
              "      <td>17</td>\n",
              "      <td>Male</td>\n",
              "    </tr>\n",
              "    <tr>\n",
              "      <th>5</th>\n",
              "      <td>Kate</td>\n",
              "      <td>17</td>\n",
              "      <td>Female</td>\n",
              "    </tr>\n",
              "    <tr>\n",
              "      <th>6</th>\n",
              "      <td>Ayo</td>\n",
              "      <td>16</td>\n",
              "      <td>Male</td>\n",
              "    </tr>\n",
              "    <tr>\n",
              "      <th>7</th>\n",
              "      <td>Segun</td>\n",
              "      <td>13</td>\n",
              "      <td>Male</td>\n",
              "    </tr>\n",
              "    <tr>\n",
              "      <th>8</th>\n",
              "      <td>Ola</td>\n",
              "      <td>15</td>\n",
              "      <td>Male</td>\n",
              "    </tr>\n",
              "    <tr>\n",
              "      <th>9</th>\n",
              "      <td>Ife</td>\n",
              "      <td>14</td>\n",
              "      <td>Female</td>\n",
              "    </tr>\n",
              "    <tr>\n",
              "      <th>10</th>\n",
              "      <td>Mike</td>\n",
              "      <td>15</td>\n",
              "      <td>Female</td>\n",
              "    </tr>\n",
              "    <tr>\n",
              "      <th>11</th>\n",
              "      <td>Ayo</td>\n",
              "      <td>16</td>\n",
              "      <td>Female</td>\n",
              "    </tr>\n",
              "  </tbody>\n",
              "</table>\n",
              "</div>"
            ],
            "text/plain": [
              "   First name  Age     Sex\n",
              "1     Abisola   17  Female\n",
              "2       Feyin   15  Female\n",
              "3        Sogo   18    Male\n",
              "4        Josh   17    Male\n",
              "5        Kate   17  Female\n",
              "6         Ayo   16    Male\n",
              "7       Segun   13    Male\n",
              "8         Ola   15    Male\n",
              "9         Ife   14  Female\n",
              "10       Mike   15  Female\n",
              "11        Ayo   16  Female"
            ]
          },
          "metadata": {
            "tags": []
          },
          "execution_count": 130
        }
      ]
    },
    {
      "cell_type": "markdown",
      "metadata": {
        "id": "NbehqyWdT4uY",
        "colab_type": "text"
      },
      "source": [
        "<h3>Visualization in Pandas</h3>"
      ]
    },
    {
      "cell_type": "code",
      "metadata": {
        "id": "f1pzyu8wT4uY",
        "colab_type": "code",
        "colab": {},
        "outputId": "19ae801e-d4e9-47cc-f19b-8864f7977266"
      },
      "source": [
        "%matplotlib inline\n",
        "ts = pd.Series(np.random.randn(50), index= pd.date_range(\"today\", periods = 50))\n",
        "ts = ts.cumsum()\n",
        "ts.plot()"
      ],
      "execution_count": null,
      "outputs": [
        {
          "output_type": "execute_result",
          "data": {
            "text/plain": [
              "<matplotlib.axes._subplots.AxesSubplot at 0x25749dbbf60>"
            ]
          },
          "metadata": {
            "tags": []
          },
          "execution_count": 131
        },
        {
          "output_type": "display_data",
          "data": {
            "image/png": "[encoded data removed]",
            "text/plain": [
              "<Figure size 432x288 with 1 Axes>"
            ]
          },
          "metadata": {
            "tags": [],
            "needs_background": "light"
          }
        }
      ]
    },
    {
      "cell_type": "code",
      "metadata": {
        "id": "47z5FkqHT4uc",
        "colab_type": "code",
        "colab": {},
        "outputId": "fb89edd4-8660-42ea-e62f-d613e2b87774"
      },
      "source": [
        "df = pd.DataFrame(np.random.randn(50,4), index=ts.index, columns = [\"BTC\",\"NGR\",\"EUR\",\"USD\"])\n",
        "df = df.cumsum()\n",
        "df.plot()"
      ],
      "execution_count": null,
      "outputs": [
        {
          "output_type": "execute_result",
          "data": {
            "text/plain": [
              "<matplotlib.axes._subplots.AxesSubplot at 0x25749e1f4e0>"
            ]
          },
          "metadata": {
            "tags": []
          },
          "execution_count": 132
        },
        {
          "output_type": "display_data",
          "data": {
            "image/png": "[encoded data removed]",
            "text/plain": [
              "<Figure size 432x288 with 1 Axes>"
            ]
          },
          "metadata": {
            "tags": [],
            "needs_background": "light"
          }
        }
      ]
    },
    {
      "cell_type": "markdown",
      "metadata": {
        "id": "g5h4qQ_oT4ug",
        "colab_type": "text"
      },
      "source": [
        "<div class=\"alert alert-info\">\n",
        "<p><big><big>&#128079;&#127996;</big></big>\n",
        "    <big><big>&#128079;&#127996;</big></big>  <big><big>&#128079;&#127996;</big></big>\n",
        "    <big><big>&#128079;&#127996;</big></big>  <big><big>&#128079;&#127996;</big></big>\n",
        "    <big><big>&#128079;&#127996;</big></big>  <big><big>&#128079;&#127996;</big></big>\n",
        "    <big><big>&#128079;&#127996;</big></big>   <big><big>&#128079;&#127996;</big></big>\n",
        "    <big><big>&#128079;&#127996;</big></big>   <big><big>&#128079;&#127996;</big></big>\n",
        "    <big><big>&#128079;&#127996;</big></big>   <big><big>&#128079;&#127996;</big></big>\n",
        "    <big><big>&#128079;&#127996;</big></big>   <big><big>&#128079;&#127996;</big></big>\n",
        "    <big><big>&#128079;&#127996;</big></big>   <big><big>&#128079;&#127996;</big></big>\n",
        "    <big><big>&#128079;&#127996;</big></big>    <big><big>&#128079;&#127996;</big></big>\n",
        "    <big><big>&#128079;&#127996;</big></big>    <big><big>&#128079;&#127996;</big></big>\n",
        "    <big><big>&#128079;&#127996;</big></big>    <big><big>&#128079;&#127996;</big></big>\n",
        "    <big><big>&#128079;&#127996;</big></big>    <big><big>&#128079;&#127996;</big></big>\n",
        "    <big><big>&#128079;&#127996;</big></big>     <big><big>&#128079;&#127996;</big></big>\n",
        "    <big><big>&#128079;&#127996;</big></big>     <big><big>&#128079;&#127996;</big></big>\n",
        "    <big><big>&#128079;&#127996;</big></big>     <big><big>&#128079;&#127996;</big></big>\n",
        "    </p>\n",
        "    \n",
        "<p><h2>Thumbs up for making it to the end of this notebook. You just earned the avid learner certification as well as the Pandas fundamentals certification!!!!!</h2>\n",
        " </p>\n",
        "<p><big><big>&#128079;&#127996;</big></big>\n",
        "    <big><big>&#128079;&#127996;</big></big>  <big><big>&#128079;&#127996;</big></big>\n",
        "    <big><big>&#128079;&#127996;</big></big>  <big><big>&#128079;&#127996;</big></big>\n",
        "    <big><big>&#128079;&#127996;</big></big>  <big><big>&#128079;&#127996;</big></big>\n",
        "    <big><big>&#128079;&#127996;</big></big>   <big><big>&#128079;&#127996;</big></big>\n",
        "    <big><big>&#128079;&#127996;</big></big>   <big><big>&#128079;&#127996;</big></big>\n",
        "    <big><big>&#128079;&#127996;</big></big>   <big><big>&#128079;&#127996;</big></big>\n",
        "    <big><big>&#128079;&#127996;</big></big>   <big><big>&#128079;&#127996;</big></big>\n",
        "    <big><big>&#128079;&#127996;</big></big>   <big><big>&#128079;&#127996;</big></big>\n",
        "    <big><big>&#128079;&#127996;</big></big>    <big><big>&#128079;&#127996;</big></big>\n",
        "    <big><big>&#128079;&#127996;</big></big>    <big><big>&#128079;&#127996;</big></big>\n",
        "    <big><big>&#128079;&#127996;</big></big>    <big><big>&#128079;&#127996;</big></big>\n",
        "    <big><big>&#128079;&#127996;</big></big>    <big><big>&#128079;&#127996;</big></big>\n",
        "    <big><big>&#128079;&#127996;</big></big>     <big><big>&#128079;&#127996;</big></big>\n",
        "    <big><big>&#128079;&#127996;</big></big>     <big><big>&#128079;&#127996;</big></big>\n",
        "    <big><big>&#128079;&#127996;</big></big>     <big><big>&#128079;&#127996;</big></big>\n",
        "    </p>\n",
        "\n",
        "\n",
        "</div>"
      ]
    },
    {
      "cell_type": "markdown",
      "metadata": {
        "id": "XkebO9mST4uh",
        "colab_type": "text"
      },
      "source": [
        "<div class=\"alert alert-info\">\n",
        "<h3>Conclusion and next step</h3>\n",
        "\n",
        "\n",
        "<p>Congrats once again for completing this notebook. You can check out the <a href = https://pandas.pydata.org/docs/getting_started/index.html#getting-started>Pandas documentation</a> and other resources online to advance your knowledge of the concept.</p>\n",
        "\n",
        "</div>"
      ]
    },
    {
      "cell_type": "markdown",
      "metadata": {
        "id": "JB073UP7T4ui",
        "colab_type": "text"
      },
      "source": [
        "<div class=\"alert alert-info\">\n",
        "<h3>Recommended resources</h3>\n",
        "<p>For other interactive notebooks:\n",
        "<ul>\n",
        "<li><a href = https://github.com/Abisola-ds/Python-Fundamentals>Python Fundamentals</a></li>\n",
        "<li><a href = https://github.com/Abisola-ds/Python-Libraries-for-data-science/blob/master/Numpy.ipynb>Numpy</a></li>\n",
        "<li><a href = >Matplotlib</a></li>\n",
        "<li><a href =>Scikit Learn</a></li>\n",
        "</ul>\n",
        "    \n",
        "</p>\n",
        "\n",
        "<p>To test your data science knowledge, check out:\n",
        "<li><a href = https://www.kaggle.com/>Kaggle</a></li>\n",
        "<li><a href = https://zindi.africa/>Zindi</a></li>  \n",
        "</p>\n",
        "\n",
        "<p>You can find virtual data science internships at:\n",
        "<li><a href = https://www.insidesherpa.com/>InsideSherpa</a></li>\n",
        "</p>\n",
        "\n",
        "<p>If you get stuck, <a href = https://stackoverflow.com/questions>Stack Overflow</a> is your friend. You can get answer to almost any programming question or error you encounter. You can also contribute to the platform which acts as a plus for you to land your first Python job</p>\n",
        "\n",
        "<p>Finally, join a community of data scientist where you can learn and collaborate with other data scientists</p>\n",
        "</div>"
      ]
    },
    {
      "cell_type": "markdown",
      "metadata": {
        "id": "besFc92YT4ui",
        "colab_type": "text"
      },
      "source": [
        "<p>I hope you found this notebook helpful. If you have any questions or you want to collaborate, feel free to connect with me at <a href = https://www.linkedin.com/in/abisola-fikayomi>Abisola Fikayomi.</a> I am also open to constructive criticism<big><big>&#128522;</big></big>. Thank you!!!</p>"
      ]
    },
    {
      "cell_type": "markdown",
      "metadata": {
        "id": "2f2vJ0lzT4uj",
        "colab_type": "text"
      },
      "source": [
        "<div align = \"center\">Copyright &copy; 2020 <a href = https://www.linkedin.com/in/abisola-fikayomi>Abisola Fikayomi.</a></div>"
      ]
    }
  ]
}