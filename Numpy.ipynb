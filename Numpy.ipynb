{
 "cells": [
  {
   "cell_type": "markdown",
   "metadata": {},
   "source": [
    "<h1 align = \"center\">NumPy Fundamentals</h1>"
   ]
  },
  {
   "cell_type": "markdown",
   "metadata": {},
   "source": [
    "![](https://bit.ly/2ZVLj7m)\n"
   ]
  },
  {
   "cell_type": "markdown",
   "metadata": {},
   "source": [
    "<div class=\"alert alert-info\">\n",
    "<b>\n",
    "<p>NumPy is a must learn python library for data science. NumPy which stands for <b>Numerical Python</b> is a perfect tool for scientific computing and performing basic and advanced array operations. It extends Python list objects into comprehensive multi-dimensional arrays. It is an open source project which you can freely use. Though, there are many contributors to this open source project, however it was created by Travis Oliphant in 2005.</p>\n",
    "<p>NumPy is open source so you can always check out their soucre code in their <a href = https://github.com/numpy/numpy>github repository</a><p>\n",
    "\n",
    "<h3>Why NumPy</h3>\n",
    "\n",
    "<ul>\n",
    "    <li>NumPy is very similar to Python list but it is faster when compared to Python list. Numpy is 50X faster than the traditional Python list.</li>\n",
    "    <li>It is also convenient and uses less memory when compared to Python list</li></ul>\n",
    "\n",
    "<p>This is why it is one of the popular libraries in data science where resources and speed are very important. </p>\n",
    "\n",
    "<p>In this notebook, you will learn:</p>\n",
    "<p>    <ul>\n",
    "    <li>NumPy arrays</li>\n",
    "    <li>NumPy arrays vs Python list</li>\n",
    "    <li>Array dimensions</li>\n",
    "    <li>Array indexing</li>\n",
    "    <li>Array slicing</li>\n",
    "    <li>NumPy data types</li>\n",
    "    <li>Iterating over arrays</li>\n",
    "    <li>Joining arrays</li>\n",
    "    <li>Searching and sorting arrays </li>\n",
    "     <li>Filtering an array</li>\n",
    "     <li>NumPy random numbers</li>\n",
    "     <li>NumPy arange function</li>\n",
    "     <li>NumPy arithmetic operations</li>\n",
    "    <li>NumPy string operations</li>\n",
    "     </ul></p>\n",
    "\n",
    "</b>\n",
    "\n",
    "<h4>Prerequisite</h4>\n",
    "<p>You should have a basic understanding of Python or any of the programming languages.<br>If you are new to programming, you can check out my beginners-friendly interactive notobook on <a href = https://github.com/Abisola-ds/Python-Fundamentals> Python Fundamentals</a></p>\n",
    "<br><br>\n",
    "Time Required: <strong>4 Hours</strong>\n",
    "</div>\n"
   ]
  },
  {
   "cell_type": "markdown",
   "metadata": {},
   "source": [
    "<h3>Getting started</h3>"
   ]
  },
  {
   "cell_type": "markdown",
   "metadata": {},
   "source": [
    "<div class=\"alert alert-info\">\n",
    "<p>\n",
    "The first thing you need to do is to install NumPy. However, if you are using a python distribution that already has NumPy installed(E.g Anaconda or Spyder), then you do not need to install NumPy. You can skip the installation step.</p>\n",
    "    <p>To install NumPy, you use any of the Python package manager as shown in the commands below:</p>\n",
    "    <b><p >pip install numpy<br>\n",
    "    conda install numpy</p></b>\n",
    "    <p>Once NumPy is installed, you import it in your program by using the import keyword as shown below:</p>\n",
    "    <b><p>import numpy</P></b>\n",
    "    <p>To confirm if you have NumPy installed and to check the version, you can use the command: </p>\n",
    "    <b><p>print(numpy.__version__)</p></b>\n",
    " <p>Now, NumPy is ready for use. Let's try it out</p>\n",
    " </div>"
   ]
  },
  {
   "cell_type": "code",
   "execution_count": 1,
   "metadata": {},
   "outputs": [
    {
     "name": "stdout",
     "output_type": "stream",
     "text": [
      "[3 6 8 1 0 3 4]\n"
     ]
    }
   ],
   "source": [
    "import numpy\n",
    "\n",
    "a = numpy.array([3,6,8,1,0,3,4])\n",
    "\n",
    "print(a)"
   ]
  },
  {
   "cell_type": "markdown",
   "metadata": {},
   "source": [
    "<div class=\"alert alert-info\">\n",
    "<p>\n",
    "    Often times, we see the convention:<br> <b>import numpy as np</b><br>\n",
    "This is because NumPy is usually imported under the <b>'np'</b> alias. In Python, aliases are an alternate name for referring to the same thing. We use alias to save time and also to keep our codes standardized so that anyone working with your code can easily understand it. An alias can be created using the keyword <b>'as'</b> in the import statement.</p>"
   ]
  },
  {
   "cell_type": "code",
   "execution_count": 2,
   "metadata": {},
   "outputs": [
    {
     "name": "stdout",
     "output_type": "stream",
     "text": [
      "[3 6 8 1 0 3 4]\n"
     ]
    }
   ],
   "source": [
    "import numpy as np                        #Now the NumPy package can be referred to as 'np' instead of numpy.\n",
    "\n",
    "a = np.array([3,6,8,1,0,3,4])\n",
    "\n",
    "print(a)"
   ]
  },
  {
   "cell_type": "markdown",
   "metadata": {},
   "source": [
    "<h3>NumPy arrays</h3>"
   ]
  },
  {
   "cell_type": "markdown",
   "metadata": {},
   "source": [
    "<div class=\"alert alert-info\">\n",
    "<p>\n",
    "NumPy is used to work with arrays. The array object in NumPy is called <b>ndarray</b>.\n",
    "An array is a central data structure of the NumPy library. An array is a grid of values and it contains information about the raw data, how to locate an element, and how to interpret an element. It has a grid of elements that can be indexed in various ways.</b></p>\n",
    "\n",
    "<p>We can create a NumPy ndarray object by using the <b>array()</b> function.</p>\n"
   ]
  },
  {
   "cell_type": "code",
   "execution_count": 10,
   "metadata": {},
   "outputs": [
    {
     "name": "stdout",
     "output_type": "stream",
     "text": [
      "[1 2 3 4 5]\n",
      "<class 'numpy.ndarray'>\n"
     ]
    }
   ],
   "source": [
    "a = np.array([1, 2, 3, 4, 5])\n",
    "\n",
    "print(a)\n",
    "\n",
    "print(type(a))"
   ]
  },
  {
   "cell_type": "markdown",
   "metadata": {},
   "source": [
    "<h3>Numpy array vs Python list</h3>"
   ]
  },
  {
   "cell_type": "markdown",
   "metadata": {},
   "source": [
    "<div class=\"alert alert-info\">\n",
    "<p>Like we said earlier that the NumPy array is much faster than the Python list. We also mentioned that NumPy consumes less memory than the Python list. We would demonstrate that in this section.</p>\n",
    "<p>We would be importing some packages(sys and time) to help prove this point</p>\n",
    "<p>Note: You don't have to understand the codes in this section. We just want to prove the point above. So, if you don't understand, do not worry as you will get understand them in the course of this notebook</p>\n",
    "</div>"
   ]
  },
  {
   "cell_type": "code",
   "execution_count": 11,
   "metadata": {},
   "outputs": [],
   "source": [
    "import time\n",
    "import sys"
   ]
  },
  {
   "cell_type": "markdown",
   "metadata": {},
   "source": [
    "<h4>Memory Comparison</h4>"
   ]
  },
  {
   "cell_type": "code",
   "execution_count": 12,
   "metadata": {
    "scrolled": true
   },
   "outputs": [
    {
     "name": "stdout",
     "output_type": "stream",
     "text": [
      "28000\n"
     ]
    }
   ],
   "source": [
    "#Memory consumed by python list\n",
    "\n",
    "b = range(1000)\n",
    "print(sys.getsizeof(5)*len(b))"
   ]
  },
  {
   "cell_type": "code",
   "execution_count": 13,
   "metadata": {},
   "outputs": [
    {
     "name": "stdout",
     "output_type": "stream",
     "text": [
      "4000\n"
     ]
    }
   ],
   "source": [
    "#Memory consumed by Numpy array\n",
    "\n",
    "c = np.arange(1000)\n",
    "print(c.size*c.itemsize)"
   ]
  },
  {
   "cell_type": "markdown",
   "metadata": {},
   "source": [
    "<h4>Time Comparison</h4>"
   ]
  },
  {
   "cell_type": "code",
   "execution_count": 16,
   "metadata": {},
   "outputs": [],
   "source": [
    "size = 100000\n",
    "L1 = range(size)\n",
    "L2 = range(size)\n",
    "A1 = np.arange(size)\n",
    "A2 = np.arange(size)\n",
    "\n",
    "\n",
    "#Where l1 and L2 are Python lists and A1 and A2 are Numpy Arrays"
   ]
  },
  {
   "cell_type": "code",
   "execution_count": 17,
   "metadata": {},
   "outputs": [
    {
     "name": "stdout",
     "output_type": "stream",
     "text": [
      "Python list took: 335.9971046447754 milliseconds\n"
     ]
    }
   ],
   "source": [
    "#Python\n",
    "start = time.time()\n",
    "result = [(x+y) for x,y in zip(L1, L2)]\n",
    "print(f\"Python list took:\", (time.time() - start)*1000 , \"milliseconds\")"
   ]
  },
  {
   "cell_type": "code",
   "execution_count": 18,
   "metadata": {},
   "outputs": [
    {
     "name": "stdout",
     "output_type": "stream",
     "text": [
      "Numpy list took: 70.8918571472168 milliseconds\n"
     ]
    }
   ],
   "source": [
    "#Numpy\n",
    "start = time.time()\n",
    "result = A1 + A2\n",
    "print(f\"Numpy list took:\", (time.time() - start)*1000, \"milliseconds\")"
   ]
  },
  {
   "cell_type": "markdown",
   "metadata": {},
   "source": [
    "<h3>Array Dimensions</h3>"
   ]
  },
  {
   "cell_type": "markdown",
   "metadata": {},
   "source": [
    "<div class=\"alert alert-info\">\n",
    "<p>Just like we can have nested lists in Python, we can also have nested array in Numpy. Nested array are arrays that have arrays as their elements. Dimensions in arrays is the level of array depth. An array can have any number of dimensions.</p>\n",
    "    <p>Let's look at some common dimensional arrays</p>\n",
    "     <ul>\n",
    "         <li><b>0-Dimensional Arrays:</b> 0-Dimensional arrays are also referred to as scalars. They are arrays with only a single element. E.g 57</li>\n",
    "         <li><b>1-Dimensional Arrays:</b> 1-Dimensional arrays are arrays that has 0-Dimensional arrays as its elements. These are the most basic and common type of arrays. E.g 1, 2, 3, 4, 5 </li>\n",
    "         <li><b>2-Dimensional Arrays:</b> 2-Dimensional arrays are arrays that has 1-Dimensional arrays as its elements. These type of arrays are often used to represent matrices. E.g 1, 2, 3 and 4,5,6</li>\n",
    "         <li><b>3-Dimensional Arrays:</b> 3-Dimensional arrays are arrays that has 2-Dimensional arrays as its elements. These are often used to represent a 3rd order tensor.</li>\n",
    "     </ul>\n",
    "    \n",
    "</div>"
   ]
  },
  {
   "cell_type": "code",
   "execution_count": 21,
   "metadata": {},
   "outputs": [
    {
     "name": "stdout",
     "output_type": "stream",
     "text": [
      "57\n"
     ]
    }
   ],
   "source": [
    "#Creating a 0-Dimensional array with value 57\n",
    "\n",
    "a = np.array(57)\n",
    "\n",
    "print(a)"
   ]
  },
  {
   "cell_type": "code",
   "execution_count": 22,
   "metadata": {},
   "outputs": [
    {
     "name": "stdout",
     "output_type": "stream",
     "text": [
      "[1 2 3 4 5]\n"
     ]
    }
   ],
   "source": [
    "#Creating a 1-Dimensional array with values 1, 2, 3, 4, 5 \n",
    "\n",
    "a = np.array([1, 2, 3, 4, 5 ])\n",
    "\n",
    "print(a)"
   ]
  },
  {
   "cell_type": "code",
   "execution_count": 24,
   "metadata": {},
   "outputs": [
    {
     "name": "stdout",
     "output_type": "stream",
     "text": [
      "[[1 2 3]\n",
      " [4 5 6]]\n"
     ]
    }
   ],
   "source": [
    "#Creating a 2-Dimensional array with values 1, 2, 3 and 4,5,6\n",
    "\n",
    "a = np.array([[1, 2, 3], [4,5,6]])\n",
    "\n",
    "print(a)"
   ]
  },
  {
   "cell_type": "code",
   "execution_count": 33,
   "metadata": {},
   "outputs": [
    {
     "name": "stdout",
     "output_type": "stream",
     "text": [
      "[[['1' '2' '3']\n",
      "  ['4' '5' '6']]\n",
      "\n",
      " [['a' 'b' 'c']\n",
      "  ['d' 'e' 'f']]]\n"
     ]
    }
   ],
   "source": [
    "#Creating a 3-Dimensional array with values 1, 2, 3 and 4,5,6\n",
    "\n",
    "a = np.array([[[1, 2, 3], [4,5,6]], [[\"a\", \"b\", \"c\"], [\"d\",\"e\",\"f\"]]])\n",
    "\n",
    "print(a)"
   ]
  },
  {
   "cell_type": "markdown",
   "metadata": {},
   "source": [
    "<div class=\"alert alert-info\">\n",
    "<p>You can go on and on like that creating any number of dimensions for the array.</p>\n",
    "    <p>To check the number of dimensions of your array, you can use the <b>ndim</b> attribute that returns an integer that tells you how many dimensions the array have.</p>\n",
    "    <p>NumPy arrays have an attribute called <b>shape</b> that returns a tuple where the number of elements in the tuple signifies the number of dimensions and each element signifies the number of elements in each dimension. Simply put, the shape of an array is the number of elements in each dimension. For example, if the shape attribute returns (2, 3), this means that the array has 2 dimensions, and each dimension has 3 elements. Also, if the shape attribute returns (2, 2, 3), this means that the array has 3 dimensions, where the outermost array and the next one has 2 elements, while the innermost array has 3 elements</p>\n",
    "  <p>When the array is created, you can specify the number of dimensions it should have using the <b>ndmin</b> argument.</p>\n",
    " </div>"
   ]
  },
  {
   "cell_type": "code",
   "execution_count": 37,
   "metadata": {},
   "outputs": [
    {
     "name": "stdout",
     "output_type": "stream",
     "text": [
      "0\n",
      "1\n",
      "2\n",
      "3\n"
     ]
    }
   ],
   "source": [
    "#Using the ndim to check the number of dimensions of an array\n",
    "arr_1 = np.array(57)\n",
    "arr_2 = np.array([1, 2, 3, 4, 5])\n",
    "arr_3= np.array([[1, 2, 3], [4, 5, 6]])\n",
    "arr_4 = np.array([[[1, 2, 3], [4, 5, 6]], [[\"a\", \"b\", \"c\"], [\"d\",\"e\",\"f\"]]])\n",
    "\n",
    "print(arr_1.ndim)\n",
    "print(arr_2.ndim)\n",
    "print(arr_3.ndim)\n",
    "print(arr_4.ndim)"
   ]
  },
  {
   "cell_type": "code",
   "execution_count": 87,
   "metadata": {},
   "outputs": [
    {
     "name": "stdout",
     "output_type": "stream",
     "text": [
      "[[[[[1 2 3 4 5]]]]]\n",
      "The number of dimensions is: 5\n"
     ]
    }
   ],
   "source": [
    "#Using the ndmin to specify the number of dimensions of an array\n",
    "a = np.array([1, 2, 3, 4,5], ndmin=5)\n",
    "\n",
    "print(a)\n",
    "print('The number of dimensions is:', a.ndim)"
   ]
  },
  {
   "cell_type": "markdown",
   "metadata": {},
   "source": [
    "<div class=\"alert alert-danger\">\n",
    "Tip: One quick way to know the number of dimensions of an array is by counting the number of square brackets. \n",
    "The number of square brackets it has equates to the number of dimensions of the array. \n",
    "</div>"
   ]
  },
  {
   "cell_type": "code",
   "execution_count": 88,
   "metadata": {},
   "outputs": [
    {
     "name": "stdout",
     "output_type": "stream",
     "text": [
      "()\n",
      "(5,)\n",
      "(2, 3)\n",
      "(2, 2, 3)\n"
     ]
    }
   ],
   "source": [
    "#Checking the shape of an array\n",
    "print(arr_1.shape)\n",
    "print(arr_2.shape)\n",
    "print(arr_3.shape)\n",
    "print(arr_4.shape)"
   ]
  },
  {
   "cell_type": "markdown",
   "metadata": {},
   "source": [
    "<div class=\"alert alert-info\">\n",
    "There is a <b>reshape</b> attribute in NumPy to reshape an array. Reshaping means changing the shape of an array. The shape of an array is the number of elements in each dimension. By reshaping we can add or remove dimensions or change number of elements in each dimension.\n",
    "    \n",
    "<p>Note: When using the reshape attribute, ensure the new shape you are specifying is achievable given the number of elements in the array. If not, you will get an error</p>\n"
   ]
  },
  {
   "cell_type": "code",
   "execution_count": 95,
   "metadata": {},
   "outputs": [
    {
     "name": "stdout",
     "output_type": "stream",
     "text": [
      "(12,)\n"
     ]
    }
   ],
   "source": [
    "a = np.array([1, 2, 3, 4, 5, 6, 7, 8, 9, 10,11,12])\n",
    "print(a.shape)\n"
   ]
  },
  {
   "cell_type": "code",
   "execution_count": 98,
   "metadata": {},
   "outputs": [
    {
     "name": "stdout",
     "output_type": "stream",
     "text": [
      "(4, 3)\n",
      "[[ 1  2  3]\n",
      " [ 4  5  6]\n",
      " [ 7  8  9]\n",
      " [10 11 12]]\n"
     ]
    }
   ],
   "source": [
    "#Reshaping from 1-D to 2-D\n",
    "\n",
    "new_arr = a.reshape(4, 3)\n",
    "print(new_arr.shape)\n",
    "print(new_arr)"
   ]
  },
  {
   "cell_type": "code",
   "execution_count": 99,
   "metadata": {},
   "outputs": [
    {
     "name": "stdout",
     "output_type": "stream",
     "text": [
      "(2, 3, 2)\n",
      "[[[ 1  2]\n",
      "  [ 3  4]\n",
      "  [ 5  6]]\n",
      "\n",
      " [[ 7  8]\n",
      "  [ 9 10]\n",
      "  [11 12]]]\n"
     ]
    }
   ],
   "source": [
    "#Reshaping from 1-D to 3-D\n",
    "\n",
    "new_arr = a.reshape(2, 3,2)\n",
    "print(new_arr.shape)\n",
    "print(new_arr)"
   ]
  },
  {
   "cell_type": "code",
   "execution_count": 106,
   "metadata": {},
   "outputs": [
    {
     "name": "stdout",
     "output_type": "stream",
     "text": [
      "(2, 6)\n"
     ]
    }
   ],
   "source": [
    "a = np.array([[1, 2, 3, 4, 5, 6],[7, 8, 9, 10,11,12]])\n",
    "print(a.shape)"
   ]
  },
  {
   "cell_type": "code",
   "execution_count": 107,
   "metadata": {},
   "outputs": [
    {
     "name": "stdout",
     "output_type": "stream",
     "text": [
      "(2, 3, 2)\n",
      "[[[ 1  2]\n",
      "  [ 3  4]\n",
      "  [ 5  6]]\n",
      "\n",
      " [[ 7  8]\n",
      "  [ 9 10]\n",
      "  [11 12]]]\n"
     ]
    }
   ],
   "source": [
    "#Reshaping from 2-D to 3-D\n",
    "\n",
    "new_arr = a.reshape(2, 3,2)\n",
    "print(new_arr.shape)\n",
    "print(new_arr)"
   ]
  },
  {
   "cell_type": "markdown",
   "metadata": {},
   "source": [
    "<div class=\"alert alert-info\">\n",
    "    Converting a multi-dimensional array to a 1-dimensional array is known as <b>flatening an array.</b> We can use reshape(-1) to do this.\n",
    "   </div>"
   ]
  },
  {
   "cell_type": "code",
   "execution_count": 26,
   "metadata": {},
   "outputs": [
    {
     "name": "stdout",
     "output_type": "stream",
     "text": [
      "(2, 2, 3)\n"
     ]
    }
   ],
   "source": [
    "#Flattening an array using the faltten() function\n",
    "a = np.array([[[1, 2, 3], [4, 5, 6]], [[7, 8, 9], [10, 11, 12]]])\n",
    "print(a.shape)"
   ]
  },
  {
   "cell_type": "code",
   "execution_count": 27,
   "metadata": {},
   "outputs": [
    {
     "name": "stdout",
     "output_type": "stream",
     "text": [
      "(12,)\n",
      "[ 1  2  3  4  5  6  7  8  9 10 11 12]\n"
     ]
    }
   ],
   "source": [
    "new_arr = a.flatten()\n",
    "print(new_arr.shape)\n",
    "print(new_arr)"
   ]
  },
  {
   "cell_type": "code",
   "execution_count": 28,
   "metadata": {},
   "outputs": [
    {
     "name": "stdout",
     "output_type": "stream",
     "text": [
      "(2, 2, 3)\n"
     ]
    }
   ],
   "source": [
    "#Flattening an array using reshape(-1)\n",
    "\n",
    "a = np.array([[[1, 2, 3], [4, 5, 6]], [[7, 8, 9], [10, 11, 12]]])\n",
    "print(a.shape)"
   ]
  },
  {
   "cell_type": "code",
   "execution_count": null,
   "metadata": {},
   "outputs": [],
   "source": [
    "new_arr = a.reshape(-1)\n",
    "print(new_arr.shape)\n",
    "print(new_arr)"
   ]
  },
  {
   "cell_type": "markdown",
   "metadata": {},
   "source": [
    "<div class=\"alert alert-info\">There is also a <b>resize()</b> function in Numpy that function almost like the reshape() function except that the resize() function will not generate and error if the shape specified is not achievable with the number of elements</div>"
   ]
  },
  {
   "cell_type": "code",
   "execution_count": 67,
   "metadata": {
    "collapsed": true
   },
   "outputs": [
    {
     "ename": "ValueError",
     "evalue": "cannot reshape array of size 12 into shape (3,5)",
     "output_type": "error",
     "traceback": [
      "\u001b[1;31m---------------------------------------------------------------------------\u001b[0m",
      "\u001b[1;31mValueError\u001b[0m                                Traceback (most recent call last)",
      "\u001b[1;32m<ipython-input-67-78d24fdf4e4f>\u001b[0m in \u001b[0;36m<module>\u001b[1;34m\u001b[0m\n\u001b[0;32m      1\u001b[0m \u001b[0ma\u001b[0m \u001b[1;33m=\u001b[0m \u001b[0mnp\u001b[0m\u001b[1;33m.\u001b[0m\u001b[0marray\u001b[0m\u001b[1;33m(\u001b[0m\u001b[1;33m[\u001b[0m\u001b[1;36m1\u001b[0m\u001b[1;33m,\u001b[0m \u001b[1;36m2\u001b[0m\u001b[1;33m,\u001b[0m \u001b[1;36m3\u001b[0m\u001b[1;33m,\u001b[0m \u001b[1;36m4\u001b[0m\u001b[1;33m,\u001b[0m \u001b[1;36m5\u001b[0m\u001b[1;33m,\u001b[0m \u001b[1;36m6\u001b[0m\u001b[1;33m,\u001b[0m \u001b[1;36m7\u001b[0m\u001b[1;33m,\u001b[0m \u001b[1;36m8\u001b[0m\u001b[1;33m,\u001b[0m \u001b[1;36m9\u001b[0m\u001b[1;33m,\u001b[0m \u001b[1;36m10\u001b[0m\u001b[1;33m,\u001b[0m\u001b[1;36m11\u001b[0m\u001b[1;33m,\u001b[0m\u001b[1;36m12\u001b[0m\u001b[1;33m]\u001b[0m\u001b[1;33m)\u001b[0m\u001b[1;33m\u001b[0m\u001b[1;33m\u001b[0m\u001b[0m\n\u001b[1;32m----> 2\u001b[1;33m \u001b[0mnp\u001b[0m\u001b[1;33m.\u001b[0m\u001b[0mreshape\u001b[0m\u001b[1;33m(\u001b[0m\u001b[0ma\u001b[0m\u001b[1;33m,\u001b[0m \u001b[1;33m[\u001b[0m\u001b[1;36m3\u001b[0m\u001b[1;33m,\u001b[0m\u001b[1;36m5\u001b[0m\u001b[1;33m]\u001b[0m\u001b[1;33m)\u001b[0m\u001b[1;33m\u001b[0m\u001b[1;33m\u001b[0m\u001b[0m\n\u001b[0m",
      "\u001b[1;32m~\\Anaconda3\\lib\\site-packages\\numpy\\core\\fromnumeric.py\u001b[0m in \u001b[0;36mreshape\u001b[1;34m(a, newshape, order)\u001b[0m\n\u001b[0;32m    290\u001b[0m            [5, 6]])\n\u001b[0;32m    291\u001b[0m     \"\"\"\n\u001b[1;32m--> 292\u001b[1;33m     \u001b[1;32mreturn\u001b[0m \u001b[0m_wrapfunc\u001b[0m\u001b[1;33m(\u001b[0m\u001b[0ma\u001b[0m\u001b[1;33m,\u001b[0m \u001b[1;34m'reshape'\u001b[0m\u001b[1;33m,\u001b[0m \u001b[0mnewshape\u001b[0m\u001b[1;33m,\u001b[0m \u001b[0morder\u001b[0m\u001b[1;33m=\u001b[0m\u001b[0morder\u001b[0m\u001b[1;33m)\u001b[0m\u001b[1;33m\u001b[0m\u001b[1;33m\u001b[0m\u001b[0m\n\u001b[0m\u001b[0;32m    293\u001b[0m \u001b[1;33m\u001b[0m\u001b[0m\n\u001b[0;32m    294\u001b[0m \u001b[1;33m\u001b[0m\u001b[0m\n",
      "\u001b[1;32m~\\Anaconda3\\lib\\site-packages\\numpy\\core\\fromnumeric.py\u001b[0m in \u001b[0;36m_wrapfunc\u001b[1;34m(obj, method, *args, **kwds)\u001b[0m\n\u001b[0;32m     54\u001b[0m \u001b[1;32mdef\u001b[0m \u001b[0m_wrapfunc\u001b[0m\u001b[1;33m(\u001b[0m\u001b[0mobj\u001b[0m\u001b[1;33m,\u001b[0m \u001b[0mmethod\u001b[0m\u001b[1;33m,\u001b[0m \u001b[1;33m*\u001b[0m\u001b[0margs\u001b[0m\u001b[1;33m,\u001b[0m \u001b[1;33m**\u001b[0m\u001b[0mkwds\u001b[0m\u001b[1;33m)\u001b[0m\u001b[1;33m:\u001b[0m\u001b[1;33m\u001b[0m\u001b[1;33m\u001b[0m\u001b[0m\n\u001b[0;32m     55\u001b[0m     \u001b[1;32mtry\u001b[0m\u001b[1;33m:\u001b[0m\u001b[1;33m\u001b[0m\u001b[1;33m\u001b[0m\u001b[0m\n\u001b[1;32m---> 56\u001b[1;33m         \u001b[1;32mreturn\u001b[0m \u001b[0mgetattr\u001b[0m\u001b[1;33m(\u001b[0m\u001b[0mobj\u001b[0m\u001b[1;33m,\u001b[0m \u001b[0mmethod\u001b[0m\u001b[1;33m)\u001b[0m\u001b[1;33m(\u001b[0m\u001b[1;33m*\u001b[0m\u001b[0margs\u001b[0m\u001b[1;33m,\u001b[0m \u001b[1;33m**\u001b[0m\u001b[0mkwds\u001b[0m\u001b[1;33m)\u001b[0m\u001b[1;33m\u001b[0m\u001b[1;33m\u001b[0m\u001b[0m\n\u001b[0m\u001b[0;32m     57\u001b[0m \u001b[1;33m\u001b[0m\u001b[0m\n\u001b[0;32m     58\u001b[0m     \u001b[1;31m# An AttributeError occurs if the object does not have\u001b[0m\u001b[1;33m\u001b[0m\u001b[1;33m\u001b[0m\u001b[1;33m\u001b[0m\u001b[0m\n",
      "\u001b[1;31mValueError\u001b[0m: cannot reshape array of size 12 into shape (3,5)"
     ]
    }
   ],
   "source": [
    "#Expect an error\n",
    "\n",
    "a = np.array([1, 2, 3, 4, 5, 6, 7, 8, 9, 10,11,12])\n",
    "np.reshape(a, [3,5])"
   ]
  },
  {
   "cell_type": "code",
   "execution_count": 69,
   "metadata": {},
   "outputs": [
    {
     "data": {
      "text/plain": [
       "array([[ 1,  2,  3,  4,  5],\n",
       "       [ 6,  7,  8,  9, 10],\n",
       "       [11, 12,  1,  2,  3]])"
      ]
     },
     "execution_count": 69,
     "metadata": {},
     "output_type": "execute_result"
    }
   ],
   "source": [
    "#Now, lets chane reshape to resize\n",
    "a = np.array([1, 2, 3, 4, 5, 6, 7, 8, 9, 10,11,12])\n",
    "np.resize(a, [3,5])"
   ]
  },
  {
   "cell_type": "markdown",
   "metadata": {},
   "source": [
    "<h3>Array Indexing</h3>"
   ]
  },
  {
   "cell_type": "markdown",
   "metadata": {},
   "source": [
    "<div class=\"alert alert-info\">\n",
    "Just like we use list indexing to access elements in a list, we also have array indexing. You can access an array element by referring to its index number. Indexing in NumPy arrays start with 0, meaning that the first element has index 0, and the second has index 1.\n",
    "</div>"
   ]
  },
  {
   "cell_type": "code",
   "execution_count": 42,
   "metadata": {},
   "outputs": [
    {
     "name": "stdout",
     "output_type": "stream",
     "text": [
      "1\n",
      "2\n",
      "4\n"
     ]
    }
   ],
   "source": [
    "a = np.array([1, 2, 3, 4,5])\n",
    "\n",
    "print(a[0])\n",
    "print(a[1])\n",
    "print(a[-1]- a[0])"
   ]
  },
  {
   "cell_type": "markdown",
   "metadata": {},
   "source": [
    "<div class=\"alert alert-info\">\n",
    "This method is for accessing 1-dimensional arrays. To access a 2 or 3 dimensional array, you can use comma separated integers representing the dimension and the index of the element. Check the examples below to understand better\n",
    "</div>"
   ]
  },
  {
   "cell_type": "code",
   "execution_count": 48,
   "metadata": {},
   "outputs": [
    {
     "name": "stdout",
     "output_type": "stream",
     "text": [
      "[[1 2 3]\n",
      " [4 5 6]]\n",
      "3rd element on the 2nd dimension:  6\n",
      "2nd element on the 1st dimension:  2\n",
      "1st element on the 2nd dimension:  4\n"
     ]
    }
   ],
   "source": [
    "#Accessing a 2-dimensional array\n",
    "a = np.array([[1, 2, 3], [4,5,6]])\n",
    "print(a)\n",
    "\n",
    "print('3rd element on the 2nd dimension: ', a[1, 2])\n",
    "print('2nd element on the 1st dimension: ', a[0, 1])\n",
    "print('1st element on the 2nd dimension: ', a[1, 0])"
   ]
  },
  {
   "cell_type": "code",
   "execution_count": 50,
   "metadata": {},
   "outputs": [
    {
     "name": "stdout",
     "output_type": "stream",
     "text": [
      "e\n"
     ]
    }
   ],
   "source": [
    "#Accessing a 3-dimensional array\n",
    "a = np.array([[[1, 2, 3], [4,5,6]], [[\"a\", \"b\", \"c\"], [\"d\",\"e\",\"f\"]]])\n",
    "\n",
    "\n",
    "print(a[1,1,1])"
   ]
  },
  {
   "cell_type": "markdown",
   "metadata": {},
   "source": [
    "<div class=\"alert alert-info\">\n",
    "<p>print(a[1,1,1]) above retuned e. This is because we are indexing a[1,1,1]. see explantion below: </p>\n",
    "\n",
    "<p>The first number represents the first dimension, which contains two elements:\n",
    "[[1, 2, 3], [4,5,6]]\n",
    "and:\n",
    "[[\"a\", \"b\", \"c\"], [\"d\",\"e\",\"f\"]]\n",
    ". Since we selected 1, it means we are referencing the second element. i.e [[1, 2, 3], [4, 5, 6]]\n",
    "</p><p>\n",
    "The second number represents the second dimension, which also contains two elements:\n",
    "[\"a\", \"b\", \"c\"]\n",
    "and:\n",
    "[\"d\",\"e\",\"f\"]\n",
    ". Since we selected 1, it means we are referencing the second element of this second array. i.e [\"d\",\"e\",\"f\"]\n",
    "</p><p>\n",
    "The third number represents the third dimension, which contains three elements: d,e,f. Since we selected 1, it means we are referencing the second element. i.e 'e'</p>\n"
   ]
  },
  {
   "cell_type": "markdown",
   "metadata": {},
   "source": [
    "<h3>Array slicing<h3>"
   ]
  },
  {
   "cell_type": "markdown",
   "metadata": {},
   "source": [
    "<div class=\"alert alert-info\">\n",
    "We can also have slicing in NumPy arrays. We can refrence elements using slicing uisng the format below:<br>\n",
    "\n",
    "We pass slice instead of index like this: <b>arr[start:end].</b>\n",
    "<br>\n",
    "We can also define the step, like this: <b>arr[start:end:step].</b>\n",
    "<br>\n",
    "If you don't specify the start index it defaults to 0. Likewise, if you don't specify the end index, it defaults to the length of the array.\n",
    "\n",
    "<p>Note: The result includes the start index, but excludes the end index.</p>\n",
    "</div>"
   ]
  },
  {
   "cell_type": "markdown",
   "metadata": {},
   "source": [
    "<h4>Slicing 1-D arrays</h4>\n"
   ]
  },
  {
   "cell_type": "code",
   "execution_count": 70,
   "metadata": {},
   "outputs": [
    {
     "name": "stdout",
     "output_type": "stream",
     "text": [
      "[2 3]\n",
      "[2 3 4 5 6 7 8]\n"
     ]
    }
   ],
   "source": [
    "a = np.array([1, 2, 3, 4,5,6,7,8])\n",
    "\n",
    "print(a[1:3])\n",
    "print(a[1:])\n"
   ]
  },
  {
   "cell_type": "code",
   "execution_count": 71,
   "metadata": {},
   "outputs": [
    {
     "name": "stdout",
     "output_type": "stream",
     "text": [
      "[1 2 3]\n",
      "[1 3 5]\n",
      "[1 3 5 7]\n"
     ]
    }
   ],
   "source": [
    "print(a[:3])\n",
    "print(a[0:5:2])\n",
    "print(a[::2])"
   ]
  },
  {
   "cell_type": "code",
   "execution_count": null,
   "metadata": {},
   "outputs": [],
   "source": [
    "<h4>Slicing 2-D arrays</h4>"
   ]
  },
  {
   "cell_type": "code",
   "execution_count": 72,
   "metadata": {},
   "outputs": [
    {
     "name": "stdout",
     "output_type": "stream",
     "text": [
      "[4 5 6]\n"
     ]
    }
   ],
   "source": [
    "a = np.array([[1, 2, 3], [4,5,6]])\n",
    "\n",
    "print(a[1, :])\n"
   ]
  },
  {
   "cell_type": "code",
   "execution_count": 74,
   "metadata": {},
   "outputs": [
    {
     "name": "stdout",
     "output_type": "stream",
     "text": [
      "[1 2]\n"
     ]
    }
   ],
   "source": [
    "print(a[0, :2])              #for the first element, return index 0 to 2(excludes index 2)\n"
   ]
  },
  {
   "cell_type": "code",
   "execution_count": 75,
   "metadata": {},
   "outputs": [
    {
     "name": "stdout",
     "output_type": "stream",
     "text": [
      "[3 6]\n"
     ]
    }
   ],
   "source": [
    "print(a[:, 2])              #for both element, return index 2"
   ]
  },
  {
   "cell_type": "code",
   "execution_count": 76,
   "metadata": {},
   "outputs": [
    {
     "name": "stdout",
     "output_type": "stream",
     "text": [
      "For both elememts, this is index 0 to 2\n",
      "[[1 2]\n",
      " [4 5]]\n"
     ]
    }
   ],
   "source": [
    "print(\"For both elememts, this is index 0 to 2\")\n",
    "print(a[0:2, 0:2])"
   ]
  },
  {
   "cell_type": "markdown",
   "metadata": {},
   "source": [
    "<h4>Slicing 3-D arrays</h4>"
   ]
  },
  {
   "cell_type": "code",
   "execution_count": 78,
   "metadata": {},
   "outputs": [
    {
     "name": "stdout",
     "output_type": "stream",
     "text": [
      "['d' 'e' 'f']\n"
     ]
    }
   ],
   "source": [
    "a = np.array([[[1, 2, 3], [4,5,6]], [[\"a\", \"b\", \"c\"], [\"d\",\"e\",\"f\"]]])\n",
    "\n",
    "print(a[1, 1, :])"
   ]
  },
  {
   "cell_type": "code",
   "execution_count": 79,
   "metadata": {},
   "outputs": [
    {
     "name": "stdout",
     "output_type": "stream",
     "text": [
      "[['a' 'b']\n",
      " ['d' 'e']]\n"
     ]
    }
   ],
   "source": [
    "print(a[1, :, :2])"
   ]
  },
  {
   "cell_type": "code",
   "execution_count": 80,
   "metadata": {},
   "outputs": [
    {
     "name": "stdout",
     "output_type": "stream",
     "text": [
      "[[['2' '3']\n",
      "  ['5' '6']]\n",
      "\n",
      " [['b' 'c']\n",
      "  ['e' 'f']]]\n"
     ]
    }
   ],
   "source": [
    "print(a[:, :, 1:])"
   ]
  },
  {
   "cell_type": "markdown",
   "metadata": {},
   "source": [
    "<h3>NumPy Data types</h3>"
   ]
  },
  {
   "cell_type": "markdown",
   "metadata": {},
   "source": [
    "<div class=\"alert alert-info\">\n",
    "        <p>Numpy has some additional data types beyond the conventional Python data type. Below is a list of all data types in NumPy and the characters used to represent them.</p><br>\n",
    "\n",
    "<li>i - integer</li>\n",
    "<li>b - boolean</li>\n",
    "<li>u - unsigned integer</li>\n",
    "<li>f - float</li>\n",
    "<li>c - complex float</li>\n",
    "<li>m - timedelta</li>\n",
    "<li>M - datetime</li>\n",
    "<li>O - object</li>\n",
    "<li>S - string</li>\n",
    "<li>U - unicode string</li>\n",
    "<li>V - fixed chunk of memory for other type ( void )</li>\n",
    "\n",
    "<p>To check the data type of an array, you use the <b>dtype</b> attribute.</p>\n"
   ]
  },
  {
   "cell_type": "code",
   "execution_count": 81,
   "metadata": {},
   "outputs": [
    {
     "name": "stdout",
     "output_type": "stream",
     "text": [
      "int32\n"
     ]
    }
   ],
   "source": [
    "a = np.array([1, 2, 3, 4,5])\n",
    "\n",
    "print(a.dtype)"
   ]
  },
  {
   "cell_type": "code",
   "execution_count": 82,
   "metadata": {},
   "outputs": [
    {
     "name": "stdout",
     "output_type": "stream",
     "text": [
      "<U1\n"
     ]
    }
   ],
   "source": [
    "a = np.array(['a', 'b', 'c'])\n",
    "\n",
    "print(a.dtype)\n"
   ]
  },
  {
   "cell_type": "code",
   "execution_count": 83,
   "metadata": {},
   "outputs": [
    {
     "name": "stdout",
     "output_type": "stream",
     "text": [
      "<U6\n"
     ]
    }
   ],
   "source": [
    "a = np.array(['presh', 'praise', 'mj'])\n",
    "\n",
    "print(a.dtype)\n"
   ]
  },
  {
   "cell_type": "markdown",
   "metadata": {},
   "source": [
    "<div class=\"alert alert-info\">\n",
    "    You can also use the <b>dtype</b> argument to specify the data type of the array elements\n",
    "</div>"
   ]
  },
  {
   "cell_type": "code",
   "execution_count": 84,
   "metadata": {},
   "outputs": [
    {
     "name": "stdout",
     "output_type": "stream",
     "text": [
      "[b'1' b'2' b'3' b'4' b'5']\n",
      "|S1\n"
     ]
    }
   ],
   "source": [
    "a = np.array([1, 2, 3, 4,5], dtype='S')\n",
    "\n",
    "print(a)\n",
    "print(a.dtype)"
   ]
  },
  {
   "cell_type": "code",
   "execution_count": 85,
   "metadata": {},
   "outputs": [
    {
     "name": "stdout",
     "output_type": "stream",
     "text": [
      "[[1. 2.]\n",
      " [3. 4.]\n",
      " [4. 5.]\n",
      " [5. 6.]]\n",
      "float64\n"
     ]
    }
   ],
   "source": [
    "a = np.array([[1,2],[3,4],[4,5],[5,6]], dtype = np.float64)\n",
    "print(a)\n",
    "print(a.dtype)"
   ]
  },
  {
   "cell_type": "code",
   "execution_count": 86,
   "metadata": {},
   "outputs": [
    {
     "name": "stdout",
     "output_type": "stream",
     "text": [
      "[[1.+0.j 2.+0.j]\n",
      " [3.+0.j 4.+0.j]\n",
      " [4.+0.j 5.+0.j]\n",
      " [5.+0.j 6.+0.j]]\n",
      "complex128\n"
     ]
    }
   ],
   "source": [
    "a = np.array([[1,2],[3,4],[4,5],[5,6]], dtype = np.complex)\n",
    "print(a)\n",
    "print(a.dtype)"
   ]
  },
  {
   "cell_type": "markdown",
   "metadata": {},
   "source": [
    "<h3>Iterating over an array</h3>"
   ]
  },
  {
   "cell_type": "markdown",
   "metadata": {},
   "source": [
    "<div class=\"alert alert-info\">\n",
    "    <p>Iterating over an array can be done using the basic <b>for</b> loop in Python. However, in basic for loops, iterating through each scalar of an array would require you to use <b>n for loops</b> which can be difficult to write for arrays with very high dimensionality.</p>\n",
    "\n",
    "<p>The <b>nditer()</b> function can be used instead. It is a helping function that can be used from very basic to very advanced iterations. It solves some basic issues which we face in iteration</p>\n",
    "\n",
    "<p>In this section, we will use both the for loop and the nditer to iterate over the array and compare the two methods</p>\n",
    "    </div>"
   ]
  },
  {
   "cell_type": "code",
   "execution_count": 4,
   "metadata": {},
   "outputs": [
    {
     "name": "stdout",
     "output_type": "stream",
     "text": [
      "1\n",
      "2\n",
      "3\n",
      "4\n",
      "5\n",
      "6\n",
      "7\n",
      "8\n",
      "9\n",
      "10\n",
      "11\n",
      "12\n"
     ]
    }
   ],
   "source": [
    "#Iterating over an array using for loop\n",
    "a = np.array([[[1, 2, 3], [4, 5, 6]], [[7, 8, 9], [10, 11, 12]]])\n",
    "\n",
    "for x in a:\n",
    "    for y in x:\n",
    "        for z in y:\n",
    "            print(z)"
   ]
  },
  {
   "cell_type": "code",
   "execution_count": 5,
   "metadata": {},
   "outputs": [
    {
     "name": "stdout",
     "output_type": "stream",
     "text": [
      "1\n",
      "2\n",
      "3\n",
      "4\n",
      "5\n",
      "6\n",
      "7\n",
      "8\n",
      "9\n",
      "10\n",
      "11\n",
      "12\n"
     ]
    }
   ],
   "source": [
    "#Iterating over an array using nditer()\n",
    "\n",
    "a = np.array([[[1, 2, 3], [4, 5, 6]], [[7, 8, 9], [10, 11, 12]]])\n",
    "for x in np.nditer(a):\n",
    "    print(x)"
   ]
  },
  {
   "cell_type": "markdown",
   "metadata": {},
   "source": [
    "<div class=\"alert alert-info\">\n",
    "    <p>You can see the nditer() is more efficient than the for loop for high dimesional data</p>\n",
    "    </div>"
   ]
  },
  {
   "cell_type": "markdown",
   "metadata": {},
   "source": [
    "<div class=\"alert alert-info\">\n",
    "    <p>You can also specify the order(column or row) by specifying the order argument of the nditer() function</p>\n",
    "    <p>F is the fortan way, C is the default one and it is the C programming way</p>\n",
    "    </div>"
   ]
  },
  {
   "cell_type": "code",
   "execution_count": 12,
   "metadata": {},
   "outputs": [
    {
     "name": "stdout",
     "output_type": "stream",
     "text": [
      "[[[ 1  2  3]\n",
      "  [ 4  5  6]]\n",
      "\n",
      " [[ 7  8  9]\n",
      "  [10 11 12]]]\n"
     ]
    }
   ],
   "source": [
    "a = np.array([[[1, 2, 3], [4, 5, 6]], [[7, 8, 9], [10, 11, 12]]])\n",
    "\n",
    "print(a)"
   ]
  },
  {
   "cell_type": "code",
   "execution_count": 13,
   "metadata": {
    "collapsed": true
   },
   "outputs": [
    {
     "name": "stdout",
     "output_type": "stream",
     "text": [
      "1\n",
      "2\n",
      "3\n",
      "4\n",
      "5\n",
      "6\n",
      "7\n",
      "8\n",
      "9\n",
      "10\n",
      "11\n",
      "12\n"
     ]
    }
   ],
   "source": [
    "for x in np.nditer(a, order = \"C\"):\n",
    "    print(x)\n",
    "    "
   ]
  },
  {
   "cell_type": "code",
   "execution_count": 11,
   "metadata": {
    "collapsed": true
   },
   "outputs": [
    {
     "name": "stdout",
     "output_type": "stream",
     "text": [
      "1\n",
      "7\n",
      "4\n",
      "10\n",
      "2\n",
      "8\n",
      "5\n",
      "11\n",
      "3\n",
      "9\n",
      "6\n",
      "12\n"
     ]
    }
   ],
   "source": [
    "for x in np.nditer(a, order = \"F\"):\n",
    "    print(x)"
   ]
  },
  {
   "cell_type": "markdown",
   "metadata": {},
   "source": [
    "<h3>Joining arrays</h3>"
   ]
  },
  {
   "cell_type": "markdown",
   "metadata": {},
   "source": [
    "<div class=\"alert alert-info\">\n",
    "<p>Joining means putting contents of two or more arrays in a single array. In SQL, we join tables based on a key, whereas in NumPy we join arrays by axes.</p>\n",
    "\n",
    "<p>To do this, you pass a sequence of arrays that we want to join to the concatenate() function, along with the axis. If axis is not explicitly passed, it is taken as 0. Another method for joining arrays is the stack function which is similar to the concatenate function. NumPy provides helper functions to specify ho you want to stack the arrays:<br>\n",
    "    <li><b>hstack():</b> to stack along rows</li>\n",
    "    <li><b>vstack():</b> to stack along columns</li>\n",
    "    <li><b>dstack():</b> to stack along heights</li>\n",
    "</p>"
   ]
  },
  {
   "cell_type": "code",
   "execution_count": 30,
   "metadata": {},
   "outputs": [
    {
     "name": "stdout",
     "output_type": "stream",
     "text": [
      "Joining the two arrays along the axis o:\n",
      "[[1 2]\n",
      " [3 4]\n",
      " [5 6]\n",
      " [7 8]]\n",
      "Joining the two arrays along the axis 1:\n",
      "[[1 2 5 6]\n",
      " [3 4 7 8]]\n"
     ]
    }
   ],
   "source": [
    "#Joining arrays using the concatenate function\n",
    "a = np.array([[1,2],[3,4]])\n",
    "b = np.array([[5,6],[7,8]])\n",
    "\n",
    "print(\"Joining the two arrays along the axis 0:\")\n",
    "print(np.concatenate((a,b)))\n",
    "\n",
    "print(\"Joining the two arrays along the axis 1:\")\n",
    "print(np.concatenate((a,b), axis = 1))"
   ]
  },
  {
   "cell_type": "code",
   "execution_count": 34,
   "metadata": {},
   "outputs": [
    {
     "name": "stdout",
     "output_type": "stream",
     "text": [
      "Joining the two arrays along the axis 0:\n",
      "[[1 2]\n",
      " [3 4]\n",
      " [5 6]\n",
      " [7 8]]\n",
      "Joining the two arrays along the axis 1:\n",
      "[[[1 2]\n",
      "  [5 6]]\n",
      "\n",
      " [[3 4]\n",
      "  [7 8]]]\n"
     ]
    }
   ],
   "source": [
    "#Joining arrays using the stack function\n",
    "a = np.array([[1,2],[3,4]])\n",
    "b = np.array([[5,6],[7,8]])\n",
    "\n",
    "print(\"Joining the two arrays along the axis 0:\")\n",
    "print(np.concatenate((a,b)))\n",
    "\n",
    "print(\"Joining the two arrays along the axis 1:\")\n",
    "print(np.stack((a,b), axis = 1))\n"
   ]
  },
  {
   "cell_type": "code",
   "execution_count": 35,
   "metadata": {},
   "outputs": [
    {
     "name": "stdout",
     "output_type": "stream",
     "text": [
      "[[1 2 5 6]\n",
      " [3 4 7 8]]\n"
     ]
    }
   ],
   "source": [
    "#Stacking along the rows\n",
    "a = np.array([[1,2],[3,4]])\n",
    "b = np.array([[5,6],[7,8]])\n",
    "\n",
    "print(np.hstack((a,b)))"
   ]
  },
  {
   "cell_type": "code",
   "execution_count": 36,
   "metadata": {},
   "outputs": [
    {
     "name": "stdout",
     "output_type": "stream",
     "text": [
      "[[1 2]\n",
      " [3 4]\n",
      " [5 6]\n",
      " [7 8]]\n"
     ]
    }
   ],
   "source": [
    "#Stacking along the columns\n",
    "a = np.array([[1,2],[3,4]])\n",
    "b = np.array([[5,6],[7,8]])\n",
    "\n",
    "print(np.vstack((a,b)))"
   ]
  },
  {
   "cell_type": "code",
   "execution_count": 37,
   "metadata": {},
   "outputs": [
    {
     "name": "stdout",
     "output_type": "stream",
     "text": [
      "[[[1 5]\n",
      "  [2 6]]\n",
      "\n",
      " [[3 7]\n",
      "  [4 8]]]\n"
     ]
    }
   ],
   "source": [
    "#Stacking along the heights\n",
    "a = np.array([[1,2],[3,4]])\n",
    "b = np.array([[5,6],[7,8]])\n",
    "\n",
    "print(np.dstack((a,b)))"
   ]
  },
  {
   "cell_type": "markdown",
   "metadata": {},
   "source": [
    "<h3>Spliting arrays</h3>"
   ]
  },
  {
   "cell_type": "markdown",
   "metadata": {},
   "source": [
    "<div class=\"alert alert-info\">\n",
    "<p>Splitting is simply the reverse operation of Joining. Joining merges multiple arrays into one and splitting breaks one array into multiple arrays.</p>\n",
    "\n",
    "<p>To split arrays, you use the <b>array_split()</b> function. You pass the array you want to split and the number of splits desired.</p></div>"
   ]
  },
  {
   "cell_type": "code",
   "execution_count": 45,
   "metadata": {},
   "outputs": [
    {
     "name": "stdout",
     "output_type": "stream",
     "text": [
      "[array([1, 2, 3, 4]), array([5, 6, 7]), array([ 8,  9, 10])]\n"
     ]
    }
   ],
   "source": [
    "a = np.array([1, 2, 3, 4, 5, 6,7,8,9,10])\n",
    "\n",
    "new_arr = np.array_split(a, 3)\n",
    "\n",
    "print(new_arr)"
   ]
  },
  {
   "cell_type": "markdown",
   "metadata": {},
   "source": [
    "<div class=\"alert alert-info\">\n",
    "    <p>You can also assign each splited array to a variable. </p>\n",
    "</div>"
   ]
  },
  {
   "cell_type": "code",
   "execution_count": 46,
   "metadata": {},
   "outputs": [
    {
     "name": "stdout",
     "output_type": "stream",
     "text": [
      "[1 2 3 4]\n"
     ]
    }
   ],
   "source": [
    "a= np.array([1, 2, 3, 4, 5, 6,7,8,9,10])\n",
    "a,b,c = np.array_split(a, 3)\n",
    "\n",
    "print(a)"
   ]
  },
  {
   "cell_type": "code",
   "execution_count": 47,
   "metadata": {},
   "outputs": [
    {
     "name": "stdout",
     "output_type": "stream",
     "text": [
      "[5 6 7]\n",
      "[ 8  9 10]\n"
     ]
    }
   ],
   "source": [
    "print(b)\n",
    "print(c)"
   ]
  },
  {
   "cell_type": "markdown",
   "metadata": {},
   "source": [
    "<h3>Searching and sorting arrays</h3>"
   ]
  },
  {
   "cell_type": "markdown",
   "metadata": {},
   "source": [
    "<div class=\"alert alert-info\">\n",
    "<p>You can search an array for a certain value, and return the indexes that get a match.To search an array, use the <b>where()</b>method. Searching an array is very useful in data science. You will get to understand as you begin to work with real world datasets</p>\n",
    "    \n",
    "<p>Sorting means putting elements in an ordered sequence, either ascending or descending. To sort arrays in NumPy, you use the <b>sort()</b> function.</p>\n",
    "</div>"
   ]
  },
  {
   "cell_type": "markdown",
   "metadata": {},
   "source": [
    "<h4>Searching an array</h4>"
   ]
  },
  {
   "cell_type": "code",
   "execution_count": 50,
   "metadata": {},
   "outputs": [
    {
     "name": "stdout",
     "output_type": "stream",
     "text": [
      "(array([0, 2, 9], dtype=int64),)\n"
     ]
    }
   ],
   "source": [
    "a = np.array([1,4,1,2,5,6,3,8,5,1,4,4])\n",
    "\n",
    "x = np.where(a == 1)\n",
    "\n",
    "print(x)"
   ]
  },
  {
   "cell_type": "markdown",
   "metadata": {},
   "source": [
    "<h4>Sorting an array</h4>"
   ]
  },
  {
   "cell_type": "code",
   "execution_count": 55,
   "metadata": {},
   "outputs": [
    {
     "name": "stdout",
     "output_type": "stream",
     "text": [
      "[1 1 1 2 3 4 4 4 5 5 6 8]\n"
     ]
    }
   ],
   "source": [
    "a = np.array([1,4,1,2,5,6,3,8,5,1,4,4])\n",
    "\n",
    "x = np.sort(a)\n",
    "\n",
    "print(x)"
   ]
  },
  {
   "cell_type": "code",
   "execution_count": 56,
   "metadata": {},
   "outputs": [
    {
     "name": "stdout",
     "output_type": "stream",
     "text": [
      "['a' 'b' 'c' 'd' 'i' 'j' 'o' 't']\n"
     ]
    }
   ],
   "source": [
    "a = np.array(['b', 'd', 'j', 'o', 't', 'c', 'a','i'])\n",
    "\n",
    "print(np.sort(a))"
   ]
  },
  {
   "cell_type": "code",
   "execution_count": 58,
   "metadata": {},
   "outputs": [
    {
     "name": "stdout",
     "output_type": "stream",
     "text": [
      "[[2 4 7]\n",
      " [3 5 9]]\n"
     ]
    }
   ],
   "source": [
    "a = np.array([[7,2,4], [9,3,5]])\n",
    "\n",
    "print(np.sort(a))"
   ]
  },
  {
   "cell_type": "code",
   "execution_count": 60,
   "metadata": {},
   "outputs": [
    {
     "name": "stdout",
     "output_type": "stream",
     "text": [
      "[False False False  True  True  True]\n"
     ]
    }
   ],
   "source": [
    "a = np.array([True, False, True, False, False, True])\n",
    "\n",
    "print(np.sort(a))"
   ]
  },
  {
   "cell_type": "markdown",
   "metadata": {},
   "source": [
    "<h3>Filtering an array</h3>"
   ]
  },
  {
   "cell_type": "markdown",
   "metadata": {},
   "source": [
    "<div class=\"alert alert-info\">\n",
    "Getting some elements out of an existing array and creating a new array out of them is called <b>filtering</b>. An array in NumPy is filtered using a boolean index list(a list of booleans corresponding to indexes in the array). If the value at an index is <b>True</b>,  then the element will be included in the filtered array, else, the value at that index is <b>False</b> and the element will be excluded from the filtered array. Simlpy put, only elements whose index value correspond to True would be returned in the filtered array. \n",
    "\n",
    "</div>"
   ]
  },
  {
   "cell_type": "code",
   "execution_count": 5,
   "metadata": {},
   "outputs": [
    {
     "name": "stdout",
     "output_type": "stream",
     "text": [
      "['o' 'a' 'i']\n"
     ]
    }
   ],
   "source": [
    "a = np.array(['b', 'd', 'j', 'o', 't', 'c', 'a','i'])\n",
    "\n",
    "filtered_array = [False, False, False, True, False, False, True, True]\n",
    "\n",
    "vowels = a[filtered_array]\n",
    "\n",
    "print(vowels)"
   ]
  },
  {
   "cell_type": "markdown",
   "metadata": {},
   "source": [
    "<div class=\"alert alert-info\">\n",
    "In the example above we hard-coded the True and False values. In real world scenarios, you will have to generate the filter array based on some conditions. We commonly use the <i>if else</i> statements for this. \n",
    "</div>"
   ]
  },
  {
   "cell_type": "code",
   "execution_count": 7,
   "metadata": {},
   "outputs": [
    {
     "name": "stdout",
     "output_type": "stream",
     "text": [
      "[False, False, True, False, False, False, False, False, False, True, True, True, False, True]\n",
      "[2 2 8 4 2]\n"
     ]
    }
   ],
   "source": [
    "#We want to create a filtered array that will return only even numbers from the array below\n",
    "\n",
    "a = np.array([1,5,2,7,3,9,1,3,7,2,8,4,7,2])\n",
    "\n",
    "# Create an empty list\n",
    "filtered_array = []\n",
    "\n",
    "# go through each element in the array \n",
    "for element in a:\n",
    "    if element%2 == 0:\n",
    "        filtered_array.append(True)\n",
    "    else:\n",
    "        filtered_array.append(False)\n",
    "\n",
    "even_numbers = a[filtered_array]\n",
    "\n",
    "print(filtered_array)\n",
    "print(even_numbers)"
   ]
  },
  {
   "cell_type": "markdown",
   "metadata": {},
   "source": [
    "<h3>NumPy random numbers</h3>"
   ]
  },
  {
   "cell_type": "markdown",
   "metadata": {},
   "source": [
    "<div class=\"alert alert-info\">\n",
    "<p>Random number does not necessarily mean a different number every time. Random simply means something that can not be predicted logically.</p>\n",
    "    <p>NumPy allows us generate random numbers using the <b>random</b> module. However, the numbers generated are not truly random since it was generated using an algorithm. This kind of random numbers are referred to as pseudo random. Often times, we don't need truly random numbers except for security or very important reasons. </p>\n",
    "\n",
    "<p>To use the NumPy random module, you have to import it using the command below: <br>\n",
    "    <b>from numpy import random</b><br>\n",
    "The random class has two major functions used for generating random numbers:<br>\n",
    "    <li><b>randint()</b> - for generating random integer numbers</li>\n",
    "    <li><b>rand()</b> - for generating random floating point numbers</li>"
   ]
  },
  {
   "cell_type": "code",
   "execution_count": 13,
   "metadata": {},
   "outputs": [
    {
     "name": "stdout",
     "output_type": "stream",
     "text": [
      "5\n"
     ]
    }
   ],
   "source": [
    "#Retruns any random number between 0 and 10\n",
    "\n",
    "from numpy import random\n",
    "\n",
    "a = random.randint(10)\n",
    "\n",
    "print(a)"
   ]
  },
  {
   "cell_type": "markdown",
   "metadata": {},
   "source": [
    "<div class=\"alert alert-info\">\n",
    "Aside the range you want your random number to be generated from, the randint() method takes a <b>size</b> parameter where you can specify the shape of the array.\n",
    "<div>"
   ]
  },
  {
   "cell_type": "markdown",
   "metadata": {},
   "source": [
    "<h4>Random numbers using the randint() module</h4>"
   ]
  },
  {
   "cell_type": "code",
   "execution_count": 19,
   "metadata": {},
   "outputs": [
    {
     "name": "stdout",
     "output_type": "stream",
     "text": [
      "[5 4 7 1 7]\n"
     ]
    }
   ],
   "source": [
    "a=random.randint(10, size=(5))\n",
    "\n",
    "print(a)"
   ]
  },
  {
   "cell_type": "code",
   "execution_count": 20,
   "metadata": {},
   "outputs": [
    {
     "name": "stdout",
     "output_type": "stream",
     "text": [
      "[2 1 9 0 4 8 9 4 0 7 4 7 5 4 4 6 5 8 4 1]\n"
     ]
    }
   ],
   "source": [
    "a=random.randint(10, size=(20))\n",
    "\n",
    "print(a)"
   ]
  },
  {
   "cell_type": "code",
   "execution_count": 21,
   "metadata": {},
   "outputs": [
    {
     "name": "stdout",
     "output_type": "stream",
     "text": [
      "[[0 1 1 8 4]\n",
      " [6 7 4 7 6]]\n"
     ]
    }
   ],
   "source": [
    "a = random.randint(10, size=(2, 5))\n",
    "\n",
    "print(a)"
   ]
  },
  {
   "cell_type": "code",
   "execution_count": 22,
   "metadata": {},
   "outputs": [
    {
     "name": "stdout",
     "output_type": "stream",
     "text": [
      "[[6 0 8 0]\n",
      " [0 1 5 5]\n",
      " [5 5 7 1]]\n"
     ]
    }
   ],
   "source": [
    "a = random.randint(10, size=(3, 4))\n",
    "\n",
    "print(a)"
   ]
  },
  {
   "cell_type": "markdown",
   "metadata": {},
   "source": [
    "<h4>Random numbers using the rand() module</h4>"
   ]
  },
  {
   "cell_type": "code",
   "execution_count": 14,
   "metadata": {},
   "outputs": [
    {
     "name": "stdout",
     "output_type": "stream",
     "text": [
      "0.1405626721813733\n"
     ]
    }
   ],
   "source": [
    "a = random.rand()\n",
    "\n",
    "print(a)"
   ]
  },
  {
   "cell_type": "markdown",
   "metadata": {},
   "source": [
    "<div class=\"alert alert-info\">\n",
    "Unlike the randint() method, the rand() method does not take the range argument because it only returns float between 0 and 1. However, you can also specify the shape of the array as shown below.\n",
    "<div>"
   ]
  },
  {
   "cell_type": "code",
   "execution_count": 23,
   "metadata": {},
   "outputs": [
    {
     "name": "stdout",
     "output_type": "stream",
     "text": [
      "[0.97495278 0.06076402 0.61091635 0.55397758 0.7577156  0.64889528\n",
      " 0.92001634 0.19896982 0.8679357  0.86317944]\n"
     ]
    }
   ],
   "source": [
    "a = random.rand(10)\n",
    "\n",
    "print(a)"
   ]
  },
  {
   "cell_type": "code",
   "execution_count": 24,
   "metadata": {},
   "outputs": [
    {
     "name": "stdout",
     "output_type": "stream",
     "text": [
      "[[0.31321957 0.94117417 0.85820117 0.62093794]\n",
      " [0.08445087 0.8706519  0.70937987 0.4572463 ]\n",
      " [0.38049957 0.67381545 0.19678036 0.14803225]]\n"
     ]
    }
   ],
   "source": [
    "a = random.rand(3, 4)\n",
    "\n",
    "print(a)"
   ]
  },
  {
   "cell_type": "markdown",
   "metadata": {},
   "source": [
    "<div class=\"alert alert-info\">\n",
    "NumPy also allows you to generate a random value based on the values in an array. This is done using the <b>choice()</b> method. This method takes an array as a parameter and randomly returns one of the values. You can also specify the shape of the array using the size argument</div> "
   ]
  },
  {
   "cell_type": "code",
   "execution_count": 26,
   "metadata": {},
   "outputs": [
    {
     "name": "stdout",
     "output_type": "stream",
     "text": [
      "6\n"
     ]
    }
   ],
   "source": [
    "a = random.choice([1,2,3,4,5,6,7,8,9,0])\n",
    "\n",
    "print(a)"
   ]
  },
  {
   "cell_type": "code",
   "execution_count": 27,
   "metadata": {},
   "outputs": [
    {
     "name": "stdout",
     "output_type": "stream",
     "text": [
      "[[1 7 1 1]\n",
      " [8 8 4 6]\n",
      " [6 5 7 8]]\n"
     ]
    }
   ],
   "source": [
    "a = random.choice([1,2,3,4,5,6,7,8,9,0], size = (3,4))\n",
    "\n",
    "print(a)"
   ]
  },
  {
   "cell_type": "code",
   "execution_count": 28,
   "metadata": {},
   "outputs": [
    {
     "name": "stdout",
     "output_type": "stream",
     "text": [
      "[7 9 7 8 7]\n"
     ]
    }
   ],
   "source": [
    "a = random.choice([1,2,3,4,5,6,7,8,9,0], size = (5))\n",
    "\n",
    "print(a)"
   ]
  },
  {
   "cell_type": "markdown",
   "metadata": {},
   "source": [
    "<h3>NumPy arange function</h3>"
   ]
  },
  {
   "cell_type": "markdown",
   "metadata": {},
   "source": [
    "<div class=\"alert alert-info\">\n",
    "Python has a built-in range function that allows you generate a sequence of integers based on your specified range. To do this in Numpy, you use the <b>arange</b> function for this. </div>"
   ]
  },
  {
   "cell_type": "code",
   "execution_count": 37,
   "metadata": {},
   "outputs": [
    {
     "data": {
      "text/plain": [
       "range(0, 10)"
      ]
     },
     "execution_count": 37,
     "metadata": {},
     "output_type": "execute_result"
    }
   ],
   "source": [
    "#Python range function\n",
    "\n",
    "range(10)"
   ]
  },
  {
   "cell_type": "code",
   "execution_count": 38,
   "metadata": {},
   "outputs": [
    {
     "name": "stdout",
     "output_type": "stream",
     "text": [
      "0\n",
      "1\n",
      "2\n",
      "3\n",
      "4\n",
      "5\n",
      "6\n",
      "7\n",
      "8\n",
      "9\n"
     ]
    }
   ],
   "source": [
    "for number in range(10):\n",
    "    print(number)"
   ]
  },
  {
   "cell_type": "markdown",
   "metadata": {},
   "source": [
    "<div class=\"alert alert-info\">\n",
    "Python range function will return a tuple. To get the list of element, you will have to use a for loop to iterate over it. Numpy arange function on the other hand will return an array directly. You can use the .reshape() function to specify the shape of the array generated</div>"
   ]
  },
  {
   "cell_type": "code",
   "execution_count": 46,
   "metadata": {},
   "outputs": [
    {
     "data": {
      "text/plain": [
       "array([ 0,  1,  2,  3,  4,  5,  6,  7,  8,  9, 10, 11])"
      ]
     },
     "execution_count": 46,
     "metadata": {},
     "output_type": "execute_result"
    }
   ],
   "source": [
    "np.arange(12)"
   ]
  },
  {
   "cell_type": "code",
   "execution_count": 47,
   "metadata": {},
   "outputs": [
    {
     "data": {
      "text/plain": [
       "array([[ 0,  1,  2,  3],\n",
       "       [ 4,  5,  6,  7],\n",
       "       [ 8,  9, 10, 11]])"
      ]
     },
     "execution_count": 47,
     "metadata": {},
     "output_type": "execute_result"
    }
   ],
   "source": [
    "np.arange(12).reshape(3,4)"
   ]
  },
  {
   "cell_type": "markdown",
   "metadata": {},
   "source": [
    "<div class=\"alert alert-info\">\n",
    "NumPy also allows you to generate an array of 0's and 1's. You simply do this using the <b>np.zeros()</b> and <b>np.ones()</b> function. You will also need to specify the shape of the array.</div>"
   ]
  },
  {
   "cell_type": "code",
   "execution_count": 40,
   "metadata": {},
   "outputs": [
    {
     "data": {
      "text/plain": [
       "array([[0., 0., 0., 0.],\n",
       "       [0., 0., 0., 0.],\n",
       "       [0., 0., 0., 0.]])"
      ]
     },
     "execution_count": 40,
     "metadata": {},
     "output_type": "execute_result"
    }
   ],
   "source": [
    "#Array  of 0's\n",
    "\n",
    "np.zeros((3,4))"
   ]
  },
  {
   "cell_type": "code",
   "execution_count": 41,
   "metadata": {},
   "outputs": [
    {
     "data": {
      "text/plain": [
       "array([0., 0., 0., 0., 0.])"
      ]
     },
     "execution_count": 41,
     "metadata": {},
     "output_type": "execute_result"
    }
   ],
   "source": [
    "np.zeros((5))"
   ]
  },
  {
   "cell_type": "code",
   "execution_count": 42,
   "metadata": {},
   "outputs": [
    {
     "data": {
      "text/plain": [
       "array([[1., 1., 1., 1.],\n",
       "       [1., 1., 1., 1.],\n",
       "       [1., 1., 1., 1.]])"
      ]
     },
     "execution_count": 42,
     "metadata": {},
     "output_type": "execute_result"
    }
   ],
   "source": [
    "#Array  of 1's\n",
    "\n",
    "np.ones((3,4))"
   ]
  },
  {
   "cell_type": "code",
   "execution_count": 43,
   "metadata": {},
   "outputs": [
    {
     "data": {
      "text/plain": [
       "array([1., 1., 1., 1., 1.])"
      ]
     },
     "execution_count": 43,
     "metadata": {},
     "output_type": "execute_result"
    }
   ],
   "source": [
    "np.ones((5))"
   ]
  },
  {
   "cell_type": "markdown",
   "metadata": {},
   "source": [
    "<h3>NumPy arithmetic operations</h3>"
   ]
  },
  {
   "cell_type": "code",
   "execution_count": 54,
   "metadata": {},
   "outputs": [
    {
     "name": "stdout",
     "output_type": "stream",
     "text": [
      "This is array a: \n",
      "[[1 2 3]\n",
      " [4 5 6]\n",
      " [7 8 9]]\n"
     ]
    }
   ],
   "source": [
    "a = np.arange(1,10).reshape(3,3)\n",
    "b= np.array([10,100,1000])\n",
    "\n",
    "print(\"This is array a: \")\n",
    "print(a)"
   ]
  },
  {
   "cell_type": "code",
   "execution_count": 55,
   "metadata": {},
   "outputs": [
    {
     "name": "stdout",
     "output_type": "stream",
     "text": [
      "This is array b: \n",
      "[  10  100 1000]\n"
     ]
    }
   ],
   "source": [
    "print(\"This is array b: \")\n",
    "print(b)"
   ]
  },
  {
   "cell_type": "code",
   "execution_count": 48,
   "metadata": {},
   "outputs": [
    {
     "data": {
      "text/plain": [
       "array([[  11,  102, 1003],\n",
       "       [  14,  105, 1006],\n",
       "       [  17,  108, 1009]])"
      ]
     },
     "execution_count": 48,
     "metadata": {},
     "output_type": "execute_result"
    }
   ],
   "source": [
    "np.add(a,b)"
   ]
  },
  {
   "cell_type": "code",
   "execution_count": 49,
   "metadata": {},
   "outputs": [
    {
     "data": {
      "text/plain": [
       "array([[  -9,  -98, -997],\n",
       "       [  -6,  -95, -994],\n",
       "       [  -3,  -92, -991]])"
      ]
     },
     "execution_count": 49,
     "metadata": {},
     "output_type": "execute_result"
    }
   ],
   "source": [
    "np.subtract(a,b)\n"
   ]
  },
  {
   "cell_type": "code",
   "execution_count": 50,
   "metadata": {},
   "outputs": [
    {
     "data": {
      "text/plain": [
       "array([[  10,  200, 3000],\n",
       "       [  40,  500, 6000],\n",
       "       [  70,  800, 9000]])"
      ]
     },
     "execution_count": 50,
     "metadata": {},
     "output_type": "execute_result"
    }
   ],
   "source": [
    "np.multiply(a,b)\n"
   ]
  },
  {
   "cell_type": "code",
   "execution_count": 51,
   "metadata": {},
   "outputs": [
    {
     "data": {
      "text/plain": [
       "array([[0.1  , 0.02 , 0.003],\n",
       "       [0.4  , 0.05 , 0.006],\n",
       "       [0.7  , 0.08 , 0.009]])"
      ]
     },
     "execution_count": 51,
     "metadata": {},
     "output_type": "execute_result"
    }
   ],
   "source": [
    "np.divide(a,b)"
   ]
  },
  {
   "cell_type": "code",
   "execution_count": 64,
   "metadata": {},
   "outputs": [
    {
     "data": {
      "text/plain": [
       "array([ 6, 12])"
      ]
     },
     "execution_count": 64,
     "metadata": {},
     "output_type": "execute_result"
    }
   ],
   "source": [
    "#Sum along axis\n",
    "\n",
    "a = np.array([(1,2,3),(3,4,5)])\n",
    "a.sum(axis=1)"
   ]
  },
  {
   "cell_type": "code",
   "execution_count": 65,
   "metadata": {},
   "outputs": [
    {
     "data": {
      "text/plain": [
       "array([4, 6, 8])"
      ]
     },
     "execution_count": 65,
     "metadata": {},
     "output_type": "execute_result"
    }
   ],
   "source": [
    "a.sum(axis=0)"
   ]
  },
  {
   "cell_type": "code",
   "execution_count": 60,
   "metadata": {},
   "outputs": [
    {
     "name": "stdout",
     "output_type": "stream",
     "text": [
      "[[ 1  4  9]\n",
      " [ 9 16 25]]\n"
     ]
    }
   ],
   "source": [
    "#square\n",
    "\n",
    "a = np.array([(1,2,3),(3,4,5)])\n",
    "np.square(a)"
   ]
  },
  {
   "cell_type": "code",
   "execution_count": 61,
   "metadata": {},
   "outputs": [
    {
     "data": {
      "text/plain": [
       "array([[1.        , 1.41421356, 1.73205081],\n",
       "       [1.73205081, 2.        , 2.23606798]])"
      ]
     },
     "execution_count": 61,
     "metadata": {},
     "output_type": "execute_result"
    }
   ],
   "source": [
    "#square root\n",
    "\n",
    "a = np.array([(1,2,3),(3,4,5) ])\n",
    "np.sqrt(a)"
   ]
  },
  {
   "cell_type": "code",
   "execution_count": 63,
   "metadata": {},
   "outputs": [
    {
     "data": {
      "text/plain": [
       "1.2909944487358056"
      ]
     },
     "execution_count": 63,
     "metadata": {},
     "output_type": "execute_result"
    }
   ],
   "source": [
    "#squareroot and standard deviation\n",
    "\n",
    "np.std(a)"
   ]
  },
  {
   "cell_type": "code",
   "execution_count": 52,
   "metadata": {},
   "outputs": [
    {
     "data": {
      "text/plain": [
       "array([[1, 4, 7],\n",
       "       [2, 5, 8],\n",
       "       [3, 6, 9]])"
      ]
     },
     "execution_count": 52,
     "metadata": {},
     "output_type": "execute_result"
    }
   ],
   "source": [
    "np.transpose(a)            "
   ]
  },
  {
   "cell_type": "code",
   "execution_count": 58,
   "metadata": {},
   "outputs": [
    {
     "name": "stdout",
     "output_type": "stream",
     "text": [
      "[[0.        1.        1.5849625]]\n",
      "[[0.         0.30103    0.47712125]]\n"
     ]
    }
   ],
   "source": [
    "#NumPy log functions\n",
    "\n",
    "a = np.array([(1,2,3)]) \n",
    "\n",
    "print(np.log2(a))\n",
    "print(np.log10(a))"
   ]
  },
  {
   "cell_type": "markdown",
   "metadata": {},
   "source": [
    "<h3>NumPy string functions</h3>"
   ]
  },
  {
   "cell_type": "markdown",
   "metadata": {},
   "source": [
    "<div class=\"alert alert-info\">\n",
    "<p>NumPy allows us to perform different operations on string data type just like we have in Python. Some of this functions are: <br>\n",
    "    <li><b>np.char.add: </b> This will concatenate elements in an array to its correponding element in another array</li>\n",
    "    <li><b>np.char.multiply: </b>This will display the string the specified number of times</li>\n",
    "    <li><b>np.char.center: </b> This takes in a string, desired  length and character you want to pad the string with if it does not meet the specified length</li>\n",
    "    <li><b>np.char.capitalize: </b>This will capitalize the first letter in the string</li> \n",
    "    <li><b>np.char.title: </b>This will capitalize the first letter of every world</li>\n",
    "    <li><b>np.char.upper: </b>This will capitalize the whole string</li> \n",
    "    <li><b>np.char.lower: </b>This will convert the string to lower cases</li> \n",
    "    <li><b>np.char.split: </b>This will split a single single to different strings. You can specify the split parameter but by default, it splits using the space character</li> \n",
    "    <li><b>np.char.splitlines: </b>This is to split a string using the newline character(\\n)</li> \n",
    "    <li><b>np.char.strip: </b>Removes the specified character from the end of the string</li> \n",
    "    <li><b>np.char.join: </b>Join characters together</li> \n",
    "</div>"
   ]
  },
  {
   "cell_type": "code",
   "execution_count": 74,
   "metadata": {},
   "outputs": [
    {
     "name": "stdout",
     "output_type": "stream",
     "text": [
      "['Data Science' 'Abisola Fikayomi']\n"
     ]
    }
   ],
   "source": [
    "#NumPy String Concatenation\n",
    "print(np.char.add([\"Data \", \"Abisola \"], [\"Science\", \"Fikayomi\"]))"
   ]
  },
  {
   "cell_type": "code",
   "execution_count": 75,
   "metadata": {},
   "outputs": [
    {
     "name": "stdout",
     "output_type": "stream",
     "text": [
      "hello hello hello \n"
     ]
    }
   ],
   "source": [
    "print(np.char.multiply(\"hello \", 3))"
   ]
  },
  {
   "cell_type": "code",
   "execution_count": 21,
   "metadata": {},
   "outputs": [
    {
     "name": "stdout",
     "output_type": "stream",
     "text": [
      "!!!!!!!hello!!!!!!!!\n"
     ]
    }
   ],
   "source": [
    "print(np.char.center(\"hello\", 20, fillchar = \"!\"))"
   ]
  },
  {
   "cell_type": "code",
   "execution_count": 76,
   "metadata": {},
   "outputs": [
    {
     "name": "stdout",
     "output_type": "stream",
     "text": [
      "Hello world\n"
     ]
    }
   ],
   "source": [
    "print(np.char.capitalize(\"hello world\"))"
   ]
  },
  {
   "cell_type": "code",
   "execution_count": 23,
   "metadata": {
    "scrolled": true
   },
   "outputs": [
    {
     "name": "stdout",
     "output_type": "stream",
     "text": [
      "Hello World\n"
     ]
    }
   ],
   "source": [
    "print(np.char.title(\"hello world\"))"
   ]
  },
  {
   "cell_type": "code",
   "execution_count": 24,
   "metadata": {},
   "outputs": [
    {
     "name": "stdout",
     "output_type": "stream",
     "text": [
      "HELLO WORLD\n"
     ]
    }
   ],
   "source": [
    "print(np.char.upper(\"hello world\"))"
   ]
  },
  {
   "cell_type": "code",
   "execution_count": 25,
   "metadata": {},
   "outputs": [
    {
     "name": "stdout",
     "output_type": "stream",
     "text": [
      "hello world\n"
     ]
    }
   ],
   "source": [
    "print(np.char.lower(\"hello world\"))"
   ]
  },
  {
   "cell_type": "code",
   "execution_count": 77,
   "metadata": {},
   "outputs": [
    {
     "name": "stdout",
     "output_type": "stream",
     "text": [
      "['hello', 'world']\n"
     ]
    }
   ],
   "source": [
    "print(np.char.split(\"hello world\"))"
   ]
  },
  {
   "cell_type": "code",
   "execution_count": 27,
   "metadata": {},
   "outputs": [
    {
     "name": "stdout",
     "output_type": "stream",
     "text": [
      "['hello', ' world', 'okay']\n"
     ]
    }
   ],
   "source": [
    "print(np.char.splitlines(\"hello\\n world\\nokay\"))"
   ]
  },
  {
   "cell_type": "code",
   "execution_count": 28,
   "metadata": {},
   "outputs": [
    {
     "name": "stdout",
     "output_type": "stream",
     "text": [
      "['hell' 'world']\n"
     ]
    }
   ],
   "source": [
    "print(np.char.strip([\"hello\", \"worldo\"], \"o\"))"
   ]
  },
  {
   "cell_type": "code",
   "execution_count": 80,
   "metadata": {},
   "outputs": [
    {
     "name": "stdout",
     "output_type": "stream",
     "text": [
      "['d:m:y' 'd-a-t-a']\n"
     ]
    }
   ],
   "source": [
    "print(np.char.join([\":\", \"-\"], [\"dmy\",\"data\"])) "
   ]
  },
  {
   "cell_type": "markdown",
   "metadata": {},
   "source": [
    "<h3>Other useful NumPy function</h3>"
   ]
  },
  {
   "cell_type": "code",
   "execution_count": 87,
   "metadata": {},
   "outputs": [
    {
     "name": "stdout",
     "output_type": "stream",
     "text": [
      "[[1 3]\n",
      " [2 4]\n",
      " [3 5]]\n"
     ]
    }
   ],
   "source": [
    "#Roll axis\n",
    "\n",
    "a = np.array([(1,2,3),(3,4,5)])\n",
    "\n",
    "print(np.rollaxis(a,1,0))"
   ]
  },
  {
   "cell_type": "code",
   "execution_count": 88,
   "metadata": {},
   "outputs": [
    {
     "data": {
      "text/plain": [
       "array([[1, 3],\n",
       "       [2, 4],\n",
       "       [3, 5]])"
      ]
     },
     "execution_count": 88,
     "metadata": {},
     "output_type": "execute_result"
    }
   ],
   "source": [
    "print(np.rollaxis(a,1))"
   ]
  },
  {
   "cell_type": "code",
   "execution_count": 89,
   "metadata": {},
   "outputs": [
    {
     "data": {
      "text/plain": [
       "array([[1, 3],\n",
       "       [2, 4],\n",
       "       [3, 5]])"
      ]
     },
     "execution_count": 89,
     "metadata": {},
     "output_type": "execute_result"
    }
   ],
   "source": [
    "#Swap axes\n",
    "\n",
    "np.swapaxes(a,0,1)"
   ]
  },
  {
   "cell_type": "code",
   "execution_count": 94,
   "metadata": {},
   "outputs": [
    {
     "name": "stdout",
     "output_type": "stream",
     "text": [
      "[1.         1.33333333 1.66666667 2.         2.33333333 2.66666667\n",
      " 3.         3.33333333 3.66666667 4.        ]\n"
     ]
    }
   ],
   "source": [
    "#linespace function\n",
    "a = np.linspace(1,4,10)                         #generate 10 equally spaced numbers between 0 and 1\n",
    "print(a)"
   ]
  },
  {
   "cell_type": "code",
   "execution_count": 95,
   "metadata": {},
   "outputs": [
    {
     "name": "stdout",
     "output_type": "stream",
     "text": [
      "[1 2 3 3 4 5]\n"
     ]
    }
   ],
   "source": [
    "#Ravel function\n",
    "x = np.array([(1,2,3),(3,4,5)])\n",
    "print(x.ravel())"
   ]
  },
  {
   "cell_type": "markdown",
   "metadata": {},
   "source": [
    "<h3>Numpy Practice Questions<h3>"
   ]
  },
  {
   "cell_type": "markdown",
   "metadata": {},
   "source": [
    "<div class=\"alert alert-danger\">\n",
    "<h2>Exercise 1</h2>\n",
    "Create a 6 by 6 two-dimensional array, and let 1 and 0 be placed alterantively accross the diagonals\n",
    "</div>"
   ]
  },
  {
   "cell_type": "markdown",
   "metadata": {
    "collapsed": true
   },
   "source": [
    "Double click <b>here</b> to see my solution.\n",
    "\n",
    "<!-- This is my code for the exercise above.\n",
    "However, note that in programming, there might be different approach to solving problems.\n",
    "You might use a different approach from mine, it doesn't matter. \n",
    "The objective is to get the desired result. \n",
    "Copy the code below and run it in another cell and compare the output with your own output.\n",
    "\n",
    "This is one approach to the problem\n",
    "\n",
    "a = np.zeros((6,6), dtype = int)\n",
    "a[1::2, ::2] = 1\n",
    "a[::2,1::2] = 1\n",
    "print(a)\n",
    "\n",
    "\n",
    "\n",
    "This is another approach to the problem\n",
    "\n",
    "b = np.ones((6,6), dtype = int)\n",
    "b[1::2, ::2] = 0\n",
    "b[::2, 1::2] = 0\n",
    "print(b)\n",
    "\n",
    "\n",
    "copy both block of codes and run them on different cells\n",
    "\n",
    "-->\n"
   ]
  },
  {
   "cell_type": "markdown",
   "metadata": {},
   "source": [
    "<div class=\"alert alert-danger\">\n",
    "<h2>Exercise 2</h2>\n",
    "Create a random array of floating point numbers. Replace some of the elements in the array with np.nan(not a number).\n",
    "Find  the total number and locations of missing values in the array. Finally, replace this missing values with \"999999\"\n",
    "</div>"
   ]
  },
  {
   "cell_type": "markdown",
   "metadata": {},
   "source": [
    "Double click <b>here</b> to see my solution.\n",
    "\n",
    "<!-- This is my code for the exercise above.\n",
    "However, note that in programming, there might be different approach to solving problems.\n",
    "You might use a different approach from mine, it doesn't matter. \n",
    "The objective is to get the desired result. \n",
    "Copy the code below and run it in another cell and compare the output with your own output.\n",
    "\n",
    "a = np.random.rand(10,10)\n",
    "a[np.random.randint(10, size = 5), np.random.randint(10, size = 5)] = np.nan\n",
    "print(\"Total number of missing values: \\n\", np.isnan(a).sum())\n",
    "print(\"Indexes  of missing values: \\n\", np.argwhere(np.isnan(a)))\n",
    "j = np.where(np.isnan(a))\n",
    "a[j]= 999999\n",
    "a\n",
    "\n",
    "\n",
    "-->\n"
   ]
  },
  {
   "cell_type": "markdown",
   "metadata": {},
   "source": [
    "<div class=\"alert alert-info\">\n",
    "<p><big><big>&#128079;&#127996;</big></big>\n",
    "    <big><big>&#128079;&#127996;</big></big>  <big><big>&#128079;&#127996;</big></big>\n",
    "    <big><big>&#128079;&#127996;</big></big>  <big><big>&#128079;&#127996;</big></big>\n",
    "    <big><big>&#128079;&#127996;</big></big>  <big><big>&#128079;&#127996;</big></big>\n",
    "    <big><big>&#128079;&#127996;</big></big>   <big><big>&#128079;&#127996;</big></big>\n",
    "    <big><big>&#128079;&#127996;</big></big>   <big><big>&#128079;&#127996;</big></big>\n",
    "    <big><big>&#128079;&#127996;</big></big>   <big><big>&#128079;&#127996;</big></big>\n",
    "    <big><big>&#128079;&#127996;</big></big>   <big><big>&#128079;&#127996;</big></big>\n",
    "    <big><big>&#128079;&#127996;</big></big>   <big><big>&#128079;&#127996;</big></big>\n",
    "    <big><big>&#128079;&#127996;</big></big>    <big><big>&#128079;&#127996;</big></big>\n",
    "    <big><big>&#128079;&#127996;</big></big>    <big><big>&#128079;&#127996;</big></big>\n",
    "    <big><big>&#128079;&#127996;</big></big>    <big><big>&#128079;&#127996;</big></big>\n",
    "    <big><big>&#128079;&#127996;</big></big>    <big><big>&#128079;&#127996;</big></big>\n",
    "    <big><big>&#128079;&#127996;</big></big>     <big><big>&#128079;&#127996;</big></big>\n",
    "    <big><big>&#128079;&#127996;</big></big>     <big><big>&#128079;&#127996;</big></big>\n",
    "    <big><big>&#128079;&#127996;</big></big>     <big><big>&#128079;&#127996;</big></big>\n",
    "    </p>\n",
    "    \n",
    "<p><h2>Thumbs up for making it to the end of this notebook. You just earned the avid learner certification as well as the NumPy fundamentals certification!!!!!</h2>\n",
    " </p>\n",
    "<p><big><big>&#128079;&#127996;</big></big>\n",
    "    <big><big>&#128079;&#127996;</big></big>  <big><big>&#128079;&#127996;</big></big>\n",
    "    <big><big>&#128079;&#127996;</big></big>  <big><big>&#128079;&#127996;</big></big>\n",
    "    <big><big>&#128079;&#127996;</big></big>  <big><big>&#128079;&#127996;</big></big>\n",
    "    <big><big>&#128079;&#127996;</big></big>   <big><big>&#128079;&#127996;</big></big>\n",
    "    <big><big>&#128079;&#127996;</big></big>   <big><big>&#128079;&#127996;</big></big>\n",
    "    <big><big>&#128079;&#127996;</big></big>   <big><big>&#128079;&#127996;</big></big>\n",
    "    <big><big>&#128079;&#127996;</big></big>   <big><big>&#128079;&#127996;</big></big>\n",
    "    <big><big>&#128079;&#127996;</big></big>   <big><big>&#128079;&#127996;</big></big>\n",
    "    <big><big>&#128079;&#127996;</big></big>    <big><big>&#128079;&#127996;</big></big>\n",
    "    <big><big>&#128079;&#127996;</big></big>    <big><big>&#128079;&#127996;</big></big>\n",
    "    <big><big>&#128079;&#127996;</big></big>    <big><big>&#128079;&#127996;</big></big>\n",
    "    <big><big>&#128079;&#127996;</big></big>    <big><big>&#128079;&#127996;</big></big>\n",
    "    <big><big>&#128079;&#127996;</big></big>     <big><big>&#128079;&#127996;</big></big>\n",
    "    <big><big>&#128079;&#127996;</big></big>     <big><big>&#128079;&#127996;</big></big>\n",
    "    <big><big>&#128079;&#127996;</big></big>     <big><big>&#128079;&#127996;</big></big>\n",
    "    </p>\n",
    "\n",
    "\n",
    "</div>"
   ]
  },
  {
   "cell_type": "markdown",
   "metadata": {},
   "source": [
    "<div class=\"alert alert-info\">\n",
    "<h3>Conclusion and next step</h3>\n",
    "\n",
    "\n",
    "<p>Congrats once again for completing this notebook. What was covered in this notebook are the basics of NumPy. You can check out the <a href = https://numpy.org/devdocs/user/absolute_beginners.html>NumPy documentation</a> and other resources online to advance your knowledge of the concept.</p>\n",
    "\n",
    "</div>"
   ]
  },
  {
   "cell_type": "markdown",
   "metadata": {},
   "source": [
    "<div class=\"alert alert-info\">\n",
    "<h3>Recommended resources</h3>\n",
    "<p>For other interactive notebooks:\n",
    "<ul>\n",
    "<li><a href = https://github.com/Abisola-ds/Python-Fundamentals>Python Fundamentals</a></li>\n",
    "<li><a href = >Pandas</a></li>\n",
    "<li><a href = >Matplotlib</a></li>\n",
    "<li><a href =>Scikit Learn</a></li>\n",
    "</ul>\n",
    "    \n",
    "</p>\n",
    "\n",
    "<p>To test your data science knowledge, check out:\n",
    "<li><a href = https://www.kaggle.com/>Kaggle</a></li>\n",
    "<li><a href = https://zindi.africa/>Zindi</a></li>  \n",
    "</p>\n",
    "\n",
    "<p>You can find virtual data science internships at:\n",
    "<li><a href = https://www.insidesherpa.com/>InsideSherpa</a></li>\n",
    "</p>\n",
    "\n",
    "<p>If you get stuck, <a href = https://stackoverflow.com/questions>Stack Overflow</a> is your friend. You can get answer to almost any programming question or error you encounter. You can also contribute to the platform which acts as a plus for you to land your first Python job</p>\n",
    "\n",
    "<p>Finally, join a community of data scientist where you can learn and collaborate with other data scientists</p>\n",
    "</div>"
   ]
  },
  {
   "cell_type": "markdown",
   "metadata": {},
   "source": [
    "<p>I hope you found this notebook helpful. If you have any questions or you want to collaborate, feel free to connect with me at <a href = https://www.linkedin.com/in/abisola-fikayomi>Abisola Fikayomi.</a> I am also open to constructive criticism<big><big>&#128522;</big></big>. Thank you!!!</p>"
   ]
  },
  {
   "cell_type": "markdown",
   "metadata": {},
   "source": [
    "<div align = \"center\">Copyright &copy; 2020 <a href = https://www.linkedin.com/in/abisola-fikayomi>Abisola Fikayomi.</a></div>"
   ]
  }
 ],
 "metadata": {
  "kernelspec": {
   "display_name": "Python 3",
   "language": "python",
   "name": "python3"
  },
  "language_info": {
   "codemirror_mode": {
    "name": "ipython",
    "version": 3
   },
   "file_extension": ".py",
   "mimetype": "text/x-python",
   "name": "python",
   "nbconvert_exporter": "python",
   "pygments_lexer": "ipython3",
   "version": "3.7.3"
  }
 },
 "nbformat": 4,
 "nbformat_minor": 2
}
