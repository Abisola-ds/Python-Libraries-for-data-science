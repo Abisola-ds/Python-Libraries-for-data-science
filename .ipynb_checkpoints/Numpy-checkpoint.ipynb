{
 "cells": [
  {
   "cell_type": "markdown",
   "metadata": {},
   "source": [
    "<h1 align = \"center\">NumPy Fundamentals</h1>"
   ]
  },
  {
   "cell_type": "markdown",
   "metadata": {},
   "source": [
    "![](https://bit.ly/2ZVLj7m)\n"
   ]
  },
  {
   "cell_type": "markdown",
   "metadata": {},
   "source": [
    "<div class=\"alert alert-info\">\n",
    "<b>\n",
    "<p>NumPy is a must learn python library for data science. NumPy which stands for <b>Numerical Python</b> is a perfect tool for scientific computing and performing basic and advanced array operations. It extends Python list objects into comprehensive multi-dimensional arrays. It is an open source project which you can freely use. Though, there are many contributors to this open source project, however it was created by Travis Oliphant in 2005.</p>\n",
    "<p>NumPy is open source so you can always check out their soucre code in their <a href = https://github.com/numpy/numpy)>github repository</a><p>\n",
    "\n",
    "<h3>Why NumPy</h3>\n",
    "\n",
    "<p>NumPy is faster, more convenient, and uses less memory when compared to python list.\n",
    "<ul>\n",
    "    <li>NumPy is very similar to Python list but it is faster when compared to Python list. Numpy is 50X faster than the traditional Python list.</li>\n",
    "    <li>It is also convenient and uses less memory when compared to Python list</li>\n",
    "\n",
    "This is why it is one of the popular libraries in data science where resources and speed are very important. </p>\n",
    "\n",
    "<p>In this notebook, you will learn:</p>\n",
    "<p>    <ul>\n",
    "    <li>Variables</li>\n",
    "    <li>Data types </li>\n",
    "    <li>Data structure</li>\n",
    "    <li>Conditionals</li>\n",
    "    <li>Loops</li>\n",
    "    <li>Functions</li>\n",
    "    <li>Classes</li>\n",
    "    <li>Error handling</li>\n",
    "    <li>File handling</li>\n",
    "     </ul></p>\n",
    "\n",
    "</b>\n",
    "\n",
    "<h4>Prerequisite</h4>\n",
    "<p>You should have a basic understanding of Python or any of the programming languages.<br>If you are new to programming, you can check out my beginners-friendly interactive notobook on <a href = > Python Fundamentals</a></p>\n",
    "<br><br>\n",
    "Time Required: <strong>6 Hours</strong>\n",
    "</div>\n"
   ]
  },
  {
   "cell_type": "markdown",
   "metadata": {},
   "source": [
    "<h3>Getting started</h3>"
   ]
  },
  {
   "cell_type": "markdown",
   "metadata": {},
   "source": [
    "<div class=\"alert alert-info\">\n",
    "<p>\n",
    "The first thing you need to do is to install NumPy. However, if you are using a python distribution that already has NumPy installed(E.g Anaconda or Spyder), then you do not need to install NumPy. You can skip the installation step.</p>\n",
    "    <p>To install NumPy, you use any of the Python package manager as shown in the commands below:</p>\n",
    "    <b><p >pip install numpy<br>\n",
    "    conda install numpy</p></b>\n",
    "    <p>Once NumPy is installed, you import it in your applications by using the import keyword as shown below:</p>\n",
    "    <b><p>import numpy</P></b>\n",
    "    <p>To confirm if you have NumPy installed and to check the version, you can use the command: </p>\n",
    "    <b><p>print(np.__version__)</p></b>\n",
    " <p>Now, NumPy is ready for use. Let's try it out</p>\n",
    " </div>"
   ]
  },
  {
   "cell_type": "code",
   "execution_count": 5,
   "metadata": {},
   "outputs": [
    {
     "name": "stdout",
     "output_type": "stream",
     "text": [
      "[3 6 8 1 0 3 4]\n"
     ]
    }
   ],
   "source": [
    "import numpy\n",
    "\n",
    "a = numpy.array([3,6,8,1,0,3,4])\n",
    "\n",
    "print(a)"
   ]
  },
  {
   "cell_type": "markdown",
   "metadata": {},
   "source": [
    "<div class=\"alert alert-info\">\n",
    "<p>\n",
    "    Often times, we see the convention:<br> <b>import numpy as np</b><br>\n",
    "This is because NumPy is usually imported under the <b>'np'</b> alias. In Python aliases are an alternate name for referring to the same thing. We use alias to save time and also to keep our codes standardized so that anyone working with your code can easily understand it. An alias can be created using the keyword <b>'as'</b> in the import statement.</p>"
   ]
  },
  {
   "cell_type": "code",
   "execution_count": 7,
   "metadata": {},
   "outputs": [
    {
     "name": "stdout",
     "output_type": "stream",
     "text": [
      "[3 6 8 1 0 3 4]\n"
     ]
    }
   ],
   "source": [
    "import numpy as np                        #Now the NumPy package can be referred to as 'np' instead of numpy.\n",
    "\n",
    "a = np.array([3,6,8,1,0,3,4])\n",
    "\n",
    "print(a)"
   ]
  },
  {
   "cell_type": "markdown",
   "metadata": {},
   "source": [
    "<h3>NumPy arrays</h3>"
   ]
  },
  {
   "cell_type": "markdown",
   "metadata": {},
   "source": [
    "<div class=\"alert alert-info\">\n",
    "<p>\n",
    "NumPy is used to work with arrays. The array object in NumPy is called <b>ndarray</b>.\n",
    "An array is a central data structure of the NumPy library. An array is a grid of values and it contains information about the raw data, how to locate an element, and how to interpret an element. It has a grid of elements that can be indexed in various ways.</b></p>\n",
    "\n",
    "<p>We can create a NumPy ndarray object by using the <b>array()</b> function.</p>\n"
   ]
  },
  {
   "cell_type": "code",
   "execution_count": 10,
   "metadata": {},
   "outputs": [
    {
     "name": "stdout",
     "output_type": "stream",
     "text": [
      "[1 2 3 4 5]\n",
      "<class 'numpy.ndarray'>\n"
     ]
    }
   ],
   "source": [
    "a = np.array([1, 2, 3, 4, 5])\n",
    "\n",
    "print(a)\n",
    "\n",
    "print(type(a))"
   ]
  },
  {
   "cell_type": "markdown",
   "metadata": {},
   "source": [
    "<h3>Numpy array vs Python list</h3>"
   ]
  },
  {
   "cell_type": "markdown",
   "metadata": {},
   "source": [
    "<div class=\"alert alert-info\">\n",
    "<p>Like we said earlier that the NumPy array is much faster than the Python list. We also mentioned that NumPy consumes less memory than the Python list. We would demonstrate that in this section.</p>\n",
    "<p>We would be importing some packages(sys and time) to help prove this point</p>\n",
    "<p>Note: You don't have to understand the codes in this section. We just want to prove the point above. So, if you don't understand, do not worry as you will get understand them in the course of this notebook</p>\n",
    "</div>"
   ]
  },
  {
   "cell_type": "code",
   "execution_count": 11,
   "metadata": {},
   "outputs": [],
   "source": [
    "import time\n",
    "import sys"
   ]
  },
  {
   "cell_type": "markdown",
   "metadata": {},
   "source": [
    "<h4>Memory Comparison</h4>"
   ]
  },
  {
   "cell_type": "code",
   "execution_count": 12,
   "metadata": {
    "scrolled": true
   },
   "outputs": [
    {
     "name": "stdout",
     "output_type": "stream",
     "text": [
      "28000\n"
     ]
    }
   ],
   "source": [
    "#Memory consumed by python list\n",
    "\n",
    "b = range(1000)\n",
    "print(sys.getsizeof(5)*len(b))"
   ]
  },
  {
   "cell_type": "code",
   "execution_count": 13,
   "metadata": {},
   "outputs": [
    {
     "name": "stdout",
     "output_type": "stream",
     "text": [
      "4000\n"
     ]
    }
   ],
   "source": [
    "#Memory consumed by Numpy array\n",
    "\n",
    "c = np.arange(1000)\n",
    "print(c.size*c.itemsize)"
   ]
  },
  {
   "cell_type": "markdown",
   "metadata": {},
   "source": [
    "<h4>Time Comparison</h4>"
   ]
  },
  {
   "cell_type": "code",
   "execution_count": 16,
   "metadata": {},
   "outputs": [],
   "source": [
    "size = 100000\n",
    "L1 = range(size)\n",
    "L2 = range(size)\n",
    "A1 = np.arange(size)\n",
    "A2 = np.arange(size)\n",
    "\n",
    "\n",
    "#Where l1 and L2 are Python lists and A1 and A2 are Numpy Arrays"
   ]
  },
  {
   "cell_type": "code",
   "execution_count": 17,
   "metadata": {},
   "outputs": [
    {
     "name": "stdout",
     "output_type": "stream",
     "text": [
      "Python list took: 335.9971046447754 milliseconds\n"
     ]
    }
   ],
   "source": [
    "#Python\n",
    "start = time.time()\n",
    "result = [(x+y) for x,y in zip(L1, L2)]\n",
    "print(f\"Python list took:\", (time.time() - start)*1000 , \"milliseconds\")"
   ]
  },
  {
   "cell_type": "code",
   "execution_count": 18,
   "metadata": {},
   "outputs": [
    {
     "name": "stdout",
     "output_type": "stream",
     "text": [
      "Numpy list took: 70.8918571472168 milliseconds\n"
     ]
    }
   ],
   "source": [
    "#Numpy\n",
    "start = time.time()\n",
    "result = A1 + A2\n",
    "print(f\"Numpy list took:\", (time.time() - start)*1000, \"milliseconds\")"
   ]
  },
  {
   "cell_type": "markdown",
   "metadata": {},
   "source": [
    "<h3>Array Dimensions</h3>"
   ]
  },
  {
   "cell_type": "markdown",
   "metadata": {},
   "source": [
    "<div class=\"alert alert-info\">\n",
    "<p>Just like we can have nested lists in Python, we can also have nested array in Numpy. Nested array are arrays that have arrays as their elements. Dimensions in arrays is the level of array depth. An array can have any number of dimensions.</p>\n",
    "    <p>Let's look at some common dimensional arrays</p>\n",
    "     <ul>\n",
    "         <li><b>0-Dimensional Arrays:</b> 0-Dimensional arrays are also referred to as scalars. They are arryas with only a single element. E.g 57</li>\n",
    "         <li><b>1-Dimensional Arrays:</b> 1-Dimensional arrays are arrays that has 0-Dimensional arrays as its elements. These are the most basic and common type of arrays. E.g 1, 2, 3, 4, 5 </li>\n",
    "         <li><b>2-Dimensional Arrays:</b> 2-Dimensional arrays are arrays that has 1-Dimensional arrays as its elements. These type of arrays are often used to represent matrices. E.g 1, 2, 3 and 4,5,6</li>\n",
    "         <li><b>3-Dimensional Arrays:</b> 3-Dimensional arrays are arrays that has 2-Dimensional arrays as its elements. These are often used to represent a 3rd order tensor. E.g 1, 2, 3 and 4,5,6</li>\n",
    "     </ul>\n",
    "    \n",
    "</div>"
   ]
  },
  {
   "cell_type": "code",
   "execution_count": 21,
   "metadata": {},
   "outputs": [
    {
     "name": "stdout",
     "output_type": "stream",
     "text": [
      "57\n"
     ]
    }
   ],
   "source": [
    "#Creating a 0-Dimensional array with value 57\n",
    "\n",
    "a = np.array(57)\n",
    "\n",
    "print(a)"
   ]
  },
  {
   "cell_type": "code",
   "execution_count": 22,
   "metadata": {},
   "outputs": [
    {
     "name": "stdout",
     "output_type": "stream",
     "text": [
      "[1 2 3 4 5]\n"
     ]
    }
   ],
   "source": [
    "#Creating a 1-Dimensional array with values 1, 2, 3, 4, 5 \n",
    "\n",
    "a = np.array([1, 2, 3, 4, 5 ])\n",
    "\n",
    "print(a)"
   ]
  },
  {
   "cell_type": "code",
   "execution_count": 24,
   "metadata": {},
   "outputs": [
    {
     "name": "stdout",
     "output_type": "stream",
     "text": [
      "[[1 2 3]\n",
      " [4 5 6]]\n"
     ]
    }
   ],
   "source": [
    "#Creating a 2-Dimensional array with values 1, 2, 3 and 4,5,6\n",
    "\n",
    "a = np.array([[1, 2, 3], [4,5,6]])\n",
    "\n",
    "print(a)"
   ]
  },
  {
   "cell_type": "code",
   "execution_count": 33,
   "metadata": {},
   "outputs": [
    {
     "name": "stdout",
     "output_type": "stream",
     "text": [
      "[[['1' '2' '3']\n",
      "  ['4' '5' '6']]\n",
      "\n",
      " [['a' 'b' 'c']\n",
      "  ['d' 'e' 'f']]]\n"
     ]
    }
   ],
   "source": [
    "#Creating a 3-Dimensional array with values 1, 2, 3 and 4,5,6\n",
    "\n",
    "a = np.array([[[1, 2, 3], [4,5,6]], [[\"a\", \"b\", \"c\"], [\"d\",\"e\",\"f\"]]])\n",
    "\n",
    "print(a)"
   ]
  },
  {
   "cell_type": "markdown",
   "metadata": {},
   "source": [
    "<div class=\"alert alert-info\">\n",
    "<p>You can go on and on like that creating any number of dimensions for the array.</p>\n",
    "    <p>To check the number of dimensions of your array, you can use the <b>ndim</b> attribute that returns an integer that tells you how many dimensions the array have.</p>\n",
    "    <p>NumPy arrays have an attribute called <b>shape</b> that returns a tuple where the number of elements in the tuple signifies the number of dimensions and each element signifies the number of elements in each dimension. Simply put, the shape of an array is the number of elements in each dimension. For example, if the shape attribute returns (2, 3), this means that the array has 2 dimensions, and each dimension has 3 elements. Also, if the shape attribute returns (2, 2, 3), this means that the array has 3 dimensions, and the outermost arraya nd the next one has 2 elements, while the innermost array has 3 elements</p>\n",
    "  <p>When the array is created, you can specify the number of dimensions it should have using the <b>ndmin</b> argument.</p>\n",
    " </div>"
   ]
  },
  {
   "cell_type": "code",
   "execution_count": 37,
   "metadata": {},
   "outputs": [
    {
     "name": "stdout",
     "output_type": "stream",
     "text": [
      "0\n",
      "1\n",
      "2\n",
      "3\n"
     ]
    }
   ],
   "source": [
    "#Using the ndim to check the number of dimensions of an array\n",
    "arr_1 = np.array(57)\n",
    "arr_2 = np.array([1, 2, 3, 4, 5])\n",
    "arr_3= np.array([[1, 2, 3], [4, 5, 6]])\n",
    "arr_4 = np.array([[[1, 2, 3], [4, 5, 6]], [[\"a\", \"b\", \"c\"], [\"d\",\"e\",\"f\"]]])\n",
    "\n",
    "print(arr_1.ndim)\n",
    "print(arr_2.ndim)\n",
    "print(arr_3.ndim)\n",
    "print(arr_4.ndim)"
   ]
  },
  {
   "cell_type": "code",
   "execution_count": 87,
   "metadata": {},
   "outputs": [
    {
     "name": "stdout",
     "output_type": "stream",
     "text": [
      "[[[[[1 2 3 4 5]]]]]\n",
      "The number of dimensions is: 5\n"
     ]
    }
   ],
   "source": [
    "#Using the ndmin to specify the number of dimensions of an array\n",
    "a = np.array([1, 2, 3, 4,5], ndmin=5)\n",
    "\n",
    "print(a)\n",
    "print('The number of dimensions is:', a.ndim)"
   ]
  },
  {
   "cell_type": "markdown",
   "metadata": {},
   "source": [
    "<div class=\"alert alert-danger\">\n",
    "Tip: One quick way to know the number of dimensions of an array is by counting the number of square brackets. \n",
    "The number of square brackets it has equates to the number of dimensions of the array. \n",
    "</div>"
   ]
  },
  {
   "cell_type": "code",
   "execution_count": 88,
   "metadata": {},
   "outputs": [
    {
     "name": "stdout",
     "output_type": "stream",
     "text": [
      "()\n",
      "(5,)\n",
      "(2, 3)\n",
      "(2, 2, 3)\n"
     ]
    }
   ],
   "source": [
    "#Checking the shape of an array\n",
    "print(arr_1.shape)\n",
    "print(arr_2.shape)\n",
    "print(arr_3.shape)\n",
    "print(arr_4.shape)"
   ]
  },
  {
   "cell_type": "markdown",
   "metadata": {},
   "source": [
    "<div class=\"alert alert-danger\">\n",
    "There is a a <b>reshape</b> attribute in NumPy to reshape an array. Reshaping means changing the shape of an array. The shape of an array is the number of elements in each dimension. By reshaping we can add or remove dimensions or change number of elements in each dimension."
   ]
  },
  {
   "cell_type": "markdown",
   "metadata": {},
   "source": [
    "a = np.arange(1,10)\n",
    "print(\"The original array: \")\n",
    "print(a)\n",
    "print()\n",
    "\n",
    "b = a.reshape(3,3)\n",
    "print(\"The modified array: \")\n",
    "print(b)"
   ]
  },
  {
   "cell_type": "code",
   "execution_count": null,
   "metadata": {},
   "outputs": [],
   "source": [
    "a= np.arange(1,13).reshape(4,3)"
   ]
  },
  {
   "cell_type": "markdown",
   "metadata": {},
   "source": [
    "<h3>Array Indexing</h3>"
   ]
  },
  {
   "cell_type": "markdown",
   "metadata": {},
   "source": [
    "<div class=\"alert alert-info\">\n",
    "Just like we use list indexing to access elements in a list, we also have array indexing. You can access an array element by referring to its index number. Indexing in NumPy arrays start with 0, meaning that the first element has index 0, and the second has index 1.\n",
    "</div>"
   ]
  },
  {
   "cell_type": "code",
   "execution_count": 42,
   "metadata": {},
   "outputs": [
    {
     "name": "stdout",
     "output_type": "stream",
     "text": [
      "1\n",
      "2\n",
      "4\n"
     ]
    }
   ],
   "source": [
    "a = np.array([1, 2, 3, 4,5])\n",
    "\n",
    "print(a[0])\n",
    "print(a[1])\n",
    "print(a[-1]- a[0])"
   ]
  },
  {
   "cell_type": "markdown",
   "metadata": {},
   "source": [
    "<div class=\"alert alert-info\">\n",
    "This method is for accessing 1-dimensional arrays. To access a 2 or 3 dimensional array, you can use comma separated integers representing the dimension and the index of the element. Check the examples below to understand better\n",
    "</div>"
   ]
  },
  {
   "cell_type": "code",
   "execution_count": 48,
   "metadata": {},
   "outputs": [
    {
     "name": "stdout",
     "output_type": "stream",
     "text": [
      "[[1 2 3]\n",
      " [4 5 6]]\n",
      "3rd element on the 2nd dimension:  6\n",
      "2nd element on the 1st dimension:  2\n",
      "1st element on the 2nd dimension:  4\n"
     ]
    }
   ],
   "source": [
    "#Accessing a 2-dimensional array\n",
    "a = np.array([[1, 2, 3], [4,5,6]])\n",
    "print(a)\n",
    "\n",
    "print('3rd element on the 2nd dimension: ', a[1, 2])\n",
    "print('2nd element on the 1st dimension: ', a[0, 1])\n",
    "print('1st element on the 2nd dimension: ', a[1, 0])"
   ]
  },
  {
   "cell_type": "code",
   "execution_count": 50,
   "metadata": {},
   "outputs": [
    {
     "name": "stdout",
     "output_type": "stream",
     "text": [
      "e\n"
     ]
    }
   ],
   "source": [
    "#Accessing a 3-dimensional array\n",
    "a = np.array([[[1, 2, 3], [4,5,6]], [[\"a\", \"b\", \"c\"], [\"d\",\"e\",\"f\"]]])\n",
    "\n",
    "\n",
    "print(a[1,1,1])"
   ]
  },
  {
   "cell_type": "markdown",
   "metadata": {},
   "source": [
    "<div class=\"alert alert-info\">\n",
    "<p>print(a[1,1,1]) above retuned e. This is because we are indexing a[1,1,1]. see explantion below: </p>\n",
    "\n",
    "<p>The first number represents the first dimension, which contains two elements:\n",
    "[[1, 2, 3], [4,5,6]]\n",
    "and:\n",
    "[[\"a\", \"b\", \"c\"], [\"d\",\"e\",\"f\"]]\n",
    ". Since we selected 1, it means we are referencing the second element. i.e [[1, 2, 3], [4, 5, 6]]\n",
    "</p><p>\n",
    "The second number represents the second dimension, which also contains two elements:\n",
    "[\"a\", \"b\", \"c\"]\n",
    "and:\n",
    "[\"d\",\"e\",\"f\"]\n",
    ". Since we selected 1, it means we are referencing the second element of this second array. i.e [\"d\",\"e\",\"f\"]\n",
    "</p><p>\n",
    "The third number represents the third dimension, which contains three elements: d,e,f. Since we selected 1, it means we are referencing the second element. i.e 'e'</p>\n"
   ]
  },
  {
   "cell_type": "markdown",
   "metadata": {},
   "source": [
    "<h3>Array slicing<h3>"
   ]
  },
  {
   "cell_type": "markdown",
   "metadata": {},
   "source": [
    "<div class=\"alert alert-info\">\n",
    "We can also have slicing in NumPy arrays. We can refrence elements using slicing uisng the format below:<br>\n",
    "\n",
    "We pass slice instead of index like this: <b>arr[start:end].</b>\n",
    "<br>\n",
    "We can also define the step, like this: <b>arr[start:end:step].</b>\n",
    "<br>\n",
    "If you don't specify the start index it defaults to 0. Likewise, if you don't specify the end index, it defaults to the length of the array.\n",
    "\n",
    "<p>Note: The result includes the start index, but excludes the end index.</p>\n",
    "</div>"
   ]
  },
  {
   "cell_type": "markdown",
   "metadata": {},
   "source": [
    "<h4>Slicing 1-D arrays</h4>\n"
   ]
  },
  {
   "cell_type": "code",
   "execution_count": 70,
   "metadata": {},
   "outputs": [
    {
     "name": "stdout",
     "output_type": "stream",
     "text": [
      "[2 3]\n",
      "[2 3 4 5 6 7 8]\n"
     ]
    }
   ],
   "source": [
    "a = np.array([1, 2, 3, 4,5,6,7,8])\n",
    "\n",
    "print(a[1:3])\n",
    "print(a[1:])\n"
   ]
  },
  {
   "cell_type": "code",
   "execution_count": 71,
   "metadata": {},
   "outputs": [
    {
     "name": "stdout",
     "output_type": "stream",
     "text": [
      "[1 2 3]\n",
      "[1 3 5]\n",
      "[1 3 5 7]\n"
     ]
    }
   ],
   "source": [
    "print(a[:3])\n",
    "print(a[0:5:2])\n",
    "print(a[::2])"
   ]
  },
  {
   "cell_type": "code",
   "execution_count": null,
   "metadata": {},
   "outputs": [],
   "source": [
    "<h4>Slicing 2-D arrays</h4>"
   ]
  },
  {
   "cell_type": "code",
   "execution_count": 72,
   "metadata": {},
   "outputs": [
    {
     "name": "stdout",
     "output_type": "stream",
     "text": [
      "[4 5 6]\n"
     ]
    }
   ],
   "source": [
    "a = np.array([[1, 2, 3], [4,5,6]])\n",
    "\n",
    "print(a[1, :])\n"
   ]
  },
  {
   "cell_type": "code",
   "execution_count": 74,
   "metadata": {},
   "outputs": [
    {
     "name": "stdout",
     "output_type": "stream",
     "text": [
      "[1 2]\n"
     ]
    }
   ],
   "source": [
    "print(a[0, :2])              #for the first element, return index 0 to 2(excludes index 2)\n"
   ]
  },
  {
   "cell_type": "code",
   "execution_count": 75,
   "metadata": {},
   "outputs": [
    {
     "name": "stdout",
     "output_type": "stream",
     "text": [
      "[3 6]\n"
     ]
    }
   ],
   "source": [
    "print(a[:, 2])              #for both element, return index 2"
   ]
  },
  {
   "cell_type": "code",
   "execution_count": 76,
   "metadata": {},
   "outputs": [
    {
     "name": "stdout",
     "output_type": "stream",
     "text": [
      "For both elememts, this is index 0 to 2\n",
      "[[1 2]\n",
      " [4 5]]\n"
     ]
    }
   ],
   "source": [
    "print(\"For both elememts, this is index 0 to 2\")\n",
    "print(a[0:2, 0:2])"
   ]
  },
  {
   "cell_type": "markdown",
   "metadata": {},
   "source": [
    "<h4>Slicing 3-D arrays</h4>"
   ]
  },
  {
   "cell_type": "code",
   "execution_count": 78,
   "metadata": {},
   "outputs": [
    {
     "name": "stdout",
     "output_type": "stream",
     "text": [
      "['d' 'e' 'f']\n"
     ]
    }
   ],
   "source": [
    "a = np.array([[[1, 2, 3], [4,5,6]], [[\"a\", \"b\", \"c\"], [\"d\",\"e\",\"f\"]]])\n",
    "\n",
    "print(a[1, 1, :])"
   ]
  },
  {
   "cell_type": "code",
   "execution_count": 79,
   "metadata": {},
   "outputs": [
    {
     "name": "stdout",
     "output_type": "stream",
     "text": [
      "[['a' 'b']\n",
      " ['d' 'e']]\n"
     ]
    }
   ],
   "source": [
    "print(a[1, :, :2])"
   ]
  },
  {
   "cell_type": "code",
   "execution_count": 80,
   "metadata": {},
   "outputs": [
    {
     "name": "stdout",
     "output_type": "stream",
     "text": [
      "[[['2' '3']\n",
      "  ['5' '6']]\n",
      "\n",
      " [['b' 'c']\n",
      "  ['e' 'f']]]\n"
     ]
    }
   ],
   "source": [
    "print(a[:, :, 1:])"
   ]
  },
  {
   "cell_type": "markdown",
   "metadata": {},
   "source": [
    "<h3>NumPy Data types</h3>"
   ]
  },
  {
   "cell_type": "markdown",
   "metadata": {},
   "source": [
    "<div class=\"alert alert-info\">\n",
    "        <p>Numpy has some additional data types beyond the conventional Python data type. Below is a list of all data types in NumPy and the characters used to represent them.</p><br>\n",
    "\n",
    "<li>i - integer</li>\n",
    "<li>b - boolean</li>\n",
    "<li>u - unsigned integer</li>\n",
    "<li>f - float</li>\n",
    "<li>c - complex float</li>\n",
    "<li>m - timedelta</li>\n",
    "<li>M - datetime</li>\n",
    "<li>O - object</li>\n",
    "<li>S - string</li>\n",
    "<li>U - unicode string</li>\n",
    "<li>V - fixed chunk of memory for other type ( void )</li>\n",
    "\n",
    "<p>To check the data type of an array, you use the <b>dtype</b> attribute.</p>\n"
   ]
  },
  {
   "cell_type": "code",
   "execution_count": 81,
   "metadata": {},
   "outputs": [
    {
     "name": "stdout",
     "output_type": "stream",
     "text": [
      "int32\n"
     ]
    }
   ],
   "source": [
    "a = np.array([1, 2, 3, 4,5])\n",
    "\n",
    "print(a.dtype)"
   ]
  },
  {
   "cell_type": "code",
   "execution_count": 82,
   "metadata": {},
   "outputs": [
    {
     "name": "stdout",
     "output_type": "stream",
     "text": [
      "<U1\n"
     ]
    }
   ],
   "source": [
    "a = np.array(['a', 'b', 'c'])\n",
    "\n",
    "print(a.dtype)\n"
   ]
  },
  {
   "cell_type": "code",
   "execution_count": 83,
   "metadata": {},
   "outputs": [
    {
     "name": "stdout",
     "output_type": "stream",
     "text": [
      "<U6\n"
     ]
    }
   ],
   "source": [
    "a = np.array(['presh', 'praise', 'mj'])\n",
    "\n",
    "print(a.dtype)\n"
   ]
  },
  {
   "cell_type": "markdown",
   "metadata": {},
   "source": [
    "<div class=\"alert alert-info\">\n",
    "    You can also use the <b>dtype</b> argument to specify the data type of the array elements\n",
    "</div>"
   ]
  },
  {
   "cell_type": "code",
   "execution_count": 84,
   "metadata": {},
   "outputs": [
    {
     "name": "stdout",
     "output_type": "stream",
     "text": [
      "[b'1' b'2' b'3' b'4' b'5']\n",
      "|S1\n"
     ]
    }
   ],
   "source": [
    "a = np.array([1, 2, 3, 4,5], dtype='S')\n",
    "\n",
    "print(a)\n",
    "print(a.dtype)"
   ]
  },
  {
   "cell_type": "code",
   "execution_count": 85,
   "metadata": {},
   "outputs": [
    {
     "name": "stdout",
     "output_type": "stream",
     "text": [
      "[[1. 2.]\n",
      " [3. 4.]\n",
      " [4. 5.]\n",
      " [5. 6.]]\n",
      "float64\n"
     ]
    }
   ],
   "source": [
    "a = np.array([[1,2],[3,4],[4,5],[5,6]], dtype = np.float64)\n",
    "print(a)\n",
    "print(a.dtype)"
   ]
  },
  {
   "cell_type": "code",
   "execution_count": 86,
   "metadata": {},
   "outputs": [
    {
     "name": "stdout",
     "output_type": "stream",
     "text": [
      "[[1.+0.j 2.+0.j]\n",
      " [3.+0.j 4.+0.j]\n",
      " [4.+0.j 5.+0.j]\n",
      " [5.+0.j 6.+0.j]]\n",
      "complex128\n"
     ]
    }
   ],
   "source": [
    "a = np.array([[1,2],[3,4],[4,5],[5,6]], dtype = np.complex)\n",
    "print(a)\n",
    "print(a.dtype)"
   ]
  },
  {
   "cell_type": "code",
   "execution_count": null,
   "metadata": {},
   "outputs": [],
   "source": []
  },
  {
   "cell_type": "code",
   "execution_count": 29,
   "metadata": {},
   "outputs": [
    {
     "data": {
      "text/plain": [
       "array([[0., 0., 0., 0.],\n",
       "       [0., 0., 0., 0.],\n",
       "       [0., 0., 0., 0.]])"
      ]
     },
     "execution_count": 29,
     "metadata": {},
     "output_type": "execute_result"
    }
   ],
   "source": [
    "np.zeros((3,4))"
   ]
  },
  {
   "cell_type": "code",
   "execution_count": 16,
   "metadata": {},
   "outputs": [
    {
     "data": {
      "text/plain": [
       "array([[1., 1., 1., 1.],\n",
       "       [1., 1., 1., 1.],\n",
       "       [1., 1., 1., 1.]])"
      ]
     },
     "execution_count": 16,
     "metadata": {},
     "output_type": "execute_result"
    }
   ],
   "source": [
    "np.ones((3,4))"
   ]
  },
  {
   "cell_type": "code",
   "execution_count": 17,
   "metadata": {},
   "outputs": [
    {
     "data": {
      "text/plain": [
       "range(0, 5)"
      ]
     },
     "execution_count": 17,
     "metadata": {},
     "output_type": "execute_result"
    }
   ],
   "source": [
    "range(5)"
   ]
  },
  {
   "cell_type": "code",
   "execution_count": 31,
   "metadata": {},
   "outputs": [
    {
     "data": {
      "text/plain": [
       "array([0, 1, 2, 3, 4])"
      ]
     },
     "execution_count": 31,
     "metadata": {},
     "output_type": "execute_result"
    }
   ],
   "source": [
    "np.arange(5)"
   ]
  },
  {
   "cell_type": "code",
   "execution_count": 32,
   "metadata": {},
   "outputs": [
    {
     "name": "stdout",
     "output_type": "stream",
     "text": [
      "concatenation example:\n",
      "['hello abc' 'h1 xyz']\n"
     ]
    }
   ],
   "source": [
    "print(\"concatenation example:\")\n",
    "print(np.char.add([\"hello \", \"h1 \"], [\"abc\", \"xyz\"]))"
   ]
  },
  {
   "cell_type": "code",
   "execution_count": 20,
   "metadata": {},
   "outputs": [
    {
     "name": "stdout",
     "output_type": "stream",
     "text": [
      "hello hello hello \n"
     ]
    }
   ],
   "source": [
    "print(np.char.multiply(\"hello \", 3))"
   ]
  },
  {
   "cell_type": "code",
   "execution_count": 21,
   "metadata": {},
   "outputs": [
    {
     "name": "stdout",
     "output_type": "stream",
     "text": [
      "!!!!!!!hello!!!!!!!!\n"
     ]
    }
   ],
   "source": [
    "print(np.char.center(\"hello\", 20,fillchar = \"!\"))"
   ]
  },
  {
   "cell_type": "code",
   "execution_count": 22,
   "metadata": {},
   "outputs": [
    {
     "name": "stdout",
     "output_type": "stream",
     "text": [
      "Hello world\n"
     ]
    }
   ],
   "source": [
    "print(np.char.capitalize(\"hello world\"))"
   ]
  },
  {
   "cell_type": "code",
   "execution_count": 23,
   "metadata": {
    "scrolled": true
   },
   "outputs": [
    {
     "name": "stdout",
     "output_type": "stream",
     "text": [
      "Hello World\n"
     ]
    }
   ],
   "source": [
    "print(np.char.title(\"hello world\"))"
   ]
  },
  {
   "cell_type": "code",
   "execution_count": 24,
   "metadata": {},
   "outputs": [
    {
     "name": "stdout",
     "output_type": "stream",
     "text": [
      "HELLO WORLD\n"
     ]
    }
   ],
   "source": [
    "print(np.char.upper(\"hello world\"))"
   ]
  },
  {
   "cell_type": "code",
   "execution_count": 25,
   "metadata": {},
   "outputs": [
    {
     "name": "stdout",
     "output_type": "stream",
     "text": [
      "hello world\n"
     ]
    }
   ],
   "source": [
    "print(np.char.lower(\"hello world\"))"
   ]
  },
  {
   "cell_type": "code",
   "execution_count": 26,
   "metadata": {},
   "outputs": [
    {
     "name": "stdout",
     "output_type": "stream",
     "text": [
      "['hello', 'world']\n"
     ]
    }
   ],
   "source": [
    "print(np.char.split(\"hello world\"))"
   ]
  },
  {
   "cell_type": "code",
   "execution_count": 27,
   "metadata": {},
   "outputs": [
    {
     "name": "stdout",
     "output_type": "stream",
     "text": [
      "['hello', ' world', 'okay']\n"
     ]
    }
   ],
   "source": [
    "print(np.char.splitlines(\"hello\\n world\\nokay\"))"
   ]
  },
  {
   "cell_type": "code",
   "execution_count": 28,
   "metadata": {},
   "outputs": [
    {
     "name": "stdout",
     "output_type": "stream",
     "text": [
      "['hell' 'world']\n"
     ]
    }
   ],
   "source": [
    "print(np.char.strip([\"hello\", \"worldo\"], \"o\"))"
   ]
  },
  {
   "cell_type": "code",
   "execution_count": 29,
   "metadata": {},
   "outputs": [
    {
     "name": "stdout",
     "output_type": "stream",
     "text": [
      "['d:m:y' 'y-m-d']\n"
     ]
    }
   ],
   "source": [
    "print(np.char.join([\":\", \"-\"], [\"dmy\",\"ymd\"])) "
   ]
  },
  {
   "cell_type": "code",
   "execution_count": 33,
   "metadata": {
    "collapsed": true
   },
   "outputs": [
    {
     "name": "stdout",
     "output_type": "stream",
     "text": [
      "[1 2 3 4 5 6 7 8 9]\n",
      "[1 4 7 2 5 8 3 6 9]\n"
     ]
    }
   ],
   "source": [
    "#Changing the modified array back\n",
    "print(b.flatten())\n",
    "print(b.flatten(order= \"F\"))"
   ]
  },
  {
   "cell_type": "code",
   "execution_count": 37,
   "metadata": {},
   "outputs": [
    {
     "name": "stdout",
     "output_type": "stream",
     "text": [
      "[[ 1  4  7 10]\n",
      " [ 2  5  8 11]\n",
      " [ 3  6  9 12]]\n"
     ]
    }
   ],
   "source": [
    "print(np.transpose(a))"
   ]
  },
  {
   "cell_type": "code",
   "execution_count": 37,
   "metadata": {},
   "outputs": [
    {
     "data": {
      "text/plain": [
       "array([[0, 1, 2, 3],\n",
       "       [4, 5, 6, 7]])"
      ]
     },
     "execution_count": 37,
     "metadata": {},
     "output_type": "execute_result"
    }
   ],
   "source": [
    "b = np.arange(8).reshape(2,4)\n",
    "b"
   ]
  },
  {
   "cell_type": "code",
   "execution_count": 39,
   "metadata": {},
   "outputs": [
    {
     "data": {
      "text/plain": [
       "array([[[0, 1],\n",
       "        [2, 3]],\n",
       "\n",
       "       [[4, 5],\n",
       "        [6, 7]]])"
      ]
     },
     "execution_count": 39,
     "metadata": {},
     "output_type": "execute_result"
    }
   ],
   "source": [
    "c= b.reshape(2,2,2)\n",
    "c"
   ]
  },
  {
   "cell_type": "code",
   "execution_count": 47,
   "metadata": {},
   "outputs": [
    {
     "name": "stdout",
     "output_type": "stream",
     "text": [
      "[[[0 2]\n",
      "  [1 3]]\n",
      "\n",
      " [[4 6]\n",
      "  [5 7]]]\n",
      "\n",
      "[[[0 2]\n",
      "  [4 6]]\n",
      "\n",
      " [[1 3]\n",
      "  [5 7]]]\n"
     ]
    }
   ],
   "source": [
    "print(np.rollaxis(c,2,1))\n",
    "print()\n",
    "print(np.rollaxis(c,2))"
   ]
  },
  {
   "cell_type": "code",
   "execution_count": 48,
   "metadata": {
    "collapsed": true
   },
   "outputs": [
    {
     "data": {
      "text/plain": [
       "array([[[0, 2],\n",
       "        [1, 3]],\n",
       "\n",
       "       [[4, 6],\n",
       "        [5, 7]]])"
      ]
     },
     "execution_count": 48,
     "metadata": {},
     "output_type": "execute_result"
    }
   ],
   "source": [
    "np.swapaxes(c,1,2)"
   ]
  },
  {
   "cell_type": "code",
   "execution_count": 57,
   "metadata": {},
   "outputs": [
    {
     "data": {
      "text/plain": [
       "array([[  11,  102, 1003],\n",
       "       [  14,  105, 1006],\n",
       "       [  17,  108, 1009]])"
      ]
     },
     "execution_count": 57,
     "metadata": {},
     "output_type": "execute_result"
    }
   ],
   "source": [
    "#Numpy arithmetic operations\n",
    "a = np.arange(1,10).reshape(3,3)\n",
    "b= np.array([10,100,1000])\n",
    "np.add(a,b)"
   ]
  },
  {
   "cell_type": "code",
   "execution_count": 58,
   "metadata": {
    "collapsed": true
   },
   "outputs": [
    {
     "data": {
      "text/plain": [
       "array([[  -9,  -98, -997],\n",
       "       [  -6,  -95, -994],\n",
       "       [  -3,  -92, -991]])"
      ]
     },
     "execution_count": 58,
     "metadata": {},
     "output_type": "execute_result"
    }
   ],
   "source": [
    "np.subtract(a,b)"
   ]
  },
  {
   "cell_type": "code",
   "execution_count": 59,
   "metadata": {
    "collapsed": true
   },
   "outputs": [
    {
     "data": {
      "text/plain": [
       "array([[  10,  200, 3000],\n",
       "       [  40,  500, 6000],\n",
       "       [  70,  800, 9000]])"
      ]
     },
     "execution_count": 59,
     "metadata": {},
     "output_type": "execute_result"
    }
   ],
   "source": [
    "np.multiply(a,b)"
   ]
  },
  {
   "cell_type": "code",
   "execution_count": 60,
   "metadata": {
    "collapsed": true
   },
   "outputs": [
    {
     "data": {
      "text/plain": [
       "array([[0.1  , 0.02 , 0.003],\n",
       "       [0.4  , 0.05 , 0.006],\n",
       "       [0.7  , 0.08 , 0.009]])"
      ]
     },
     "execution_count": 60,
     "metadata": {},
     "output_type": "execute_result"
    }
   ],
   "source": [
    "np.divide(a,b)"
   ]
  },
  {
   "cell_type": "code",
   "execution_count": 66,
   "metadata": {
    "collapsed": true
   },
   "outputs": [
    {
     "name": "stdout",
     "output_type": "stream",
     "text": [
      "[ 0  1  2  3  4  5  6  7  8  9 10 11 12 13 14 15 16 17 18 19]\n",
      "[4 5 6]\n",
      "[2 4 6 8]\n"
     ]
    }
   ],
   "source": [
    "#Slicng\n",
    "a = np.arange(20)\n",
    "print(a)\n",
    "print(a[4:7])\n",
    "s = slice(2,9,2)\n",
    "print(a[s])"
   ]
  },
  {
   "cell_type": "code",
   "execution_count": 74,
   "metadata": {
    "collapsed": true
   },
   "outputs": [
    {
     "name": "stdout",
     "output_type": "stream",
     "text": [
      "[[ 0  5 10]\n",
      " [15 20 25]\n",
      " [30 35 40]]\n",
      "\n",
      "\n",
      "0\n",
      "5\n",
      "10\n",
      "15\n",
      "20\n",
      "25\n",
      "30\n",
      "35\n",
      "40\n",
      "\n",
      "0\n",
      "15\n",
      "30\n",
      "5\n",
      "20\n",
      "35\n",
      "10\n",
      "25\n",
      "40\n"
     ]
    }
   ],
   "source": [
    "#Iterating over Arrays\n",
    "a = np.arange(0,45,5)\n",
    "a = a.reshape(3,3)\n",
    "print(a)\n",
    "print()\n",
    "print()\n",
    "for x in np.nditer(a, order = \"C\"):\n",
    "    print(x)\n",
    "print()    \n",
    "for x in np.nditer(a, order = \"F\"):\n",
    "    print(x)\n",
    "# F is the fortan way, C is the default one and it is the C progrmming way"
   ]
  },
  {
   "cell_type": "code",
   "execution_count": 77,
   "metadata": {
    "collapsed": true
   },
   "outputs": [
    {
     "name": "stdout",
     "output_type": "stream",
     "text": [
      "First array:\n",
      "[[1 2]\n",
      " [3 4]]\n",
      "Second array:\n",
      "[[5 6]\n",
      " [7 8]]\n",
      "\n",
      "Joining the two arrays along the axis o:\n",
      "[[1 2]\n",
      " [3 4]\n",
      " [5 6]\n",
      " [7 8]]\n",
      "\n",
      "Joining the two arrays along the axis 1:\n",
      "[[1 2 5 6]\n",
      " [3 4 7 8]]\n"
     ]
    }
   ],
   "source": [
    "#Joining arrays\n",
    "a = np.array([[1,2],[3,4]])\n",
    "print(\"First array:\")\n",
    "print(a)\n",
    "b = np.array([[5,6],[7,8]])\n",
    "print(\"Second array:\")\n",
    "print(b)\n",
    "print()\n",
    "print(\"Joining the two arrays along the axis o:\")\n",
    "print(np.concatenate((a,b)))\n",
    "print()\n",
    "print(\"Joining the two arrays along the axis 1:\")\n",
    "print(np.concatenate((a,b), axis = 1))"
   ]
  },
  {
   "cell_type": "code",
   "execution_count": 82,
   "metadata": {
    "collapsed": true
   },
   "outputs": [
    {
     "name": "stdout",
     "output_type": "stream",
     "text": [
      "[array([0, 1, 2]), array([3, 4, 5]), array([6, 7, 8])]\n",
      "[array([0, 1]), array([2, 3, 4, 5, 6]), array([7, 8])]\n"
     ]
    }
   ],
   "source": [
    "#Splitting arrays\n",
    "a = np.arange(9)\n",
    "print(np.split(a,3))\n",
    "print(np.split(a,[2,7]))"
   ]
  },
  {
   "cell_type": "code",
   "execution_count": 91,
   "metadata": {
    "collapsed": true
   },
   "outputs": [
    {
     "name": "stdout",
     "output_type": "stream",
     "text": [
      "(2, 3)\n",
      "\n",
      "[[1 2 3 4 5]\n",
      " [6 1 2 3 4]\n",
      " [5 6 1 2 3]]\n",
      "\n",
      "(3, 5)\n"
     ]
    }
   ],
   "source": [
    "#resizing an array\n",
    "a = np.array([[1,2,3],[4,5,6]])\n",
    "print(a.shape)\n",
    "print()\n",
    "b = np.resize(a, [3,5])\n",
    "print(b)\n",
    "print()\n",
    "print(b.shape)\n",
    "#Resize is quite different from reshape"
   ]
  },
  {
   "cell_type": "code",
   "execution_count": 119,
   "metadata": {
    "collapsed": true
   },
   "outputs": [
    {
     "data": {
      "image/png": "[encoded data removed]",
      "text/plain": [
       "<Figure size 432x288 with 1 Axes>"
      ]
     },
     "metadata": {
      "needs_background": "light"
     },
     "output_type": "display_data"
    }
   ],
   "source": [
    "#Histogram\n",
    "from matplotlib import pyplot as plt\n",
    "a = np.array([20,87,4,40,53,74,56,51,11,20,40,15,79,25,27])\n",
    "plt.hist(a, bins= [0,20,40,60,80,100])\n",
    "plt.title(\"histogram\")\n",
    "plt.show()\n",
    "#Note: do not split your histogram into too many bins "
   ]
  },
  {
   "cell_type": "code",
   "execution_count": 101,
   "metadata": {
    "collapsed": true
   },
   "outputs": [
    {
     "name": "stdout",
     "output_type": "stream",
     "text": [
      "[1.         1.33333333 1.66666667 2.         2.33333333 2.66666667\n",
      " 3.         3.33333333 3.66666667 4.        ]\n"
     ]
    }
   ],
   "source": [
    "#Other useful functions in numpy\n",
    "a = np.linspace(1,4,10)\n",
    "print(a)"
   ]
  },
  {
   "cell_type": "code",
   "execution_count": 105,
   "metadata": {
    "collapsed": true
   },
   "outputs": [
    {
     "name": "stdout",
     "output_type": "stream",
     "text": [
      "[ 6 12]\n",
      "[4 6 8]\n"
     ]
    }
   ],
   "source": [
    "#Sum and axis\n",
    "a = np.array([(1,2,3),(3,4,5) ])\n",
    "print(a.sum(axis=1))\n",
    "print(a.sum(axis=0))"
   ]
  },
  {
   "cell_type": "code",
   "execution_count": 107,
   "metadata": {
    "collapsed": true
   },
   "outputs": [
    {
     "name": "stdout",
     "output_type": "stream",
     "text": [
      "[[1.         1.41421356 1.73205081]\n",
      " [1.73205081 2.         2.23606798]]\n",
      "\n",
      "1.2909944487358056\n"
     ]
    }
   ],
   "source": [
    "#squareroot and standard deviation\n",
    "a = np.array([(1,2,3),(3,4,5) ])\n",
    "print(np.sqrt(a))\n",
    "print()\n",
    "print(np.std(a))"
   ]
  },
  {
   "cell_type": "code",
   "execution_count": 108,
   "metadata": {},
   "outputs": [
    {
     "name": "stdout",
     "output_type": "stream",
     "text": [
      "[1 2 3 3 4 5]\n"
     ]
    }
   ],
   "source": [
    "#Ravel function\n",
    "x = np.array([(1,2,3),(3,4,5)])\n",
    "print(x.ravel())"
   ]
  },
  {
   "cell_type": "code",
   "execution_count": 112,
   "metadata": {
    "collapsed": true
   },
   "outputs": [
    {
     "name": "stdout",
     "output_type": "stream",
     "text": [
      "[[0.        1.        1.5849625]]\n",
      "[[0.         0.30103    0.47712125]]\n"
     ]
    }
   ],
   "source": [
    "a = np.array([(1,2,3)]) \n",
    "print(np.log2(a))\n",
    "print(np.log10(a))"
   ]
  },
  {
   "cell_type": "markdown",
   "metadata": {},
   "source": [
    "<h3>Numpy Practice Example<h3>"
   ]
  },
  {
   "cell_type": "code",
   "execution_count": 12,
   "metadata": {},
   "outputs": [
    {
     "data": {
      "image/png": "[encoded data removed]",
      "text/plain": [
       "<Figure size 432x288 with 1 Axes>"
      ]
     },
     "metadata": {
      "needs_background": "light"
     },
     "output_type": "display_data"
    }
   ],
   "source": [
    "#Using numpy and matplotlib, let us try to plot a sin graph\n",
    "# x = np.arange(0,3*np.pi,0.1)\n",
    "import numpy as np\n",
    "from matplotlib import pyplot as plt\n",
    "x = np.arange(0, 3*np.pi, 0.1)\n",
    "y = np.sin(x)\n",
    "plt.plot(x,y)\n",
    "plt.show()\n",
    "#Note x and y must have the same dimensions to use this"
   ]
  },
  {
   "cell_type": "code",
   "execution_count": 129,
   "metadata": {
    "collapsed": true
   },
   "outputs": [
    {
     "name": "stdout",
     "output_type": "stream",
     "text": [
      "[[0 1 0 1 0 1]\n",
      " [1 0 1 0 1 0]\n",
      " [0 1 0 1 0 1]\n",
      " [1 0 1 0 1 0]\n",
      " [0 1 0 1 0 1]\n",
      " [1 0 1 0 1 0]]\n",
      "\n",
      "OR\n",
      "\n",
      "[[1 0 1 0 1 0]\n",
      " [0 1 0 1 0 1]\n",
      " [1 0 1 0 1 0]\n",
      " [0 1 0 1 0 1]\n",
      " [1 0 1 0 1 0]\n",
      " [0 1 0 1 0 1]]\n"
     ]
    }
   ],
   "source": [
    "#Create a 6 by 6 two-dimensional array, and let 1 and 0 be placed alterantively accross the diagonals\n",
    "z = np.zeros((6,6), dtype = int)\n",
    "z[1::2, ::2] = 1\n",
    "z[::2,1::2] = 1\n",
    "print(z)\n",
    "print()\n",
    "print(\"OR\")\n",
    "print()\n",
    "n = np.ones((6,6), dtype = int)\n",
    "n[1::2, ::2] = 0\n",
    "n[::2, 1::2] = 0\n",
    "print(n)"
   ]
  },
  {
   "cell_type": "code",
   "execution_count": 151,
   "metadata": {
    "collapsed": true
   },
   "outputs": [
    {
     "data": {
      "text/plain": [
       "array([[0.07846349, 0.91881179, 0.31807938, 0.55785956, 0.28344507,\n",
       "        0.69134967, 0.52563378, 0.60495451, 0.21082019, 0.52841424],\n",
       "       [0.23845126, 0.71927164, 0.32124851, 0.89360707, 0.9430398 ,\n",
       "        0.98315651, 0.3026147 , 0.09255058, 0.29339231, 0.90031351],\n",
       "       [0.65322908, 0.38651428, 0.70226134, 0.77826306, 0.23957616,\n",
       "        0.19201477, 0.5222544 , 0.66531777, 0.00690575, 0.58604244],\n",
       "       [0.94968862, 0.84255641, 0.83688752, 0.9966903 , 0.63599666,\n",
       "        0.6692858 , 0.37568897, 0.09509889, 0.26948663, 0.91544218],\n",
       "       [0.63390583, 0.25835755, 0.78262649, 0.96760272, 0.97481506,\n",
       "        0.85977228, 0.06475902,        nan, 0.75932627, 0.48826689],\n",
       "       [0.84905298, 0.89999253, 0.98527155, 0.17583451, 0.84700857,\n",
       "        0.8071904 , 0.26572609, 0.08907536, 0.67468479, 0.9413004 ],\n",
       "       [0.96070549,        nan, 0.47490331,        nan, 0.5045004 ,\n",
       "        0.86647673, 0.13637231, 0.3312113 , 0.22885062, 0.40042625],\n",
       "       [0.8451791 , 0.55037309, 0.4861058 , 0.08799723, 0.90857648,\n",
       "        0.41034062,        nan, 0.36249474, 0.32090833, 0.16347397],\n",
       "       [       nan, 0.74437958, 0.86067114, 0.52078788, 0.70914344,\n",
       "        0.39886868, 0.16151561, 0.74997228, 0.55632718, 0.9066816 ],\n",
       "       [0.46001658, 0.44659853, 0.57651402, 0.71665531, 0.79157918,\n",
       "        0.20492495, 0.08976022, 0.70720319, 0.22499315, 0.1345385 ]])"
      ]
     },
     "execution_count": 151,
     "metadata": {},
     "output_type": "execute_result"
    }
   ],
   "source": [
    "#Find  the total number and locations of missing values in an array\n",
    "z = np.random.rand(10,10)\n",
    "z[np.random.randint(10, size = 5), np.random.randint(10, size = 5)] = np.nan\n",
    "z"
   ]
  },
  {
   "cell_type": "code",
   "execution_count": 152,
   "metadata": {
    "collapsed": true
   },
   "outputs": [
    {
     "name": "stdout",
     "output_type": "stream",
     "text": [
      "Total number of missing values: \n",
      " 5\n",
      "Indexes r of missing values: \n",
      " [[4 7]\n",
      " [6 1]\n",
      " [6 3]\n",
      " [7 6]\n",
      " [8 0]]\n"
     ]
    },
    {
     "data": {
      "text/plain": [
       "array([[0.07846349, 0.91881179, 0.31807938, 0.55785956, 0.28344507,\n",
       "        0.69134967, 0.52563378, 0.60495451, 0.21082019, 0.52841424],\n",
       "       [0.23845126, 0.71927164, 0.32124851, 0.89360707, 0.9430398 ,\n",
       "        0.98315651, 0.3026147 , 0.09255058, 0.29339231, 0.90031351],\n",
       "       [0.65322908, 0.38651428, 0.70226134, 0.77826306, 0.23957616,\n",
       "        0.19201477, 0.5222544 , 0.66531777, 0.00690575, 0.58604244],\n",
       "       [0.94968862, 0.84255641, 0.83688752, 0.9966903 , 0.63599666,\n",
       "        0.6692858 , 0.37568897, 0.09509889, 0.26948663, 0.91544218],\n",
       "       [0.63390583, 0.25835755, 0.78262649, 0.96760272, 0.97481506,\n",
       "        0.85977228, 0.06475902, 5.        , 0.75932627, 0.48826689],\n",
       "       [0.84905298, 0.89999253, 0.98527155, 0.17583451, 0.84700857,\n",
       "        0.8071904 , 0.26572609, 0.08907536, 0.67468479, 0.9413004 ],\n",
       "       [0.96070549, 5.        , 0.47490331, 5.        , 0.5045004 ,\n",
       "        0.86647673, 0.13637231, 0.3312113 , 0.22885062, 0.40042625],\n",
       "       [0.8451791 , 0.55037309, 0.4861058 , 0.08799723, 0.90857648,\n",
       "        0.41034062, 5.        , 0.36249474, 0.32090833, 0.16347397],\n",
       "       [5.        , 0.74437958, 0.86067114, 0.52078788, 0.70914344,\n",
       "        0.39886868, 0.16151561, 0.74997228, 0.55632718, 0.9066816 ],\n",
       "       [0.46001658, 0.44659853, 0.57651402, 0.71665531, 0.79157918,\n",
       "        0.20492495, 0.08976022, 0.70720319, 0.22499315, 0.1345385 ]])"
      ]
     },
     "execution_count": 152,
     "metadata": {},
     "output_type": "execute_result"
    }
   ],
   "source": [
    "print(\"Total number of missing values: \\n\", np.isnan(z).sum())\n",
    "print(\"Indexes r of missing values: \\n\", np.argwhere(np.isnan(z)))\n",
    "j = np.where(np.isnan(z))\n",
    "z[j]= 5\n",
    "z"
   ]
  },
  {
   "cell_type": "code",
   "execution_count": null,
   "metadata": {},
   "outputs": [],
   "source": [
    "https://numpy.org/devdocs/user/absolute_beginners.html"
   ]
  }
 ],
 "metadata": {
  "kernelspec": {
   "display_name": "Python 3",
   "language": "python",
   "name": "python3"
  },
  "language_info": {
   "codemirror_mode": {
    "name": "ipython",
    "version": 3
   },
   "file_extension": ".py",
   "mimetype": "text/x-python",
   "name": "python",
   "nbconvert_exporter": "python",
   "pygments_lexer": "ipython3",
   "version": "3.7.3"
  }
 },
 "nbformat": 4,
 "nbformat_minor": 2
}
